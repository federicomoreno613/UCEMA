{
 "cells": [
  {
   "cell_type": "code",
   "execution_count": 3,
   "metadata": {
    "collapsed": true
   },
   "outputs": [
    {
     "data": {
      "text/plain": "False"
     },
     "execution_count": 3,
     "metadata": {},
     "output_type": "execute_result"
    }
   ],
   "source": [
    "def es_una_pregunta(a_string):\n",
    "    return a_string.endswith('?')\n",
    "\n",
    "es_una_pregunta('hola')"
   ]
  },
  {
   "cell_type": "markdown",
   "source": [
    "retorna True si a_word esta en a_string\n",
    "    ejemplo: (\"hey jude\", \"jude\") => True"
   ],
   "metadata": {
    "collapsed": false
   }
  },
  {
   "cell_type": "code",
   "execution_count": 4,
   "outputs": [
    {
     "data": {
      "text/plain": "True"
     },
     "execution_count": 4,
     "metadata": {},
     "output_type": "execute_result"
    }
   ],
   "source": [
    "def pertence_a(a_string, a_word):\n",
    "    return a_word in a_string\n",
    "\n",
    "pertence_a(\"hey jude\", \"jude\")"
   ],
   "metadata": {
    "collapsed": false
   }
  },
  {
   "cell_type": "markdown",
   "source": [
    "retorna una copia del string con una coma al final de cada palabra"
   ],
   "metadata": {
    "collapsed": false
   }
  },
  {
   "cell_type": "code",
   "execution_count": 9,
   "outputs": [
    {
     "data": {
      "text/plain": "['hola', 'como', 'estas']"
     },
     "execution_count": 9,
     "metadata": {},
     "output_type": "execute_result"
    }
   ],
   "source": [
    "def agregar_coma(a_string):\n",
    "    return a_string.split()\n",
    "\n",
    "agregar_coma('hola como estas')"
   ],
   "metadata": {
    "collapsed": false
   }
  },
  {
   "cell_type": "code",
   "execution_count": 10,
   "outputs": [
    {
     "data": {
      "text/plain": "6"
     },
     "execution_count": 10,
     "metadata": {},
     "output_type": "execute_result"
    }
   ],
   "source": [
    "def cuenta_repetido(a_string, a_substring):\n",
    "    return a_string.count(a_substring)\n",
    "cuenta_repetido(\"000123000123\", \"0\")"
   ],
   "metadata": {
    "collapsed": false
   }
  },
  {
   "cell_type": "code",
   "execution_count": 11,
   "outputs": [
    {
     "data": {
      "text/plain": "'hey yo'"
     },
     "execution_count": 11,
     "metadata": {},
     "output_type": "execute_result"
    }
   ],
   "source": [
    "def eliminar_espacios_exteriores(a_string):\n",
    "    return a_string.strip()\n",
    "eliminar_espacios_exteriores(\"  hey yo  \")"
   ],
   "metadata": {
    "collapsed": false
   }
  },
  {
   "cell_type": "code",
   "execution_count": 13,
   "outputs": [
    {
     "data": {
      "text/plain": "'orgentino'"
     },
     "execution_count": 13,
     "metadata": {},
     "output_type": "execute_result"
    }
   ],
   "source": [
    "def reemplazar_una_letra(initial_string, old_letter, new_letter):\n",
    "    return initial_string.replace(old_letter, new_letter)\n",
    "reemplazar_una_letra(\"argentina\", \"a\", \"o\")"
   ],
   "metadata": {
    "collapsed": false
   }
  },
  {
   "cell_type": "code",
   "execution_count": 14,
   "outputs": [
    {
     "data": {
      "text/plain": "'Fede Moreno tiene 33'"
     },
     "execution_count": 14,
     "metadata": {},
     "output_type": "execute_result"
    }
   ],
   "source": [
    "def f_string_nombreyapellido(nombre, apellido, edad):\n",
    "  return f\"{nombre.capitalize()} {apellido.capitalize()} tiene {edad}\"\n",
    "f_string_nombreyapellido(\"fede\", \"moreno\", 33)"
   ],
   "metadata": {
    "collapsed": false
   }
  }
 ],
 "metadata": {
  "kernelspec": {
   "display_name": "Python 3",
   "language": "python",
   "name": "python3"
  },
  "language_info": {
   "codemirror_mode": {
    "name": "ipython",
    "version": 2
   },
   "file_extension": ".py",
   "mimetype": "text/x-python",
   "name": "python",
   "nbconvert_exporter": "python",
   "pygments_lexer": "ipython2",
   "version": "2.7.6"
  }
 },
 "nbformat": 4,
 "nbformat_minor": 0
}
