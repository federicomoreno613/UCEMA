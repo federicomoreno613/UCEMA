{
 "cells": [
  {
   "cell_type": "code",
   "execution_count": 63,
   "id": "2856b107",
   "metadata": {},
   "outputs": [],
   "source": [
    "import pandas as pd\n",
    "import numpy as np"
   ]
  },
  {
   "cell_type": "code",
   "execution_count": 64,
   "id": "480b7c62",
   "metadata": {},
   "outputs": [
    {
     "data": {
      "text/plain": "'/Users/usuario/PycharmProjects/pythonProject5/UCEMA/06-examen/script'"
     },
     "execution_count": 64,
     "metadata": {},
     "output_type": "execute_result"
    }
   ],
   "source": [
    "pwd"
   ]
  },
  {
   "cell_type": "code",
   "execution_count": 65,
   "id": "a127ae09",
   "metadata": {},
   "outputs": [],
   "source": [
    "path = \"..//fuentes/recibos_facts_debitos.csv\"\n",
    "\n",
    "recibos = pd.read_csv(path)"
   ]
  },
  {
   "cell_type": "code",
   "execution_count": 66,
   "id": "1399f717",
   "metadata": {},
   "outputs": [
    {
     "data": {
      "text/plain": "       Unnamed: 0     Nro Comprobante       Fecha        Total  ID_cliente\n0               0  FAC B0001-00000001  2015-12-10         1.00       675.0\n1               1  FAC B0001-00000002  2015-12-10         1.00       675.0\n2               2  FAC B0001-00000003  2015-12-28       999.99       123.0\n3               3  FAC B0001-00000004  2015-12-28        34.21       123.0\n4               4  FAC B0001-00000005  2015-12-28         0.71       123.0\n...           ...                 ...         ...          ...         ...\n41329       41329  REC X0099-00006794  2018-09-04      2446.00        12.0\n41330       41330  REC X0099-00006794  2014-09-04          NaN         NaN\n41331       41331  REC X0099-00006794  2014-09-04          NaN         NaN\n41332       41333  REC X0099-00006794  2022-09-04          NaN         NaN\n41333       41334  REC X0099-00006794  2022-03-01  10000000.00         NaN\n\n[41334 rows x 5 columns]",
      "text/html": "<div>\n<style scoped>\n    .dataframe tbody tr th:only-of-type {\n        vertical-align: middle;\n    }\n\n    .dataframe tbody tr th {\n        vertical-align: top;\n    }\n\n    .dataframe thead th {\n        text-align: right;\n    }\n</style>\n<table border=\"1\" class=\"dataframe\">\n  <thead>\n    <tr style=\"text-align: right;\">\n      <th></th>\n      <th>Unnamed: 0</th>\n      <th>Nro Comprobante</th>\n      <th>Fecha</th>\n      <th>Total</th>\n      <th>ID_cliente</th>\n    </tr>\n  </thead>\n  <tbody>\n    <tr>\n      <th>0</th>\n      <td>0</td>\n      <td>FAC B0001-00000001</td>\n      <td>2015-12-10</td>\n      <td>1.00</td>\n      <td>675.0</td>\n    </tr>\n    <tr>\n      <th>1</th>\n      <td>1</td>\n      <td>FAC B0001-00000002</td>\n      <td>2015-12-10</td>\n      <td>1.00</td>\n      <td>675.0</td>\n    </tr>\n    <tr>\n      <th>2</th>\n      <td>2</td>\n      <td>FAC B0001-00000003</td>\n      <td>2015-12-28</td>\n      <td>999.99</td>\n      <td>123.0</td>\n    </tr>\n    <tr>\n      <th>3</th>\n      <td>3</td>\n      <td>FAC B0001-00000004</td>\n      <td>2015-12-28</td>\n      <td>34.21</td>\n      <td>123.0</td>\n    </tr>\n    <tr>\n      <th>4</th>\n      <td>4</td>\n      <td>FAC B0001-00000005</td>\n      <td>2015-12-28</td>\n      <td>0.71</td>\n      <td>123.0</td>\n    </tr>\n    <tr>\n      <th>...</th>\n      <td>...</td>\n      <td>...</td>\n      <td>...</td>\n      <td>...</td>\n      <td>...</td>\n    </tr>\n    <tr>\n      <th>41329</th>\n      <td>41329</td>\n      <td>REC X0099-00006794</td>\n      <td>2018-09-04</td>\n      <td>2446.00</td>\n      <td>12.0</td>\n    </tr>\n    <tr>\n      <th>41330</th>\n      <td>41330</td>\n      <td>REC X0099-00006794</td>\n      <td>2014-09-04</td>\n      <td>NaN</td>\n      <td>NaN</td>\n    </tr>\n    <tr>\n      <th>41331</th>\n      <td>41331</td>\n      <td>REC X0099-00006794</td>\n      <td>2014-09-04</td>\n      <td>NaN</td>\n      <td>NaN</td>\n    </tr>\n    <tr>\n      <th>41332</th>\n      <td>41333</td>\n      <td>REC X0099-00006794</td>\n      <td>2022-09-04</td>\n      <td>NaN</td>\n      <td>NaN</td>\n    </tr>\n    <tr>\n      <th>41333</th>\n      <td>41334</td>\n      <td>REC X0099-00006794</td>\n      <td>2022-03-01</td>\n      <td>10000000.00</td>\n      <td>NaN</td>\n    </tr>\n  </tbody>\n</table>\n<p>41334 rows × 5 columns</p>\n</div>"
     },
     "execution_count": 66,
     "metadata": {},
     "output_type": "execute_result"
    }
   ],
   "source": [
    "recibos"
   ]
  },
  {
   "cell_type": "code",
   "execution_count": 67,
   "id": "1471b33c",
   "metadata": {},
   "outputs": [
    {
     "data": {
      "text/plain": "          Nro Comprobante       Fecha        Total  ID_cliente\n0      FAC B0001-00000001  2015-12-10         1.00       675.0\n1      FAC B0001-00000002  2015-12-10         1.00       675.0\n2      FAC B0001-00000003  2015-12-28       999.99       123.0\n3      FAC B0001-00000004  2015-12-28        34.21       123.0\n4      FAC B0001-00000005  2015-12-28         0.71       123.0\n...                   ...         ...          ...         ...\n41329  REC X0099-00006794  2018-09-04      2446.00        12.0\n41330  REC X0099-00006794  2014-09-04          NaN         NaN\n41331  REC X0099-00006794  2014-09-04          NaN         NaN\n41332  REC X0099-00006794  2022-09-04          NaN         NaN\n41333  REC X0099-00006794  2022-03-01  10000000.00         NaN\n\n[41334 rows x 4 columns]",
      "text/html": "<div>\n<style scoped>\n    .dataframe tbody tr th:only-of-type {\n        vertical-align: middle;\n    }\n\n    .dataframe tbody tr th {\n        vertical-align: top;\n    }\n\n    .dataframe thead th {\n        text-align: right;\n    }\n</style>\n<table border=\"1\" class=\"dataframe\">\n  <thead>\n    <tr style=\"text-align: right;\">\n      <th></th>\n      <th>Nro Comprobante</th>\n      <th>Fecha</th>\n      <th>Total</th>\n      <th>ID_cliente</th>\n    </tr>\n  </thead>\n  <tbody>\n    <tr>\n      <th>0</th>\n      <td>FAC B0001-00000001</td>\n      <td>2015-12-10</td>\n      <td>1.00</td>\n      <td>675.0</td>\n    </tr>\n    <tr>\n      <th>1</th>\n      <td>FAC B0001-00000002</td>\n      <td>2015-12-10</td>\n      <td>1.00</td>\n      <td>675.0</td>\n    </tr>\n    <tr>\n      <th>2</th>\n      <td>FAC B0001-00000003</td>\n      <td>2015-12-28</td>\n      <td>999.99</td>\n      <td>123.0</td>\n    </tr>\n    <tr>\n      <th>3</th>\n      <td>FAC B0001-00000004</td>\n      <td>2015-12-28</td>\n      <td>34.21</td>\n      <td>123.0</td>\n    </tr>\n    <tr>\n      <th>4</th>\n      <td>FAC B0001-00000005</td>\n      <td>2015-12-28</td>\n      <td>0.71</td>\n      <td>123.0</td>\n    </tr>\n    <tr>\n      <th>...</th>\n      <td>...</td>\n      <td>...</td>\n      <td>...</td>\n      <td>...</td>\n    </tr>\n    <tr>\n      <th>41329</th>\n      <td>REC X0099-00006794</td>\n      <td>2018-09-04</td>\n      <td>2446.00</td>\n      <td>12.0</td>\n    </tr>\n    <tr>\n      <th>41330</th>\n      <td>REC X0099-00006794</td>\n      <td>2014-09-04</td>\n      <td>NaN</td>\n      <td>NaN</td>\n    </tr>\n    <tr>\n      <th>41331</th>\n      <td>REC X0099-00006794</td>\n      <td>2014-09-04</td>\n      <td>NaN</td>\n      <td>NaN</td>\n    </tr>\n    <tr>\n      <th>41332</th>\n      <td>REC X0099-00006794</td>\n      <td>2022-09-04</td>\n      <td>NaN</td>\n      <td>NaN</td>\n    </tr>\n    <tr>\n      <th>41333</th>\n      <td>REC X0099-00006794</td>\n      <td>2022-03-01</td>\n      <td>10000000.00</td>\n      <td>NaN</td>\n    </tr>\n  </tbody>\n</table>\n<p>41334 rows × 4 columns</p>\n</div>"
     },
     "execution_count": 67,
     "metadata": {},
     "output_type": "execute_result"
    }
   ],
   "source": [
    "recibos = recibos.drop(columns = ['Unnamed: 0'])\n",
    "recibos"
   ]
  },
  {
   "cell_type": "markdown",
   "source": [
    "## 1. Cuáles son las características principales del DF?"
   ],
   "metadata": {
    "collapsed": false
   }
  },
  {
   "cell_type": "code",
   "execution_count": 68,
   "id": "5efa881f",
   "metadata": {},
   "outputs": [
    {
     "name": "stdout",
     "output_type": "stream",
     "text": [
      "<class 'pandas.core.frame.DataFrame'>\n",
      "RangeIndex: 41334 entries, 0 to 41333\n",
      "Data columns (total 4 columns):\n",
      " #   Column           Non-Null Count  Dtype  \n",
      "---  ------           --------------  -----  \n",
      " 0   Nro Comprobante  41334 non-null  object \n",
      " 1   Fecha            41334 non-null  object \n",
      " 2   Total            41331 non-null  float64\n",
      " 3   ID_cliente       41330 non-null  float64\n",
      "dtypes: float64(2), object(2)\n",
      "memory usage: 1.3+ MB\n"
     ]
    }
   ],
   "source": [
    "recibos.info() #devuelve la informacion principal del dataframe"
   ]
  },
  {
   "cell_type": "markdown",
   "source": [
    "## Cantidad de rows y columnas.\n"
   ],
   "metadata": {
    "collapsed": false
   }
  },
  {
   "cell_type": "code",
   "execution_count": 69,
   "id": "04d300de",
   "metadata": {},
   "outputs": [
    {
     "data": {
      "text/plain": "(41334, 4)"
     },
     "execution_count": 69,
     "metadata": {},
     "output_type": "execute_result"
    }
   ],
   "source": [
    "recibos.shape #devuelve las dimensiones: (filas, columnas)"
   ]
  },
  {
   "cell_type": "markdown",
   "source": [
    "## Clases de datos"
   ],
   "metadata": {
    "collapsed": false
   }
  },
  {
   "cell_type": "code",
   "execution_count": 70,
   "id": "4c35bc5c",
   "metadata": {},
   "outputs": [
    {
     "data": {
      "text/plain": "Nro Comprobante     object\nFecha               object\nTotal              float64\nID_cliente         float64\ndtype: object"
     },
     "execution_count": 70,
     "metadata": {},
     "output_type": "execute_result"
    }
   ],
   "source": [
    "recibos.dtypes #devuelve el tipo de dato de cada columna"
   ]
  },
  {
   "cell_type": "markdown",
   "source": [
    "# 2. El dataset cuenta con datos faltantes?"
   ],
   "metadata": {
    "collapsed": false
   }
  },
  {
   "cell_type": "markdown",
   "source": [
    "## Muestre la cantidad de faltantes por columnas"
   ],
   "metadata": {
    "collapsed": false
   }
  },
  {
   "cell_type": "code",
   "execution_count": 71,
   "id": "8d010285",
   "metadata": {},
   "outputs": [
    {
     "data": {
      "text/plain": "Nro Comprobante    0\nFecha              0\nTotal              3\nID_cliente         4\ndtype: int64"
     },
     "execution_count": 71,
     "metadata": {},
     "output_type": "execute_result"
    }
   ],
   "source": [
    "faltantes= recibos.isna().sum()\n",
    "faltantes #devuelve true o false dependiendo de si los valores son nans o no, y despues suma los true por columna."
   ]
  },
  {
   "cell_type": "markdown",
   "source": [
    "## Que porcentaje de faltantes hay"
   ],
   "metadata": {
    "collapsed": false
   }
  },
  {
   "cell_type": "code",
   "execution_count": 72,
   "id": "22ba99dd",
   "metadata": {},
   "outputs": [
    {
     "data": {
      "text/plain": "165336"
     },
     "execution_count": 72,
     "metadata": {},
     "output_type": "execute_result"
    }
   ],
   "source": [
    "total_datos = len(recibos)*len(recibos.columns) #recibos.count().sum() + faltantes.sum()\n",
    "total_datos"
   ]
  },
  {
   "cell_type": "code",
   "execution_count": 73,
   "id": "9b9eb33e",
   "metadata": {},
   "outputs": [
    {
     "data": {
      "text/plain": "'0.0042 %'"
     },
     "execution_count": 73,
     "metadata": {},
     "output_type": "execute_result"
    }
   ],
   "source": [
    "str(round(((faltantes.sum()/total_datos)*100),4)) + \" %\" #porcentaje de datos faltantes.\n",
    "#cuenta la cantidad de datos totales faltantes y lo divide por la cantidad de valores de la tabla\n",
    "#despues lo redondea"
   ]
  },
  {
   "cell_type": "markdown",
   "source": [
    "Otra forma"
   ],
   "metadata": {
    "collapsed": false
   }
  },
  {
   "cell_type": "code",
   "execution_count": 74,
   "outputs": [
    {
     "data": {
      "text/plain": "Nro Comprobante    0.000000\nFecha              0.000000\nTotal              0.000073\nID_cliente         0.000097\ndtype: float64"
     },
     "execution_count": 74,
     "metadata": {},
     "output_type": "execute_result"
    }
   ],
   "source": [
    "recibos.isna().sum()/len(recibos)"
   ],
   "metadata": {
    "collapsed": false
   }
  },
  {
   "cell_type": "markdown",
   "source": [
    "## Muestre las filas con datos faltantes"
   ],
   "metadata": {
    "collapsed": false
   }
  },
  {
   "cell_type": "code",
   "execution_count": 75,
   "id": "4173f526",
   "metadata": {},
   "outputs": [
    {
     "data": {
      "text/plain": "          Nro Comprobante       Fecha       Total  ID_cliente\n41330  REC X0099-00006794  2014-09-04         NaN         NaN\n41331  REC X0099-00006794  2014-09-04         NaN         NaN\n41332  REC X0099-00006794  2022-09-04         NaN         NaN\n41333  REC X0099-00006794  2022-03-01  10000000.0         NaN",
      "text/html": "<div>\n<style scoped>\n    .dataframe tbody tr th:only-of-type {\n        vertical-align: middle;\n    }\n\n    .dataframe tbody tr th {\n        vertical-align: top;\n    }\n\n    .dataframe thead th {\n        text-align: right;\n    }\n</style>\n<table border=\"1\" class=\"dataframe\">\n  <thead>\n    <tr style=\"text-align: right;\">\n      <th></th>\n      <th>Nro Comprobante</th>\n      <th>Fecha</th>\n      <th>Total</th>\n      <th>ID_cliente</th>\n    </tr>\n  </thead>\n  <tbody>\n    <tr>\n      <th>41330</th>\n      <td>REC X0099-00006794</td>\n      <td>2014-09-04</td>\n      <td>NaN</td>\n      <td>NaN</td>\n    </tr>\n    <tr>\n      <th>41331</th>\n      <td>REC X0099-00006794</td>\n      <td>2014-09-04</td>\n      <td>NaN</td>\n      <td>NaN</td>\n    </tr>\n    <tr>\n      <th>41332</th>\n      <td>REC X0099-00006794</td>\n      <td>2022-09-04</td>\n      <td>NaN</td>\n      <td>NaN</td>\n    </tr>\n    <tr>\n      <th>41333</th>\n      <td>REC X0099-00006794</td>\n      <td>2022-03-01</td>\n      <td>10000000.0</td>\n      <td>NaN</td>\n    </tr>\n  </tbody>\n</table>\n</div>"
     },
     "execution_count": 75,
     "metadata": {},
     "output_type": "execute_result"
    }
   ],
   "source": [
    "recibos[recibos.isna().any(axis = 1)] #devuelve true o false dependiendo de si los valores son o no nulos.\n",
    "#El any devuelve que filas tienen nans y despues con esa condicion filtra el dataframe."
   ]
  },
  {
   "cell_type": "markdown",
   "source": [
    "## Sí hay faltantes, ¿Cómo procederán a hacer el tratamiento de los mismos?\n"
   ],
   "metadata": {
    "collapsed": false
   }
  },
  {
   "cell_type": "markdown",
   "id": "1f119266",
   "metadata": {},
   "source": [
    "Los valores nulos se pueden tratar asignandoles el valor cero o asignandoles el promedio de los datos restantes, ya que borrandolos con dropna() estariamos obteniendo una vista sesgada de los datos."
   ]
  },
  {
   "cell_type": "markdown",
   "source": [
    "## Haga el tratamiento de los valores faltantes en caso de creerlo necesario.\n"
   ],
   "metadata": {
    "collapsed": false
   }
  },
  {
   "cell_type": "code",
   "execution_count": 76,
   "id": "1c32973a",
   "metadata": {},
   "outputs": [],
   "source": [
    "recibos = recibos.fillna(value = 0)"
   ]
  },
  {
   "cell_type": "markdown",
   "source": [
    "## 3. Imprima las estadísticas básicas del dataset. Hay un método para eso tanto en python cómo en R (count, mean, 25%,etc)"
   ],
   "metadata": {
    "collapsed": false
   }
  },
  {
   "cell_type": "code",
   "execution_count": 77,
   "id": "49d4c96c",
   "metadata": {},
   "outputs": [
    {
     "data": {
      "text/plain": "              Total    ID_cliente\ncount  4.133400e+04  41334.000000\nmean   1.302339e+03    483.199376\nstd    4.919850e+04    274.844596\nmin    0.000000e+00      0.000000\n25%    3.313950e+02    242.000000\n50%    9.989800e+02    476.000000\n75%    1.000000e+03    733.000000\nmax    1.000000e+07    964.000000",
      "text/html": "<div>\n<style scoped>\n    .dataframe tbody tr th:only-of-type {\n        vertical-align: middle;\n    }\n\n    .dataframe tbody tr th {\n        vertical-align: top;\n    }\n\n    .dataframe thead th {\n        text-align: right;\n    }\n</style>\n<table border=\"1\" class=\"dataframe\">\n  <thead>\n    <tr style=\"text-align: right;\">\n      <th></th>\n      <th>Total</th>\n      <th>ID_cliente</th>\n    </tr>\n  </thead>\n  <tbody>\n    <tr>\n      <th>count</th>\n      <td>4.133400e+04</td>\n      <td>41334.000000</td>\n    </tr>\n    <tr>\n      <th>mean</th>\n      <td>1.302339e+03</td>\n      <td>483.199376</td>\n    </tr>\n    <tr>\n      <th>std</th>\n      <td>4.919850e+04</td>\n      <td>274.844596</td>\n    </tr>\n    <tr>\n      <th>min</th>\n      <td>0.000000e+00</td>\n      <td>0.000000</td>\n    </tr>\n    <tr>\n      <th>25%</th>\n      <td>3.313950e+02</td>\n      <td>242.000000</td>\n    </tr>\n    <tr>\n      <th>50%</th>\n      <td>9.989800e+02</td>\n      <td>476.000000</td>\n    </tr>\n    <tr>\n      <th>75%</th>\n      <td>1.000000e+03</td>\n      <td>733.000000</td>\n    </tr>\n    <tr>\n      <th>max</th>\n      <td>1.000000e+07</td>\n      <td>964.000000</td>\n    </tr>\n  </tbody>\n</table>\n</div>"
     },
     "execution_count": 77,
     "metadata": {},
     "output_type": "execute_result"
    }
   ],
   "source": [
    "recibos.describe() #realiza las funciones estadisticas principales"
   ]
  },
  {
   "cell_type": "markdown",
   "source": [
    "## 4. ¿Qué es un dato outlier? ¿Cómo procedería al análisis del mismo?\n"
   ],
   "metadata": {
    "collapsed": false
   }
  },
  {
   "cell_type": "markdown",
   "id": "da7cc130",
   "metadata": {},
   "source": [
    "4. Los datos outliers son datos que tienen un comportamiento fuera de lo normal, pero eso no significa que sean datos erroneos. Para tratarlos lo primero que habria que hacer es identificarlos para poder evaluar si es conveniente dejarlos de lado para el analisis o tratarlos de una manera distinta."
   ]
  },
  {
   "cell_type": "markdown",
   "source": [
    "## 5. Cambie el nombre de las columnas a \"nro_comprobante\", \"fecha\",\"monto\",\"id_cliente\""
   ],
   "metadata": {
    "collapsed": false
   }
  },
  {
   "cell_type": "code",
   "execution_count": 78,
   "id": "04e74115",
   "metadata": {},
   "outputs": [
    {
     "data": {
      "text/plain": "Index(['Nro Comprobante', 'Fecha', 'Total', 'ID_cliente'], dtype='object')"
     },
     "execution_count": 78,
     "metadata": {},
     "output_type": "execute_result"
    }
   ],
   "source": [
    "recibos.columns"
   ]
  },
  {
   "cell_type": "code",
   "execution_count": 79,
   "id": "0c5cf92c",
   "metadata": {},
   "outputs": [
    {
     "data": {
      "text/plain": "          nro_comprobante       fecha        monto  id_cliente\n0      FAC B0001-00000001  2015-12-10         1.00       675.0\n1      FAC B0001-00000002  2015-12-10         1.00       675.0\n2      FAC B0001-00000003  2015-12-28       999.99       123.0\n3      FAC B0001-00000004  2015-12-28        34.21       123.0\n4      FAC B0001-00000005  2015-12-28         0.71       123.0\n...                   ...         ...          ...         ...\n41329  REC X0099-00006794  2018-09-04      2446.00        12.0\n41330  REC X0099-00006794  2014-09-04         0.00         0.0\n41331  REC X0099-00006794  2014-09-04         0.00         0.0\n41332  REC X0099-00006794  2022-09-04         0.00         0.0\n41333  REC X0099-00006794  2022-03-01  10000000.00         0.0\n\n[41334 rows x 4 columns]",
      "text/html": "<div>\n<style scoped>\n    .dataframe tbody tr th:only-of-type {\n        vertical-align: middle;\n    }\n\n    .dataframe tbody tr th {\n        vertical-align: top;\n    }\n\n    .dataframe thead th {\n        text-align: right;\n    }\n</style>\n<table border=\"1\" class=\"dataframe\">\n  <thead>\n    <tr style=\"text-align: right;\">\n      <th></th>\n      <th>nro_comprobante</th>\n      <th>fecha</th>\n      <th>monto</th>\n      <th>id_cliente</th>\n    </tr>\n  </thead>\n  <tbody>\n    <tr>\n      <th>0</th>\n      <td>FAC B0001-00000001</td>\n      <td>2015-12-10</td>\n      <td>1.00</td>\n      <td>675.0</td>\n    </tr>\n    <tr>\n      <th>1</th>\n      <td>FAC B0001-00000002</td>\n      <td>2015-12-10</td>\n      <td>1.00</td>\n      <td>675.0</td>\n    </tr>\n    <tr>\n      <th>2</th>\n      <td>FAC B0001-00000003</td>\n      <td>2015-12-28</td>\n      <td>999.99</td>\n      <td>123.0</td>\n    </tr>\n    <tr>\n      <th>3</th>\n      <td>FAC B0001-00000004</td>\n      <td>2015-12-28</td>\n      <td>34.21</td>\n      <td>123.0</td>\n    </tr>\n    <tr>\n      <th>4</th>\n      <td>FAC B0001-00000005</td>\n      <td>2015-12-28</td>\n      <td>0.71</td>\n      <td>123.0</td>\n    </tr>\n    <tr>\n      <th>...</th>\n      <td>...</td>\n      <td>...</td>\n      <td>...</td>\n      <td>...</td>\n    </tr>\n    <tr>\n      <th>41329</th>\n      <td>REC X0099-00006794</td>\n      <td>2018-09-04</td>\n      <td>2446.00</td>\n      <td>12.0</td>\n    </tr>\n    <tr>\n      <th>41330</th>\n      <td>REC X0099-00006794</td>\n      <td>2014-09-04</td>\n      <td>0.00</td>\n      <td>0.0</td>\n    </tr>\n    <tr>\n      <th>41331</th>\n      <td>REC X0099-00006794</td>\n      <td>2014-09-04</td>\n      <td>0.00</td>\n      <td>0.0</td>\n    </tr>\n    <tr>\n      <th>41332</th>\n      <td>REC X0099-00006794</td>\n      <td>2022-09-04</td>\n      <td>0.00</td>\n      <td>0.0</td>\n    </tr>\n    <tr>\n      <th>41333</th>\n      <td>REC X0099-00006794</td>\n      <td>2022-03-01</td>\n      <td>10000000.00</td>\n      <td>0.0</td>\n    </tr>\n  </tbody>\n</table>\n<p>41334 rows × 4 columns</p>\n</div>"
     },
     "execution_count": 79,
     "metadata": {},
     "output_type": "execute_result"
    }
   ],
   "source": [
    "recibos = recibos.rename(columns = {'Nro Comprobante':\"nro_comprobante\", 'Fecha': \"fecha\",'Total': \"monto\",'ID_cliente': \"id_cliente\"\n",
    "})\n",
    "recibos"
   ]
  },
  {
   "cell_type": "markdown",
   "source": [
    "## 6. ¿Cuantos clientes únicos hay en el dataset?"
   ],
   "metadata": {
    "collapsed": false
   }
  },
  {
   "cell_type": "markdown",
   "id": "d2c0585b",
   "metadata": {},
   "source": [
    " Cantidad de clientes unicos. Elegi el ID porque es un valor que identifica a cada cliente, por lo que el de todos necesariamente es distinto"
   ]
  },
  {
   "cell_type": "code",
   "execution_count": 80,
   "id": "e90fa7d0",
   "metadata": {},
   "outputs": [
    {
     "data": {
      "text/plain": "965"
     },
     "execution_count": 80,
     "metadata": {},
     "output_type": "execute_result"
    }
   ],
   "source": [
    "recibos.id_cliente.nunique()"
   ]
  },
  {
   "cell_type": "markdown",
   "source": [
    "## 7. Cree una nueva columna que llamada “tipo” que consista en agarrar la columna “nro_comprobante” y separar el primer string dejando sólo si es recibo, factura, nota de débito o nota de crédito."
   ],
   "metadata": {
    "collapsed": false
   }
  },
  {
   "cell_type": "code",
   "execution_count": 81,
   "id": "70440d4f",
   "metadata": {},
   "outputs": [
    {
     "data": {
      "text/plain": "          nro_comprobante       fecha        monto  id_cliente tipo\n0      FAC B0001-00000001  2015-12-10         1.00       675.0  FAC\n1      FAC B0001-00000002  2015-12-10         1.00       675.0  FAC\n2      FAC B0001-00000003  2015-12-28       999.99       123.0  FAC\n3      FAC B0001-00000004  2015-12-28        34.21       123.0  FAC\n4      FAC B0001-00000005  2015-12-28         0.71       123.0  FAC\n...                   ...         ...          ...         ...  ...\n41329  REC X0099-00006794  2018-09-04      2446.00        12.0  REC\n41330  REC X0099-00006794  2014-09-04         0.00         0.0  REC\n41331  REC X0099-00006794  2014-09-04         0.00         0.0  REC\n41332  REC X0099-00006794  2022-09-04         0.00         0.0  REC\n41333  REC X0099-00006794  2022-03-01  10000000.00         0.0  REC\n\n[41334 rows x 5 columns]",
      "text/html": "<div>\n<style scoped>\n    .dataframe tbody tr th:only-of-type {\n        vertical-align: middle;\n    }\n\n    .dataframe tbody tr th {\n        vertical-align: top;\n    }\n\n    .dataframe thead th {\n        text-align: right;\n    }\n</style>\n<table border=\"1\" class=\"dataframe\">\n  <thead>\n    <tr style=\"text-align: right;\">\n      <th></th>\n      <th>nro_comprobante</th>\n      <th>fecha</th>\n      <th>monto</th>\n      <th>id_cliente</th>\n      <th>tipo</th>\n    </tr>\n  </thead>\n  <tbody>\n    <tr>\n      <th>0</th>\n      <td>FAC B0001-00000001</td>\n      <td>2015-12-10</td>\n      <td>1.00</td>\n      <td>675.0</td>\n      <td>FAC</td>\n    </tr>\n    <tr>\n      <th>1</th>\n      <td>FAC B0001-00000002</td>\n      <td>2015-12-10</td>\n      <td>1.00</td>\n      <td>675.0</td>\n      <td>FAC</td>\n    </tr>\n    <tr>\n      <th>2</th>\n      <td>FAC B0001-00000003</td>\n      <td>2015-12-28</td>\n      <td>999.99</td>\n      <td>123.0</td>\n      <td>FAC</td>\n    </tr>\n    <tr>\n      <th>3</th>\n      <td>FAC B0001-00000004</td>\n      <td>2015-12-28</td>\n      <td>34.21</td>\n      <td>123.0</td>\n      <td>FAC</td>\n    </tr>\n    <tr>\n      <th>4</th>\n      <td>FAC B0001-00000005</td>\n      <td>2015-12-28</td>\n      <td>0.71</td>\n      <td>123.0</td>\n      <td>FAC</td>\n    </tr>\n    <tr>\n      <th>...</th>\n      <td>...</td>\n      <td>...</td>\n      <td>...</td>\n      <td>...</td>\n      <td>...</td>\n    </tr>\n    <tr>\n      <th>41329</th>\n      <td>REC X0099-00006794</td>\n      <td>2018-09-04</td>\n      <td>2446.00</td>\n      <td>12.0</td>\n      <td>REC</td>\n    </tr>\n    <tr>\n      <th>41330</th>\n      <td>REC X0099-00006794</td>\n      <td>2014-09-04</td>\n      <td>0.00</td>\n      <td>0.0</td>\n      <td>REC</td>\n    </tr>\n    <tr>\n      <th>41331</th>\n      <td>REC X0099-00006794</td>\n      <td>2014-09-04</td>\n      <td>0.00</td>\n      <td>0.0</td>\n      <td>REC</td>\n    </tr>\n    <tr>\n      <th>41332</th>\n      <td>REC X0099-00006794</td>\n      <td>2022-09-04</td>\n      <td>0.00</td>\n      <td>0.0</td>\n      <td>REC</td>\n    </tr>\n    <tr>\n      <th>41333</th>\n      <td>REC X0099-00006794</td>\n      <td>2022-03-01</td>\n      <td>10000000.00</td>\n      <td>0.0</td>\n      <td>REC</td>\n    </tr>\n  </tbody>\n</table>\n<p>41334 rows × 5 columns</p>\n</div>"
     },
     "execution_count": 81,
     "metadata": {},
     "output_type": "execute_result"
    }
   ],
   "source": [
    "recibos[\"tipo\"] = recibos.nro_comprobante.apply(lambda x:x.split(\" \")[0])\n",
    "recibos"
   ]
  },
  {
   "cell_type": "markdown",
   "source": [
    "# 8. Tipos de Comprobante.Responda."
   ],
   "metadata": {
    "collapsed": false
   }
  },
  {
   "cell_type": "markdown",
   "source": [
    "## Cuantos registros se tienen de cada uno?"
   ],
   "metadata": {
    "collapsed": false
   }
  },
  {
   "cell_type": "code",
   "execution_count": 82,
   "id": "d90ff104",
   "metadata": {},
   "outputs": [
    {
     "data": {
      "text/plain": "      nro_comprobante  fecha  monto  id_cliente\ntipo                                           \nFAC             10974  10974  10974       10974\nN/C              2387   2387   2387        2387\nN/D             15762  15762  15762       15762\nREC             12211  12211  12211       12211",
      "text/html": "<div>\n<style scoped>\n    .dataframe tbody tr th:only-of-type {\n        vertical-align: middle;\n    }\n\n    .dataframe tbody tr th {\n        vertical-align: top;\n    }\n\n    .dataframe thead th {\n        text-align: right;\n    }\n</style>\n<table border=\"1\" class=\"dataframe\">\n  <thead>\n    <tr style=\"text-align: right;\">\n      <th></th>\n      <th>nro_comprobante</th>\n      <th>fecha</th>\n      <th>monto</th>\n      <th>id_cliente</th>\n    </tr>\n    <tr>\n      <th>tipo</th>\n      <th></th>\n      <th></th>\n      <th></th>\n      <th></th>\n    </tr>\n  </thead>\n  <tbody>\n    <tr>\n      <th>FAC</th>\n      <td>10974</td>\n      <td>10974</td>\n      <td>10974</td>\n      <td>10974</td>\n    </tr>\n    <tr>\n      <th>N/C</th>\n      <td>2387</td>\n      <td>2387</td>\n      <td>2387</td>\n      <td>2387</td>\n    </tr>\n    <tr>\n      <th>N/D</th>\n      <td>15762</td>\n      <td>15762</td>\n      <td>15762</td>\n      <td>15762</td>\n    </tr>\n    <tr>\n      <th>REC</th>\n      <td>12211</td>\n      <td>12211</td>\n      <td>12211</td>\n      <td>12211</td>\n    </tr>\n  </tbody>\n</table>\n</div>"
     },
     "execution_count": 82,
     "metadata": {},
     "output_type": "execute_result"
    }
   ],
   "source": [
    "tipos = recibos.groupby(\"tipo\")\n",
    "tipos.count()"
   ]
  },
  {
   "cell_type": "markdown",
   "source": [
    "## Montos totales por tipo"
   ],
   "metadata": {
    "collapsed": false
   }
  },
  {
   "cell_type": "code",
   "execution_count": 83,
   "id": "2c40d4af",
   "metadata": {},
   "outputs": [
    {
     "data": {
      "text/plain": "tipo\nFAC     7598706.46\nN/C     1335102.12\nN/D     8204046.41\nREC    36693028.63\nName: monto, dtype: float64"
     },
     "execution_count": 83,
     "metadata": {},
     "output_type": "execute_result"
    }
   ],
   "source": [
    "tipos.monto.sum()"
   ]
  },
  {
   "cell_type": "markdown",
   "source": [
    "## 9. ¿Dé qué tipo de datos es la columna fecha? Pasarla a datetime"
   ],
   "metadata": {
    "collapsed": false
   }
  },
  {
   "cell_type": "code",
   "execution_count": 84,
   "id": "4887eade",
   "metadata": {},
   "outputs": [
    {
     "data": {
      "text/plain": "dtype('O')"
     },
     "execution_count": 84,
     "metadata": {},
     "output_type": "execute_result"
    }
   ],
   "source": [
    "recibos.fecha.dtype #Un tipo ‘O’ solo significa “objeto” que en el mundo de Pandas es una secuencia de caracteres (texto)."
   ]
  },
  {
   "cell_type": "code",
   "execution_count": 85,
   "id": "ad8eb389",
   "metadata": {},
   "outputs": [
    {
     "data": {
      "text/plain": "dtype('<M8[ns]')"
     },
     "execution_count": 85,
     "metadata": {},
     "output_type": "execute_result"
    }
   ],
   "source": [
    "recibos[\"fecha\"] = pd.to_datetime(recibos[\"fecha\"])\n",
    "recibos.fecha.dtype"
   ]
  },
  {
   "cell_type": "markdown",
   "source": [
    "## 10. Crear la columna año y mes."
   ],
   "metadata": {
    "collapsed": false
   }
  },
  {
   "cell_type": "code",
   "execution_count": 86,
   "id": "ad663d01",
   "metadata": {},
   "outputs": [
    {
     "data": {
      "text/plain": "          nro_comprobante      fecha        monto  id_cliente tipo year_month\n0      FAC B0001-00000001 2015-12-10         1.00       675.0  FAC    2015-12\n1      FAC B0001-00000002 2015-12-10         1.00       675.0  FAC    2015-12\n2      FAC B0001-00000003 2015-12-28       999.99       123.0  FAC    2015-12\n3      FAC B0001-00000004 2015-12-28        34.21       123.0  FAC    2015-12\n4      FAC B0001-00000005 2015-12-28         0.71       123.0  FAC    2015-12\n...                   ...        ...          ...         ...  ...        ...\n41329  REC X0099-00006794 2018-09-04      2446.00        12.0  REC    2018-09\n41330  REC X0099-00006794 2014-09-04         0.00         0.0  REC    2014-09\n41331  REC X0099-00006794 2014-09-04         0.00         0.0  REC    2014-09\n41332  REC X0099-00006794 2022-09-04         0.00         0.0  REC    2022-09\n41333  REC X0099-00006794 2022-03-01  10000000.00         0.0  REC    2022-03\n\n[41334 rows x 6 columns]",
      "text/html": "<div>\n<style scoped>\n    .dataframe tbody tr th:only-of-type {\n        vertical-align: middle;\n    }\n\n    .dataframe tbody tr th {\n        vertical-align: top;\n    }\n\n    .dataframe thead th {\n        text-align: right;\n    }\n</style>\n<table border=\"1\" class=\"dataframe\">\n  <thead>\n    <tr style=\"text-align: right;\">\n      <th></th>\n      <th>nro_comprobante</th>\n      <th>fecha</th>\n      <th>monto</th>\n      <th>id_cliente</th>\n      <th>tipo</th>\n      <th>year_month</th>\n    </tr>\n  </thead>\n  <tbody>\n    <tr>\n      <th>0</th>\n      <td>FAC B0001-00000001</td>\n      <td>2015-12-10</td>\n      <td>1.00</td>\n      <td>675.0</td>\n      <td>FAC</td>\n      <td>2015-12</td>\n    </tr>\n    <tr>\n      <th>1</th>\n      <td>FAC B0001-00000002</td>\n      <td>2015-12-10</td>\n      <td>1.00</td>\n      <td>675.0</td>\n      <td>FAC</td>\n      <td>2015-12</td>\n    </tr>\n    <tr>\n      <th>2</th>\n      <td>FAC B0001-00000003</td>\n      <td>2015-12-28</td>\n      <td>999.99</td>\n      <td>123.0</td>\n      <td>FAC</td>\n      <td>2015-12</td>\n    </tr>\n    <tr>\n      <th>3</th>\n      <td>FAC B0001-00000004</td>\n      <td>2015-12-28</td>\n      <td>34.21</td>\n      <td>123.0</td>\n      <td>FAC</td>\n      <td>2015-12</td>\n    </tr>\n    <tr>\n      <th>4</th>\n      <td>FAC B0001-00000005</td>\n      <td>2015-12-28</td>\n      <td>0.71</td>\n      <td>123.0</td>\n      <td>FAC</td>\n      <td>2015-12</td>\n    </tr>\n    <tr>\n      <th>...</th>\n      <td>...</td>\n      <td>...</td>\n      <td>...</td>\n      <td>...</td>\n      <td>...</td>\n      <td>...</td>\n    </tr>\n    <tr>\n      <th>41329</th>\n      <td>REC X0099-00006794</td>\n      <td>2018-09-04</td>\n      <td>2446.00</td>\n      <td>12.0</td>\n      <td>REC</td>\n      <td>2018-09</td>\n    </tr>\n    <tr>\n      <th>41330</th>\n      <td>REC X0099-00006794</td>\n      <td>2014-09-04</td>\n      <td>0.00</td>\n      <td>0.0</td>\n      <td>REC</td>\n      <td>2014-09</td>\n    </tr>\n    <tr>\n      <th>41331</th>\n      <td>REC X0099-00006794</td>\n      <td>2014-09-04</td>\n      <td>0.00</td>\n      <td>0.0</td>\n      <td>REC</td>\n      <td>2014-09</td>\n    </tr>\n    <tr>\n      <th>41332</th>\n      <td>REC X0099-00006794</td>\n      <td>2022-09-04</td>\n      <td>0.00</td>\n      <td>0.0</td>\n      <td>REC</td>\n      <td>2022-09</td>\n    </tr>\n    <tr>\n      <th>41333</th>\n      <td>REC X0099-00006794</td>\n      <td>2022-03-01</td>\n      <td>10000000.00</td>\n      <td>0.0</td>\n      <td>REC</td>\n      <td>2022-03</td>\n    </tr>\n  </tbody>\n</table>\n<p>41334 rows × 6 columns</p>\n</div>"
     },
     "execution_count": 86,
     "metadata": {},
     "output_type": "execute_result"
    }
   ],
   "source": [
    "recibos[\"year_month\"] = recibos[\"fecha\"].dt.to_period('m')\n",
    "recibos"
   ]
  },
  {
   "cell_type": "markdown",
   "source": [
    "## 11. Sumar sólo lo cobrado (REC y N/D) y mostrar una tabla que tenga como indice fecha(año-mes) y columna monto_cobrado, cantidad_recibos. (group by)"
   ],
   "metadata": {
    "collapsed": false
   }
  },
  {
   "cell_type": "code",
   "execution_count": 87,
   "id": "b6e250b7",
   "metadata": {},
   "outputs": [
    {
     "name": "stderr",
     "output_type": "stream",
     "text": [
      "/var/folders/04/tp4wyrys03s5z6y1v720v3580000gn/T/ipykernel_1184/9784843.py:2: SettingWithCopyWarning: \n",
      "A value is trying to be set on a copy of a slice from a DataFrame.\n",
      "Try using .loc[row_indexer,col_indexer] = value instead\n",
      "\n",
      "See the caveats in the documentation: https://pandas.pydata.org/pandas-docs/stable/user_guide/indexing.html#returning-a-view-versus-a-copy\n",
      "  cobrado['recibo'] = np.where(cobrado['tipo'] == \"REC\", 1, 0)\n"
     ]
    },
    {
     "data": {
      "text/plain": "          nro_comprobante      fecha    monto  id_cliente tipo year_month  \\\n13361  N/D B0001-00000001 2016-01-12    66.16       536.0  N/D    2016-01   \n13362  N/D B0001-00000002 2016-01-28   110.54       838.0  N/D    2016-01   \n13363  N/D B0001-00000003 2016-02-05    16.46       536.0  N/D    2016-02   \n13364  N/D B0001-00000004 2016-02-11    83.10       838.0  N/D    2016-02   \n13365  N/D B0001-00000005 2016-02-16    49.99       801.0  N/D    2016-02   \n...                   ...        ...      ...         ...  ...        ...   \n41328  REC X0099-00006794 2018-09-04  2446.00        12.0  REC    2018-09   \n41329  REC X0099-00006794 2018-09-04  2446.00        12.0  REC    2018-09   \n41330  REC X0099-00006794 2014-09-04     0.00         0.0  REC    2014-09   \n41331  REC X0099-00006794 2014-09-04     0.00         0.0  REC    2014-09   \n41332  REC X0099-00006794 2022-09-04     0.00         0.0  REC    2022-09   \n\n       recibo  \n13361       0  \n13362       0  \n13363       0  \n13364       0  \n13365       0  \n...       ...  \n41328       1  \n41329       1  \n41330       1  \n41331       1  \n41332       1  \n\n[27972 rows x 7 columns]",
      "text/html": "<div>\n<style scoped>\n    .dataframe tbody tr th:only-of-type {\n        vertical-align: middle;\n    }\n\n    .dataframe tbody tr th {\n        vertical-align: top;\n    }\n\n    .dataframe thead th {\n        text-align: right;\n    }\n</style>\n<table border=\"1\" class=\"dataframe\">\n  <thead>\n    <tr style=\"text-align: right;\">\n      <th></th>\n      <th>nro_comprobante</th>\n      <th>fecha</th>\n      <th>monto</th>\n      <th>id_cliente</th>\n      <th>tipo</th>\n      <th>year_month</th>\n      <th>recibo</th>\n    </tr>\n  </thead>\n  <tbody>\n    <tr>\n      <th>13361</th>\n      <td>N/D B0001-00000001</td>\n      <td>2016-01-12</td>\n      <td>66.16</td>\n      <td>536.0</td>\n      <td>N/D</td>\n      <td>2016-01</td>\n      <td>0</td>\n    </tr>\n    <tr>\n      <th>13362</th>\n      <td>N/D B0001-00000002</td>\n      <td>2016-01-28</td>\n      <td>110.54</td>\n      <td>838.0</td>\n      <td>N/D</td>\n      <td>2016-01</td>\n      <td>0</td>\n    </tr>\n    <tr>\n      <th>13363</th>\n      <td>N/D B0001-00000003</td>\n      <td>2016-02-05</td>\n      <td>16.46</td>\n      <td>536.0</td>\n      <td>N/D</td>\n      <td>2016-02</td>\n      <td>0</td>\n    </tr>\n    <tr>\n      <th>13364</th>\n      <td>N/D B0001-00000004</td>\n      <td>2016-02-11</td>\n      <td>83.10</td>\n      <td>838.0</td>\n      <td>N/D</td>\n      <td>2016-02</td>\n      <td>0</td>\n    </tr>\n    <tr>\n      <th>13365</th>\n      <td>N/D B0001-00000005</td>\n      <td>2016-02-16</td>\n      <td>49.99</td>\n      <td>801.0</td>\n      <td>N/D</td>\n      <td>2016-02</td>\n      <td>0</td>\n    </tr>\n    <tr>\n      <th>...</th>\n      <td>...</td>\n      <td>...</td>\n      <td>...</td>\n      <td>...</td>\n      <td>...</td>\n      <td>...</td>\n      <td>...</td>\n    </tr>\n    <tr>\n      <th>41328</th>\n      <td>REC X0099-00006794</td>\n      <td>2018-09-04</td>\n      <td>2446.00</td>\n      <td>12.0</td>\n      <td>REC</td>\n      <td>2018-09</td>\n      <td>1</td>\n    </tr>\n    <tr>\n      <th>41329</th>\n      <td>REC X0099-00006794</td>\n      <td>2018-09-04</td>\n      <td>2446.00</td>\n      <td>12.0</td>\n      <td>REC</td>\n      <td>2018-09</td>\n      <td>1</td>\n    </tr>\n    <tr>\n      <th>41330</th>\n      <td>REC X0099-00006794</td>\n      <td>2014-09-04</td>\n      <td>0.00</td>\n      <td>0.0</td>\n      <td>REC</td>\n      <td>2014-09</td>\n      <td>1</td>\n    </tr>\n    <tr>\n      <th>41331</th>\n      <td>REC X0099-00006794</td>\n      <td>2014-09-04</td>\n      <td>0.00</td>\n      <td>0.0</td>\n      <td>REC</td>\n      <td>2014-09</td>\n      <td>1</td>\n    </tr>\n    <tr>\n      <th>41332</th>\n      <td>REC X0099-00006794</td>\n      <td>2022-09-04</td>\n      <td>0.00</td>\n      <td>0.0</td>\n      <td>REC</td>\n      <td>2022-09</td>\n      <td>1</td>\n    </tr>\n  </tbody>\n</table>\n<p>27972 rows × 7 columns</p>\n</div>"
     },
     "execution_count": 87,
     "metadata": {},
     "output_type": "execute_result"
    }
   ],
   "source": [
    "cobrado = recibos_sin_max[(recibos_sin_max.tipo == \"REC\") | (recibos_sin_max.tipo == \"N/D\")]\n",
    "cobrado['recibo'] = np.where(cobrado['tipo'] == \"REC\", 1, 0)\n",
    "cobrado"
   ]
  },
  {
   "cell_type": "code",
   "execution_count": 88,
   "outputs": [
    {
     "data": {
      "text/plain": "            monto_cobrado  cantidad_recibos\nyear_month                                 \n2014-09              0.00                 2\n2015-12           3339.00                 4\n2016-01          23217.27                21\n2016-02          87138.09                56\n2016-03         193843.65               128\n...                   ...               ...\n2022-03         245495.68                13\n2022-04         145510.59                10\n2022-05          87518.58                 7\n2022-06          81386.59                 6\n2022-09              0.00                 1\n\n[81 rows x 2 columns]",
      "text/html": "<div>\n<style scoped>\n    .dataframe tbody tr th:only-of-type {\n        vertical-align: middle;\n    }\n\n    .dataframe tbody tr th {\n        vertical-align: top;\n    }\n\n    .dataframe thead th {\n        text-align: right;\n    }\n</style>\n<table border=\"1\" class=\"dataframe\">\n  <thead>\n    <tr style=\"text-align: right;\">\n      <th></th>\n      <th>monto_cobrado</th>\n      <th>cantidad_recibos</th>\n    </tr>\n    <tr>\n      <th>year_month</th>\n      <th></th>\n      <th></th>\n    </tr>\n  </thead>\n  <tbody>\n    <tr>\n      <th>2014-09</th>\n      <td>0.00</td>\n      <td>2</td>\n    </tr>\n    <tr>\n      <th>2015-12</th>\n      <td>3339.00</td>\n      <td>4</td>\n    </tr>\n    <tr>\n      <th>2016-01</th>\n      <td>23217.27</td>\n      <td>21</td>\n    </tr>\n    <tr>\n      <th>2016-02</th>\n      <td>87138.09</td>\n      <td>56</td>\n    </tr>\n    <tr>\n      <th>2016-03</th>\n      <td>193843.65</td>\n      <td>128</td>\n    </tr>\n    <tr>\n      <th>...</th>\n      <td>...</td>\n      <td>...</td>\n    </tr>\n    <tr>\n      <th>2022-03</th>\n      <td>245495.68</td>\n      <td>13</td>\n    </tr>\n    <tr>\n      <th>2022-04</th>\n      <td>145510.59</td>\n      <td>10</td>\n    </tr>\n    <tr>\n      <th>2022-05</th>\n      <td>87518.58</td>\n      <td>7</td>\n    </tr>\n    <tr>\n      <th>2022-06</th>\n      <td>81386.59</td>\n      <td>6</td>\n    </tr>\n    <tr>\n      <th>2022-09</th>\n      <td>0.00</td>\n      <td>1</td>\n    </tr>\n  </tbody>\n</table>\n<p>81 rows × 2 columns</p>\n</div>"
     },
     "execution_count": 88,
     "metadata": {},
     "output_type": "execute_result"
    }
   ],
   "source": [
    "cobrado_df = cobrado.groupby(\"year_month\").agg(monto_cobrado =  ('monto', 'sum'), cantidad_recibos = (\"recibo\", \"sum\"))\n",
    "cobrado_df"
   ],
   "metadata": {
    "collapsed": false
   }
  },
  {
   "cell_type": "markdown",
   "source": [
    "## 12. ¿Cuantos valores hay mayores a 60000 de la columna monto en el dataset general?"
   ],
   "metadata": {
    "collapsed": false
   }
  },
  {
   "cell_type": "code",
   "execution_count": 89,
   "id": "ee47bb28",
   "metadata": {},
   "outputs": [
    {
     "data": {
      "text/plain": "1"
     },
     "execution_count": 89,
     "metadata": {},
     "output_type": "execute_result"
    }
   ],
   "source": [
    "len(recibos[recibos.monto > 60000])"
   ]
  },
  {
   "cell_type": "markdown",
   "source": [
    "## 13. ¿Cual es el valor máximo? ¿Debería eliminarlo? ¿Por qué?"
   ],
   "metadata": {
    "collapsed": false
   }
  },
  {
   "cell_type": "markdown",
   "id": "71195f2f",
   "metadata": {},
   "source": [
    "No deberia eliminarlo porque es un dato recolectado, eliminandolo obtendriamos una vista sesgada de la informacion."
   ]
  },
  {
   "cell_type": "code",
   "execution_count": 90,
   "id": "d4881c7c",
   "metadata": {},
   "outputs": [
    {
     "data": {
      "text/plain": "10000000.0"
     },
     "execution_count": 90,
     "metadata": {},
     "output_type": "execute_result"
    }
   ],
   "source": [
    "recibos.monto.max()"
   ]
  },
  {
   "cell_type": "markdown",
   "source": [
    "## 14. No tenga en cuenta el valor máximo para los siguientes análisis.\n"
   ],
   "metadata": {
    "collapsed": false
   }
  },
  {
   "cell_type": "code",
   "execution_count": 91,
   "id": "cad6d859",
   "metadata": {},
   "outputs": [
    {
     "data": {
      "text/plain": "56000.0"
     },
     "execution_count": 91,
     "metadata": {},
     "output_type": "execute_result"
    }
   ],
   "source": [
    "recibos_sin_max = recibos.drop(recibos.monto.idxmax())\n",
    "recibos_sin_max.monto.max()"
   ]
  },
  {
   "cell_type": "markdown",
   "source": [
    "## 15. En el total del dataset. Cuanto representa lo facturado sobre lo cobrado."
   ],
   "metadata": {
    "collapsed": false
   }
  },
  {
   "cell_type": "code",
   "execution_count": 92,
   "id": "3a51e368",
   "metadata": {},
   "outputs": [
    {
     "data": {
      "text/plain": "          nro_comprobante      fecha   monto  id_cliente tipo year_month\n0      FAC B0001-00000001 2015-12-10    1.00       675.0  FAC    2015-12\n1      FAC B0001-00000002 2015-12-10    1.00       675.0  FAC    2015-12\n2      FAC B0001-00000003 2015-12-28  999.99       123.0  FAC    2015-12\n3      FAC B0001-00000004 2015-12-28   34.21       123.0  FAC    2015-12\n4      FAC B0001-00000005 2015-12-28    0.71       123.0  FAC    2015-12\n...                   ...        ...     ...         ...  ...        ...\n10969  FAC B0099-00001779 2022-06-16  998.98       659.0  FAC    2022-06\n10970  FAC B0099-00001780 2022-06-16  206.47       659.0  FAC    2022-06\n10971  FAC B0099-00001781 2022-06-21  762.40       158.0  FAC    2022-06\n10972  FAC B0099-00001782 2022-06-22  998.98       434.0  FAC    2022-06\n10973  FAC B0099-00001783 2022-06-22  200.81       434.0  FAC    2022-06\n\n[10974 rows x 6 columns]",
      "text/html": "<div>\n<style scoped>\n    .dataframe tbody tr th:only-of-type {\n        vertical-align: middle;\n    }\n\n    .dataframe tbody tr th {\n        vertical-align: top;\n    }\n\n    .dataframe thead th {\n        text-align: right;\n    }\n</style>\n<table border=\"1\" class=\"dataframe\">\n  <thead>\n    <tr style=\"text-align: right;\">\n      <th></th>\n      <th>nro_comprobante</th>\n      <th>fecha</th>\n      <th>monto</th>\n      <th>id_cliente</th>\n      <th>tipo</th>\n      <th>year_month</th>\n    </tr>\n  </thead>\n  <tbody>\n    <tr>\n      <th>0</th>\n      <td>FAC B0001-00000001</td>\n      <td>2015-12-10</td>\n      <td>1.00</td>\n      <td>675.0</td>\n      <td>FAC</td>\n      <td>2015-12</td>\n    </tr>\n    <tr>\n      <th>1</th>\n      <td>FAC B0001-00000002</td>\n      <td>2015-12-10</td>\n      <td>1.00</td>\n      <td>675.0</td>\n      <td>FAC</td>\n      <td>2015-12</td>\n    </tr>\n    <tr>\n      <th>2</th>\n      <td>FAC B0001-00000003</td>\n      <td>2015-12-28</td>\n      <td>999.99</td>\n      <td>123.0</td>\n      <td>FAC</td>\n      <td>2015-12</td>\n    </tr>\n    <tr>\n      <th>3</th>\n      <td>FAC B0001-00000004</td>\n      <td>2015-12-28</td>\n      <td>34.21</td>\n      <td>123.0</td>\n      <td>FAC</td>\n      <td>2015-12</td>\n    </tr>\n    <tr>\n      <th>4</th>\n      <td>FAC B0001-00000005</td>\n      <td>2015-12-28</td>\n      <td>0.71</td>\n      <td>123.0</td>\n      <td>FAC</td>\n      <td>2015-12</td>\n    </tr>\n    <tr>\n      <th>...</th>\n      <td>...</td>\n      <td>...</td>\n      <td>...</td>\n      <td>...</td>\n      <td>...</td>\n      <td>...</td>\n    </tr>\n    <tr>\n      <th>10969</th>\n      <td>FAC B0099-00001779</td>\n      <td>2022-06-16</td>\n      <td>998.98</td>\n      <td>659.0</td>\n      <td>FAC</td>\n      <td>2022-06</td>\n    </tr>\n    <tr>\n      <th>10970</th>\n      <td>FAC B0099-00001780</td>\n      <td>2022-06-16</td>\n      <td>206.47</td>\n      <td>659.0</td>\n      <td>FAC</td>\n      <td>2022-06</td>\n    </tr>\n    <tr>\n      <th>10971</th>\n      <td>FAC B0099-00001781</td>\n      <td>2022-06-21</td>\n      <td>762.40</td>\n      <td>158.0</td>\n      <td>FAC</td>\n      <td>2022-06</td>\n    </tr>\n    <tr>\n      <th>10972</th>\n      <td>FAC B0099-00001782</td>\n      <td>2022-06-22</td>\n      <td>998.98</td>\n      <td>434.0</td>\n      <td>FAC</td>\n      <td>2022-06</td>\n    </tr>\n    <tr>\n      <th>10973</th>\n      <td>FAC B0099-00001783</td>\n      <td>2022-06-22</td>\n      <td>200.81</td>\n      <td>434.0</td>\n      <td>FAC</td>\n      <td>2022-06</td>\n    </tr>\n  </tbody>\n</table>\n<p>10974 rows × 6 columns</p>\n</div>"
     },
     "execution_count": 92,
     "metadata": {},
     "output_type": "execute_result"
    }
   ],
   "source": [
    "facturado = recibos[recibos[\"tipo\"] == \"FAC\"]\n",
    "facturado"
   ]
  },
  {
   "cell_type": "code",
   "execution_count": 93,
   "id": "69e09d4e",
   "metadata": {},
   "outputs": [
    {
     "data": {
      "text/plain": "'21.77 %'"
     },
     "execution_count": 93,
     "metadata": {},
     "output_type": "execute_result"
    }
   ],
   "source": [
    "str(round(((facturado.monto.sum()/cobrado.monto.sum())*100), 2)) + \" %\""
   ]
  },
  {
   "cell_type": "markdown",
   "source": [
    "## Si sabe que lo facturado es el IVA ¿Tiene sentido? ¿Cómo lo interpretas?"
   ],
   "metadata": {
    "collapsed": false
   }
  },
  {
   "cell_type": "markdown",
   "source": [
    "# **Dataset Dolar**"
   ],
   "metadata": {
    "collapsed": false
   }
  },
  {
   "cell_type": "code",
   "execution_count": 94,
   "id": "1739d3bb",
   "metadata": {},
   "outputs": [],
   "source": [
    "path = \"..//fuentes/dolar_blue - Hoja 1.csv\"\n",
    "dolar = pd.read_csv(path)"
   ]
  },
  {
   "cell_type": "code",
   "execution_count": 95,
   "id": "5867e744",
   "metadata": {},
   "outputs": [
    {
     "data": {
      "text/plain": "           Fecha  Compra   Venta\n0     15-07-2022  283,00  293,00\n1     14-07-2022  279,00  289,00\n2     13-07-2022  273,00  283,00\n3     12-07-2022  262,00  272,00\n4     11-07-2022  258,00  268,00\n...          ...     ...     ...\n1758  22-06-2015   12,95   13,05\n1759  19-06-2015   12,92   13,02\n1760  18-06-2015   12,98   13,08\n1761  17-06-2015   12,84   12,94\n1762  16-06-2015   12,75   12,85\n\n[1763 rows x 3 columns]",
      "text/html": "<div>\n<style scoped>\n    .dataframe tbody tr th:only-of-type {\n        vertical-align: middle;\n    }\n\n    .dataframe tbody tr th {\n        vertical-align: top;\n    }\n\n    .dataframe thead th {\n        text-align: right;\n    }\n</style>\n<table border=\"1\" class=\"dataframe\">\n  <thead>\n    <tr style=\"text-align: right;\">\n      <th></th>\n      <th>Fecha</th>\n      <th>Compra</th>\n      <th>Venta</th>\n    </tr>\n  </thead>\n  <tbody>\n    <tr>\n      <th>0</th>\n      <td>15-07-2022</td>\n      <td>283,00</td>\n      <td>293,00</td>\n    </tr>\n    <tr>\n      <th>1</th>\n      <td>14-07-2022</td>\n      <td>279,00</td>\n      <td>289,00</td>\n    </tr>\n    <tr>\n      <th>2</th>\n      <td>13-07-2022</td>\n      <td>273,00</td>\n      <td>283,00</td>\n    </tr>\n    <tr>\n      <th>3</th>\n      <td>12-07-2022</td>\n      <td>262,00</td>\n      <td>272,00</td>\n    </tr>\n    <tr>\n      <th>4</th>\n      <td>11-07-2022</td>\n      <td>258,00</td>\n      <td>268,00</td>\n    </tr>\n    <tr>\n      <th>...</th>\n      <td>...</td>\n      <td>...</td>\n      <td>...</td>\n    </tr>\n    <tr>\n      <th>1758</th>\n      <td>22-06-2015</td>\n      <td>12,95</td>\n      <td>13,05</td>\n    </tr>\n    <tr>\n      <th>1759</th>\n      <td>19-06-2015</td>\n      <td>12,92</td>\n      <td>13,02</td>\n    </tr>\n    <tr>\n      <th>1760</th>\n      <td>18-06-2015</td>\n      <td>12,98</td>\n      <td>13,08</td>\n    </tr>\n    <tr>\n      <th>1761</th>\n      <td>17-06-2015</td>\n      <td>12,84</td>\n      <td>12,94</td>\n    </tr>\n    <tr>\n      <th>1762</th>\n      <td>16-06-2015</td>\n      <td>12,75</td>\n      <td>12,85</td>\n    </tr>\n  </tbody>\n</table>\n<p>1763 rows × 3 columns</p>\n</div>"
     },
     "execution_count": 95,
     "metadata": {},
     "output_type": "execute_result"
    }
   ],
   "source": [
    "dolar"
   ]
  },
  {
   "cell_type": "markdown",
   "source": [
    "## 16. Repita puntos 1,2,3 ahora para este dataset\n"
   ],
   "metadata": {
    "collapsed": false
   }
  },
  {
   "cell_type": "code",
   "execution_count": 96,
   "id": "80ab4780",
   "metadata": {},
   "outputs": [
    {
     "name": "stdout",
     "output_type": "stream",
     "text": [
      "<class 'pandas.core.frame.DataFrame'>\n",
      "RangeIndex: 1763 entries, 0 to 1762\n",
      "Data columns (total 3 columns):\n",
      " #   Column  Non-Null Count  Dtype \n",
      "---  ------  --------------  ----- \n",
      " 0   Fecha   1763 non-null   object\n",
      " 1   Compra  1763 non-null   object\n",
      " 2   Venta   1763 non-null   object\n",
      "dtypes: object(3)\n",
      "memory usage: 41.4+ KB\n"
     ]
    }
   ],
   "source": [
    "dolar.info()"
   ]
  },
  {
   "cell_type": "code",
   "execution_count": 97,
   "id": "3f7c290c",
   "metadata": {},
   "outputs": [
    {
     "data": {
      "text/plain": "(1763, 3)"
     },
     "execution_count": 97,
     "metadata": {},
     "output_type": "execute_result"
    }
   ],
   "source": [
    "dolar.shape"
   ]
  },
  {
   "cell_type": "code",
   "execution_count": 98,
   "id": "6b26b1cc",
   "metadata": {},
   "outputs": [
    {
     "data": {
      "text/plain": "Fecha     object\nCompra    object\nVenta     object\ndtype: object"
     },
     "execution_count": 98,
     "metadata": {},
     "output_type": "execute_result"
    }
   ],
   "source": [
    "dolar.dtypes"
   ]
  },
  {
   "cell_type": "code",
   "execution_count": 99,
   "id": "05652d34",
   "metadata": {},
   "outputs": [
    {
     "data": {
      "text/plain": "Fecha     0\nCompra    0\nVenta     0\ndtype: int64"
     },
     "execution_count": 99,
     "metadata": {},
     "output_type": "execute_result"
    }
   ],
   "source": [
    "nulos= dolar.isnull().sum()\n",
    "nulos"
   ]
  },
  {
   "cell_type": "code",
   "execution_count": 100,
   "id": "84c31e68",
   "metadata": {},
   "outputs": [
    {
     "data": {
      "text/plain": "5289"
     },
     "execution_count": 100,
     "metadata": {},
     "output_type": "execute_result"
    }
   ],
   "source": [
    "total_dolar = dolar.count().sum() + nulos.sum()\n",
    "total_dolar"
   ]
  },
  {
   "cell_type": "code",
   "execution_count": 101,
   "id": "6dd30544",
   "metadata": {},
   "outputs": [
    {
     "data": {
      "text/plain": "0.0"
     },
     "execution_count": 101,
     "metadata": {},
     "output_type": "execute_result"
    }
   ],
   "source": [
    "round(((nulos.sum()/total_dolar)*100),4) #no hay"
   ]
  },
  {
   "cell_type": "code",
   "execution_count": 102,
   "id": "3b8d79c9",
   "metadata": {},
   "outputs": [
    {
     "data": {
      "text/plain": "Empty DataFrame\nColumns: [Fecha, Compra, Venta]\nIndex: []",
      "text/html": "<div>\n<style scoped>\n    .dataframe tbody tr th:only-of-type {\n        vertical-align: middle;\n    }\n\n    .dataframe tbody tr th {\n        vertical-align: top;\n    }\n\n    .dataframe thead th {\n        text-align: right;\n    }\n</style>\n<table border=\"1\" class=\"dataframe\">\n  <thead>\n    <tr style=\"text-align: right;\">\n      <th></th>\n      <th>Fecha</th>\n      <th>Compra</th>\n      <th>Venta</th>\n    </tr>\n  </thead>\n  <tbody>\n  </tbody>\n</table>\n</div>"
     },
     "execution_count": 102,
     "metadata": {},
     "output_type": "execute_result"
    }
   ],
   "source": [
    "dolar[dolar.isna().any(axis = 1)]"
   ]
  },
  {
   "cell_type": "code",
   "execution_count": 103,
   "id": "14c5bb0f",
   "metadata": {},
   "outputs": [
    {
     "data": {
      "text/plain": "             Fecha  Compra   Venta\ncount         1763    1763    1763\nunique        1732     727     723\ntop     31-08-2021  197,00  151,00\nfreq             7      16      16",
      "text/html": "<div>\n<style scoped>\n    .dataframe tbody tr th:only-of-type {\n        vertical-align: middle;\n    }\n\n    .dataframe tbody tr th {\n        vertical-align: top;\n    }\n\n    .dataframe thead th {\n        text-align: right;\n    }\n</style>\n<table border=\"1\" class=\"dataframe\">\n  <thead>\n    <tr style=\"text-align: right;\">\n      <th></th>\n      <th>Fecha</th>\n      <th>Compra</th>\n      <th>Venta</th>\n    </tr>\n  </thead>\n  <tbody>\n    <tr>\n      <th>count</th>\n      <td>1763</td>\n      <td>1763</td>\n      <td>1763</td>\n    </tr>\n    <tr>\n      <th>unique</th>\n      <td>1732</td>\n      <td>727</td>\n      <td>723</td>\n    </tr>\n    <tr>\n      <th>top</th>\n      <td>31-08-2021</td>\n      <td>197,00</td>\n      <td>151,00</td>\n    </tr>\n    <tr>\n      <th>freq</th>\n      <td>7</td>\n      <td>16</td>\n      <td>16</td>\n    </tr>\n  </tbody>\n</table>\n</div>"
     },
     "execution_count": 103,
     "metadata": {},
     "output_type": "execute_result"
    }
   ],
   "source": [
    "dolar.describe()"
   ]
  },
  {
   "cell_type": "markdown",
   "source": [
    "## Pasar a datetime la columna Fecha"
   ],
   "metadata": {
    "collapsed": false
   }
  },
  {
   "cell_type": "code",
   "execution_count": 104,
   "id": "7fedae54",
   "metadata": {},
   "outputs": [
    {
     "name": "stderr",
     "output_type": "stream",
     "text": [
      "/var/folders/04/tp4wyrys03s5z6y1v720v3580000gn/T/ipykernel_1184/2334349146.py:1: UserWarning: Parsing '15-07-2022' in DD/MM/YYYY format. Provide format or specify infer_datetime_format=True for consistent parsing.\n",
      "  dolar[\"Fecha\"] = pd.to_datetime(dolar[\"Fecha\"])\n",
      "/var/folders/04/tp4wyrys03s5z6y1v720v3580000gn/T/ipykernel_1184/2334349146.py:1: UserWarning: Parsing '14-07-2022' in DD/MM/YYYY format. Provide format or specify infer_datetime_format=True for consistent parsing.\n",
      "  dolar[\"Fecha\"] = pd.to_datetime(dolar[\"Fecha\"])\n",
      "/var/folders/04/tp4wyrys03s5z6y1v720v3580000gn/T/ipykernel_1184/2334349146.py:1: UserWarning: Parsing '13-07-2022' in DD/MM/YYYY format. Provide format or specify infer_datetime_format=True for consistent parsing.\n",
      "  dolar[\"Fecha\"] = pd.to_datetime(dolar[\"Fecha\"])\n",
      "/var/folders/04/tp4wyrys03s5z6y1v720v3580000gn/T/ipykernel_1184/2334349146.py:1: UserWarning: Parsing '30-06-2022' in DD/MM/YYYY format. Provide format or specify infer_datetime_format=True for consistent parsing.\n",
      "  dolar[\"Fecha\"] = pd.to_datetime(dolar[\"Fecha\"])\n",
      "/var/folders/04/tp4wyrys03s5z6y1v720v3580000gn/T/ipykernel_1184/2334349146.py:1: UserWarning: Parsing '29-06-2022' in DD/MM/YYYY format. Provide format or specify infer_datetime_format=True for consistent parsing.\n",
      "  dolar[\"Fecha\"] = pd.to_datetime(dolar[\"Fecha\"])\n",
      "/var/folders/04/tp4wyrys03s5z6y1v720v3580000gn/T/ipykernel_1184/2334349146.py:1: UserWarning: Parsing '28-06-2022' in DD/MM/YYYY format. Provide format or specify infer_datetime_format=True for consistent parsing.\n",
      "  dolar[\"Fecha\"] = pd.to_datetime(dolar[\"Fecha\"])\n",
      "/var/folders/04/tp4wyrys03s5z6y1v720v3580000gn/T/ipykernel_1184/2334349146.py:1: UserWarning: Parsing '27-06-2022' in DD/MM/YYYY format. Provide format or specify infer_datetime_format=True for consistent parsing.\n",
      "  dolar[\"Fecha\"] = pd.to_datetime(dolar[\"Fecha\"])\n",
      "/var/folders/04/tp4wyrys03s5z6y1v720v3580000gn/T/ipykernel_1184/2334349146.py:1: UserWarning: Parsing '24-06-2022' in DD/MM/YYYY format. Provide format or specify infer_datetime_format=True for consistent parsing.\n",
      "  dolar[\"Fecha\"] = pd.to_datetime(dolar[\"Fecha\"])\n",
      "/var/folders/04/tp4wyrys03s5z6y1v720v3580000gn/T/ipykernel_1184/2334349146.py:1: UserWarning: Parsing '23-06-2022' in DD/MM/YYYY format. Provide format or specify infer_datetime_format=True for consistent parsing.\n",
      "  dolar[\"Fecha\"] = pd.to_datetime(dolar[\"Fecha\"])\n",
      "/var/folders/04/tp4wyrys03s5z6y1v720v3580000gn/T/ipykernel_1184/2334349146.py:1: UserWarning: Parsing '22-06-2022' in DD/MM/YYYY format. Provide format or specify infer_datetime_format=True for consistent parsing.\n",
      "  dolar[\"Fecha\"] = pd.to_datetime(dolar[\"Fecha\"])\n",
      "/var/folders/04/tp4wyrys03s5z6y1v720v3580000gn/T/ipykernel_1184/2334349146.py:1: UserWarning: Parsing '21-06-2022' in DD/MM/YYYY format. Provide format or specify infer_datetime_format=True for consistent parsing.\n",
      "  dolar[\"Fecha\"] = pd.to_datetime(dolar[\"Fecha\"])\n",
      "/var/folders/04/tp4wyrys03s5z6y1v720v3580000gn/T/ipykernel_1184/2334349146.py:1: UserWarning: Parsing '16-06-2022' in DD/MM/YYYY format. Provide format or specify infer_datetime_format=True for consistent parsing.\n",
      "  dolar[\"Fecha\"] = pd.to_datetime(dolar[\"Fecha\"])\n",
      "/var/folders/04/tp4wyrys03s5z6y1v720v3580000gn/T/ipykernel_1184/2334349146.py:1: UserWarning: Parsing '15-06-2022' in DD/MM/YYYY format. Provide format or specify infer_datetime_format=True for consistent parsing.\n",
      "  dolar[\"Fecha\"] = pd.to_datetime(dolar[\"Fecha\"])\n",
      "/var/folders/04/tp4wyrys03s5z6y1v720v3580000gn/T/ipykernel_1184/2334349146.py:1: UserWarning: Parsing '14-06-2022' in DD/MM/YYYY format. Provide format or specify infer_datetime_format=True for consistent parsing.\n",
      "  dolar[\"Fecha\"] = pd.to_datetime(dolar[\"Fecha\"])\n",
      "/var/folders/04/tp4wyrys03s5z6y1v720v3580000gn/T/ipykernel_1184/2334349146.py:1: UserWarning: Parsing '13-06-2022' in DD/MM/YYYY format. Provide format or specify infer_datetime_format=True for consistent parsing.\n",
      "  dolar[\"Fecha\"] = pd.to_datetime(dolar[\"Fecha\"])\n",
      "/var/folders/04/tp4wyrys03s5z6y1v720v3580000gn/T/ipykernel_1184/2334349146.py:1: UserWarning: Parsing '31-05-2022' in DD/MM/YYYY format. Provide format or specify infer_datetime_format=True for consistent parsing.\n",
      "  dolar[\"Fecha\"] = pd.to_datetime(dolar[\"Fecha\"])\n",
      "/var/folders/04/tp4wyrys03s5z6y1v720v3580000gn/T/ipykernel_1184/2334349146.py:1: UserWarning: Parsing '30-05-2022' in DD/MM/YYYY format. Provide format or specify infer_datetime_format=True for consistent parsing.\n",
      "  dolar[\"Fecha\"] = pd.to_datetime(dolar[\"Fecha\"])\n",
      "/var/folders/04/tp4wyrys03s5z6y1v720v3580000gn/T/ipykernel_1184/2334349146.py:1: UserWarning: Parsing '27-05-2022' in DD/MM/YYYY format. Provide format or specify infer_datetime_format=True for consistent parsing.\n",
      "  dolar[\"Fecha\"] = pd.to_datetime(dolar[\"Fecha\"])\n",
      "/var/folders/04/tp4wyrys03s5z6y1v720v3580000gn/T/ipykernel_1184/2334349146.py:1: UserWarning: Parsing '26-05-2022' in DD/MM/YYYY format. Provide format or specify infer_datetime_format=True for consistent parsing.\n",
      "  dolar[\"Fecha\"] = pd.to_datetime(dolar[\"Fecha\"])\n",
      "/var/folders/04/tp4wyrys03s5z6y1v720v3580000gn/T/ipykernel_1184/2334349146.py:1: UserWarning: Parsing '24-05-2022' in DD/MM/YYYY format. Provide format or specify infer_datetime_format=True for consistent parsing.\n",
      "  dolar[\"Fecha\"] = pd.to_datetime(dolar[\"Fecha\"])\n",
      "/var/folders/04/tp4wyrys03s5z6y1v720v3580000gn/T/ipykernel_1184/2334349146.py:1: UserWarning: Parsing '23-05-2022' in DD/MM/YYYY format. Provide format or specify infer_datetime_format=True for consistent parsing.\n",
      "  dolar[\"Fecha\"] = pd.to_datetime(dolar[\"Fecha\"])\n",
      "/var/folders/04/tp4wyrys03s5z6y1v720v3580000gn/T/ipykernel_1184/2334349146.py:1: UserWarning: Parsing '20-05-2022' in DD/MM/YYYY format. Provide format or specify infer_datetime_format=True for consistent parsing.\n",
      "  dolar[\"Fecha\"] = pd.to_datetime(dolar[\"Fecha\"])\n",
      "/var/folders/04/tp4wyrys03s5z6y1v720v3580000gn/T/ipykernel_1184/2334349146.py:1: UserWarning: Parsing '19-05-2022' in DD/MM/YYYY format. Provide format or specify infer_datetime_format=True for consistent parsing.\n",
      "  dolar[\"Fecha\"] = pd.to_datetime(dolar[\"Fecha\"])\n",
      "/var/folders/04/tp4wyrys03s5z6y1v720v3580000gn/T/ipykernel_1184/2334349146.py:1: UserWarning: Parsing '17-05-2022' in DD/MM/YYYY format. Provide format or specify infer_datetime_format=True for consistent parsing.\n",
      "  dolar[\"Fecha\"] = pd.to_datetime(dolar[\"Fecha\"])\n",
      "/var/folders/04/tp4wyrys03s5z6y1v720v3580000gn/T/ipykernel_1184/2334349146.py:1: UserWarning: Parsing '16-05-2022' in DD/MM/YYYY format. Provide format or specify infer_datetime_format=True for consistent parsing.\n",
      "  dolar[\"Fecha\"] = pd.to_datetime(dolar[\"Fecha\"])\n",
      "/var/folders/04/tp4wyrys03s5z6y1v720v3580000gn/T/ipykernel_1184/2334349146.py:1: UserWarning: Parsing '13-05-2022' in DD/MM/YYYY format. Provide format or specify infer_datetime_format=True for consistent parsing.\n",
      "  dolar[\"Fecha\"] = pd.to_datetime(dolar[\"Fecha\"])\n",
      "/var/folders/04/tp4wyrys03s5z6y1v720v3580000gn/T/ipykernel_1184/2334349146.py:1: UserWarning: Parsing '29-04-2022' in DD/MM/YYYY format. Provide format or specify infer_datetime_format=True for consistent parsing.\n",
      "  dolar[\"Fecha\"] = pd.to_datetime(dolar[\"Fecha\"])\n",
      "/var/folders/04/tp4wyrys03s5z6y1v720v3580000gn/T/ipykernel_1184/2334349146.py:1: UserWarning: Parsing '28-04-2022' in DD/MM/YYYY format. Provide format or specify infer_datetime_format=True for consistent parsing.\n",
      "  dolar[\"Fecha\"] = pd.to_datetime(dolar[\"Fecha\"])\n",
      "/var/folders/04/tp4wyrys03s5z6y1v720v3580000gn/T/ipykernel_1184/2334349146.py:1: UserWarning: Parsing '27-04-2022' in DD/MM/YYYY format. Provide format or specify infer_datetime_format=True for consistent parsing.\n",
      "  dolar[\"Fecha\"] = pd.to_datetime(dolar[\"Fecha\"])\n",
      "/var/folders/04/tp4wyrys03s5z6y1v720v3580000gn/T/ipykernel_1184/2334349146.py:1: UserWarning: Parsing '26-04-2022' in DD/MM/YYYY format. Provide format or specify infer_datetime_format=True for consistent parsing.\n",
      "  dolar[\"Fecha\"] = pd.to_datetime(dolar[\"Fecha\"])\n",
      "/var/folders/04/tp4wyrys03s5z6y1v720v3580000gn/T/ipykernel_1184/2334349146.py:1: UserWarning: Parsing '25-04-2022' in DD/MM/YYYY format. Provide format or specify infer_datetime_format=True for consistent parsing.\n",
      "  dolar[\"Fecha\"] = pd.to_datetime(dolar[\"Fecha\"])\n",
      "/var/folders/04/tp4wyrys03s5z6y1v720v3580000gn/T/ipykernel_1184/2334349146.py:1: UserWarning: Parsing '22-04-2022' in DD/MM/YYYY format. Provide format or specify infer_datetime_format=True for consistent parsing.\n",
      "  dolar[\"Fecha\"] = pd.to_datetime(dolar[\"Fecha\"])\n",
      "/var/folders/04/tp4wyrys03s5z6y1v720v3580000gn/T/ipykernel_1184/2334349146.py:1: UserWarning: Parsing '21-04-2022' in DD/MM/YYYY format. Provide format or specify infer_datetime_format=True for consistent parsing.\n",
      "  dolar[\"Fecha\"] = pd.to_datetime(dolar[\"Fecha\"])\n",
      "/var/folders/04/tp4wyrys03s5z6y1v720v3580000gn/T/ipykernel_1184/2334349146.py:1: UserWarning: Parsing '20-04-2022' in DD/MM/YYYY format. Provide format or specify infer_datetime_format=True for consistent parsing.\n",
      "  dolar[\"Fecha\"] = pd.to_datetime(dolar[\"Fecha\"])\n",
      "/var/folders/04/tp4wyrys03s5z6y1v720v3580000gn/T/ipykernel_1184/2334349146.py:1: UserWarning: Parsing '19-04-2022' in DD/MM/YYYY format. Provide format or specify infer_datetime_format=True for consistent parsing.\n",
      "  dolar[\"Fecha\"] = pd.to_datetime(dolar[\"Fecha\"])\n",
      "/var/folders/04/tp4wyrys03s5z6y1v720v3580000gn/T/ipykernel_1184/2334349146.py:1: UserWarning: Parsing '18-04-2022' in DD/MM/YYYY format. Provide format or specify infer_datetime_format=True for consistent parsing.\n",
      "  dolar[\"Fecha\"] = pd.to_datetime(dolar[\"Fecha\"])\n",
      "/var/folders/04/tp4wyrys03s5z6y1v720v3580000gn/T/ipykernel_1184/2334349146.py:1: UserWarning: Parsing '13-04-2022' in DD/MM/YYYY format. Provide format or specify infer_datetime_format=True for consistent parsing.\n",
      "  dolar[\"Fecha\"] = pd.to_datetime(dolar[\"Fecha\"])\n",
      "/var/folders/04/tp4wyrys03s5z6y1v720v3580000gn/T/ipykernel_1184/2334349146.py:1: UserWarning: Parsing '31-03-2022' in DD/MM/YYYY format. Provide format or specify infer_datetime_format=True for consistent parsing.\n",
      "  dolar[\"Fecha\"] = pd.to_datetime(dolar[\"Fecha\"])\n",
      "/var/folders/04/tp4wyrys03s5z6y1v720v3580000gn/T/ipykernel_1184/2334349146.py:1: UserWarning: Parsing '30-03-2022' in DD/MM/YYYY format. Provide format or specify infer_datetime_format=True for consistent parsing.\n",
      "  dolar[\"Fecha\"] = pd.to_datetime(dolar[\"Fecha\"])\n",
      "/var/folders/04/tp4wyrys03s5z6y1v720v3580000gn/T/ipykernel_1184/2334349146.py:1: UserWarning: Parsing '29-03-2022' in DD/MM/YYYY format. Provide format or specify infer_datetime_format=True for consistent parsing.\n",
      "  dolar[\"Fecha\"] = pd.to_datetime(dolar[\"Fecha\"])\n",
      "/var/folders/04/tp4wyrys03s5z6y1v720v3580000gn/T/ipykernel_1184/2334349146.py:1: UserWarning: Parsing '28-03-2022' in DD/MM/YYYY format. Provide format or specify infer_datetime_format=True for consistent parsing.\n",
      "  dolar[\"Fecha\"] = pd.to_datetime(dolar[\"Fecha\"])\n",
      "/var/folders/04/tp4wyrys03s5z6y1v720v3580000gn/T/ipykernel_1184/2334349146.py:1: UserWarning: Parsing '25-03-2022' in DD/MM/YYYY format. Provide format or specify infer_datetime_format=True for consistent parsing.\n",
      "  dolar[\"Fecha\"] = pd.to_datetime(dolar[\"Fecha\"])\n",
      "/var/folders/04/tp4wyrys03s5z6y1v720v3580000gn/T/ipykernel_1184/2334349146.py:1: UserWarning: Parsing '23-03-2022' in DD/MM/YYYY format. Provide format or specify infer_datetime_format=True for consistent parsing.\n",
      "  dolar[\"Fecha\"] = pd.to_datetime(dolar[\"Fecha\"])\n",
      "/var/folders/04/tp4wyrys03s5z6y1v720v3580000gn/T/ipykernel_1184/2334349146.py:1: UserWarning: Parsing '22-03-2022' in DD/MM/YYYY format. Provide format or specify infer_datetime_format=True for consistent parsing.\n",
      "  dolar[\"Fecha\"] = pd.to_datetime(dolar[\"Fecha\"])\n",
      "/var/folders/04/tp4wyrys03s5z6y1v720v3580000gn/T/ipykernel_1184/2334349146.py:1: UserWarning: Parsing '21-03-2022' in DD/MM/YYYY format. Provide format or specify infer_datetime_format=True for consistent parsing.\n",
      "  dolar[\"Fecha\"] = pd.to_datetime(dolar[\"Fecha\"])\n",
      "/var/folders/04/tp4wyrys03s5z6y1v720v3580000gn/T/ipykernel_1184/2334349146.py:1: UserWarning: Parsing '18-03-2022' in DD/MM/YYYY format. Provide format or specify infer_datetime_format=True for consistent parsing.\n",
      "  dolar[\"Fecha\"] = pd.to_datetime(dolar[\"Fecha\"])\n",
      "/var/folders/04/tp4wyrys03s5z6y1v720v3580000gn/T/ipykernel_1184/2334349146.py:1: UserWarning: Parsing '17-03-2022' in DD/MM/YYYY format. Provide format or specify infer_datetime_format=True for consistent parsing.\n",
      "  dolar[\"Fecha\"] = pd.to_datetime(dolar[\"Fecha\"])\n",
      "/var/folders/04/tp4wyrys03s5z6y1v720v3580000gn/T/ipykernel_1184/2334349146.py:1: UserWarning: Parsing '16-03-2022' in DD/MM/YYYY format. Provide format or specify infer_datetime_format=True for consistent parsing.\n",
      "  dolar[\"Fecha\"] = pd.to_datetime(dolar[\"Fecha\"])\n",
      "/var/folders/04/tp4wyrys03s5z6y1v720v3580000gn/T/ipykernel_1184/2334349146.py:1: UserWarning: Parsing '15-03-2022' in DD/MM/YYYY format. Provide format or specify infer_datetime_format=True for consistent parsing.\n",
      "  dolar[\"Fecha\"] = pd.to_datetime(dolar[\"Fecha\"])\n",
      "/var/folders/04/tp4wyrys03s5z6y1v720v3580000gn/T/ipykernel_1184/2334349146.py:1: UserWarning: Parsing '14-03-2022' in DD/MM/YYYY format. Provide format or specify infer_datetime_format=True for consistent parsing.\n",
      "  dolar[\"Fecha\"] = pd.to_datetime(dolar[\"Fecha\"])\n",
      "/var/folders/04/tp4wyrys03s5z6y1v720v3580000gn/T/ipykernel_1184/2334349146.py:1: UserWarning: Parsing '25-02-2022' in DD/MM/YYYY format. Provide format or specify infer_datetime_format=True for consistent parsing.\n",
      "  dolar[\"Fecha\"] = pd.to_datetime(dolar[\"Fecha\"])\n",
      "/var/folders/04/tp4wyrys03s5z6y1v720v3580000gn/T/ipykernel_1184/2334349146.py:1: UserWarning: Parsing '24-02-2022' in DD/MM/YYYY format. Provide format or specify infer_datetime_format=True for consistent parsing.\n",
      "  dolar[\"Fecha\"] = pd.to_datetime(dolar[\"Fecha\"])\n",
      "/var/folders/04/tp4wyrys03s5z6y1v720v3580000gn/T/ipykernel_1184/2334349146.py:1: UserWarning: Parsing '23-02-2022' in DD/MM/YYYY format. Provide format or specify infer_datetime_format=True for consistent parsing.\n",
      "  dolar[\"Fecha\"] = pd.to_datetime(dolar[\"Fecha\"])\n",
      "/var/folders/04/tp4wyrys03s5z6y1v720v3580000gn/T/ipykernel_1184/2334349146.py:1: UserWarning: Parsing '22-02-2022' in DD/MM/YYYY format. Provide format or specify infer_datetime_format=True for consistent parsing.\n",
      "  dolar[\"Fecha\"] = pd.to_datetime(dolar[\"Fecha\"])\n",
      "/var/folders/04/tp4wyrys03s5z6y1v720v3580000gn/T/ipykernel_1184/2334349146.py:1: UserWarning: Parsing '21-02-2022' in DD/MM/YYYY format. Provide format or specify infer_datetime_format=True for consistent parsing.\n",
      "  dolar[\"Fecha\"] = pd.to_datetime(dolar[\"Fecha\"])\n",
      "/var/folders/04/tp4wyrys03s5z6y1v720v3580000gn/T/ipykernel_1184/2334349146.py:1: UserWarning: Parsing '18-02-2022' in DD/MM/YYYY format. Provide format or specify infer_datetime_format=True for consistent parsing.\n",
      "  dolar[\"Fecha\"] = pd.to_datetime(dolar[\"Fecha\"])\n",
      "/var/folders/04/tp4wyrys03s5z6y1v720v3580000gn/T/ipykernel_1184/2334349146.py:1: UserWarning: Parsing '17-02-2022' in DD/MM/YYYY format. Provide format or specify infer_datetime_format=True for consistent parsing.\n",
      "  dolar[\"Fecha\"] = pd.to_datetime(dolar[\"Fecha\"])\n",
      "/var/folders/04/tp4wyrys03s5z6y1v720v3580000gn/T/ipykernel_1184/2334349146.py:1: UserWarning: Parsing '16-02-2022' in DD/MM/YYYY format. Provide format or specify infer_datetime_format=True for consistent parsing.\n",
      "  dolar[\"Fecha\"] = pd.to_datetime(dolar[\"Fecha\"])\n",
      "/var/folders/04/tp4wyrys03s5z6y1v720v3580000gn/T/ipykernel_1184/2334349146.py:1: UserWarning: Parsing '15-02-2022' in DD/MM/YYYY format. Provide format or specify infer_datetime_format=True for consistent parsing.\n",
      "  dolar[\"Fecha\"] = pd.to_datetime(dolar[\"Fecha\"])\n",
      "/var/folders/04/tp4wyrys03s5z6y1v720v3580000gn/T/ipykernel_1184/2334349146.py:1: UserWarning: Parsing '14-02-2022' in DD/MM/YYYY format. Provide format or specify infer_datetime_format=True for consistent parsing.\n",
      "  dolar[\"Fecha\"] = pd.to_datetime(dolar[\"Fecha\"])\n",
      "/var/folders/04/tp4wyrys03s5z6y1v720v3580000gn/T/ipykernel_1184/2334349146.py:1: UserWarning: Parsing '31-01-2022' in DD/MM/YYYY format. Provide format or specify infer_datetime_format=True for consistent parsing.\n",
      "  dolar[\"Fecha\"] = pd.to_datetime(dolar[\"Fecha\"])\n",
      "/var/folders/04/tp4wyrys03s5z6y1v720v3580000gn/T/ipykernel_1184/2334349146.py:1: UserWarning: Parsing '28-01-2022' in DD/MM/YYYY format. Provide format or specify infer_datetime_format=True for consistent parsing.\n",
      "  dolar[\"Fecha\"] = pd.to_datetime(dolar[\"Fecha\"])\n",
      "/var/folders/04/tp4wyrys03s5z6y1v720v3580000gn/T/ipykernel_1184/2334349146.py:1: UserWarning: Parsing '27-01-2022' in DD/MM/YYYY format. Provide format or specify infer_datetime_format=True for consistent parsing.\n",
      "  dolar[\"Fecha\"] = pd.to_datetime(dolar[\"Fecha\"])\n",
      "/var/folders/04/tp4wyrys03s5z6y1v720v3580000gn/T/ipykernel_1184/2334349146.py:1: UserWarning: Parsing '26-01-2022' in DD/MM/YYYY format. Provide format or specify infer_datetime_format=True for consistent parsing.\n",
      "  dolar[\"Fecha\"] = pd.to_datetime(dolar[\"Fecha\"])\n",
      "/var/folders/04/tp4wyrys03s5z6y1v720v3580000gn/T/ipykernel_1184/2334349146.py:1: UserWarning: Parsing '25-01-2022' in DD/MM/YYYY format. Provide format or specify infer_datetime_format=True for consistent parsing.\n",
      "  dolar[\"Fecha\"] = pd.to_datetime(dolar[\"Fecha\"])\n",
      "/var/folders/04/tp4wyrys03s5z6y1v720v3580000gn/T/ipykernel_1184/2334349146.py:1: UserWarning: Parsing '24-01-2022' in DD/MM/YYYY format. Provide format or specify infer_datetime_format=True for consistent parsing.\n",
      "  dolar[\"Fecha\"] = pd.to_datetime(dolar[\"Fecha\"])\n",
      "/var/folders/04/tp4wyrys03s5z6y1v720v3580000gn/T/ipykernel_1184/2334349146.py:1: UserWarning: Parsing '21-01-2022' in DD/MM/YYYY format. Provide format or specify infer_datetime_format=True for consistent parsing.\n",
      "  dolar[\"Fecha\"] = pd.to_datetime(dolar[\"Fecha\"])\n",
      "/var/folders/04/tp4wyrys03s5z6y1v720v3580000gn/T/ipykernel_1184/2334349146.py:1: UserWarning: Parsing '20-01-2022' in DD/MM/YYYY format. Provide format or specify infer_datetime_format=True for consistent parsing.\n",
      "  dolar[\"Fecha\"] = pd.to_datetime(dolar[\"Fecha\"])\n",
      "/var/folders/04/tp4wyrys03s5z6y1v720v3580000gn/T/ipykernel_1184/2334349146.py:1: UserWarning: Parsing '19-01-2022' in DD/MM/YYYY format. Provide format or specify infer_datetime_format=True for consistent parsing.\n",
      "  dolar[\"Fecha\"] = pd.to_datetime(dolar[\"Fecha\"])\n",
      "/var/folders/04/tp4wyrys03s5z6y1v720v3580000gn/T/ipykernel_1184/2334349146.py:1: UserWarning: Parsing '18-01-2022' in DD/MM/YYYY format. Provide format or specify infer_datetime_format=True for consistent parsing.\n",
      "  dolar[\"Fecha\"] = pd.to_datetime(dolar[\"Fecha\"])\n",
      "/var/folders/04/tp4wyrys03s5z6y1v720v3580000gn/T/ipykernel_1184/2334349146.py:1: UserWarning: Parsing '17-01-2022' in DD/MM/YYYY format. Provide format or specify infer_datetime_format=True for consistent parsing.\n",
      "  dolar[\"Fecha\"] = pd.to_datetime(dolar[\"Fecha\"])\n",
      "/var/folders/04/tp4wyrys03s5z6y1v720v3580000gn/T/ipykernel_1184/2334349146.py:1: UserWarning: Parsing '14-01-2022' in DD/MM/YYYY format. Provide format or specify infer_datetime_format=True for consistent parsing.\n",
      "  dolar[\"Fecha\"] = pd.to_datetime(dolar[\"Fecha\"])\n",
      "/var/folders/04/tp4wyrys03s5z6y1v720v3580000gn/T/ipykernel_1184/2334349146.py:1: UserWarning: Parsing '13-01-2022' in DD/MM/YYYY format. Provide format or specify infer_datetime_format=True for consistent parsing.\n",
      "  dolar[\"Fecha\"] = pd.to_datetime(dolar[\"Fecha\"])\n",
      "/var/folders/04/tp4wyrys03s5z6y1v720v3580000gn/T/ipykernel_1184/2334349146.py:1: UserWarning: Parsing '30-12-2021' in DD/MM/YYYY format. Provide format or specify infer_datetime_format=True for consistent parsing.\n",
      "  dolar[\"Fecha\"] = pd.to_datetime(dolar[\"Fecha\"])\n",
      "/var/folders/04/tp4wyrys03s5z6y1v720v3580000gn/T/ipykernel_1184/2334349146.py:1: UserWarning: Parsing '29-12-2021' in DD/MM/YYYY format. Provide format or specify infer_datetime_format=True for consistent parsing.\n",
      "  dolar[\"Fecha\"] = pd.to_datetime(dolar[\"Fecha\"])\n",
      "/var/folders/04/tp4wyrys03s5z6y1v720v3580000gn/T/ipykernel_1184/2334349146.py:1: UserWarning: Parsing '28-12-2021' in DD/MM/YYYY format. Provide format or specify infer_datetime_format=True for consistent parsing.\n",
      "  dolar[\"Fecha\"] = pd.to_datetime(dolar[\"Fecha\"])\n",
      "/var/folders/04/tp4wyrys03s5z6y1v720v3580000gn/T/ipykernel_1184/2334349146.py:1: UserWarning: Parsing '27-12-2021' in DD/MM/YYYY format. Provide format or specify infer_datetime_format=True for consistent parsing.\n",
      "  dolar[\"Fecha\"] = pd.to_datetime(dolar[\"Fecha\"])\n",
      "/var/folders/04/tp4wyrys03s5z6y1v720v3580000gn/T/ipykernel_1184/2334349146.py:1: UserWarning: Parsing '23-12-2021' in DD/MM/YYYY format. Provide format or specify infer_datetime_format=True for consistent parsing.\n",
      "  dolar[\"Fecha\"] = pd.to_datetime(dolar[\"Fecha\"])\n",
      "/var/folders/04/tp4wyrys03s5z6y1v720v3580000gn/T/ipykernel_1184/2334349146.py:1: UserWarning: Parsing '22-12-2021' in DD/MM/YYYY format. Provide format or specify infer_datetime_format=True for consistent parsing.\n",
      "  dolar[\"Fecha\"] = pd.to_datetime(dolar[\"Fecha\"])\n",
      "/var/folders/04/tp4wyrys03s5z6y1v720v3580000gn/T/ipykernel_1184/2334349146.py:1: UserWarning: Parsing '21-12-2021' in DD/MM/YYYY format. Provide format or specify infer_datetime_format=True for consistent parsing.\n",
      "  dolar[\"Fecha\"] = pd.to_datetime(dolar[\"Fecha\"])\n",
      "/var/folders/04/tp4wyrys03s5z6y1v720v3580000gn/T/ipykernel_1184/2334349146.py:1: UserWarning: Parsing '20-12-2021' in DD/MM/YYYY format. Provide format or specify infer_datetime_format=True for consistent parsing.\n",
      "  dolar[\"Fecha\"] = pd.to_datetime(dolar[\"Fecha\"])\n",
      "/var/folders/04/tp4wyrys03s5z6y1v720v3580000gn/T/ipykernel_1184/2334349146.py:1: UserWarning: Parsing '17-12-2021' in DD/MM/YYYY format. Provide format or specify infer_datetime_format=True for consistent parsing.\n",
      "  dolar[\"Fecha\"] = pd.to_datetime(dolar[\"Fecha\"])\n",
      "/var/folders/04/tp4wyrys03s5z6y1v720v3580000gn/T/ipykernel_1184/2334349146.py:1: UserWarning: Parsing '16-12-2021' in DD/MM/YYYY format. Provide format or specify infer_datetime_format=True for consistent parsing.\n",
      "  dolar[\"Fecha\"] = pd.to_datetime(dolar[\"Fecha\"])\n",
      "/var/folders/04/tp4wyrys03s5z6y1v720v3580000gn/T/ipykernel_1184/2334349146.py:1: UserWarning: Parsing '15-12-2021' in DD/MM/YYYY format. Provide format or specify infer_datetime_format=True for consistent parsing.\n",
      "  dolar[\"Fecha\"] = pd.to_datetime(dolar[\"Fecha\"])\n",
      "/var/folders/04/tp4wyrys03s5z6y1v720v3580000gn/T/ipykernel_1184/2334349146.py:1: UserWarning: Parsing '14-12-2021' in DD/MM/YYYY format. Provide format or specify infer_datetime_format=True for consistent parsing.\n",
      "  dolar[\"Fecha\"] = pd.to_datetime(dolar[\"Fecha\"])\n",
      "/var/folders/04/tp4wyrys03s5z6y1v720v3580000gn/T/ipykernel_1184/2334349146.py:1: UserWarning: Parsing '13-12-2021' in DD/MM/YYYY format. Provide format or specify infer_datetime_format=True for consistent parsing.\n",
      "  dolar[\"Fecha\"] = pd.to_datetime(dolar[\"Fecha\"])\n",
      "/var/folders/04/tp4wyrys03s5z6y1v720v3580000gn/T/ipykernel_1184/2334349146.py:1: UserWarning: Parsing '30-11-2021' in DD/MM/YYYY format. Provide format or specify infer_datetime_format=True for consistent parsing.\n",
      "  dolar[\"Fecha\"] = pd.to_datetime(dolar[\"Fecha\"])\n",
      "/var/folders/04/tp4wyrys03s5z6y1v720v3580000gn/T/ipykernel_1184/2334349146.py:1: UserWarning: Parsing '29-11-2021' in DD/MM/YYYY format. Provide format or specify infer_datetime_format=True for consistent parsing.\n",
      "  dolar[\"Fecha\"] = pd.to_datetime(dolar[\"Fecha\"])\n",
      "/var/folders/04/tp4wyrys03s5z6y1v720v3580000gn/T/ipykernel_1184/2334349146.py:1: UserWarning: Parsing '26-11-2021' in DD/MM/YYYY format. Provide format or specify infer_datetime_format=True for consistent parsing.\n",
      "  dolar[\"Fecha\"] = pd.to_datetime(dolar[\"Fecha\"])\n",
      "/var/folders/04/tp4wyrys03s5z6y1v720v3580000gn/T/ipykernel_1184/2334349146.py:1: UserWarning: Parsing '25-11-2021' in DD/MM/YYYY format. Provide format or specify infer_datetime_format=True for consistent parsing.\n",
      "  dolar[\"Fecha\"] = pd.to_datetime(dolar[\"Fecha\"])\n",
      "/var/folders/04/tp4wyrys03s5z6y1v720v3580000gn/T/ipykernel_1184/2334349146.py:1: UserWarning: Parsing '24-11-2021' in DD/MM/YYYY format. Provide format or specify infer_datetime_format=True for consistent parsing.\n",
      "  dolar[\"Fecha\"] = pd.to_datetime(dolar[\"Fecha\"])\n",
      "/var/folders/04/tp4wyrys03s5z6y1v720v3580000gn/T/ipykernel_1184/2334349146.py:1: UserWarning: Parsing '23-11-2021' in DD/MM/YYYY format. Provide format or specify infer_datetime_format=True for consistent parsing.\n",
      "  dolar[\"Fecha\"] = pd.to_datetime(dolar[\"Fecha\"])\n",
      "/var/folders/04/tp4wyrys03s5z6y1v720v3580000gn/T/ipykernel_1184/2334349146.py:1: UserWarning: Parsing '19-11-2021' in DD/MM/YYYY format. Provide format or specify infer_datetime_format=True for consistent parsing.\n",
      "  dolar[\"Fecha\"] = pd.to_datetime(dolar[\"Fecha\"])\n",
      "/var/folders/04/tp4wyrys03s5z6y1v720v3580000gn/T/ipykernel_1184/2334349146.py:1: UserWarning: Parsing '18-11-2021' in DD/MM/YYYY format. Provide format or specify infer_datetime_format=True for consistent parsing.\n",
      "  dolar[\"Fecha\"] = pd.to_datetime(dolar[\"Fecha\"])\n",
      "/var/folders/04/tp4wyrys03s5z6y1v720v3580000gn/T/ipykernel_1184/2334349146.py:1: UserWarning: Parsing '17-11-2021' in DD/MM/YYYY format. Provide format or specify infer_datetime_format=True for consistent parsing.\n",
      "  dolar[\"Fecha\"] = pd.to_datetime(dolar[\"Fecha\"])\n",
      "/var/folders/04/tp4wyrys03s5z6y1v720v3580000gn/T/ipykernel_1184/2334349146.py:1: UserWarning: Parsing '16-11-2021' in DD/MM/YYYY format. Provide format or specify infer_datetime_format=True for consistent parsing.\n",
      "  dolar[\"Fecha\"] = pd.to_datetime(dolar[\"Fecha\"])\n",
      "/var/folders/04/tp4wyrys03s5z6y1v720v3580000gn/T/ipykernel_1184/2334349146.py:1: UserWarning: Parsing '15-11-2021' in DD/MM/YYYY format. Provide format or specify infer_datetime_format=True for consistent parsing.\n",
      "  dolar[\"Fecha\"] = pd.to_datetime(dolar[\"Fecha\"])\n",
      "/var/folders/04/tp4wyrys03s5z6y1v720v3580000gn/T/ipykernel_1184/2334349146.py:1: UserWarning: Parsing '29-10-2021' in DD/MM/YYYY format. Provide format or specify infer_datetime_format=True for consistent parsing.\n",
      "  dolar[\"Fecha\"] = pd.to_datetime(dolar[\"Fecha\"])\n",
      "/var/folders/04/tp4wyrys03s5z6y1v720v3580000gn/T/ipykernel_1184/2334349146.py:1: UserWarning: Parsing '28-10-2021' in DD/MM/YYYY format. Provide format or specify infer_datetime_format=True for consistent parsing.\n",
      "  dolar[\"Fecha\"] = pd.to_datetime(dolar[\"Fecha\"])\n",
      "/var/folders/04/tp4wyrys03s5z6y1v720v3580000gn/T/ipykernel_1184/2334349146.py:1: UserWarning: Parsing '27-10-2021' in DD/MM/YYYY format. Provide format or specify infer_datetime_format=True for consistent parsing.\n",
      "  dolar[\"Fecha\"] = pd.to_datetime(dolar[\"Fecha\"])\n",
      "/var/folders/04/tp4wyrys03s5z6y1v720v3580000gn/T/ipykernel_1184/2334349146.py:1: UserWarning: Parsing '26-10-2021' in DD/MM/YYYY format. Provide format or specify infer_datetime_format=True for consistent parsing.\n",
      "  dolar[\"Fecha\"] = pd.to_datetime(dolar[\"Fecha\"])\n",
      "/var/folders/04/tp4wyrys03s5z6y1v720v3580000gn/T/ipykernel_1184/2334349146.py:1: UserWarning: Parsing '25-10-2021' in DD/MM/YYYY format. Provide format or specify infer_datetime_format=True for consistent parsing.\n",
      "  dolar[\"Fecha\"] = pd.to_datetime(dolar[\"Fecha\"])\n",
      "/var/folders/04/tp4wyrys03s5z6y1v720v3580000gn/T/ipykernel_1184/2334349146.py:1: UserWarning: Parsing '22-10-2021' in DD/MM/YYYY format. Provide format or specify infer_datetime_format=True for consistent parsing.\n",
      "  dolar[\"Fecha\"] = pd.to_datetime(dolar[\"Fecha\"])\n",
      "/var/folders/04/tp4wyrys03s5z6y1v720v3580000gn/T/ipykernel_1184/2334349146.py:1: UserWarning: Parsing '21-10-2021' in DD/MM/YYYY format. Provide format or specify infer_datetime_format=True for consistent parsing.\n",
      "  dolar[\"Fecha\"] = pd.to_datetime(dolar[\"Fecha\"])\n",
      "/var/folders/04/tp4wyrys03s5z6y1v720v3580000gn/T/ipykernel_1184/2334349146.py:1: UserWarning: Parsing '20-10-2021' in DD/MM/YYYY format. Provide format or specify infer_datetime_format=True for consistent parsing.\n",
      "  dolar[\"Fecha\"] = pd.to_datetime(dolar[\"Fecha\"])\n",
      "/var/folders/04/tp4wyrys03s5z6y1v720v3580000gn/T/ipykernel_1184/2334349146.py:1: UserWarning: Parsing '19-10-2021' in DD/MM/YYYY format. Provide format or specify infer_datetime_format=True for consistent parsing.\n",
      "  dolar[\"Fecha\"] = pd.to_datetime(dolar[\"Fecha\"])\n",
      "/var/folders/04/tp4wyrys03s5z6y1v720v3580000gn/T/ipykernel_1184/2334349146.py:1: UserWarning: Parsing '18-10-2021' in DD/MM/YYYY format. Provide format or specify infer_datetime_format=True for consistent parsing.\n",
      "  dolar[\"Fecha\"] = pd.to_datetime(dolar[\"Fecha\"])\n",
      "/var/folders/04/tp4wyrys03s5z6y1v720v3580000gn/T/ipykernel_1184/2334349146.py:1: UserWarning: Parsing '15-10-2021' in DD/MM/YYYY format. Provide format or specify infer_datetime_format=True for consistent parsing.\n",
      "  dolar[\"Fecha\"] = pd.to_datetime(dolar[\"Fecha\"])\n",
      "/var/folders/04/tp4wyrys03s5z6y1v720v3580000gn/T/ipykernel_1184/2334349146.py:1: UserWarning: Parsing '14-10-2021' in DD/MM/YYYY format. Provide format or specify infer_datetime_format=True for consistent parsing.\n",
      "  dolar[\"Fecha\"] = pd.to_datetime(dolar[\"Fecha\"])\n",
      "/var/folders/04/tp4wyrys03s5z6y1v720v3580000gn/T/ipykernel_1184/2334349146.py:1: UserWarning: Parsing '13-10-2021' in DD/MM/YYYY format. Provide format or specify infer_datetime_format=True for consistent parsing.\n",
      "  dolar[\"Fecha\"] = pd.to_datetime(dolar[\"Fecha\"])\n",
      "/var/folders/04/tp4wyrys03s5z6y1v720v3580000gn/T/ipykernel_1184/2334349146.py:1: UserWarning: Parsing '30-09-2021' in DD/MM/YYYY format. Provide format or specify infer_datetime_format=True for consistent parsing.\n",
      "  dolar[\"Fecha\"] = pd.to_datetime(dolar[\"Fecha\"])\n",
      "/var/folders/04/tp4wyrys03s5z6y1v720v3580000gn/T/ipykernel_1184/2334349146.py:1: UserWarning: Parsing '29-09-2021' in DD/MM/YYYY format. Provide format or specify infer_datetime_format=True for consistent parsing.\n",
      "  dolar[\"Fecha\"] = pd.to_datetime(dolar[\"Fecha\"])\n",
      "/var/folders/04/tp4wyrys03s5z6y1v720v3580000gn/T/ipykernel_1184/2334349146.py:1: UserWarning: Parsing '28-09-2021' in DD/MM/YYYY format. Provide format or specify infer_datetime_format=True for consistent parsing.\n",
      "  dolar[\"Fecha\"] = pd.to_datetime(dolar[\"Fecha\"])\n",
      "/var/folders/04/tp4wyrys03s5z6y1v720v3580000gn/T/ipykernel_1184/2334349146.py:1: UserWarning: Parsing '27-09-2021' in DD/MM/YYYY format. Provide format or specify infer_datetime_format=True for consistent parsing.\n",
      "  dolar[\"Fecha\"] = pd.to_datetime(dolar[\"Fecha\"])\n",
      "/var/folders/04/tp4wyrys03s5z6y1v720v3580000gn/T/ipykernel_1184/2334349146.py:1: UserWarning: Parsing '24-09-2021' in DD/MM/YYYY format. Provide format or specify infer_datetime_format=True for consistent parsing.\n",
      "  dolar[\"Fecha\"] = pd.to_datetime(dolar[\"Fecha\"])\n",
      "/var/folders/04/tp4wyrys03s5z6y1v720v3580000gn/T/ipykernel_1184/2334349146.py:1: UserWarning: Parsing '23-09-2021' in DD/MM/YYYY format. Provide format or specify infer_datetime_format=True for consistent parsing.\n",
      "  dolar[\"Fecha\"] = pd.to_datetime(dolar[\"Fecha\"])\n",
      "/var/folders/04/tp4wyrys03s5z6y1v720v3580000gn/T/ipykernel_1184/2334349146.py:1: UserWarning: Parsing '22-09-2021' in DD/MM/YYYY format. Provide format or specify infer_datetime_format=True for consistent parsing.\n",
      "  dolar[\"Fecha\"] = pd.to_datetime(dolar[\"Fecha\"])\n",
      "/var/folders/04/tp4wyrys03s5z6y1v720v3580000gn/T/ipykernel_1184/2334349146.py:1: UserWarning: Parsing '21-09-2021' in DD/MM/YYYY format. Provide format or specify infer_datetime_format=True for consistent parsing.\n",
      "  dolar[\"Fecha\"] = pd.to_datetime(dolar[\"Fecha\"])\n",
      "/var/folders/04/tp4wyrys03s5z6y1v720v3580000gn/T/ipykernel_1184/2334349146.py:1: UserWarning: Parsing '20-09-2021' in DD/MM/YYYY format. Provide format or specify infer_datetime_format=True for consistent parsing.\n",
      "  dolar[\"Fecha\"] = pd.to_datetime(dolar[\"Fecha\"])\n",
      "/var/folders/04/tp4wyrys03s5z6y1v720v3580000gn/T/ipykernel_1184/2334349146.py:1: UserWarning: Parsing '17-09-2021' in DD/MM/YYYY format. Provide format or specify infer_datetime_format=True for consistent parsing.\n",
      "  dolar[\"Fecha\"] = pd.to_datetime(dolar[\"Fecha\"])\n",
      "/var/folders/04/tp4wyrys03s5z6y1v720v3580000gn/T/ipykernel_1184/2334349146.py:1: UserWarning: Parsing '16-09-2021' in DD/MM/YYYY format. Provide format or specify infer_datetime_format=True for consistent parsing.\n",
      "  dolar[\"Fecha\"] = pd.to_datetime(dolar[\"Fecha\"])\n",
      "/var/folders/04/tp4wyrys03s5z6y1v720v3580000gn/T/ipykernel_1184/2334349146.py:1: UserWarning: Parsing '15-09-2021' in DD/MM/YYYY format. Provide format or specify infer_datetime_format=True for consistent parsing.\n",
      "  dolar[\"Fecha\"] = pd.to_datetime(dolar[\"Fecha\"])\n",
      "/var/folders/04/tp4wyrys03s5z6y1v720v3580000gn/T/ipykernel_1184/2334349146.py:1: UserWarning: Parsing '14-09-2021' in DD/MM/YYYY format. Provide format or specify infer_datetime_format=True for consistent parsing.\n",
      "  dolar[\"Fecha\"] = pd.to_datetime(dolar[\"Fecha\"])\n",
      "/var/folders/04/tp4wyrys03s5z6y1v720v3580000gn/T/ipykernel_1184/2334349146.py:1: UserWarning: Parsing '13-09-2021' in DD/MM/YYYY format. Provide format or specify infer_datetime_format=True for consistent parsing.\n",
      "  dolar[\"Fecha\"] = pd.to_datetime(dolar[\"Fecha\"])\n",
      "/var/folders/04/tp4wyrys03s5z6y1v720v3580000gn/T/ipykernel_1184/2334349146.py:1: UserWarning: Parsing '31-08-2021' in DD/MM/YYYY format. Provide format or specify infer_datetime_format=True for consistent parsing.\n",
      "  dolar[\"Fecha\"] = pd.to_datetime(dolar[\"Fecha\"])\n",
      "/var/folders/04/tp4wyrys03s5z6y1v720v3580000gn/T/ipykernel_1184/2334349146.py:1: UserWarning: Parsing '30-08-2021' in DD/MM/YYYY format. Provide format or specify infer_datetime_format=True for consistent parsing.\n",
      "  dolar[\"Fecha\"] = pd.to_datetime(dolar[\"Fecha\"])\n",
      "/var/folders/04/tp4wyrys03s5z6y1v720v3580000gn/T/ipykernel_1184/2334349146.py:1: UserWarning: Parsing '27-08-2021' in DD/MM/YYYY format. Provide format or specify infer_datetime_format=True for consistent parsing.\n",
      "  dolar[\"Fecha\"] = pd.to_datetime(dolar[\"Fecha\"])\n",
      "/var/folders/04/tp4wyrys03s5z6y1v720v3580000gn/T/ipykernel_1184/2334349146.py:1: UserWarning: Parsing '26-08-2021' in DD/MM/YYYY format. Provide format or specify infer_datetime_format=True for consistent parsing.\n",
      "  dolar[\"Fecha\"] = pd.to_datetime(dolar[\"Fecha\"])\n",
      "/var/folders/04/tp4wyrys03s5z6y1v720v3580000gn/T/ipykernel_1184/2334349146.py:1: UserWarning: Parsing '25-08-2021' in DD/MM/YYYY format. Provide format or specify infer_datetime_format=True for consistent parsing.\n",
      "  dolar[\"Fecha\"] = pd.to_datetime(dolar[\"Fecha\"])\n",
      "/var/folders/04/tp4wyrys03s5z6y1v720v3580000gn/T/ipykernel_1184/2334349146.py:1: UserWarning: Parsing '24-08-2021' in DD/MM/YYYY format. Provide format or specify infer_datetime_format=True for consistent parsing.\n",
      "  dolar[\"Fecha\"] = pd.to_datetime(dolar[\"Fecha\"])\n",
      "/var/folders/04/tp4wyrys03s5z6y1v720v3580000gn/T/ipykernel_1184/2334349146.py:1: UserWarning: Parsing '23-08-2021' in DD/MM/YYYY format. Provide format or specify infer_datetime_format=True for consistent parsing.\n",
      "  dolar[\"Fecha\"] = pd.to_datetime(dolar[\"Fecha\"])\n",
      "/var/folders/04/tp4wyrys03s5z6y1v720v3580000gn/T/ipykernel_1184/2334349146.py:1: UserWarning: Parsing '20-08-2021' in DD/MM/YYYY format. Provide format or specify infer_datetime_format=True for consistent parsing.\n",
      "  dolar[\"Fecha\"] = pd.to_datetime(dolar[\"Fecha\"])\n",
      "/var/folders/04/tp4wyrys03s5z6y1v720v3580000gn/T/ipykernel_1184/2334349146.py:1: UserWarning: Parsing '19-08-2021' in DD/MM/YYYY format. Provide format or specify infer_datetime_format=True for consistent parsing.\n",
      "  dolar[\"Fecha\"] = pd.to_datetime(dolar[\"Fecha\"])\n",
      "/var/folders/04/tp4wyrys03s5z6y1v720v3580000gn/T/ipykernel_1184/2334349146.py:1: UserWarning: Parsing '18-08-2021' in DD/MM/YYYY format. Provide format or specify infer_datetime_format=True for consistent parsing.\n",
      "  dolar[\"Fecha\"] = pd.to_datetime(dolar[\"Fecha\"])\n",
      "/var/folders/04/tp4wyrys03s5z6y1v720v3580000gn/T/ipykernel_1184/2334349146.py:1: UserWarning: Parsing '17-08-2021' in DD/MM/YYYY format. Provide format or specify infer_datetime_format=True for consistent parsing.\n",
      "  dolar[\"Fecha\"] = pd.to_datetime(dolar[\"Fecha\"])\n",
      "/var/folders/04/tp4wyrys03s5z6y1v720v3580000gn/T/ipykernel_1184/2334349146.py:1: UserWarning: Parsing '13-08-2021' in DD/MM/YYYY format. Provide format or specify infer_datetime_format=True for consistent parsing.\n",
      "  dolar[\"Fecha\"] = pd.to_datetime(dolar[\"Fecha\"])\n",
      "/var/folders/04/tp4wyrys03s5z6y1v720v3580000gn/T/ipykernel_1184/2334349146.py:1: UserWarning: Parsing '30-07-2021' in DD/MM/YYYY format. Provide format or specify infer_datetime_format=True for consistent parsing.\n",
      "  dolar[\"Fecha\"] = pd.to_datetime(dolar[\"Fecha\"])\n",
      "/var/folders/04/tp4wyrys03s5z6y1v720v3580000gn/T/ipykernel_1184/2334349146.py:1: UserWarning: Parsing '29-07-2021' in DD/MM/YYYY format. Provide format or specify infer_datetime_format=True for consistent parsing.\n",
      "  dolar[\"Fecha\"] = pd.to_datetime(dolar[\"Fecha\"])\n",
      "/var/folders/04/tp4wyrys03s5z6y1v720v3580000gn/T/ipykernel_1184/2334349146.py:1: UserWarning: Parsing '28-07-2021' in DD/MM/YYYY format. Provide format or specify infer_datetime_format=True for consistent parsing.\n",
      "  dolar[\"Fecha\"] = pd.to_datetime(dolar[\"Fecha\"])\n",
      "/var/folders/04/tp4wyrys03s5z6y1v720v3580000gn/T/ipykernel_1184/2334349146.py:1: UserWarning: Parsing '27-07-2021' in DD/MM/YYYY format. Provide format or specify infer_datetime_format=True for consistent parsing.\n",
      "  dolar[\"Fecha\"] = pd.to_datetime(dolar[\"Fecha\"])\n",
      "/var/folders/04/tp4wyrys03s5z6y1v720v3580000gn/T/ipykernel_1184/2334349146.py:1: UserWarning: Parsing '26-07-2021' in DD/MM/YYYY format. Provide format or specify infer_datetime_format=True for consistent parsing.\n",
      "  dolar[\"Fecha\"] = pd.to_datetime(dolar[\"Fecha\"])\n",
      "/var/folders/04/tp4wyrys03s5z6y1v720v3580000gn/T/ipykernel_1184/2334349146.py:1: UserWarning: Parsing '23-07-2021' in DD/MM/YYYY format. Provide format or specify infer_datetime_format=True for consistent parsing.\n",
      "  dolar[\"Fecha\"] = pd.to_datetime(dolar[\"Fecha\"])\n",
      "/var/folders/04/tp4wyrys03s5z6y1v720v3580000gn/T/ipykernel_1184/2334349146.py:1: UserWarning: Parsing '22-07-2021' in DD/MM/YYYY format. Provide format or specify infer_datetime_format=True for consistent parsing.\n",
      "  dolar[\"Fecha\"] = pd.to_datetime(dolar[\"Fecha\"])\n",
      "/var/folders/04/tp4wyrys03s5z6y1v720v3580000gn/T/ipykernel_1184/2334349146.py:1: UserWarning: Parsing '21-07-2021' in DD/MM/YYYY format. Provide format or specify infer_datetime_format=True for consistent parsing.\n",
      "  dolar[\"Fecha\"] = pd.to_datetime(dolar[\"Fecha\"])\n",
      "/var/folders/04/tp4wyrys03s5z6y1v720v3580000gn/T/ipykernel_1184/2334349146.py:1: UserWarning: Parsing '20-07-2021' in DD/MM/YYYY format. Provide format or specify infer_datetime_format=True for consistent parsing.\n",
      "  dolar[\"Fecha\"] = pd.to_datetime(dolar[\"Fecha\"])\n",
      "/var/folders/04/tp4wyrys03s5z6y1v720v3580000gn/T/ipykernel_1184/2334349146.py:1: UserWarning: Parsing '19-07-2021' in DD/MM/YYYY format. Provide format or specify infer_datetime_format=True for consistent parsing.\n",
      "  dolar[\"Fecha\"] = pd.to_datetime(dolar[\"Fecha\"])\n",
      "/var/folders/04/tp4wyrys03s5z6y1v720v3580000gn/T/ipykernel_1184/2334349146.py:1: UserWarning: Parsing '16-07-2021' in DD/MM/YYYY format. Provide format or specify infer_datetime_format=True for consistent parsing.\n",
      "  dolar[\"Fecha\"] = pd.to_datetime(dolar[\"Fecha\"])\n",
      "/var/folders/04/tp4wyrys03s5z6y1v720v3580000gn/T/ipykernel_1184/2334349146.py:1: UserWarning: Parsing '15-07-2021' in DD/MM/YYYY format. Provide format or specify infer_datetime_format=True for consistent parsing.\n",
      "  dolar[\"Fecha\"] = pd.to_datetime(dolar[\"Fecha\"])\n",
      "/var/folders/04/tp4wyrys03s5z6y1v720v3580000gn/T/ipykernel_1184/2334349146.py:1: UserWarning: Parsing '14-07-2021' in DD/MM/YYYY format. Provide format or specify infer_datetime_format=True for consistent parsing.\n",
      "  dolar[\"Fecha\"] = pd.to_datetime(dolar[\"Fecha\"])\n",
      "/var/folders/04/tp4wyrys03s5z6y1v720v3580000gn/T/ipykernel_1184/2334349146.py:1: UserWarning: Parsing '13-07-2021' in DD/MM/YYYY format. Provide format or specify infer_datetime_format=True for consistent parsing.\n",
      "  dolar[\"Fecha\"] = pd.to_datetime(dolar[\"Fecha\"])\n",
      "/var/folders/04/tp4wyrys03s5z6y1v720v3580000gn/T/ipykernel_1184/2334349146.py:1: UserWarning: Parsing '30-06-2021' in DD/MM/YYYY format. Provide format or specify infer_datetime_format=True for consistent parsing.\n",
      "  dolar[\"Fecha\"] = pd.to_datetime(dolar[\"Fecha\"])\n",
      "/var/folders/04/tp4wyrys03s5z6y1v720v3580000gn/T/ipykernel_1184/2334349146.py:1: UserWarning: Parsing '29-06-2021' in DD/MM/YYYY format. Provide format or specify infer_datetime_format=True for consistent parsing.\n",
      "  dolar[\"Fecha\"] = pd.to_datetime(dolar[\"Fecha\"])\n",
      "/var/folders/04/tp4wyrys03s5z6y1v720v3580000gn/T/ipykernel_1184/2334349146.py:1: UserWarning: Parsing '28-06-2021' in DD/MM/YYYY format. Provide format or specify infer_datetime_format=True for consistent parsing.\n",
      "  dolar[\"Fecha\"] = pd.to_datetime(dolar[\"Fecha\"])\n",
      "/var/folders/04/tp4wyrys03s5z6y1v720v3580000gn/T/ipykernel_1184/2334349146.py:1: UserWarning: Parsing '25-06-2021' in DD/MM/YYYY format. Provide format or specify infer_datetime_format=True for consistent parsing.\n",
      "  dolar[\"Fecha\"] = pd.to_datetime(dolar[\"Fecha\"])\n",
      "/var/folders/04/tp4wyrys03s5z6y1v720v3580000gn/T/ipykernel_1184/2334349146.py:1: UserWarning: Parsing '24-06-2021' in DD/MM/YYYY format. Provide format or specify infer_datetime_format=True for consistent parsing.\n",
      "  dolar[\"Fecha\"] = pd.to_datetime(dolar[\"Fecha\"])\n",
      "/var/folders/04/tp4wyrys03s5z6y1v720v3580000gn/T/ipykernel_1184/2334349146.py:1: UserWarning: Parsing '23-06-2021' in DD/MM/YYYY format. Provide format or specify infer_datetime_format=True for consistent parsing.\n",
      "  dolar[\"Fecha\"] = pd.to_datetime(dolar[\"Fecha\"])\n",
      "/var/folders/04/tp4wyrys03s5z6y1v720v3580000gn/T/ipykernel_1184/2334349146.py:1: UserWarning: Parsing '22-06-2021' in DD/MM/YYYY format. Provide format or specify infer_datetime_format=True for consistent parsing.\n",
      "  dolar[\"Fecha\"] = pd.to_datetime(dolar[\"Fecha\"])\n",
      "/var/folders/04/tp4wyrys03s5z6y1v720v3580000gn/T/ipykernel_1184/2334349146.py:1: UserWarning: Parsing '18-06-2021' in DD/MM/YYYY format. Provide format or specify infer_datetime_format=True for consistent parsing.\n",
      "  dolar[\"Fecha\"] = pd.to_datetime(dolar[\"Fecha\"])\n",
      "/var/folders/04/tp4wyrys03s5z6y1v720v3580000gn/T/ipykernel_1184/2334349146.py:1: UserWarning: Parsing '17-06-2021' in DD/MM/YYYY format. Provide format or specify infer_datetime_format=True for consistent parsing.\n",
      "  dolar[\"Fecha\"] = pd.to_datetime(dolar[\"Fecha\"])\n",
      "/var/folders/04/tp4wyrys03s5z6y1v720v3580000gn/T/ipykernel_1184/2334349146.py:1: UserWarning: Parsing '16-06-2021' in DD/MM/YYYY format. Provide format or specify infer_datetime_format=True for consistent parsing.\n",
      "  dolar[\"Fecha\"] = pd.to_datetime(dolar[\"Fecha\"])\n",
      "/var/folders/04/tp4wyrys03s5z6y1v720v3580000gn/T/ipykernel_1184/2334349146.py:1: UserWarning: Parsing '15-06-2021' in DD/MM/YYYY format. Provide format or specify infer_datetime_format=True for consistent parsing.\n",
      "  dolar[\"Fecha\"] = pd.to_datetime(dolar[\"Fecha\"])\n",
      "/var/folders/04/tp4wyrys03s5z6y1v720v3580000gn/T/ipykernel_1184/2334349146.py:1: UserWarning: Parsing '14-06-2021' in DD/MM/YYYY format. Provide format or specify infer_datetime_format=True for consistent parsing.\n",
      "  dolar[\"Fecha\"] = pd.to_datetime(dolar[\"Fecha\"])\n",
      "/var/folders/04/tp4wyrys03s5z6y1v720v3580000gn/T/ipykernel_1184/2334349146.py:1: UserWarning: Parsing '31-05-2021' in DD/MM/YYYY format. Provide format or specify infer_datetime_format=True for consistent parsing.\n",
      "  dolar[\"Fecha\"] = pd.to_datetime(dolar[\"Fecha\"])\n",
      "/var/folders/04/tp4wyrys03s5z6y1v720v3580000gn/T/ipykernel_1184/2334349146.py:1: UserWarning: Parsing '28-05-2021' in DD/MM/YYYY format. Provide format or specify infer_datetime_format=True for consistent parsing.\n",
      "  dolar[\"Fecha\"] = pd.to_datetime(dolar[\"Fecha\"])\n",
      "/var/folders/04/tp4wyrys03s5z6y1v720v3580000gn/T/ipykernel_1184/2334349146.py:1: UserWarning: Parsing '27-05-2021' in DD/MM/YYYY format. Provide format or specify infer_datetime_format=True for consistent parsing.\n",
      "  dolar[\"Fecha\"] = pd.to_datetime(dolar[\"Fecha\"])\n",
      "/var/folders/04/tp4wyrys03s5z6y1v720v3580000gn/T/ipykernel_1184/2334349146.py:1: UserWarning: Parsing '26-05-2021' in DD/MM/YYYY format. Provide format or specify infer_datetime_format=True for consistent parsing.\n",
      "  dolar[\"Fecha\"] = pd.to_datetime(dolar[\"Fecha\"])\n",
      "/var/folders/04/tp4wyrys03s5z6y1v720v3580000gn/T/ipykernel_1184/2334349146.py:1: UserWarning: Parsing '24-05-2021' in DD/MM/YYYY format. Provide format or specify infer_datetime_format=True for consistent parsing.\n",
      "  dolar[\"Fecha\"] = pd.to_datetime(dolar[\"Fecha\"])\n",
      "/var/folders/04/tp4wyrys03s5z6y1v720v3580000gn/T/ipykernel_1184/2334349146.py:1: UserWarning: Parsing '21-05-2021' in DD/MM/YYYY format. Provide format or specify infer_datetime_format=True for consistent parsing.\n",
      "  dolar[\"Fecha\"] = pd.to_datetime(dolar[\"Fecha\"])\n",
      "/var/folders/04/tp4wyrys03s5z6y1v720v3580000gn/T/ipykernel_1184/2334349146.py:1: UserWarning: Parsing '20-05-2021' in DD/MM/YYYY format. Provide format or specify infer_datetime_format=True for consistent parsing.\n",
      "  dolar[\"Fecha\"] = pd.to_datetime(dolar[\"Fecha\"])\n",
      "/var/folders/04/tp4wyrys03s5z6y1v720v3580000gn/T/ipykernel_1184/2334349146.py:1: UserWarning: Parsing '19-05-2021' in DD/MM/YYYY format. Provide format or specify infer_datetime_format=True for consistent parsing.\n",
      "  dolar[\"Fecha\"] = pd.to_datetime(dolar[\"Fecha\"])\n",
      "/var/folders/04/tp4wyrys03s5z6y1v720v3580000gn/T/ipykernel_1184/2334349146.py:1: UserWarning: Parsing '18-05-2021' in DD/MM/YYYY format. Provide format or specify infer_datetime_format=True for consistent parsing.\n",
      "  dolar[\"Fecha\"] = pd.to_datetime(dolar[\"Fecha\"])\n",
      "/var/folders/04/tp4wyrys03s5z6y1v720v3580000gn/T/ipykernel_1184/2334349146.py:1: UserWarning: Parsing '17-05-2021' in DD/MM/YYYY format. Provide format or specify infer_datetime_format=True for consistent parsing.\n",
      "  dolar[\"Fecha\"] = pd.to_datetime(dolar[\"Fecha\"])\n",
      "/var/folders/04/tp4wyrys03s5z6y1v720v3580000gn/T/ipykernel_1184/2334349146.py:1: UserWarning: Parsing '14-05-2021' in DD/MM/YYYY format. Provide format or specify infer_datetime_format=True for consistent parsing.\n",
      "  dolar[\"Fecha\"] = pd.to_datetime(dolar[\"Fecha\"])\n",
      "/var/folders/04/tp4wyrys03s5z6y1v720v3580000gn/T/ipykernel_1184/2334349146.py:1: UserWarning: Parsing '13-05-2021' in DD/MM/YYYY format. Provide format or specify infer_datetime_format=True for consistent parsing.\n",
      "  dolar[\"Fecha\"] = pd.to_datetime(dolar[\"Fecha\"])\n",
      "/var/folders/04/tp4wyrys03s5z6y1v720v3580000gn/T/ipykernel_1184/2334349146.py:1: UserWarning: Parsing '30-04-2021' in DD/MM/YYYY format. Provide format or specify infer_datetime_format=True for consistent parsing.\n",
      "  dolar[\"Fecha\"] = pd.to_datetime(dolar[\"Fecha\"])\n",
      "/var/folders/04/tp4wyrys03s5z6y1v720v3580000gn/T/ipykernel_1184/2334349146.py:1: UserWarning: Parsing '29-04-2021' in DD/MM/YYYY format. Provide format or specify infer_datetime_format=True for consistent parsing.\n",
      "  dolar[\"Fecha\"] = pd.to_datetime(dolar[\"Fecha\"])\n",
      "/var/folders/04/tp4wyrys03s5z6y1v720v3580000gn/T/ipykernel_1184/2334349146.py:1: UserWarning: Parsing '28-04-2021' in DD/MM/YYYY format. Provide format or specify infer_datetime_format=True for consistent parsing.\n",
      "  dolar[\"Fecha\"] = pd.to_datetime(dolar[\"Fecha\"])\n",
      "/var/folders/04/tp4wyrys03s5z6y1v720v3580000gn/T/ipykernel_1184/2334349146.py:1: UserWarning: Parsing '27-04-2021' in DD/MM/YYYY format. Provide format or specify infer_datetime_format=True for consistent parsing.\n",
      "  dolar[\"Fecha\"] = pd.to_datetime(dolar[\"Fecha\"])\n",
      "/var/folders/04/tp4wyrys03s5z6y1v720v3580000gn/T/ipykernel_1184/2334349146.py:1: UserWarning: Parsing '26-04-2021' in DD/MM/YYYY format. Provide format or specify infer_datetime_format=True for consistent parsing.\n",
      "  dolar[\"Fecha\"] = pd.to_datetime(dolar[\"Fecha\"])\n",
      "/var/folders/04/tp4wyrys03s5z6y1v720v3580000gn/T/ipykernel_1184/2334349146.py:1: UserWarning: Parsing '23-04-2021' in DD/MM/YYYY format. Provide format or specify infer_datetime_format=True for consistent parsing.\n",
      "  dolar[\"Fecha\"] = pd.to_datetime(dolar[\"Fecha\"])\n",
      "/var/folders/04/tp4wyrys03s5z6y1v720v3580000gn/T/ipykernel_1184/2334349146.py:1: UserWarning: Parsing '22-04-2021' in DD/MM/YYYY format. Provide format or specify infer_datetime_format=True for consistent parsing.\n",
      "  dolar[\"Fecha\"] = pd.to_datetime(dolar[\"Fecha\"])\n",
      "/var/folders/04/tp4wyrys03s5z6y1v720v3580000gn/T/ipykernel_1184/2334349146.py:1: UserWarning: Parsing '21-04-2021' in DD/MM/YYYY format. Provide format or specify infer_datetime_format=True for consistent parsing.\n",
      "  dolar[\"Fecha\"] = pd.to_datetime(dolar[\"Fecha\"])\n",
      "/var/folders/04/tp4wyrys03s5z6y1v720v3580000gn/T/ipykernel_1184/2334349146.py:1: UserWarning: Parsing '20-04-2021' in DD/MM/YYYY format. Provide format or specify infer_datetime_format=True for consistent parsing.\n",
      "  dolar[\"Fecha\"] = pd.to_datetime(dolar[\"Fecha\"])\n",
      "/var/folders/04/tp4wyrys03s5z6y1v720v3580000gn/T/ipykernel_1184/2334349146.py:1: UserWarning: Parsing '19-04-2021' in DD/MM/YYYY format. Provide format or specify infer_datetime_format=True for consistent parsing.\n",
      "  dolar[\"Fecha\"] = pd.to_datetime(dolar[\"Fecha\"])\n",
      "/var/folders/04/tp4wyrys03s5z6y1v720v3580000gn/T/ipykernel_1184/2334349146.py:1: UserWarning: Parsing '16-04-2021' in DD/MM/YYYY format. Provide format or specify infer_datetime_format=True for consistent parsing.\n",
      "  dolar[\"Fecha\"] = pd.to_datetime(dolar[\"Fecha\"])\n",
      "/var/folders/04/tp4wyrys03s5z6y1v720v3580000gn/T/ipykernel_1184/2334349146.py:1: UserWarning: Parsing '15-04-2021' in DD/MM/YYYY format. Provide format or specify infer_datetime_format=True for consistent parsing.\n",
      "  dolar[\"Fecha\"] = pd.to_datetime(dolar[\"Fecha\"])\n",
      "/var/folders/04/tp4wyrys03s5z6y1v720v3580000gn/T/ipykernel_1184/2334349146.py:1: UserWarning: Parsing '14-04-2021' in DD/MM/YYYY format. Provide format or specify infer_datetime_format=True for consistent parsing.\n",
      "  dolar[\"Fecha\"] = pd.to_datetime(dolar[\"Fecha\"])\n",
      "/var/folders/04/tp4wyrys03s5z6y1v720v3580000gn/T/ipykernel_1184/2334349146.py:1: UserWarning: Parsing '13-04-2021' in DD/MM/YYYY format. Provide format or specify infer_datetime_format=True for consistent parsing.\n",
      "  dolar[\"Fecha\"] = pd.to_datetime(dolar[\"Fecha\"])\n",
      "/var/folders/04/tp4wyrys03s5z6y1v720v3580000gn/T/ipykernel_1184/2334349146.py:1: UserWarning: Parsing '31-03-2021' in DD/MM/YYYY format. Provide format or specify infer_datetime_format=True for consistent parsing.\n",
      "  dolar[\"Fecha\"] = pd.to_datetime(dolar[\"Fecha\"])\n",
      "/var/folders/04/tp4wyrys03s5z6y1v720v3580000gn/T/ipykernel_1184/2334349146.py:1: UserWarning: Parsing '30-03-2021' in DD/MM/YYYY format. Provide format or specify infer_datetime_format=True for consistent parsing.\n",
      "  dolar[\"Fecha\"] = pd.to_datetime(dolar[\"Fecha\"])\n",
      "/var/folders/04/tp4wyrys03s5z6y1v720v3580000gn/T/ipykernel_1184/2334349146.py:1: UserWarning: Parsing '29-03-2021' in DD/MM/YYYY format. Provide format or specify infer_datetime_format=True for consistent parsing.\n",
      "  dolar[\"Fecha\"] = pd.to_datetime(dolar[\"Fecha\"])\n",
      "/var/folders/04/tp4wyrys03s5z6y1v720v3580000gn/T/ipykernel_1184/2334349146.py:1: UserWarning: Parsing '26-03-2021' in DD/MM/YYYY format. Provide format or specify infer_datetime_format=True for consistent parsing.\n",
      "  dolar[\"Fecha\"] = pd.to_datetime(dolar[\"Fecha\"])\n",
      "/var/folders/04/tp4wyrys03s5z6y1v720v3580000gn/T/ipykernel_1184/2334349146.py:1: UserWarning: Parsing '25-03-2021' in DD/MM/YYYY format. Provide format or specify infer_datetime_format=True for consistent parsing.\n",
      "  dolar[\"Fecha\"] = pd.to_datetime(dolar[\"Fecha\"])\n",
      "/var/folders/04/tp4wyrys03s5z6y1v720v3580000gn/T/ipykernel_1184/2334349146.py:1: UserWarning: Parsing '23-03-2021' in DD/MM/YYYY format. Provide format or specify infer_datetime_format=True for consistent parsing.\n",
      "  dolar[\"Fecha\"] = pd.to_datetime(dolar[\"Fecha\"])\n",
      "/var/folders/04/tp4wyrys03s5z6y1v720v3580000gn/T/ipykernel_1184/2334349146.py:1: UserWarning: Parsing '22-03-2021' in DD/MM/YYYY format. Provide format or specify infer_datetime_format=True for consistent parsing.\n",
      "  dolar[\"Fecha\"] = pd.to_datetime(dolar[\"Fecha\"])\n",
      "/var/folders/04/tp4wyrys03s5z6y1v720v3580000gn/T/ipykernel_1184/2334349146.py:1: UserWarning: Parsing '19-03-2021' in DD/MM/YYYY format. Provide format or specify infer_datetime_format=True for consistent parsing.\n",
      "  dolar[\"Fecha\"] = pd.to_datetime(dolar[\"Fecha\"])\n",
      "/var/folders/04/tp4wyrys03s5z6y1v720v3580000gn/T/ipykernel_1184/2334349146.py:1: UserWarning: Parsing '18-03-2021' in DD/MM/YYYY format. Provide format or specify infer_datetime_format=True for consistent parsing.\n",
      "  dolar[\"Fecha\"] = pd.to_datetime(dolar[\"Fecha\"])\n",
      "/var/folders/04/tp4wyrys03s5z6y1v720v3580000gn/T/ipykernel_1184/2334349146.py:1: UserWarning: Parsing '17-03-2021' in DD/MM/YYYY format. Provide format or specify infer_datetime_format=True for consistent parsing.\n",
      "  dolar[\"Fecha\"] = pd.to_datetime(dolar[\"Fecha\"])\n",
      "/var/folders/04/tp4wyrys03s5z6y1v720v3580000gn/T/ipykernel_1184/2334349146.py:1: UserWarning: Parsing '16-03-2021' in DD/MM/YYYY format. Provide format or specify infer_datetime_format=True for consistent parsing.\n",
      "  dolar[\"Fecha\"] = pd.to_datetime(dolar[\"Fecha\"])\n",
      "/var/folders/04/tp4wyrys03s5z6y1v720v3580000gn/T/ipykernel_1184/2334349146.py:1: UserWarning: Parsing '15-03-2021' in DD/MM/YYYY format. Provide format or specify infer_datetime_format=True for consistent parsing.\n",
      "  dolar[\"Fecha\"] = pd.to_datetime(dolar[\"Fecha\"])\n",
      "/var/folders/04/tp4wyrys03s5z6y1v720v3580000gn/T/ipykernel_1184/2334349146.py:1: UserWarning: Parsing '26-02-2021' in DD/MM/YYYY format. Provide format or specify infer_datetime_format=True for consistent parsing.\n",
      "  dolar[\"Fecha\"] = pd.to_datetime(dolar[\"Fecha\"])\n",
      "/var/folders/04/tp4wyrys03s5z6y1v720v3580000gn/T/ipykernel_1184/2334349146.py:1: UserWarning: Parsing '25-02-2021' in DD/MM/YYYY format. Provide format or specify infer_datetime_format=True for consistent parsing.\n",
      "  dolar[\"Fecha\"] = pd.to_datetime(dolar[\"Fecha\"])\n",
      "/var/folders/04/tp4wyrys03s5z6y1v720v3580000gn/T/ipykernel_1184/2334349146.py:1: UserWarning: Parsing '24-02-2021' in DD/MM/YYYY format. Provide format or specify infer_datetime_format=True for consistent parsing.\n",
      "  dolar[\"Fecha\"] = pd.to_datetime(dolar[\"Fecha\"])\n",
      "/var/folders/04/tp4wyrys03s5z6y1v720v3580000gn/T/ipykernel_1184/2334349146.py:1: UserWarning: Parsing '23-02-2021' in DD/MM/YYYY format. Provide format or specify infer_datetime_format=True for consistent parsing.\n",
      "  dolar[\"Fecha\"] = pd.to_datetime(dolar[\"Fecha\"])\n",
      "/var/folders/04/tp4wyrys03s5z6y1v720v3580000gn/T/ipykernel_1184/2334349146.py:1: UserWarning: Parsing '22-02-2021' in DD/MM/YYYY format. Provide format or specify infer_datetime_format=True for consistent parsing.\n",
      "  dolar[\"Fecha\"] = pd.to_datetime(dolar[\"Fecha\"])\n",
      "/var/folders/04/tp4wyrys03s5z6y1v720v3580000gn/T/ipykernel_1184/2334349146.py:1: UserWarning: Parsing '19-02-2021' in DD/MM/YYYY format. Provide format or specify infer_datetime_format=True for consistent parsing.\n",
      "  dolar[\"Fecha\"] = pd.to_datetime(dolar[\"Fecha\"])\n",
      "/var/folders/04/tp4wyrys03s5z6y1v720v3580000gn/T/ipykernel_1184/2334349146.py:1: UserWarning: Parsing '18-02-2021' in DD/MM/YYYY format. Provide format or specify infer_datetime_format=True for consistent parsing.\n",
      "  dolar[\"Fecha\"] = pd.to_datetime(dolar[\"Fecha\"])\n",
      "/var/folders/04/tp4wyrys03s5z6y1v720v3580000gn/T/ipykernel_1184/2334349146.py:1: UserWarning: Parsing '17-02-2021' in DD/MM/YYYY format. Provide format or specify infer_datetime_format=True for consistent parsing.\n",
      "  dolar[\"Fecha\"] = pd.to_datetime(dolar[\"Fecha\"])\n",
      "/var/folders/04/tp4wyrys03s5z6y1v720v3580000gn/T/ipykernel_1184/2334349146.py:1: UserWarning: Parsing '29-01-2021' in DD/MM/YYYY format. Provide format or specify infer_datetime_format=True for consistent parsing.\n",
      "  dolar[\"Fecha\"] = pd.to_datetime(dolar[\"Fecha\"])\n",
      "/var/folders/04/tp4wyrys03s5z6y1v720v3580000gn/T/ipykernel_1184/2334349146.py:1: UserWarning: Parsing '28-01-2021' in DD/MM/YYYY format. Provide format or specify infer_datetime_format=True for consistent parsing.\n",
      "  dolar[\"Fecha\"] = pd.to_datetime(dolar[\"Fecha\"])\n",
      "/var/folders/04/tp4wyrys03s5z6y1v720v3580000gn/T/ipykernel_1184/2334349146.py:1: UserWarning: Parsing '27-01-2021' in DD/MM/YYYY format. Provide format or specify infer_datetime_format=True for consistent parsing.\n",
      "  dolar[\"Fecha\"] = pd.to_datetime(dolar[\"Fecha\"])\n",
      "/var/folders/04/tp4wyrys03s5z6y1v720v3580000gn/T/ipykernel_1184/2334349146.py:1: UserWarning: Parsing '26-01-2021' in DD/MM/YYYY format. Provide format or specify infer_datetime_format=True for consistent parsing.\n",
      "  dolar[\"Fecha\"] = pd.to_datetime(dolar[\"Fecha\"])\n",
      "/var/folders/04/tp4wyrys03s5z6y1v720v3580000gn/T/ipykernel_1184/2334349146.py:1: UserWarning: Parsing '25-01-2021' in DD/MM/YYYY format. Provide format or specify infer_datetime_format=True for consistent parsing.\n",
      "  dolar[\"Fecha\"] = pd.to_datetime(dolar[\"Fecha\"])\n",
      "/var/folders/04/tp4wyrys03s5z6y1v720v3580000gn/T/ipykernel_1184/2334349146.py:1: UserWarning: Parsing '22-01-2021' in DD/MM/YYYY format. Provide format or specify infer_datetime_format=True for consistent parsing.\n",
      "  dolar[\"Fecha\"] = pd.to_datetime(dolar[\"Fecha\"])\n",
      "/var/folders/04/tp4wyrys03s5z6y1v720v3580000gn/T/ipykernel_1184/2334349146.py:1: UserWarning: Parsing '21-01-2021' in DD/MM/YYYY format. Provide format or specify infer_datetime_format=True for consistent parsing.\n",
      "  dolar[\"Fecha\"] = pd.to_datetime(dolar[\"Fecha\"])\n",
      "/var/folders/04/tp4wyrys03s5z6y1v720v3580000gn/T/ipykernel_1184/2334349146.py:1: UserWarning: Parsing '20-01-2021' in DD/MM/YYYY format. Provide format or specify infer_datetime_format=True for consistent parsing.\n",
      "  dolar[\"Fecha\"] = pd.to_datetime(dolar[\"Fecha\"])\n",
      "/var/folders/04/tp4wyrys03s5z6y1v720v3580000gn/T/ipykernel_1184/2334349146.py:1: UserWarning: Parsing '19-01-2021' in DD/MM/YYYY format. Provide format or specify infer_datetime_format=True for consistent parsing.\n",
      "  dolar[\"Fecha\"] = pd.to_datetime(dolar[\"Fecha\"])\n",
      "/var/folders/04/tp4wyrys03s5z6y1v720v3580000gn/T/ipykernel_1184/2334349146.py:1: UserWarning: Parsing '15-01-2021' in DD/MM/YYYY format. Provide format or specify infer_datetime_format=True for consistent parsing.\n",
      "  dolar[\"Fecha\"] = pd.to_datetime(dolar[\"Fecha\"])\n",
      "/var/folders/04/tp4wyrys03s5z6y1v720v3580000gn/T/ipykernel_1184/2334349146.py:1: UserWarning: Parsing '14-01-2021' in DD/MM/YYYY format. Provide format or specify infer_datetime_format=True for consistent parsing.\n",
      "  dolar[\"Fecha\"] = pd.to_datetime(dolar[\"Fecha\"])\n",
      "/var/folders/04/tp4wyrys03s5z6y1v720v3580000gn/T/ipykernel_1184/2334349146.py:1: UserWarning: Parsing '13-01-2021' in DD/MM/YYYY format. Provide format or specify infer_datetime_format=True for consistent parsing.\n",
      "  dolar[\"Fecha\"] = pd.to_datetime(dolar[\"Fecha\"])\n",
      "/var/folders/04/tp4wyrys03s5z6y1v720v3580000gn/T/ipykernel_1184/2334349146.py:1: UserWarning: Parsing '30-12-2020' in DD/MM/YYYY format. Provide format or specify infer_datetime_format=True for consistent parsing.\n",
      "  dolar[\"Fecha\"] = pd.to_datetime(dolar[\"Fecha\"])\n",
      "/var/folders/04/tp4wyrys03s5z6y1v720v3580000gn/T/ipykernel_1184/2334349146.py:1: UserWarning: Parsing '29-12-2020' in DD/MM/YYYY format. Provide format or specify infer_datetime_format=True for consistent parsing.\n",
      "  dolar[\"Fecha\"] = pd.to_datetime(dolar[\"Fecha\"])\n",
      "/var/folders/04/tp4wyrys03s5z6y1v720v3580000gn/T/ipykernel_1184/2334349146.py:1: UserWarning: Parsing '28-12-2020' in DD/MM/YYYY format. Provide format or specify infer_datetime_format=True for consistent parsing.\n",
      "  dolar[\"Fecha\"] = pd.to_datetime(dolar[\"Fecha\"])\n",
      "/var/folders/04/tp4wyrys03s5z6y1v720v3580000gn/T/ipykernel_1184/2334349146.py:1: UserWarning: Parsing '23-12-2020' in DD/MM/YYYY format. Provide format or specify infer_datetime_format=True for consistent parsing.\n",
      "  dolar[\"Fecha\"] = pd.to_datetime(dolar[\"Fecha\"])\n",
      "/var/folders/04/tp4wyrys03s5z6y1v720v3580000gn/T/ipykernel_1184/2334349146.py:1: UserWarning: Parsing '22-12-2020' in DD/MM/YYYY format. Provide format or specify infer_datetime_format=True for consistent parsing.\n",
      "  dolar[\"Fecha\"] = pd.to_datetime(dolar[\"Fecha\"])\n",
      "/var/folders/04/tp4wyrys03s5z6y1v720v3580000gn/T/ipykernel_1184/2334349146.py:1: UserWarning: Parsing '21-12-2020' in DD/MM/YYYY format. Provide format or specify infer_datetime_format=True for consistent parsing.\n",
      "  dolar[\"Fecha\"] = pd.to_datetime(dolar[\"Fecha\"])\n",
      "/var/folders/04/tp4wyrys03s5z6y1v720v3580000gn/T/ipykernel_1184/2334349146.py:1: UserWarning: Parsing '18-12-2020' in DD/MM/YYYY format. Provide format or specify infer_datetime_format=True for consistent parsing.\n",
      "  dolar[\"Fecha\"] = pd.to_datetime(dolar[\"Fecha\"])\n",
      "/var/folders/04/tp4wyrys03s5z6y1v720v3580000gn/T/ipykernel_1184/2334349146.py:1: UserWarning: Parsing '17-12-2020' in DD/MM/YYYY format. Provide format or specify infer_datetime_format=True for consistent parsing.\n",
      "  dolar[\"Fecha\"] = pd.to_datetime(dolar[\"Fecha\"])\n",
      "/var/folders/04/tp4wyrys03s5z6y1v720v3580000gn/T/ipykernel_1184/2334349146.py:1: UserWarning: Parsing '16-12-2020' in DD/MM/YYYY format. Provide format or specify infer_datetime_format=True for consistent parsing.\n",
      "  dolar[\"Fecha\"] = pd.to_datetime(dolar[\"Fecha\"])\n",
      "/var/folders/04/tp4wyrys03s5z6y1v720v3580000gn/T/ipykernel_1184/2334349146.py:1: UserWarning: Parsing '15-12-2020' in DD/MM/YYYY format. Provide format or specify infer_datetime_format=True for consistent parsing.\n",
      "  dolar[\"Fecha\"] = pd.to_datetime(dolar[\"Fecha\"])\n",
      "/var/folders/04/tp4wyrys03s5z6y1v720v3580000gn/T/ipykernel_1184/2334349146.py:1: UserWarning: Parsing '14-12-2020' in DD/MM/YYYY format. Provide format or specify infer_datetime_format=True for consistent parsing.\n",
      "  dolar[\"Fecha\"] = pd.to_datetime(dolar[\"Fecha\"])\n",
      "/var/folders/04/tp4wyrys03s5z6y1v720v3580000gn/T/ipykernel_1184/2334349146.py:1: UserWarning: Parsing '30-11-2020' in DD/MM/YYYY format. Provide format or specify infer_datetime_format=True for consistent parsing.\n",
      "  dolar[\"Fecha\"] = pd.to_datetime(dolar[\"Fecha\"])\n",
      "/var/folders/04/tp4wyrys03s5z6y1v720v3580000gn/T/ipykernel_1184/2334349146.py:1: UserWarning: Parsing '27-11-2020' in DD/MM/YYYY format. Provide format or specify infer_datetime_format=True for consistent parsing.\n",
      "  dolar[\"Fecha\"] = pd.to_datetime(dolar[\"Fecha\"])\n",
      "/var/folders/04/tp4wyrys03s5z6y1v720v3580000gn/T/ipykernel_1184/2334349146.py:1: UserWarning: Parsing '26-11-2020' in DD/MM/YYYY format. Provide format or specify infer_datetime_format=True for consistent parsing.\n",
      "  dolar[\"Fecha\"] = pd.to_datetime(dolar[\"Fecha\"])\n",
      "/var/folders/04/tp4wyrys03s5z6y1v720v3580000gn/T/ipykernel_1184/2334349146.py:1: UserWarning: Parsing '25-11-2020' in DD/MM/YYYY format. Provide format or specify infer_datetime_format=True for consistent parsing.\n",
      "  dolar[\"Fecha\"] = pd.to_datetime(dolar[\"Fecha\"])\n",
      "/var/folders/04/tp4wyrys03s5z6y1v720v3580000gn/T/ipykernel_1184/2334349146.py:1: UserWarning: Parsing '24-11-2020' in DD/MM/YYYY format. Provide format or specify infer_datetime_format=True for consistent parsing.\n",
      "  dolar[\"Fecha\"] = pd.to_datetime(dolar[\"Fecha\"])\n",
      "/var/folders/04/tp4wyrys03s5z6y1v720v3580000gn/T/ipykernel_1184/2334349146.py:1: UserWarning: Parsing '20-11-2020' in DD/MM/YYYY format. Provide format or specify infer_datetime_format=True for consistent parsing.\n",
      "  dolar[\"Fecha\"] = pd.to_datetime(dolar[\"Fecha\"])\n",
      "/var/folders/04/tp4wyrys03s5z6y1v720v3580000gn/T/ipykernel_1184/2334349146.py:1: UserWarning: Parsing '19-11-2020' in DD/MM/YYYY format. Provide format or specify infer_datetime_format=True for consistent parsing.\n",
      "  dolar[\"Fecha\"] = pd.to_datetime(dolar[\"Fecha\"])\n",
      "/var/folders/04/tp4wyrys03s5z6y1v720v3580000gn/T/ipykernel_1184/2334349146.py:1: UserWarning: Parsing '18-11-2020' in DD/MM/YYYY format. Provide format or specify infer_datetime_format=True for consistent parsing.\n",
      "  dolar[\"Fecha\"] = pd.to_datetime(dolar[\"Fecha\"])\n",
      "/var/folders/04/tp4wyrys03s5z6y1v720v3580000gn/T/ipykernel_1184/2334349146.py:1: UserWarning: Parsing '17-11-2020' in DD/MM/YYYY format. Provide format or specify infer_datetime_format=True for consistent parsing.\n",
      "  dolar[\"Fecha\"] = pd.to_datetime(dolar[\"Fecha\"])\n",
      "/var/folders/04/tp4wyrys03s5z6y1v720v3580000gn/T/ipykernel_1184/2334349146.py:1: UserWarning: Parsing '16-11-2020' in DD/MM/YYYY format. Provide format or specify infer_datetime_format=True for consistent parsing.\n",
      "  dolar[\"Fecha\"] = pd.to_datetime(dolar[\"Fecha\"])\n",
      "/var/folders/04/tp4wyrys03s5z6y1v720v3580000gn/T/ipykernel_1184/2334349146.py:1: UserWarning: Parsing '13-11-2020' in DD/MM/YYYY format. Provide format or specify infer_datetime_format=True for consistent parsing.\n",
      "  dolar[\"Fecha\"] = pd.to_datetime(dolar[\"Fecha\"])\n",
      "/var/folders/04/tp4wyrys03s5z6y1v720v3580000gn/T/ipykernel_1184/2334349146.py:1: UserWarning: Parsing '30-10-2020' in DD/MM/YYYY format. Provide format or specify infer_datetime_format=True for consistent parsing.\n",
      "  dolar[\"Fecha\"] = pd.to_datetime(dolar[\"Fecha\"])\n",
      "/var/folders/04/tp4wyrys03s5z6y1v720v3580000gn/T/ipykernel_1184/2334349146.py:1: UserWarning: Parsing '29-10-2020' in DD/MM/YYYY format. Provide format or specify infer_datetime_format=True for consistent parsing.\n",
      "  dolar[\"Fecha\"] = pd.to_datetime(dolar[\"Fecha\"])\n",
      "/var/folders/04/tp4wyrys03s5z6y1v720v3580000gn/T/ipykernel_1184/2334349146.py:1: UserWarning: Parsing '28-10-2020' in DD/MM/YYYY format. Provide format or specify infer_datetime_format=True for consistent parsing.\n",
      "  dolar[\"Fecha\"] = pd.to_datetime(dolar[\"Fecha\"])\n",
      "/var/folders/04/tp4wyrys03s5z6y1v720v3580000gn/T/ipykernel_1184/2334349146.py:1: UserWarning: Parsing '27-10-2020' in DD/MM/YYYY format. Provide format or specify infer_datetime_format=True for consistent parsing.\n",
      "  dolar[\"Fecha\"] = pd.to_datetime(dolar[\"Fecha\"])\n",
      "/var/folders/04/tp4wyrys03s5z6y1v720v3580000gn/T/ipykernel_1184/2334349146.py:1: UserWarning: Parsing '26-10-2020' in DD/MM/YYYY format. Provide format or specify infer_datetime_format=True for consistent parsing.\n",
      "  dolar[\"Fecha\"] = pd.to_datetime(dolar[\"Fecha\"])\n",
      "/var/folders/04/tp4wyrys03s5z6y1v720v3580000gn/T/ipykernel_1184/2334349146.py:1: UserWarning: Parsing '23-10-2020' in DD/MM/YYYY format. Provide format or specify infer_datetime_format=True for consistent parsing.\n",
      "  dolar[\"Fecha\"] = pd.to_datetime(dolar[\"Fecha\"])\n",
      "/var/folders/04/tp4wyrys03s5z6y1v720v3580000gn/T/ipykernel_1184/2334349146.py:1: UserWarning: Parsing '22-10-2020' in DD/MM/YYYY format. Provide format or specify infer_datetime_format=True for consistent parsing.\n",
      "  dolar[\"Fecha\"] = pd.to_datetime(dolar[\"Fecha\"])\n",
      "/var/folders/04/tp4wyrys03s5z6y1v720v3580000gn/T/ipykernel_1184/2334349146.py:1: UserWarning: Parsing '21-10-2020' in DD/MM/YYYY format. Provide format or specify infer_datetime_format=True for consistent parsing.\n",
      "  dolar[\"Fecha\"] = pd.to_datetime(dolar[\"Fecha\"])\n",
      "/var/folders/04/tp4wyrys03s5z6y1v720v3580000gn/T/ipykernel_1184/2334349146.py:1: UserWarning: Parsing '20-10-2020' in DD/MM/YYYY format. Provide format or specify infer_datetime_format=True for consistent parsing.\n",
      "  dolar[\"Fecha\"] = pd.to_datetime(dolar[\"Fecha\"])\n",
      "/var/folders/04/tp4wyrys03s5z6y1v720v3580000gn/T/ipykernel_1184/2334349146.py:1: UserWarning: Parsing '19-10-2020' in DD/MM/YYYY format. Provide format or specify infer_datetime_format=True for consistent parsing.\n",
      "  dolar[\"Fecha\"] = pd.to_datetime(dolar[\"Fecha\"])\n",
      "/var/folders/04/tp4wyrys03s5z6y1v720v3580000gn/T/ipykernel_1184/2334349146.py:1: UserWarning: Parsing '16-10-2020' in DD/MM/YYYY format. Provide format or specify infer_datetime_format=True for consistent parsing.\n",
      "  dolar[\"Fecha\"] = pd.to_datetime(dolar[\"Fecha\"])\n",
      "/var/folders/04/tp4wyrys03s5z6y1v720v3580000gn/T/ipykernel_1184/2334349146.py:1: UserWarning: Parsing '15-10-2020' in DD/MM/YYYY format. Provide format or specify infer_datetime_format=True for consistent parsing.\n",
      "  dolar[\"Fecha\"] = pd.to_datetime(dolar[\"Fecha\"])\n",
      "/var/folders/04/tp4wyrys03s5z6y1v720v3580000gn/T/ipykernel_1184/2334349146.py:1: UserWarning: Parsing '14-10-2020' in DD/MM/YYYY format. Provide format or specify infer_datetime_format=True for consistent parsing.\n",
      "  dolar[\"Fecha\"] = pd.to_datetime(dolar[\"Fecha\"])\n",
      "/var/folders/04/tp4wyrys03s5z6y1v720v3580000gn/T/ipykernel_1184/2334349146.py:1: UserWarning: Parsing '13-10-2020' in DD/MM/YYYY format. Provide format or specify infer_datetime_format=True for consistent parsing.\n",
      "  dolar[\"Fecha\"] = pd.to_datetime(dolar[\"Fecha\"])\n",
      "/var/folders/04/tp4wyrys03s5z6y1v720v3580000gn/T/ipykernel_1184/2334349146.py:1: UserWarning: Parsing '30-09-2020' in DD/MM/YYYY format. Provide format or specify infer_datetime_format=True for consistent parsing.\n",
      "  dolar[\"Fecha\"] = pd.to_datetime(dolar[\"Fecha\"])\n",
      "/var/folders/04/tp4wyrys03s5z6y1v720v3580000gn/T/ipykernel_1184/2334349146.py:1: UserWarning: Parsing '29-09-2020' in DD/MM/YYYY format. Provide format or specify infer_datetime_format=True for consistent parsing.\n",
      "  dolar[\"Fecha\"] = pd.to_datetime(dolar[\"Fecha\"])\n",
      "/var/folders/04/tp4wyrys03s5z6y1v720v3580000gn/T/ipykernel_1184/2334349146.py:1: UserWarning: Parsing '28-09-2020' in DD/MM/YYYY format. Provide format or specify infer_datetime_format=True for consistent parsing.\n",
      "  dolar[\"Fecha\"] = pd.to_datetime(dolar[\"Fecha\"])\n",
      "/var/folders/04/tp4wyrys03s5z6y1v720v3580000gn/T/ipykernel_1184/2334349146.py:1: UserWarning: Parsing '25-09-2020' in DD/MM/YYYY format. Provide format or specify infer_datetime_format=True for consistent parsing.\n",
      "  dolar[\"Fecha\"] = pd.to_datetime(dolar[\"Fecha\"])\n",
      "/var/folders/04/tp4wyrys03s5z6y1v720v3580000gn/T/ipykernel_1184/2334349146.py:1: UserWarning: Parsing '24-09-2020' in DD/MM/YYYY format. Provide format or specify infer_datetime_format=True for consistent parsing.\n",
      "  dolar[\"Fecha\"] = pd.to_datetime(dolar[\"Fecha\"])\n",
      "/var/folders/04/tp4wyrys03s5z6y1v720v3580000gn/T/ipykernel_1184/2334349146.py:1: UserWarning: Parsing '23-09-2020' in DD/MM/YYYY format. Provide format or specify infer_datetime_format=True for consistent parsing.\n",
      "  dolar[\"Fecha\"] = pd.to_datetime(dolar[\"Fecha\"])\n",
      "/var/folders/04/tp4wyrys03s5z6y1v720v3580000gn/T/ipykernel_1184/2334349146.py:1: UserWarning: Parsing '22-09-2020' in DD/MM/YYYY format. Provide format or specify infer_datetime_format=True for consistent parsing.\n",
      "  dolar[\"Fecha\"] = pd.to_datetime(dolar[\"Fecha\"])\n",
      "/var/folders/04/tp4wyrys03s5z6y1v720v3580000gn/T/ipykernel_1184/2334349146.py:1: UserWarning: Parsing '21-09-2020' in DD/MM/YYYY format. Provide format or specify infer_datetime_format=True for consistent parsing.\n",
      "  dolar[\"Fecha\"] = pd.to_datetime(dolar[\"Fecha\"])\n",
      "/var/folders/04/tp4wyrys03s5z6y1v720v3580000gn/T/ipykernel_1184/2334349146.py:1: UserWarning: Parsing '18-09-2020' in DD/MM/YYYY format. Provide format or specify infer_datetime_format=True for consistent parsing.\n",
      "  dolar[\"Fecha\"] = pd.to_datetime(dolar[\"Fecha\"])\n",
      "/var/folders/04/tp4wyrys03s5z6y1v720v3580000gn/T/ipykernel_1184/2334349146.py:1: UserWarning: Parsing '17-09-2020' in DD/MM/YYYY format. Provide format or specify infer_datetime_format=True for consistent parsing.\n",
      "  dolar[\"Fecha\"] = pd.to_datetime(dolar[\"Fecha\"])\n",
      "/var/folders/04/tp4wyrys03s5z6y1v720v3580000gn/T/ipykernel_1184/2334349146.py:1: UserWarning: Parsing '16-09-2020' in DD/MM/YYYY format. Provide format or specify infer_datetime_format=True for consistent parsing.\n",
      "  dolar[\"Fecha\"] = pd.to_datetime(dolar[\"Fecha\"])\n",
      "/var/folders/04/tp4wyrys03s5z6y1v720v3580000gn/T/ipykernel_1184/2334349146.py:1: UserWarning: Parsing '15-09-2020' in DD/MM/YYYY format. Provide format or specify infer_datetime_format=True for consistent parsing.\n",
      "  dolar[\"Fecha\"] = pd.to_datetime(dolar[\"Fecha\"])\n",
      "/var/folders/04/tp4wyrys03s5z6y1v720v3580000gn/T/ipykernel_1184/2334349146.py:1: UserWarning: Parsing '14-09-2020' in DD/MM/YYYY format. Provide format or specify infer_datetime_format=True for consistent parsing.\n",
      "  dolar[\"Fecha\"] = pd.to_datetime(dolar[\"Fecha\"])\n",
      "/var/folders/04/tp4wyrys03s5z6y1v720v3580000gn/T/ipykernel_1184/2334349146.py:1: UserWarning: Parsing '31-08-2020' in DD/MM/YYYY format. Provide format or specify infer_datetime_format=True for consistent parsing.\n",
      "  dolar[\"Fecha\"] = pd.to_datetime(dolar[\"Fecha\"])\n",
      "/var/folders/04/tp4wyrys03s5z6y1v720v3580000gn/T/ipykernel_1184/2334349146.py:1: UserWarning: Parsing '28-08-2020' in DD/MM/YYYY format. Provide format or specify infer_datetime_format=True for consistent parsing.\n",
      "  dolar[\"Fecha\"] = pd.to_datetime(dolar[\"Fecha\"])\n",
      "/var/folders/04/tp4wyrys03s5z6y1v720v3580000gn/T/ipykernel_1184/2334349146.py:1: UserWarning: Parsing '27-08-2020' in DD/MM/YYYY format. Provide format or specify infer_datetime_format=True for consistent parsing.\n",
      "  dolar[\"Fecha\"] = pd.to_datetime(dolar[\"Fecha\"])\n",
      "/var/folders/04/tp4wyrys03s5z6y1v720v3580000gn/T/ipykernel_1184/2334349146.py:1: UserWarning: Parsing '26-08-2020' in DD/MM/YYYY format. Provide format or specify infer_datetime_format=True for consistent parsing.\n",
      "  dolar[\"Fecha\"] = pd.to_datetime(dolar[\"Fecha\"])\n",
      "/var/folders/04/tp4wyrys03s5z6y1v720v3580000gn/T/ipykernel_1184/2334349146.py:1: UserWarning: Parsing '25-08-2020' in DD/MM/YYYY format. Provide format or specify infer_datetime_format=True for consistent parsing.\n",
      "  dolar[\"Fecha\"] = pd.to_datetime(dolar[\"Fecha\"])\n",
      "/var/folders/04/tp4wyrys03s5z6y1v720v3580000gn/T/ipykernel_1184/2334349146.py:1: UserWarning: Parsing '24-08-2020' in DD/MM/YYYY format. Provide format or specify infer_datetime_format=True for consistent parsing.\n",
      "  dolar[\"Fecha\"] = pd.to_datetime(dolar[\"Fecha\"])\n",
      "/var/folders/04/tp4wyrys03s5z6y1v720v3580000gn/T/ipykernel_1184/2334349146.py:1: UserWarning: Parsing '21-08-2020' in DD/MM/YYYY format. Provide format or specify infer_datetime_format=True for consistent parsing.\n",
      "  dolar[\"Fecha\"] = pd.to_datetime(dolar[\"Fecha\"])\n",
      "/var/folders/04/tp4wyrys03s5z6y1v720v3580000gn/T/ipykernel_1184/2334349146.py:1: UserWarning: Parsing '20-08-2020' in DD/MM/YYYY format. Provide format or specify infer_datetime_format=True for consistent parsing.\n",
      "  dolar[\"Fecha\"] = pd.to_datetime(dolar[\"Fecha\"])\n",
      "/var/folders/04/tp4wyrys03s5z6y1v720v3580000gn/T/ipykernel_1184/2334349146.py:1: UserWarning: Parsing '19-08-2020' in DD/MM/YYYY format. Provide format or specify infer_datetime_format=True for consistent parsing.\n",
      "  dolar[\"Fecha\"] = pd.to_datetime(dolar[\"Fecha\"])\n",
      "/var/folders/04/tp4wyrys03s5z6y1v720v3580000gn/T/ipykernel_1184/2334349146.py:1: UserWarning: Parsing '18-08-2020' in DD/MM/YYYY format. Provide format or specify infer_datetime_format=True for consistent parsing.\n",
      "  dolar[\"Fecha\"] = pd.to_datetime(dolar[\"Fecha\"])\n",
      "/var/folders/04/tp4wyrys03s5z6y1v720v3580000gn/T/ipykernel_1184/2334349146.py:1: UserWarning: Parsing '17-08-2020' in DD/MM/YYYY format. Provide format or specify infer_datetime_format=True for consistent parsing.\n",
      "  dolar[\"Fecha\"] = pd.to_datetime(dolar[\"Fecha\"])\n",
      "/var/folders/04/tp4wyrys03s5z6y1v720v3580000gn/T/ipykernel_1184/2334349146.py:1: UserWarning: Parsing '14-08-2020' in DD/MM/YYYY format. Provide format or specify infer_datetime_format=True for consistent parsing.\n",
      "  dolar[\"Fecha\"] = pd.to_datetime(dolar[\"Fecha\"])\n",
      "/var/folders/04/tp4wyrys03s5z6y1v720v3580000gn/T/ipykernel_1184/2334349146.py:1: UserWarning: Parsing '13-08-2020' in DD/MM/YYYY format. Provide format or specify infer_datetime_format=True for consistent parsing.\n",
      "  dolar[\"Fecha\"] = pd.to_datetime(dolar[\"Fecha\"])\n",
      "/var/folders/04/tp4wyrys03s5z6y1v720v3580000gn/T/ipykernel_1184/2334349146.py:1: UserWarning: Parsing '31-07-2020' in DD/MM/YYYY format. Provide format or specify infer_datetime_format=True for consistent parsing.\n",
      "  dolar[\"Fecha\"] = pd.to_datetime(dolar[\"Fecha\"])\n",
      "/var/folders/04/tp4wyrys03s5z6y1v720v3580000gn/T/ipykernel_1184/2334349146.py:1: UserWarning: Parsing '30-07-2020' in DD/MM/YYYY format. Provide format or specify infer_datetime_format=True for consistent parsing.\n",
      "  dolar[\"Fecha\"] = pd.to_datetime(dolar[\"Fecha\"])\n",
      "/var/folders/04/tp4wyrys03s5z6y1v720v3580000gn/T/ipykernel_1184/2334349146.py:1: UserWarning: Parsing '29-07-2020' in DD/MM/YYYY format. Provide format or specify infer_datetime_format=True for consistent parsing.\n",
      "  dolar[\"Fecha\"] = pd.to_datetime(dolar[\"Fecha\"])\n",
      "/var/folders/04/tp4wyrys03s5z6y1v720v3580000gn/T/ipykernel_1184/2334349146.py:1: UserWarning: Parsing '28-07-2020' in DD/MM/YYYY format. Provide format or specify infer_datetime_format=True for consistent parsing.\n",
      "  dolar[\"Fecha\"] = pd.to_datetime(dolar[\"Fecha\"])\n",
      "/var/folders/04/tp4wyrys03s5z6y1v720v3580000gn/T/ipykernel_1184/2334349146.py:1: UserWarning: Parsing '27-07-2020' in DD/MM/YYYY format. Provide format or specify infer_datetime_format=True for consistent parsing.\n",
      "  dolar[\"Fecha\"] = pd.to_datetime(dolar[\"Fecha\"])\n",
      "/var/folders/04/tp4wyrys03s5z6y1v720v3580000gn/T/ipykernel_1184/2334349146.py:1: UserWarning: Parsing '24-07-2020' in DD/MM/YYYY format. Provide format or specify infer_datetime_format=True for consistent parsing.\n",
      "  dolar[\"Fecha\"] = pd.to_datetime(dolar[\"Fecha\"])\n",
      "/var/folders/04/tp4wyrys03s5z6y1v720v3580000gn/T/ipykernel_1184/2334349146.py:1: UserWarning: Parsing '23-07-2020' in DD/MM/YYYY format. Provide format or specify infer_datetime_format=True for consistent parsing.\n",
      "  dolar[\"Fecha\"] = pd.to_datetime(dolar[\"Fecha\"])\n",
      "/var/folders/04/tp4wyrys03s5z6y1v720v3580000gn/T/ipykernel_1184/2334349146.py:1: UserWarning: Parsing '22-07-2020' in DD/MM/YYYY format. Provide format or specify infer_datetime_format=True for consistent parsing.\n",
      "  dolar[\"Fecha\"] = pd.to_datetime(dolar[\"Fecha\"])\n",
      "/var/folders/04/tp4wyrys03s5z6y1v720v3580000gn/T/ipykernel_1184/2334349146.py:1: UserWarning: Parsing '21-07-2020' in DD/MM/YYYY format. Provide format or specify infer_datetime_format=True for consistent parsing.\n",
      "  dolar[\"Fecha\"] = pd.to_datetime(dolar[\"Fecha\"])\n",
      "/var/folders/04/tp4wyrys03s5z6y1v720v3580000gn/T/ipykernel_1184/2334349146.py:1: UserWarning: Parsing '20-07-2020' in DD/MM/YYYY format. Provide format or specify infer_datetime_format=True for consistent parsing.\n",
      "  dolar[\"Fecha\"] = pd.to_datetime(dolar[\"Fecha\"])\n",
      "/var/folders/04/tp4wyrys03s5z6y1v720v3580000gn/T/ipykernel_1184/2334349146.py:1: UserWarning: Parsing '17-07-2020' in DD/MM/YYYY format. Provide format or specify infer_datetime_format=True for consistent parsing.\n",
      "  dolar[\"Fecha\"] = pd.to_datetime(dolar[\"Fecha\"])\n",
      "/var/folders/04/tp4wyrys03s5z6y1v720v3580000gn/T/ipykernel_1184/2334349146.py:1: UserWarning: Parsing '16-07-2020' in DD/MM/YYYY format. Provide format or specify infer_datetime_format=True for consistent parsing.\n",
      "  dolar[\"Fecha\"] = pd.to_datetime(dolar[\"Fecha\"])\n",
      "/var/folders/04/tp4wyrys03s5z6y1v720v3580000gn/T/ipykernel_1184/2334349146.py:1: UserWarning: Parsing '15-07-2020' in DD/MM/YYYY format. Provide format or specify infer_datetime_format=True for consistent parsing.\n",
      "  dolar[\"Fecha\"] = pd.to_datetime(dolar[\"Fecha\"])\n",
      "/var/folders/04/tp4wyrys03s5z6y1v720v3580000gn/T/ipykernel_1184/2334349146.py:1: UserWarning: Parsing '14-07-2020' in DD/MM/YYYY format. Provide format or specify infer_datetime_format=True for consistent parsing.\n",
      "  dolar[\"Fecha\"] = pd.to_datetime(dolar[\"Fecha\"])\n",
      "/var/folders/04/tp4wyrys03s5z6y1v720v3580000gn/T/ipykernel_1184/2334349146.py:1: UserWarning: Parsing '13-07-2020' in DD/MM/YYYY format. Provide format or specify infer_datetime_format=True for consistent parsing.\n",
      "  dolar[\"Fecha\"] = pd.to_datetime(dolar[\"Fecha\"])\n",
      "/var/folders/04/tp4wyrys03s5z6y1v720v3580000gn/T/ipykernel_1184/2334349146.py:1: UserWarning: Parsing '30-06-2020' in DD/MM/YYYY format. Provide format or specify infer_datetime_format=True for consistent parsing.\n",
      "  dolar[\"Fecha\"] = pd.to_datetime(dolar[\"Fecha\"])\n",
      "/var/folders/04/tp4wyrys03s5z6y1v720v3580000gn/T/ipykernel_1184/2334349146.py:1: UserWarning: Parsing '29-06-2020' in DD/MM/YYYY format. Provide format or specify infer_datetime_format=True for consistent parsing.\n",
      "  dolar[\"Fecha\"] = pd.to_datetime(dolar[\"Fecha\"])\n",
      "/var/folders/04/tp4wyrys03s5z6y1v720v3580000gn/T/ipykernel_1184/2334349146.py:1: UserWarning: Parsing '26-06-2020' in DD/MM/YYYY format. Provide format or specify infer_datetime_format=True for consistent parsing.\n",
      "  dolar[\"Fecha\"] = pd.to_datetime(dolar[\"Fecha\"])\n",
      "/var/folders/04/tp4wyrys03s5z6y1v720v3580000gn/T/ipykernel_1184/2334349146.py:1: UserWarning: Parsing '25-06-2020' in DD/MM/YYYY format. Provide format or specify infer_datetime_format=True for consistent parsing.\n",
      "  dolar[\"Fecha\"] = pd.to_datetime(dolar[\"Fecha\"])\n",
      "/var/folders/04/tp4wyrys03s5z6y1v720v3580000gn/T/ipykernel_1184/2334349146.py:1: UserWarning: Parsing '24-06-2020' in DD/MM/YYYY format. Provide format or specify infer_datetime_format=True for consistent parsing.\n",
      "  dolar[\"Fecha\"] = pd.to_datetime(dolar[\"Fecha\"])\n",
      "/var/folders/04/tp4wyrys03s5z6y1v720v3580000gn/T/ipykernel_1184/2334349146.py:1: UserWarning: Parsing '23-06-2020' in DD/MM/YYYY format. Provide format or specify infer_datetime_format=True for consistent parsing.\n",
      "  dolar[\"Fecha\"] = pd.to_datetime(dolar[\"Fecha\"])\n",
      "/var/folders/04/tp4wyrys03s5z6y1v720v3580000gn/T/ipykernel_1184/2334349146.py:1: UserWarning: Parsing '22-06-2020' in DD/MM/YYYY format. Provide format or specify infer_datetime_format=True for consistent parsing.\n",
      "  dolar[\"Fecha\"] = pd.to_datetime(dolar[\"Fecha\"])\n",
      "/var/folders/04/tp4wyrys03s5z6y1v720v3580000gn/T/ipykernel_1184/2334349146.py:1: UserWarning: Parsing '19-06-2020' in DD/MM/YYYY format. Provide format or specify infer_datetime_format=True for consistent parsing.\n",
      "  dolar[\"Fecha\"] = pd.to_datetime(dolar[\"Fecha\"])\n",
      "/var/folders/04/tp4wyrys03s5z6y1v720v3580000gn/T/ipykernel_1184/2334349146.py:1: UserWarning: Parsing '18-06-2020' in DD/MM/YYYY format. Provide format or specify infer_datetime_format=True for consistent parsing.\n",
      "  dolar[\"Fecha\"] = pd.to_datetime(dolar[\"Fecha\"])\n",
      "/var/folders/04/tp4wyrys03s5z6y1v720v3580000gn/T/ipykernel_1184/2334349146.py:1: UserWarning: Parsing '17-06-2020' in DD/MM/YYYY format. Provide format or specify infer_datetime_format=True for consistent parsing.\n",
      "  dolar[\"Fecha\"] = pd.to_datetime(dolar[\"Fecha\"])\n",
      "/var/folders/04/tp4wyrys03s5z6y1v720v3580000gn/T/ipykernel_1184/2334349146.py:1: UserWarning: Parsing '16-06-2020' in DD/MM/YYYY format. Provide format or specify infer_datetime_format=True for consistent parsing.\n",
      "  dolar[\"Fecha\"] = pd.to_datetime(dolar[\"Fecha\"])\n",
      "/var/folders/04/tp4wyrys03s5z6y1v720v3580000gn/T/ipykernel_1184/2334349146.py:1: UserWarning: Parsing '29-05-2020' in DD/MM/YYYY format. Provide format or specify infer_datetime_format=True for consistent parsing.\n",
      "  dolar[\"Fecha\"] = pd.to_datetime(dolar[\"Fecha\"])\n",
      "/var/folders/04/tp4wyrys03s5z6y1v720v3580000gn/T/ipykernel_1184/2334349146.py:1: UserWarning: Parsing '28-05-2020' in DD/MM/YYYY format. Provide format or specify infer_datetime_format=True for consistent parsing.\n",
      "  dolar[\"Fecha\"] = pd.to_datetime(dolar[\"Fecha\"])\n",
      "/var/folders/04/tp4wyrys03s5z6y1v720v3580000gn/T/ipykernel_1184/2334349146.py:1: UserWarning: Parsing '27-05-2020' in DD/MM/YYYY format. Provide format or specify infer_datetime_format=True for consistent parsing.\n",
      "  dolar[\"Fecha\"] = pd.to_datetime(dolar[\"Fecha\"])\n",
      "/var/folders/04/tp4wyrys03s5z6y1v720v3580000gn/T/ipykernel_1184/2334349146.py:1: UserWarning: Parsing '26-05-2020' in DD/MM/YYYY format. Provide format or specify infer_datetime_format=True for consistent parsing.\n",
      "  dolar[\"Fecha\"] = pd.to_datetime(dolar[\"Fecha\"])\n",
      "/var/folders/04/tp4wyrys03s5z6y1v720v3580000gn/T/ipykernel_1184/2334349146.py:1: UserWarning: Parsing '22-05-2020' in DD/MM/YYYY format. Provide format or specify infer_datetime_format=True for consistent parsing.\n",
      "  dolar[\"Fecha\"] = pd.to_datetime(dolar[\"Fecha\"])\n",
      "/var/folders/04/tp4wyrys03s5z6y1v720v3580000gn/T/ipykernel_1184/2334349146.py:1: UserWarning: Parsing '21-05-2020' in DD/MM/YYYY format. Provide format or specify infer_datetime_format=True for consistent parsing.\n",
      "  dolar[\"Fecha\"] = pd.to_datetime(dolar[\"Fecha\"])\n",
      "/var/folders/04/tp4wyrys03s5z6y1v720v3580000gn/T/ipykernel_1184/2334349146.py:1: UserWarning: Parsing '20-05-2020' in DD/MM/YYYY format. Provide format or specify infer_datetime_format=True for consistent parsing.\n",
      "  dolar[\"Fecha\"] = pd.to_datetime(dolar[\"Fecha\"])\n",
      "/var/folders/04/tp4wyrys03s5z6y1v720v3580000gn/T/ipykernel_1184/2334349146.py:1: UserWarning: Parsing '19-05-2020' in DD/MM/YYYY format. Provide format or specify infer_datetime_format=True for consistent parsing.\n",
      "  dolar[\"Fecha\"] = pd.to_datetime(dolar[\"Fecha\"])\n",
      "/var/folders/04/tp4wyrys03s5z6y1v720v3580000gn/T/ipykernel_1184/2334349146.py:1: UserWarning: Parsing '18-05-2020' in DD/MM/YYYY format. Provide format or specify infer_datetime_format=True for consistent parsing.\n",
      "  dolar[\"Fecha\"] = pd.to_datetime(dolar[\"Fecha\"])\n",
      "/var/folders/04/tp4wyrys03s5z6y1v720v3580000gn/T/ipykernel_1184/2334349146.py:1: UserWarning: Parsing '15-05-2020' in DD/MM/YYYY format. Provide format or specify infer_datetime_format=True for consistent parsing.\n",
      "  dolar[\"Fecha\"] = pd.to_datetime(dolar[\"Fecha\"])\n",
      "/var/folders/04/tp4wyrys03s5z6y1v720v3580000gn/T/ipykernel_1184/2334349146.py:1: UserWarning: Parsing '14-05-2020' in DD/MM/YYYY format. Provide format or specify infer_datetime_format=True for consistent parsing.\n",
      "  dolar[\"Fecha\"] = pd.to_datetime(dolar[\"Fecha\"])\n",
      "/var/folders/04/tp4wyrys03s5z6y1v720v3580000gn/T/ipykernel_1184/2334349146.py:1: UserWarning: Parsing '13-05-2020' in DD/MM/YYYY format. Provide format or specify infer_datetime_format=True for consistent parsing.\n",
      "  dolar[\"Fecha\"] = pd.to_datetime(dolar[\"Fecha\"])\n",
      "/var/folders/04/tp4wyrys03s5z6y1v720v3580000gn/T/ipykernel_1184/2334349146.py:1: UserWarning: Parsing '30-04-2020' in DD/MM/YYYY format. Provide format or specify infer_datetime_format=True for consistent parsing.\n",
      "  dolar[\"Fecha\"] = pd.to_datetime(dolar[\"Fecha\"])\n",
      "/var/folders/04/tp4wyrys03s5z6y1v720v3580000gn/T/ipykernel_1184/2334349146.py:1: UserWarning: Parsing '29-04-2020' in DD/MM/YYYY format. Provide format or specify infer_datetime_format=True for consistent parsing.\n",
      "  dolar[\"Fecha\"] = pd.to_datetime(dolar[\"Fecha\"])\n",
      "/var/folders/04/tp4wyrys03s5z6y1v720v3580000gn/T/ipykernel_1184/2334349146.py:1: UserWarning: Parsing '28-04-2020' in DD/MM/YYYY format. Provide format or specify infer_datetime_format=True for consistent parsing.\n",
      "  dolar[\"Fecha\"] = pd.to_datetime(dolar[\"Fecha\"])\n",
      "/var/folders/04/tp4wyrys03s5z6y1v720v3580000gn/T/ipykernel_1184/2334349146.py:1: UserWarning: Parsing '27-04-2020' in DD/MM/YYYY format. Provide format or specify infer_datetime_format=True for consistent parsing.\n",
      "  dolar[\"Fecha\"] = pd.to_datetime(dolar[\"Fecha\"])\n",
      "/var/folders/04/tp4wyrys03s5z6y1v720v3580000gn/T/ipykernel_1184/2334349146.py:1: UserWarning: Parsing '24-04-2020' in DD/MM/YYYY format. Provide format or specify infer_datetime_format=True for consistent parsing.\n",
      "  dolar[\"Fecha\"] = pd.to_datetime(dolar[\"Fecha\"])\n",
      "/var/folders/04/tp4wyrys03s5z6y1v720v3580000gn/T/ipykernel_1184/2334349146.py:1: UserWarning: Parsing '23-04-2020' in DD/MM/YYYY format. Provide format or specify infer_datetime_format=True for consistent parsing.\n",
      "  dolar[\"Fecha\"] = pd.to_datetime(dolar[\"Fecha\"])\n",
      "/var/folders/04/tp4wyrys03s5z6y1v720v3580000gn/T/ipykernel_1184/2334349146.py:1: UserWarning: Parsing '22-04-2020' in DD/MM/YYYY format. Provide format or specify infer_datetime_format=True for consistent parsing.\n",
      "  dolar[\"Fecha\"] = pd.to_datetime(dolar[\"Fecha\"])\n",
      "/var/folders/04/tp4wyrys03s5z6y1v720v3580000gn/T/ipykernel_1184/2334349146.py:1: UserWarning: Parsing '21-04-2020' in DD/MM/YYYY format. Provide format or specify infer_datetime_format=True for consistent parsing.\n",
      "  dolar[\"Fecha\"] = pd.to_datetime(dolar[\"Fecha\"])\n",
      "/var/folders/04/tp4wyrys03s5z6y1v720v3580000gn/T/ipykernel_1184/2334349146.py:1: UserWarning: Parsing '20-04-2020' in DD/MM/YYYY format. Provide format or specify infer_datetime_format=True for consistent parsing.\n",
      "  dolar[\"Fecha\"] = pd.to_datetime(dolar[\"Fecha\"])\n",
      "/var/folders/04/tp4wyrys03s5z6y1v720v3580000gn/T/ipykernel_1184/2334349146.py:1: UserWarning: Parsing '17-04-2020' in DD/MM/YYYY format. Provide format or specify infer_datetime_format=True for consistent parsing.\n",
      "  dolar[\"Fecha\"] = pd.to_datetime(dolar[\"Fecha\"])\n",
      "/var/folders/04/tp4wyrys03s5z6y1v720v3580000gn/T/ipykernel_1184/2334349146.py:1: UserWarning: Parsing '16-04-2020' in DD/MM/YYYY format. Provide format or specify infer_datetime_format=True for consistent parsing.\n",
      "  dolar[\"Fecha\"] = pd.to_datetime(dolar[\"Fecha\"])\n",
      "/var/folders/04/tp4wyrys03s5z6y1v720v3580000gn/T/ipykernel_1184/2334349146.py:1: UserWarning: Parsing '15-04-2020' in DD/MM/YYYY format. Provide format or specify infer_datetime_format=True for consistent parsing.\n",
      "  dolar[\"Fecha\"] = pd.to_datetime(dolar[\"Fecha\"])\n",
      "/var/folders/04/tp4wyrys03s5z6y1v720v3580000gn/T/ipykernel_1184/2334349146.py:1: UserWarning: Parsing '14-04-2020' in DD/MM/YYYY format. Provide format or specify infer_datetime_format=True for consistent parsing.\n",
      "  dolar[\"Fecha\"] = pd.to_datetime(dolar[\"Fecha\"])\n",
      "/var/folders/04/tp4wyrys03s5z6y1v720v3580000gn/T/ipykernel_1184/2334349146.py:1: UserWarning: Parsing '13-04-2020' in DD/MM/YYYY format. Provide format or specify infer_datetime_format=True for consistent parsing.\n",
      "  dolar[\"Fecha\"] = pd.to_datetime(dolar[\"Fecha\"])\n",
      "/var/folders/04/tp4wyrys03s5z6y1v720v3580000gn/T/ipykernel_1184/2334349146.py:1: UserWarning: Parsing '30-03-2020' in DD/MM/YYYY format. Provide format or specify infer_datetime_format=True for consistent parsing.\n",
      "  dolar[\"Fecha\"] = pd.to_datetime(dolar[\"Fecha\"])\n",
      "/var/folders/04/tp4wyrys03s5z6y1v720v3580000gn/T/ipykernel_1184/2334349146.py:1: UserWarning: Parsing '27-03-2020' in DD/MM/YYYY format. Provide format or specify infer_datetime_format=True for consistent parsing.\n",
      "  dolar[\"Fecha\"] = pd.to_datetime(dolar[\"Fecha\"])\n",
      "/var/folders/04/tp4wyrys03s5z6y1v720v3580000gn/T/ipykernel_1184/2334349146.py:1: UserWarning: Parsing '26-03-2020' in DD/MM/YYYY format. Provide format or specify infer_datetime_format=True for consistent parsing.\n",
      "  dolar[\"Fecha\"] = pd.to_datetime(dolar[\"Fecha\"])\n",
      "/var/folders/04/tp4wyrys03s5z6y1v720v3580000gn/T/ipykernel_1184/2334349146.py:1: UserWarning: Parsing '25-03-2020' in DD/MM/YYYY format. Provide format or specify infer_datetime_format=True for consistent parsing.\n",
      "  dolar[\"Fecha\"] = pd.to_datetime(dolar[\"Fecha\"])\n",
      "/var/folders/04/tp4wyrys03s5z6y1v720v3580000gn/T/ipykernel_1184/2334349146.py:1: UserWarning: Parsing '20-03-2020' in DD/MM/YYYY format. Provide format or specify infer_datetime_format=True for consistent parsing.\n",
      "  dolar[\"Fecha\"] = pd.to_datetime(dolar[\"Fecha\"])\n",
      "/var/folders/04/tp4wyrys03s5z6y1v720v3580000gn/T/ipykernel_1184/2334349146.py:1: UserWarning: Parsing '19-03-2020' in DD/MM/YYYY format. Provide format or specify infer_datetime_format=True for consistent parsing.\n",
      "  dolar[\"Fecha\"] = pd.to_datetime(dolar[\"Fecha\"])\n",
      "/var/folders/04/tp4wyrys03s5z6y1v720v3580000gn/T/ipykernel_1184/2334349146.py:1: UserWarning: Parsing '18-03-2020' in DD/MM/YYYY format. Provide format or specify infer_datetime_format=True for consistent parsing.\n",
      "  dolar[\"Fecha\"] = pd.to_datetime(dolar[\"Fecha\"])\n",
      "/var/folders/04/tp4wyrys03s5z6y1v720v3580000gn/T/ipykernel_1184/2334349146.py:1: UserWarning: Parsing '17-03-2020' in DD/MM/YYYY format. Provide format or specify infer_datetime_format=True for consistent parsing.\n",
      "  dolar[\"Fecha\"] = pd.to_datetime(dolar[\"Fecha\"])\n",
      "/var/folders/04/tp4wyrys03s5z6y1v720v3580000gn/T/ipykernel_1184/2334349146.py:1: UserWarning: Parsing '16-03-2020' in DD/MM/YYYY format. Provide format or specify infer_datetime_format=True for consistent parsing.\n",
      "  dolar[\"Fecha\"] = pd.to_datetime(dolar[\"Fecha\"])\n",
      "/var/folders/04/tp4wyrys03s5z6y1v720v3580000gn/T/ipykernel_1184/2334349146.py:1: UserWarning: Parsing '13-03-2020' in DD/MM/YYYY format. Provide format or specify infer_datetime_format=True for consistent parsing.\n",
      "  dolar[\"Fecha\"] = pd.to_datetime(dolar[\"Fecha\"])\n",
      "/var/folders/04/tp4wyrys03s5z6y1v720v3580000gn/T/ipykernel_1184/2334349146.py:1: UserWarning: Parsing '28-02-2020' in DD/MM/YYYY format. Provide format or specify infer_datetime_format=True for consistent parsing.\n",
      "  dolar[\"Fecha\"] = pd.to_datetime(dolar[\"Fecha\"])\n",
      "/var/folders/04/tp4wyrys03s5z6y1v720v3580000gn/T/ipykernel_1184/2334349146.py:1: UserWarning: Parsing '27-02-2020' in DD/MM/YYYY format. Provide format or specify infer_datetime_format=True for consistent parsing.\n",
      "  dolar[\"Fecha\"] = pd.to_datetime(dolar[\"Fecha\"])\n",
      "/var/folders/04/tp4wyrys03s5z6y1v720v3580000gn/T/ipykernel_1184/2334349146.py:1: UserWarning: Parsing '26-02-2020' in DD/MM/YYYY format. Provide format or specify infer_datetime_format=True for consistent parsing.\n",
      "  dolar[\"Fecha\"] = pd.to_datetime(dolar[\"Fecha\"])\n",
      "/var/folders/04/tp4wyrys03s5z6y1v720v3580000gn/T/ipykernel_1184/2334349146.py:1: UserWarning: Parsing '21-02-2020' in DD/MM/YYYY format. Provide format or specify infer_datetime_format=True for consistent parsing.\n",
      "  dolar[\"Fecha\"] = pd.to_datetime(dolar[\"Fecha\"])\n",
      "/var/folders/04/tp4wyrys03s5z6y1v720v3580000gn/T/ipykernel_1184/2334349146.py:1: UserWarning: Parsing '20-02-2020' in DD/MM/YYYY format. Provide format or specify infer_datetime_format=True for consistent parsing.\n",
      "  dolar[\"Fecha\"] = pd.to_datetime(dolar[\"Fecha\"])\n",
      "/var/folders/04/tp4wyrys03s5z6y1v720v3580000gn/T/ipykernel_1184/2334349146.py:1: UserWarning: Parsing '19-02-2020' in DD/MM/YYYY format. Provide format or specify infer_datetime_format=True for consistent parsing.\n",
      "  dolar[\"Fecha\"] = pd.to_datetime(dolar[\"Fecha\"])\n",
      "/var/folders/04/tp4wyrys03s5z6y1v720v3580000gn/T/ipykernel_1184/2334349146.py:1: UserWarning: Parsing '18-02-2020' in DD/MM/YYYY format. Provide format or specify infer_datetime_format=True for consistent parsing.\n",
      "  dolar[\"Fecha\"] = pd.to_datetime(dolar[\"Fecha\"])\n",
      "/var/folders/04/tp4wyrys03s5z6y1v720v3580000gn/T/ipykernel_1184/2334349146.py:1: UserWarning: Parsing '17-02-2020' in DD/MM/YYYY format. Provide format or specify infer_datetime_format=True for consistent parsing.\n",
      "  dolar[\"Fecha\"] = pd.to_datetime(dolar[\"Fecha\"])\n",
      "/var/folders/04/tp4wyrys03s5z6y1v720v3580000gn/T/ipykernel_1184/2334349146.py:1: UserWarning: Parsing '14-02-2020' in DD/MM/YYYY format. Provide format or specify infer_datetime_format=True for consistent parsing.\n",
      "  dolar[\"Fecha\"] = pd.to_datetime(dolar[\"Fecha\"])\n",
      "/var/folders/04/tp4wyrys03s5z6y1v720v3580000gn/T/ipykernel_1184/2334349146.py:1: UserWarning: Parsing '13-02-2020' in DD/MM/YYYY format. Provide format or specify infer_datetime_format=True for consistent parsing.\n",
      "  dolar[\"Fecha\"] = pd.to_datetime(dolar[\"Fecha\"])\n",
      "/var/folders/04/tp4wyrys03s5z6y1v720v3580000gn/T/ipykernel_1184/2334349146.py:1: UserWarning: Parsing '31-01-2020' in DD/MM/YYYY format. Provide format or specify infer_datetime_format=True for consistent parsing.\n",
      "  dolar[\"Fecha\"] = pd.to_datetime(dolar[\"Fecha\"])\n",
      "/var/folders/04/tp4wyrys03s5z6y1v720v3580000gn/T/ipykernel_1184/2334349146.py:1: UserWarning: Parsing '30-01-2020' in DD/MM/YYYY format. Provide format or specify infer_datetime_format=True for consistent parsing.\n",
      "  dolar[\"Fecha\"] = pd.to_datetime(dolar[\"Fecha\"])\n",
      "/var/folders/04/tp4wyrys03s5z6y1v720v3580000gn/T/ipykernel_1184/2334349146.py:1: UserWarning: Parsing '29-01-2020' in DD/MM/YYYY format. Provide format or specify infer_datetime_format=True for consistent parsing.\n",
      "  dolar[\"Fecha\"] = pd.to_datetime(dolar[\"Fecha\"])\n",
      "/var/folders/04/tp4wyrys03s5z6y1v720v3580000gn/T/ipykernel_1184/2334349146.py:1: UserWarning: Parsing '28-01-2020' in DD/MM/YYYY format. Provide format or specify infer_datetime_format=True for consistent parsing.\n",
      "  dolar[\"Fecha\"] = pd.to_datetime(dolar[\"Fecha\"])\n",
      "/var/folders/04/tp4wyrys03s5z6y1v720v3580000gn/T/ipykernel_1184/2334349146.py:1: UserWarning: Parsing '27-01-2020' in DD/MM/YYYY format. Provide format or specify infer_datetime_format=True for consistent parsing.\n",
      "  dolar[\"Fecha\"] = pd.to_datetime(dolar[\"Fecha\"])\n",
      "/var/folders/04/tp4wyrys03s5z6y1v720v3580000gn/T/ipykernel_1184/2334349146.py:1: UserWarning: Parsing '24-01-2020' in DD/MM/YYYY format. Provide format or specify infer_datetime_format=True for consistent parsing.\n",
      "  dolar[\"Fecha\"] = pd.to_datetime(dolar[\"Fecha\"])\n",
      "/var/folders/04/tp4wyrys03s5z6y1v720v3580000gn/T/ipykernel_1184/2334349146.py:1: UserWarning: Parsing '23-01-2020' in DD/MM/YYYY format. Provide format or specify infer_datetime_format=True for consistent parsing.\n",
      "  dolar[\"Fecha\"] = pd.to_datetime(dolar[\"Fecha\"])\n",
      "/var/folders/04/tp4wyrys03s5z6y1v720v3580000gn/T/ipykernel_1184/2334349146.py:1: UserWarning: Parsing '22-01-2020' in DD/MM/YYYY format. Provide format or specify infer_datetime_format=True for consistent parsing.\n",
      "  dolar[\"Fecha\"] = pd.to_datetime(dolar[\"Fecha\"])\n",
      "/var/folders/04/tp4wyrys03s5z6y1v720v3580000gn/T/ipykernel_1184/2334349146.py:1: UserWarning: Parsing '21-01-2020' in DD/MM/YYYY format. Provide format or specify infer_datetime_format=True for consistent parsing.\n",
      "  dolar[\"Fecha\"] = pd.to_datetime(dolar[\"Fecha\"])\n",
      "/var/folders/04/tp4wyrys03s5z6y1v720v3580000gn/T/ipykernel_1184/2334349146.py:1: UserWarning: Parsing '20-01-2020' in DD/MM/YYYY format. Provide format or specify infer_datetime_format=True for consistent parsing.\n",
      "  dolar[\"Fecha\"] = pd.to_datetime(dolar[\"Fecha\"])\n",
      "/var/folders/04/tp4wyrys03s5z6y1v720v3580000gn/T/ipykernel_1184/2334349146.py:1: UserWarning: Parsing '17-01-2020' in DD/MM/YYYY format. Provide format or specify infer_datetime_format=True for consistent parsing.\n",
      "  dolar[\"Fecha\"] = pd.to_datetime(dolar[\"Fecha\"])\n",
      "/var/folders/04/tp4wyrys03s5z6y1v720v3580000gn/T/ipykernel_1184/2334349146.py:1: UserWarning: Parsing '16-01-2020' in DD/MM/YYYY format. Provide format or specify infer_datetime_format=True for consistent parsing.\n",
      "  dolar[\"Fecha\"] = pd.to_datetime(dolar[\"Fecha\"])\n",
      "/var/folders/04/tp4wyrys03s5z6y1v720v3580000gn/T/ipykernel_1184/2334349146.py:1: UserWarning: Parsing '15-01-2020' in DD/MM/YYYY format. Provide format or specify infer_datetime_format=True for consistent parsing.\n",
      "  dolar[\"Fecha\"] = pd.to_datetime(dolar[\"Fecha\"])\n",
      "/var/folders/04/tp4wyrys03s5z6y1v720v3580000gn/T/ipykernel_1184/2334349146.py:1: UserWarning: Parsing '14-01-2020' in DD/MM/YYYY format. Provide format or specify infer_datetime_format=True for consistent parsing.\n",
      "  dolar[\"Fecha\"] = pd.to_datetime(dolar[\"Fecha\"])\n",
      "/var/folders/04/tp4wyrys03s5z6y1v720v3580000gn/T/ipykernel_1184/2334349146.py:1: UserWarning: Parsing '13-01-2020' in DD/MM/YYYY format. Provide format or specify infer_datetime_format=True for consistent parsing.\n",
      "  dolar[\"Fecha\"] = pd.to_datetime(dolar[\"Fecha\"])\n",
      "/var/folders/04/tp4wyrys03s5z6y1v720v3580000gn/T/ipykernel_1184/2334349146.py:1: UserWarning: Parsing '30-12-2019' in DD/MM/YYYY format. Provide format or specify infer_datetime_format=True for consistent parsing.\n",
      "  dolar[\"Fecha\"] = pd.to_datetime(dolar[\"Fecha\"])\n",
      "/var/folders/04/tp4wyrys03s5z6y1v720v3580000gn/T/ipykernel_1184/2334349146.py:1: UserWarning: Parsing '27-12-2019' in DD/MM/YYYY format. Provide format or specify infer_datetime_format=True for consistent parsing.\n",
      "  dolar[\"Fecha\"] = pd.to_datetime(dolar[\"Fecha\"])\n",
      "/var/folders/04/tp4wyrys03s5z6y1v720v3580000gn/T/ipykernel_1184/2334349146.py:1: UserWarning: Parsing '26-12-2019' in DD/MM/YYYY format. Provide format or specify infer_datetime_format=True for consistent parsing.\n",
      "  dolar[\"Fecha\"] = pd.to_datetime(dolar[\"Fecha\"])\n",
      "/var/folders/04/tp4wyrys03s5z6y1v720v3580000gn/T/ipykernel_1184/2334349146.py:1: UserWarning: Parsing '23-12-2019' in DD/MM/YYYY format. Provide format or specify infer_datetime_format=True for consistent parsing.\n",
      "  dolar[\"Fecha\"] = pd.to_datetime(dolar[\"Fecha\"])\n",
      "/var/folders/04/tp4wyrys03s5z6y1v720v3580000gn/T/ipykernel_1184/2334349146.py:1: UserWarning: Parsing '20-12-2019' in DD/MM/YYYY format. Provide format or specify infer_datetime_format=True for consistent parsing.\n",
      "  dolar[\"Fecha\"] = pd.to_datetime(dolar[\"Fecha\"])\n",
      "/var/folders/04/tp4wyrys03s5z6y1v720v3580000gn/T/ipykernel_1184/2334349146.py:1: UserWarning: Parsing '19-12-2019' in DD/MM/YYYY format. Provide format or specify infer_datetime_format=True for consistent parsing.\n",
      "  dolar[\"Fecha\"] = pd.to_datetime(dolar[\"Fecha\"])\n",
      "/var/folders/04/tp4wyrys03s5z6y1v720v3580000gn/T/ipykernel_1184/2334349146.py:1: UserWarning: Parsing '18-12-2019' in DD/MM/YYYY format. Provide format or specify infer_datetime_format=True for consistent parsing.\n",
      "  dolar[\"Fecha\"] = pd.to_datetime(dolar[\"Fecha\"])\n",
      "/var/folders/04/tp4wyrys03s5z6y1v720v3580000gn/T/ipykernel_1184/2334349146.py:1: UserWarning: Parsing '17-12-2019' in DD/MM/YYYY format. Provide format or specify infer_datetime_format=True for consistent parsing.\n",
      "  dolar[\"Fecha\"] = pd.to_datetime(dolar[\"Fecha\"])\n",
      "/var/folders/04/tp4wyrys03s5z6y1v720v3580000gn/T/ipykernel_1184/2334349146.py:1: UserWarning: Parsing '16-12-2019' in DD/MM/YYYY format. Provide format or specify infer_datetime_format=True for consistent parsing.\n",
      "  dolar[\"Fecha\"] = pd.to_datetime(dolar[\"Fecha\"])\n",
      "/var/folders/04/tp4wyrys03s5z6y1v720v3580000gn/T/ipykernel_1184/2334349146.py:1: UserWarning: Parsing '13-12-2019' in DD/MM/YYYY format. Provide format or specify infer_datetime_format=True for consistent parsing.\n",
      "  dolar[\"Fecha\"] = pd.to_datetime(dolar[\"Fecha\"])\n",
      "/var/folders/04/tp4wyrys03s5z6y1v720v3580000gn/T/ipykernel_1184/2334349146.py:1: UserWarning: Parsing '29-11-2019' in DD/MM/YYYY format. Provide format or specify infer_datetime_format=True for consistent parsing.\n",
      "  dolar[\"Fecha\"] = pd.to_datetime(dolar[\"Fecha\"])\n",
      "/var/folders/04/tp4wyrys03s5z6y1v720v3580000gn/T/ipykernel_1184/2334349146.py:1: UserWarning: Parsing '28-11-2019' in DD/MM/YYYY format. Provide format or specify infer_datetime_format=True for consistent parsing.\n",
      "  dolar[\"Fecha\"] = pd.to_datetime(dolar[\"Fecha\"])\n",
      "/var/folders/04/tp4wyrys03s5z6y1v720v3580000gn/T/ipykernel_1184/2334349146.py:1: UserWarning: Parsing '27-11-2019' in DD/MM/YYYY format. Provide format or specify infer_datetime_format=True for consistent parsing.\n",
      "  dolar[\"Fecha\"] = pd.to_datetime(dolar[\"Fecha\"])\n",
      "/var/folders/04/tp4wyrys03s5z6y1v720v3580000gn/T/ipykernel_1184/2334349146.py:1: UserWarning: Parsing '26-11-2019' in DD/MM/YYYY format. Provide format or specify infer_datetime_format=True for consistent parsing.\n",
      "  dolar[\"Fecha\"] = pd.to_datetime(dolar[\"Fecha\"])\n",
      "/var/folders/04/tp4wyrys03s5z6y1v720v3580000gn/T/ipykernel_1184/2334349146.py:1: UserWarning: Parsing '25-11-2019' in DD/MM/YYYY format. Provide format or specify infer_datetime_format=True for consistent parsing.\n",
      "  dolar[\"Fecha\"] = pd.to_datetime(dolar[\"Fecha\"])\n",
      "/var/folders/04/tp4wyrys03s5z6y1v720v3580000gn/T/ipykernel_1184/2334349146.py:1: UserWarning: Parsing '22-11-2019' in DD/MM/YYYY format. Provide format or specify infer_datetime_format=True for consistent parsing.\n",
      "  dolar[\"Fecha\"] = pd.to_datetime(dolar[\"Fecha\"])\n",
      "/var/folders/04/tp4wyrys03s5z6y1v720v3580000gn/T/ipykernel_1184/2334349146.py:1: UserWarning: Parsing '21-11-2019' in DD/MM/YYYY format. Provide format or specify infer_datetime_format=True for consistent parsing.\n",
      "  dolar[\"Fecha\"] = pd.to_datetime(dolar[\"Fecha\"])\n",
      "/var/folders/04/tp4wyrys03s5z6y1v720v3580000gn/T/ipykernel_1184/2334349146.py:1: UserWarning: Parsing '20-11-2019' in DD/MM/YYYY format. Provide format or specify infer_datetime_format=True for consistent parsing.\n",
      "  dolar[\"Fecha\"] = pd.to_datetime(dolar[\"Fecha\"])\n",
      "/var/folders/04/tp4wyrys03s5z6y1v720v3580000gn/T/ipykernel_1184/2334349146.py:1: UserWarning: Parsing '19-11-2019' in DD/MM/YYYY format. Provide format or specify infer_datetime_format=True for consistent parsing.\n",
      "  dolar[\"Fecha\"] = pd.to_datetime(dolar[\"Fecha\"])\n",
      "/var/folders/04/tp4wyrys03s5z6y1v720v3580000gn/T/ipykernel_1184/2334349146.py:1: UserWarning: Parsing '15-11-2019' in DD/MM/YYYY format. Provide format or specify infer_datetime_format=True for consistent parsing.\n",
      "  dolar[\"Fecha\"] = pd.to_datetime(dolar[\"Fecha\"])\n",
      "/var/folders/04/tp4wyrys03s5z6y1v720v3580000gn/T/ipykernel_1184/2334349146.py:1: UserWarning: Parsing '14-11-2019' in DD/MM/YYYY format. Provide format or specify infer_datetime_format=True for consistent parsing.\n",
      "  dolar[\"Fecha\"] = pd.to_datetime(dolar[\"Fecha\"])\n",
      "/var/folders/04/tp4wyrys03s5z6y1v720v3580000gn/T/ipykernel_1184/2334349146.py:1: UserWarning: Parsing '13-11-2019' in DD/MM/YYYY format. Provide format or specify infer_datetime_format=True for consistent parsing.\n",
      "  dolar[\"Fecha\"] = pd.to_datetime(dolar[\"Fecha\"])\n",
      "/var/folders/04/tp4wyrys03s5z6y1v720v3580000gn/T/ipykernel_1184/2334349146.py:1: UserWarning: Parsing '31-10-2019' in DD/MM/YYYY format. Provide format or specify infer_datetime_format=True for consistent parsing.\n",
      "  dolar[\"Fecha\"] = pd.to_datetime(dolar[\"Fecha\"])\n",
      "/var/folders/04/tp4wyrys03s5z6y1v720v3580000gn/T/ipykernel_1184/2334349146.py:1: UserWarning: Parsing '30-10-2019' in DD/MM/YYYY format. Provide format or specify infer_datetime_format=True for consistent parsing.\n",
      "  dolar[\"Fecha\"] = pd.to_datetime(dolar[\"Fecha\"])\n",
      "/var/folders/04/tp4wyrys03s5z6y1v720v3580000gn/T/ipykernel_1184/2334349146.py:1: UserWarning: Parsing '29-10-2019' in DD/MM/YYYY format. Provide format or specify infer_datetime_format=True for consistent parsing.\n",
      "  dolar[\"Fecha\"] = pd.to_datetime(dolar[\"Fecha\"])\n",
      "/var/folders/04/tp4wyrys03s5z6y1v720v3580000gn/T/ipykernel_1184/2334349146.py:1: UserWarning: Parsing '28-10-2019' in DD/MM/YYYY format. Provide format or specify infer_datetime_format=True for consistent parsing.\n",
      "  dolar[\"Fecha\"] = pd.to_datetime(dolar[\"Fecha\"])\n",
      "/var/folders/04/tp4wyrys03s5z6y1v720v3580000gn/T/ipykernel_1184/2334349146.py:1: UserWarning: Parsing '25-10-2019' in DD/MM/YYYY format. Provide format or specify infer_datetime_format=True for consistent parsing.\n",
      "  dolar[\"Fecha\"] = pd.to_datetime(dolar[\"Fecha\"])\n",
      "/var/folders/04/tp4wyrys03s5z6y1v720v3580000gn/T/ipykernel_1184/2334349146.py:1: UserWarning: Parsing '24-10-2019' in DD/MM/YYYY format. Provide format or specify infer_datetime_format=True for consistent parsing.\n",
      "  dolar[\"Fecha\"] = pd.to_datetime(dolar[\"Fecha\"])\n",
      "/var/folders/04/tp4wyrys03s5z6y1v720v3580000gn/T/ipykernel_1184/2334349146.py:1: UserWarning: Parsing '23-10-2019' in DD/MM/YYYY format. Provide format or specify infer_datetime_format=True for consistent parsing.\n",
      "  dolar[\"Fecha\"] = pd.to_datetime(dolar[\"Fecha\"])\n",
      "/var/folders/04/tp4wyrys03s5z6y1v720v3580000gn/T/ipykernel_1184/2334349146.py:1: UserWarning: Parsing '22-10-2019' in DD/MM/YYYY format. Provide format or specify infer_datetime_format=True for consistent parsing.\n",
      "  dolar[\"Fecha\"] = pd.to_datetime(dolar[\"Fecha\"])\n",
      "/var/folders/04/tp4wyrys03s5z6y1v720v3580000gn/T/ipykernel_1184/2334349146.py:1: UserWarning: Parsing '21-10-2019' in DD/MM/YYYY format. Provide format or specify infer_datetime_format=True for consistent parsing.\n",
      "  dolar[\"Fecha\"] = pd.to_datetime(dolar[\"Fecha\"])\n",
      "/var/folders/04/tp4wyrys03s5z6y1v720v3580000gn/T/ipykernel_1184/2334349146.py:1: UserWarning: Parsing '18-10-2019' in DD/MM/YYYY format. Provide format or specify infer_datetime_format=True for consistent parsing.\n",
      "  dolar[\"Fecha\"] = pd.to_datetime(dolar[\"Fecha\"])\n",
      "/var/folders/04/tp4wyrys03s5z6y1v720v3580000gn/T/ipykernel_1184/2334349146.py:1: UserWarning: Parsing '17-10-2019' in DD/MM/YYYY format. Provide format or specify infer_datetime_format=True for consistent parsing.\n",
      "  dolar[\"Fecha\"] = pd.to_datetime(dolar[\"Fecha\"])\n",
      "/var/folders/04/tp4wyrys03s5z6y1v720v3580000gn/T/ipykernel_1184/2334349146.py:1: UserWarning: Parsing '16-10-2019' in DD/MM/YYYY format. Provide format or specify infer_datetime_format=True for consistent parsing.\n",
      "  dolar[\"Fecha\"] = pd.to_datetime(dolar[\"Fecha\"])\n",
      "/var/folders/04/tp4wyrys03s5z6y1v720v3580000gn/T/ipykernel_1184/2334349146.py:1: UserWarning: Parsing '15-10-2019' in DD/MM/YYYY format. Provide format or specify infer_datetime_format=True for consistent parsing.\n",
      "  dolar[\"Fecha\"] = pd.to_datetime(dolar[\"Fecha\"])\n",
      "/var/folders/04/tp4wyrys03s5z6y1v720v3580000gn/T/ipykernel_1184/2334349146.py:1: UserWarning: Parsing '30-09-2019' in DD/MM/YYYY format. Provide format or specify infer_datetime_format=True for consistent parsing.\n",
      "  dolar[\"Fecha\"] = pd.to_datetime(dolar[\"Fecha\"])\n",
      "/var/folders/04/tp4wyrys03s5z6y1v720v3580000gn/T/ipykernel_1184/2334349146.py:1: UserWarning: Parsing '27-09-2019' in DD/MM/YYYY format. Provide format or specify infer_datetime_format=True for consistent parsing.\n",
      "  dolar[\"Fecha\"] = pd.to_datetime(dolar[\"Fecha\"])\n",
      "/var/folders/04/tp4wyrys03s5z6y1v720v3580000gn/T/ipykernel_1184/2334349146.py:1: UserWarning: Parsing '26-09-2019' in DD/MM/YYYY format. Provide format or specify infer_datetime_format=True for consistent parsing.\n",
      "  dolar[\"Fecha\"] = pd.to_datetime(dolar[\"Fecha\"])\n",
      "/var/folders/04/tp4wyrys03s5z6y1v720v3580000gn/T/ipykernel_1184/2334349146.py:1: UserWarning: Parsing '25-09-2019' in DD/MM/YYYY format. Provide format or specify infer_datetime_format=True for consistent parsing.\n",
      "  dolar[\"Fecha\"] = pd.to_datetime(dolar[\"Fecha\"])\n",
      "/var/folders/04/tp4wyrys03s5z6y1v720v3580000gn/T/ipykernel_1184/2334349146.py:1: UserWarning: Parsing '24-09-2019' in DD/MM/YYYY format. Provide format or specify infer_datetime_format=True for consistent parsing.\n",
      "  dolar[\"Fecha\"] = pd.to_datetime(dolar[\"Fecha\"])\n",
      "/var/folders/04/tp4wyrys03s5z6y1v720v3580000gn/T/ipykernel_1184/2334349146.py:1: UserWarning: Parsing '23-09-2019' in DD/MM/YYYY format. Provide format or specify infer_datetime_format=True for consistent parsing.\n",
      "  dolar[\"Fecha\"] = pd.to_datetime(dolar[\"Fecha\"])\n",
      "/var/folders/04/tp4wyrys03s5z6y1v720v3580000gn/T/ipykernel_1184/2334349146.py:1: UserWarning: Parsing '20-09-2019' in DD/MM/YYYY format. Provide format or specify infer_datetime_format=True for consistent parsing.\n",
      "  dolar[\"Fecha\"] = pd.to_datetime(dolar[\"Fecha\"])\n",
      "/var/folders/04/tp4wyrys03s5z6y1v720v3580000gn/T/ipykernel_1184/2334349146.py:1: UserWarning: Parsing '19-09-2019' in DD/MM/YYYY format. Provide format or specify infer_datetime_format=True for consistent parsing.\n",
      "  dolar[\"Fecha\"] = pd.to_datetime(dolar[\"Fecha\"])\n",
      "/var/folders/04/tp4wyrys03s5z6y1v720v3580000gn/T/ipykernel_1184/2334349146.py:1: UserWarning: Parsing '18-09-2019' in DD/MM/YYYY format. Provide format or specify infer_datetime_format=True for consistent parsing.\n",
      "  dolar[\"Fecha\"] = pd.to_datetime(dolar[\"Fecha\"])\n",
      "/var/folders/04/tp4wyrys03s5z6y1v720v3580000gn/T/ipykernel_1184/2334349146.py:1: UserWarning: Parsing '17-09-2019' in DD/MM/YYYY format. Provide format or specify infer_datetime_format=True for consistent parsing.\n",
      "  dolar[\"Fecha\"] = pd.to_datetime(dolar[\"Fecha\"])\n",
      "/var/folders/04/tp4wyrys03s5z6y1v720v3580000gn/T/ipykernel_1184/2334349146.py:1: UserWarning: Parsing '16-09-2019' in DD/MM/YYYY format. Provide format or specify infer_datetime_format=True for consistent parsing.\n",
      "  dolar[\"Fecha\"] = pd.to_datetime(dolar[\"Fecha\"])\n",
      "/var/folders/04/tp4wyrys03s5z6y1v720v3580000gn/T/ipykernel_1184/2334349146.py:1: UserWarning: Parsing '13-09-2019' in DD/MM/YYYY format. Provide format or specify infer_datetime_format=True for consistent parsing.\n",
      "  dolar[\"Fecha\"] = pd.to_datetime(dolar[\"Fecha\"])\n",
      "/var/folders/04/tp4wyrys03s5z6y1v720v3580000gn/T/ipykernel_1184/2334349146.py:1: UserWarning: Parsing '30-08-2019' in DD/MM/YYYY format. Provide format or specify infer_datetime_format=True for consistent parsing.\n",
      "  dolar[\"Fecha\"] = pd.to_datetime(dolar[\"Fecha\"])\n",
      "/var/folders/04/tp4wyrys03s5z6y1v720v3580000gn/T/ipykernel_1184/2334349146.py:1: UserWarning: Parsing '29-08-2019' in DD/MM/YYYY format. Provide format or specify infer_datetime_format=True for consistent parsing.\n",
      "  dolar[\"Fecha\"] = pd.to_datetime(dolar[\"Fecha\"])\n",
      "/var/folders/04/tp4wyrys03s5z6y1v720v3580000gn/T/ipykernel_1184/2334349146.py:1: UserWarning: Parsing '28-08-2019' in DD/MM/YYYY format. Provide format or specify infer_datetime_format=True for consistent parsing.\n",
      "  dolar[\"Fecha\"] = pd.to_datetime(dolar[\"Fecha\"])\n",
      "/var/folders/04/tp4wyrys03s5z6y1v720v3580000gn/T/ipykernel_1184/2334349146.py:1: UserWarning: Parsing '27-08-2019' in DD/MM/YYYY format. Provide format or specify infer_datetime_format=True for consistent parsing.\n",
      "  dolar[\"Fecha\"] = pd.to_datetime(dolar[\"Fecha\"])\n",
      "/var/folders/04/tp4wyrys03s5z6y1v720v3580000gn/T/ipykernel_1184/2334349146.py:1: UserWarning: Parsing '26-08-2019' in DD/MM/YYYY format. Provide format or specify infer_datetime_format=True for consistent parsing.\n",
      "  dolar[\"Fecha\"] = pd.to_datetime(dolar[\"Fecha\"])\n",
      "/var/folders/04/tp4wyrys03s5z6y1v720v3580000gn/T/ipykernel_1184/2334349146.py:1: UserWarning: Parsing '23-08-2019' in DD/MM/YYYY format. Provide format or specify infer_datetime_format=True for consistent parsing.\n",
      "  dolar[\"Fecha\"] = pd.to_datetime(dolar[\"Fecha\"])\n",
      "/var/folders/04/tp4wyrys03s5z6y1v720v3580000gn/T/ipykernel_1184/2334349146.py:1: UserWarning: Parsing '22-08-2019' in DD/MM/YYYY format. Provide format or specify infer_datetime_format=True for consistent parsing.\n",
      "  dolar[\"Fecha\"] = pd.to_datetime(dolar[\"Fecha\"])\n",
      "/var/folders/04/tp4wyrys03s5z6y1v720v3580000gn/T/ipykernel_1184/2334349146.py:1: UserWarning: Parsing '21-08-2019' in DD/MM/YYYY format. Provide format or specify infer_datetime_format=True for consistent parsing.\n",
      "  dolar[\"Fecha\"] = pd.to_datetime(dolar[\"Fecha\"])\n",
      "/var/folders/04/tp4wyrys03s5z6y1v720v3580000gn/T/ipykernel_1184/2334349146.py:1: UserWarning: Parsing '20-08-2019' in DD/MM/YYYY format. Provide format or specify infer_datetime_format=True for consistent parsing.\n",
      "  dolar[\"Fecha\"] = pd.to_datetime(dolar[\"Fecha\"])\n",
      "/var/folders/04/tp4wyrys03s5z6y1v720v3580000gn/T/ipykernel_1184/2334349146.py:1: UserWarning: Parsing '16-08-2019' in DD/MM/YYYY format. Provide format or specify infer_datetime_format=True for consistent parsing.\n",
      "  dolar[\"Fecha\"] = pd.to_datetime(dolar[\"Fecha\"])\n",
      "/var/folders/04/tp4wyrys03s5z6y1v720v3580000gn/T/ipykernel_1184/2334349146.py:1: UserWarning: Parsing '15-08-2019' in DD/MM/YYYY format. Provide format or specify infer_datetime_format=True for consistent parsing.\n",
      "  dolar[\"Fecha\"] = pd.to_datetime(dolar[\"Fecha\"])\n",
      "/var/folders/04/tp4wyrys03s5z6y1v720v3580000gn/T/ipykernel_1184/2334349146.py:1: UserWarning: Parsing '14-08-2019' in DD/MM/YYYY format. Provide format or specify infer_datetime_format=True for consistent parsing.\n",
      "  dolar[\"Fecha\"] = pd.to_datetime(dolar[\"Fecha\"])\n",
      "/var/folders/04/tp4wyrys03s5z6y1v720v3580000gn/T/ipykernel_1184/2334349146.py:1: UserWarning: Parsing '13-08-2019' in DD/MM/YYYY format. Provide format or specify infer_datetime_format=True for consistent parsing.\n",
      "  dolar[\"Fecha\"] = pd.to_datetime(dolar[\"Fecha\"])\n",
      "/var/folders/04/tp4wyrys03s5z6y1v720v3580000gn/T/ipykernel_1184/2334349146.py:1: UserWarning: Parsing '31-07-2019' in DD/MM/YYYY format. Provide format or specify infer_datetime_format=True for consistent parsing.\n",
      "  dolar[\"Fecha\"] = pd.to_datetime(dolar[\"Fecha\"])\n",
      "/var/folders/04/tp4wyrys03s5z6y1v720v3580000gn/T/ipykernel_1184/2334349146.py:1: UserWarning: Parsing '30-07-2019' in DD/MM/YYYY format. Provide format or specify infer_datetime_format=True for consistent parsing.\n",
      "  dolar[\"Fecha\"] = pd.to_datetime(dolar[\"Fecha\"])\n",
      "/var/folders/04/tp4wyrys03s5z6y1v720v3580000gn/T/ipykernel_1184/2334349146.py:1: UserWarning: Parsing '29-07-2019' in DD/MM/YYYY format. Provide format or specify infer_datetime_format=True for consistent parsing.\n",
      "  dolar[\"Fecha\"] = pd.to_datetime(dolar[\"Fecha\"])\n",
      "/var/folders/04/tp4wyrys03s5z6y1v720v3580000gn/T/ipykernel_1184/2334349146.py:1: UserWarning: Parsing '26-07-2019' in DD/MM/YYYY format. Provide format or specify infer_datetime_format=True for consistent parsing.\n",
      "  dolar[\"Fecha\"] = pd.to_datetime(dolar[\"Fecha\"])\n",
      "/var/folders/04/tp4wyrys03s5z6y1v720v3580000gn/T/ipykernel_1184/2334349146.py:1: UserWarning: Parsing '25-07-2019' in DD/MM/YYYY format. Provide format or specify infer_datetime_format=True for consistent parsing.\n",
      "  dolar[\"Fecha\"] = pd.to_datetime(dolar[\"Fecha\"])\n",
      "/var/folders/04/tp4wyrys03s5z6y1v720v3580000gn/T/ipykernel_1184/2334349146.py:1: UserWarning: Parsing '24-07-2019' in DD/MM/YYYY format. Provide format or specify infer_datetime_format=True for consistent parsing.\n",
      "  dolar[\"Fecha\"] = pd.to_datetime(dolar[\"Fecha\"])\n",
      "/var/folders/04/tp4wyrys03s5z6y1v720v3580000gn/T/ipykernel_1184/2334349146.py:1: UserWarning: Parsing '23-07-2019' in DD/MM/YYYY format. Provide format or specify infer_datetime_format=True for consistent parsing.\n",
      "  dolar[\"Fecha\"] = pd.to_datetime(dolar[\"Fecha\"])\n",
      "/var/folders/04/tp4wyrys03s5z6y1v720v3580000gn/T/ipykernel_1184/2334349146.py:1: UserWarning: Parsing '22-07-2019' in DD/MM/YYYY format. Provide format or specify infer_datetime_format=True for consistent parsing.\n",
      "  dolar[\"Fecha\"] = pd.to_datetime(dolar[\"Fecha\"])\n",
      "/var/folders/04/tp4wyrys03s5z6y1v720v3580000gn/T/ipykernel_1184/2334349146.py:1: UserWarning: Parsing '19-07-2019' in DD/MM/YYYY format. Provide format or specify infer_datetime_format=True for consistent parsing.\n",
      "  dolar[\"Fecha\"] = pd.to_datetime(dolar[\"Fecha\"])\n",
      "/var/folders/04/tp4wyrys03s5z6y1v720v3580000gn/T/ipykernel_1184/2334349146.py:1: UserWarning: Parsing '18-07-2019' in DD/MM/YYYY format. Provide format or specify infer_datetime_format=True for consistent parsing.\n",
      "  dolar[\"Fecha\"] = pd.to_datetime(dolar[\"Fecha\"])\n",
      "/var/folders/04/tp4wyrys03s5z6y1v720v3580000gn/T/ipykernel_1184/2334349146.py:1: UserWarning: Parsing '17-07-2019' in DD/MM/YYYY format. Provide format or specify infer_datetime_format=True for consistent parsing.\n",
      "  dolar[\"Fecha\"] = pd.to_datetime(dolar[\"Fecha\"])\n",
      "/var/folders/04/tp4wyrys03s5z6y1v720v3580000gn/T/ipykernel_1184/2334349146.py:1: UserWarning: Parsing '16-07-2019' in DD/MM/YYYY format. Provide format or specify infer_datetime_format=True for consistent parsing.\n",
      "  dolar[\"Fecha\"] = pd.to_datetime(dolar[\"Fecha\"])\n",
      "/var/folders/04/tp4wyrys03s5z6y1v720v3580000gn/T/ipykernel_1184/2334349146.py:1: UserWarning: Parsing '15-07-2019' in DD/MM/YYYY format. Provide format or specify infer_datetime_format=True for consistent parsing.\n",
      "  dolar[\"Fecha\"] = pd.to_datetime(dolar[\"Fecha\"])\n",
      "/var/folders/04/tp4wyrys03s5z6y1v720v3580000gn/T/ipykernel_1184/2334349146.py:1: UserWarning: Parsing '28-06-2019' in DD/MM/YYYY format. Provide format or specify infer_datetime_format=True for consistent parsing.\n",
      "  dolar[\"Fecha\"] = pd.to_datetime(dolar[\"Fecha\"])\n",
      "/var/folders/04/tp4wyrys03s5z6y1v720v3580000gn/T/ipykernel_1184/2334349146.py:1: UserWarning: Parsing '27-06-2019' in DD/MM/YYYY format. Provide format or specify infer_datetime_format=True for consistent parsing.\n",
      "  dolar[\"Fecha\"] = pd.to_datetime(dolar[\"Fecha\"])\n",
      "/var/folders/04/tp4wyrys03s5z6y1v720v3580000gn/T/ipykernel_1184/2334349146.py:1: UserWarning: Parsing '26-06-2019' in DD/MM/YYYY format. Provide format or specify infer_datetime_format=True for consistent parsing.\n",
      "  dolar[\"Fecha\"] = pd.to_datetime(dolar[\"Fecha\"])\n",
      "/var/folders/04/tp4wyrys03s5z6y1v720v3580000gn/T/ipykernel_1184/2334349146.py:1: UserWarning: Parsing '25-06-2019' in DD/MM/YYYY format. Provide format or specify infer_datetime_format=True for consistent parsing.\n",
      "  dolar[\"Fecha\"] = pd.to_datetime(dolar[\"Fecha\"])\n",
      "/var/folders/04/tp4wyrys03s5z6y1v720v3580000gn/T/ipykernel_1184/2334349146.py:1: UserWarning: Parsing '24-06-2019' in DD/MM/YYYY format. Provide format or specify infer_datetime_format=True for consistent parsing.\n",
      "  dolar[\"Fecha\"] = pd.to_datetime(dolar[\"Fecha\"])\n",
      "/var/folders/04/tp4wyrys03s5z6y1v720v3580000gn/T/ipykernel_1184/2334349146.py:1: UserWarning: Parsing '21-06-2019' in DD/MM/YYYY format. Provide format or specify infer_datetime_format=True for consistent parsing.\n",
      "  dolar[\"Fecha\"] = pd.to_datetime(dolar[\"Fecha\"])\n",
      "/var/folders/04/tp4wyrys03s5z6y1v720v3580000gn/T/ipykernel_1184/2334349146.py:1: UserWarning: Parsing '19-06-2019' in DD/MM/YYYY format. Provide format or specify infer_datetime_format=True for consistent parsing.\n",
      "  dolar[\"Fecha\"] = pd.to_datetime(dolar[\"Fecha\"])\n",
      "/var/folders/04/tp4wyrys03s5z6y1v720v3580000gn/T/ipykernel_1184/2334349146.py:1: UserWarning: Parsing '18-06-2019' in DD/MM/YYYY format. Provide format or specify infer_datetime_format=True for consistent parsing.\n",
      "  dolar[\"Fecha\"] = pd.to_datetime(dolar[\"Fecha\"])\n",
      "/var/folders/04/tp4wyrys03s5z6y1v720v3580000gn/T/ipykernel_1184/2334349146.py:1: UserWarning: Parsing '14-06-2019' in DD/MM/YYYY format. Provide format or specify infer_datetime_format=True for consistent parsing.\n",
      "  dolar[\"Fecha\"] = pd.to_datetime(dolar[\"Fecha\"])\n",
      "/var/folders/04/tp4wyrys03s5z6y1v720v3580000gn/T/ipykernel_1184/2334349146.py:1: UserWarning: Parsing '13-06-2019' in DD/MM/YYYY format. Provide format or specify infer_datetime_format=True for consistent parsing.\n",
      "  dolar[\"Fecha\"] = pd.to_datetime(dolar[\"Fecha\"])\n",
      "/var/folders/04/tp4wyrys03s5z6y1v720v3580000gn/T/ipykernel_1184/2334349146.py:1: UserWarning: Parsing '31-05-2019' in DD/MM/YYYY format. Provide format or specify infer_datetime_format=True for consistent parsing.\n",
      "  dolar[\"Fecha\"] = pd.to_datetime(dolar[\"Fecha\"])\n",
      "/var/folders/04/tp4wyrys03s5z6y1v720v3580000gn/T/ipykernel_1184/2334349146.py:1: UserWarning: Parsing '30-05-2019' in DD/MM/YYYY format. Provide format or specify infer_datetime_format=True for consistent parsing.\n",
      "  dolar[\"Fecha\"] = pd.to_datetime(dolar[\"Fecha\"])\n",
      "/var/folders/04/tp4wyrys03s5z6y1v720v3580000gn/T/ipykernel_1184/2334349146.py:1: UserWarning: Parsing '29-05-2019' in DD/MM/YYYY format. Provide format or specify infer_datetime_format=True for consistent parsing.\n",
      "  dolar[\"Fecha\"] = pd.to_datetime(dolar[\"Fecha\"])\n",
      "/var/folders/04/tp4wyrys03s5z6y1v720v3580000gn/T/ipykernel_1184/2334349146.py:1: UserWarning: Parsing '28-05-2019' in DD/MM/YYYY format. Provide format or specify infer_datetime_format=True for consistent parsing.\n",
      "  dolar[\"Fecha\"] = pd.to_datetime(dolar[\"Fecha\"])\n",
      "/var/folders/04/tp4wyrys03s5z6y1v720v3580000gn/T/ipykernel_1184/2334349146.py:1: UserWarning: Parsing '27-05-2019' in DD/MM/YYYY format. Provide format or specify infer_datetime_format=True for consistent parsing.\n",
      "  dolar[\"Fecha\"] = pd.to_datetime(dolar[\"Fecha\"])\n",
      "/var/folders/04/tp4wyrys03s5z6y1v720v3580000gn/T/ipykernel_1184/2334349146.py:1: UserWarning: Parsing '24-05-2019' in DD/MM/YYYY format. Provide format or specify infer_datetime_format=True for consistent parsing.\n",
      "  dolar[\"Fecha\"] = pd.to_datetime(dolar[\"Fecha\"])\n",
      "/var/folders/04/tp4wyrys03s5z6y1v720v3580000gn/T/ipykernel_1184/2334349146.py:1: UserWarning: Parsing '23-05-2019' in DD/MM/YYYY format. Provide format or specify infer_datetime_format=True for consistent parsing.\n",
      "  dolar[\"Fecha\"] = pd.to_datetime(dolar[\"Fecha\"])\n",
      "/var/folders/04/tp4wyrys03s5z6y1v720v3580000gn/T/ipykernel_1184/2334349146.py:1: UserWarning: Parsing '22-05-2019' in DD/MM/YYYY format. Provide format or specify infer_datetime_format=True for consistent parsing.\n",
      "  dolar[\"Fecha\"] = pd.to_datetime(dolar[\"Fecha\"])\n",
      "/var/folders/04/tp4wyrys03s5z6y1v720v3580000gn/T/ipykernel_1184/2334349146.py:1: UserWarning: Parsing '21-05-2019' in DD/MM/YYYY format. Provide format or specify infer_datetime_format=True for consistent parsing.\n",
      "  dolar[\"Fecha\"] = pd.to_datetime(dolar[\"Fecha\"])\n",
      "/var/folders/04/tp4wyrys03s5z6y1v720v3580000gn/T/ipykernel_1184/2334349146.py:1: UserWarning: Parsing '20-05-2019' in DD/MM/YYYY format. Provide format or specify infer_datetime_format=True for consistent parsing.\n",
      "  dolar[\"Fecha\"] = pd.to_datetime(dolar[\"Fecha\"])\n",
      "/var/folders/04/tp4wyrys03s5z6y1v720v3580000gn/T/ipykernel_1184/2334349146.py:1: UserWarning: Parsing '17-05-2019' in DD/MM/YYYY format. Provide format or specify infer_datetime_format=True for consistent parsing.\n",
      "  dolar[\"Fecha\"] = pd.to_datetime(dolar[\"Fecha\"])\n",
      "/var/folders/04/tp4wyrys03s5z6y1v720v3580000gn/T/ipykernel_1184/2334349146.py:1: UserWarning: Parsing '16-05-2019' in DD/MM/YYYY format. Provide format or specify infer_datetime_format=True for consistent parsing.\n",
      "  dolar[\"Fecha\"] = pd.to_datetime(dolar[\"Fecha\"])\n",
      "/var/folders/04/tp4wyrys03s5z6y1v720v3580000gn/T/ipykernel_1184/2334349146.py:1: UserWarning: Parsing '15-05-2019' in DD/MM/YYYY format. Provide format or specify infer_datetime_format=True for consistent parsing.\n",
      "  dolar[\"Fecha\"] = pd.to_datetime(dolar[\"Fecha\"])\n",
      "/var/folders/04/tp4wyrys03s5z6y1v720v3580000gn/T/ipykernel_1184/2334349146.py:1: UserWarning: Parsing '14-05-2019' in DD/MM/YYYY format. Provide format or specify infer_datetime_format=True for consistent parsing.\n",
      "  dolar[\"Fecha\"] = pd.to_datetime(dolar[\"Fecha\"])\n",
      "/var/folders/04/tp4wyrys03s5z6y1v720v3580000gn/T/ipykernel_1184/2334349146.py:1: UserWarning: Parsing '13-05-2019' in DD/MM/YYYY format. Provide format or specify infer_datetime_format=True for consistent parsing.\n",
      "  dolar[\"Fecha\"] = pd.to_datetime(dolar[\"Fecha\"])\n",
      "/var/folders/04/tp4wyrys03s5z6y1v720v3580000gn/T/ipykernel_1184/2334349146.py:1: UserWarning: Parsing '30-04-2019' in DD/MM/YYYY format. Provide format or specify infer_datetime_format=True for consistent parsing.\n",
      "  dolar[\"Fecha\"] = pd.to_datetime(dolar[\"Fecha\"])\n",
      "/var/folders/04/tp4wyrys03s5z6y1v720v3580000gn/T/ipykernel_1184/2334349146.py:1: UserWarning: Parsing '29-04-2019' in DD/MM/YYYY format. Provide format or specify infer_datetime_format=True for consistent parsing.\n",
      "  dolar[\"Fecha\"] = pd.to_datetime(dolar[\"Fecha\"])\n",
      "/var/folders/04/tp4wyrys03s5z6y1v720v3580000gn/T/ipykernel_1184/2334349146.py:1: UserWarning: Parsing '26-04-2019' in DD/MM/YYYY format. Provide format or specify infer_datetime_format=True for consistent parsing.\n",
      "  dolar[\"Fecha\"] = pd.to_datetime(dolar[\"Fecha\"])\n",
      "/var/folders/04/tp4wyrys03s5z6y1v720v3580000gn/T/ipykernel_1184/2334349146.py:1: UserWarning: Parsing '25-04-2019' in DD/MM/YYYY format. Provide format or specify infer_datetime_format=True for consistent parsing.\n",
      "  dolar[\"Fecha\"] = pd.to_datetime(dolar[\"Fecha\"])\n",
      "/var/folders/04/tp4wyrys03s5z6y1v720v3580000gn/T/ipykernel_1184/2334349146.py:1: UserWarning: Parsing '24-04-2019' in DD/MM/YYYY format. Provide format or specify infer_datetime_format=True for consistent parsing.\n",
      "  dolar[\"Fecha\"] = pd.to_datetime(dolar[\"Fecha\"])\n",
      "/var/folders/04/tp4wyrys03s5z6y1v720v3580000gn/T/ipykernel_1184/2334349146.py:1: UserWarning: Parsing '23-04-2019' in DD/MM/YYYY format. Provide format or specify infer_datetime_format=True for consistent parsing.\n",
      "  dolar[\"Fecha\"] = pd.to_datetime(dolar[\"Fecha\"])\n",
      "/var/folders/04/tp4wyrys03s5z6y1v720v3580000gn/T/ipykernel_1184/2334349146.py:1: UserWarning: Parsing '22-04-2019' in DD/MM/YYYY format. Provide format or specify infer_datetime_format=True for consistent parsing.\n",
      "  dolar[\"Fecha\"] = pd.to_datetime(dolar[\"Fecha\"])\n",
      "/var/folders/04/tp4wyrys03s5z6y1v720v3580000gn/T/ipykernel_1184/2334349146.py:1: UserWarning: Parsing '17-04-2019' in DD/MM/YYYY format. Provide format or specify infer_datetime_format=True for consistent parsing.\n",
      "  dolar[\"Fecha\"] = pd.to_datetime(dolar[\"Fecha\"])\n",
      "/var/folders/04/tp4wyrys03s5z6y1v720v3580000gn/T/ipykernel_1184/2334349146.py:1: UserWarning: Parsing '16-04-2019' in DD/MM/YYYY format. Provide format or specify infer_datetime_format=True for consistent parsing.\n",
      "  dolar[\"Fecha\"] = pd.to_datetime(dolar[\"Fecha\"])\n",
      "/var/folders/04/tp4wyrys03s5z6y1v720v3580000gn/T/ipykernel_1184/2334349146.py:1: UserWarning: Parsing '15-04-2019' in DD/MM/YYYY format. Provide format or specify infer_datetime_format=True for consistent parsing.\n",
      "  dolar[\"Fecha\"] = pd.to_datetime(dolar[\"Fecha\"])\n",
      "/var/folders/04/tp4wyrys03s5z6y1v720v3580000gn/T/ipykernel_1184/2334349146.py:1: UserWarning: Parsing '29-03-2019' in DD/MM/YYYY format. Provide format or specify infer_datetime_format=True for consistent parsing.\n",
      "  dolar[\"Fecha\"] = pd.to_datetime(dolar[\"Fecha\"])\n",
      "/var/folders/04/tp4wyrys03s5z6y1v720v3580000gn/T/ipykernel_1184/2334349146.py:1: UserWarning: Parsing '28-03-2019' in DD/MM/YYYY format. Provide format or specify infer_datetime_format=True for consistent parsing.\n",
      "  dolar[\"Fecha\"] = pd.to_datetime(dolar[\"Fecha\"])\n",
      "/var/folders/04/tp4wyrys03s5z6y1v720v3580000gn/T/ipykernel_1184/2334349146.py:1: UserWarning: Parsing '27-03-2019' in DD/MM/YYYY format. Provide format or specify infer_datetime_format=True for consistent parsing.\n",
      "  dolar[\"Fecha\"] = pd.to_datetime(dolar[\"Fecha\"])\n",
      "/var/folders/04/tp4wyrys03s5z6y1v720v3580000gn/T/ipykernel_1184/2334349146.py:1: UserWarning: Parsing '26-03-2019' in DD/MM/YYYY format. Provide format or specify infer_datetime_format=True for consistent parsing.\n",
      "  dolar[\"Fecha\"] = pd.to_datetime(dolar[\"Fecha\"])\n",
      "/var/folders/04/tp4wyrys03s5z6y1v720v3580000gn/T/ipykernel_1184/2334349146.py:1: UserWarning: Parsing '25-03-2019' in DD/MM/YYYY format. Provide format or specify infer_datetime_format=True for consistent parsing.\n",
      "  dolar[\"Fecha\"] = pd.to_datetime(dolar[\"Fecha\"])\n",
      "/var/folders/04/tp4wyrys03s5z6y1v720v3580000gn/T/ipykernel_1184/2334349146.py:1: UserWarning: Parsing '22-03-2019' in DD/MM/YYYY format. Provide format or specify infer_datetime_format=True for consistent parsing.\n",
      "  dolar[\"Fecha\"] = pd.to_datetime(dolar[\"Fecha\"])\n",
      "/var/folders/04/tp4wyrys03s5z6y1v720v3580000gn/T/ipykernel_1184/2334349146.py:1: UserWarning: Parsing '21-03-2019' in DD/MM/YYYY format. Provide format or specify infer_datetime_format=True for consistent parsing.\n",
      "  dolar[\"Fecha\"] = pd.to_datetime(dolar[\"Fecha\"])\n",
      "/var/folders/04/tp4wyrys03s5z6y1v720v3580000gn/T/ipykernel_1184/2334349146.py:1: UserWarning: Parsing '20-03-2019' in DD/MM/YYYY format. Provide format or specify infer_datetime_format=True for consistent parsing.\n",
      "  dolar[\"Fecha\"] = pd.to_datetime(dolar[\"Fecha\"])\n",
      "/var/folders/04/tp4wyrys03s5z6y1v720v3580000gn/T/ipykernel_1184/2334349146.py:1: UserWarning: Parsing '19-03-2019' in DD/MM/YYYY format. Provide format or specify infer_datetime_format=True for consistent parsing.\n",
      "  dolar[\"Fecha\"] = pd.to_datetime(dolar[\"Fecha\"])\n",
      "/var/folders/04/tp4wyrys03s5z6y1v720v3580000gn/T/ipykernel_1184/2334349146.py:1: UserWarning: Parsing '18-03-2019' in DD/MM/YYYY format. Provide format or specify infer_datetime_format=True for consistent parsing.\n",
      "  dolar[\"Fecha\"] = pd.to_datetime(dolar[\"Fecha\"])\n",
      "/var/folders/04/tp4wyrys03s5z6y1v720v3580000gn/T/ipykernel_1184/2334349146.py:1: UserWarning: Parsing '15-03-2019' in DD/MM/YYYY format. Provide format or specify infer_datetime_format=True for consistent parsing.\n",
      "  dolar[\"Fecha\"] = pd.to_datetime(dolar[\"Fecha\"])\n",
      "/var/folders/04/tp4wyrys03s5z6y1v720v3580000gn/T/ipykernel_1184/2334349146.py:1: UserWarning: Parsing '14-03-2019' in DD/MM/YYYY format. Provide format or specify infer_datetime_format=True for consistent parsing.\n",
      "  dolar[\"Fecha\"] = pd.to_datetime(dolar[\"Fecha\"])\n",
      "/var/folders/04/tp4wyrys03s5z6y1v720v3580000gn/T/ipykernel_1184/2334349146.py:1: UserWarning: Parsing '13-03-2019' in DD/MM/YYYY format. Provide format or specify infer_datetime_format=True for consistent parsing.\n",
      "  dolar[\"Fecha\"] = pd.to_datetime(dolar[\"Fecha\"])\n",
      "/var/folders/04/tp4wyrys03s5z6y1v720v3580000gn/T/ipykernel_1184/2334349146.py:1: UserWarning: Parsing '28-02-2019' in DD/MM/YYYY format. Provide format or specify infer_datetime_format=True for consistent parsing.\n",
      "  dolar[\"Fecha\"] = pd.to_datetime(dolar[\"Fecha\"])\n",
      "/var/folders/04/tp4wyrys03s5z6y1v720v3580000gn/T/ipykernel_1184/2334349146.py:1: UserWarning: Parsing '27-02-2019' in DD/MM/YYYY format. Provide format or specify infer_datetime_format=True for consistent parsing.\n",
      "  dolar[\"Fecha\"] = pd.to_datetime(dolar[\"Fecha\"])\n",
      "/var/folders/04/tp4wyrys03s5z6y1v720v3580000gn/T/ipykernel_1184/2334349146.py:1: UserWarning: Parsing '26-02-2019' in DD/MM/YYYY format. Provide format or specify infer_datetime_format=True for consistent parsing.\n",
      "  dolar[\"Fecha\"] = pd.to_datetime(dolar[\"Fecha\"])\n",
      "/var/folders/04/tp4wyrys03s5z6y1v720v3580000gn/T/ipykernel_1184/2334349146.py:1: UserWarning: Parsing '25-02-2019' in DD/MM/YYYY format. Provide format or specify infer_datetime_format=True for consistent parsing.\n",
      "  dolar[\"Fecha\"] = pd.to_datetime(dolar[\"Fecha\"])\n",
      "/var/folders/04/tp4wyrys03s5z6y1v720v3580000gn/T/ipykernel_1184/2334349146.py:1: UserWarning: Parsing '22-02-2019' in DD/MM/YYYY format. Provide format or specify infer_datetime_format=True for consistent parsing.\n",
      "  dolar[\"Fecha\"] = pd.to_datetime(dolar[\"Fecha\"])\n",
      "/var/folders/04/tp4wyrys03s5z6y1v720v3580000gn/T/ipykernel_1184/2334349146.py:1: UserWarning: Parsing '21-02-2019' in DD/MM/YYYY format. Provide format or specify infer_datetime_format=True for consistent parsing.\n",
      "  dolar[\"Fecha\"] = pd.to_datetime(dolar[\"Fecha\"])\n",
      "/var/folders/04/tp4wyrys03s5z6y1v720v3580000gn/T/ipykernel_1184/2334349146.py:1: UserWarning: Parsing '20-02-2019' in DD/MM/YYYY format. Provide format or specify infer_datetime_format=True for consistent parsing.\n",
      "  dolar[\"Fecha\"] = pd.to_datetime(dolar[\"Fecha\"])\n",
      "/var/folders/04/tp4wyrys03s5z6y1v720v3580000gn/T/ipykernel_1184/2334349146.py:1: UserWarning: Parsing '19-02-2019' in DD/MM/YYYY format. Provide format or specify infer_datetime_format=True for consistent parsing.\n",
      "  dolar[\"Fecha\"] = pd.to_datetime(dolar[\"Fecha\"])\n",
      "/var/folders/04/tp4wyrys03s5z6y1v720v3580000gn/T/ipykernel_1184/2334349146.py:1: UserWarning: Parsing '18-02-2019' in DD/MM/YYYY format. Provide format or specify infer_datetime_format=True for consistent parsing.\n",
      "  dolar[\"Fecha\"] = pd.to_datetime(dolar[\"Fecha\"])\n",
      "/var/folders/04/tp4wyrys03s5z6y1v720v3580000gn/T/ipykernel_1184/2334349146.py:1: UserWarning: Parsing '15-02-2019' in DD/MM/YYYY format. Provide format or specify infer_datetime_format=True for consistent parsing.\n",
      "  dolar[\"Fecha\"] = pd.to_datetime(dolar[\"Fecha\"])\n",
      "/var/folders/04/tp4wyrys03s5z6y1v720v3580000gn/T/ipykernel_1184/2334349146.py:1: UserWarning: Parsing '14-02-2019' in DD/MM/YYYY format. Provide format or specify infer_datetime_format=True for consistent parsing.\n",
      "  dolar[\"Fecha\"] = pd.to_datetime(dolar[\"Fecha\"])\n",
      "/var/folders/04/tp4wyrys03s5z6y1v720v3580000gn/T/ipykernel_1184/2334349146.py:1: UserWarning: Parsing '13-02-2019' in DD/MM/YYYY format. Provide format or specify infer_datetime_format=True for consistent parsing.\n",
      "  dolar[\"Fecha\"] = pd.to_datetime(dolar[\"Fecha\"])\n",
      "/var/folders/04/tp4wyrys03s5z6y1v720v3580000gn/T/ipykernel_1184/2334349146.py:1: UserWarning: Parsing '31-01-2019' in DD/MM/YYYY format. Provide format or specify infer_datetime_format=True for consistent parsing.\n",
      "  dolar[\"Fecha\"] = pd.to_datetime(dolar[\"Fecha\"])\n",
      "/var/folders/04/tp4wyrys03s5z6y1v720v3580000gn/T/ipykernel_1184/2334349146.py:1: UserWarning: Parsing '30-01-2019' in DD/MM/YYYY format. Provide format or specify infer_datetime_format=True for consistent parsing.\n",
      "  dolar[\"Fecha\"] = pd.to_datetime(dolar[\"Fecha\"])\n",
      "/var/folders/04/tp4wyrys03s5z6y1v720v3580000gn/T/ipykernel_1184/2334349146.py:1: UserWarning: Parsing '29-01-2019' in DD/MM/YYYY format. Provide format or specify infer_datetime_format=True for consistent parsing.\n",
      "  dolar[\"Fecha\"] = pd.to_datetime(dolar[\"Fecha\"])\n",
      "/var/folders/04/tp4wyrys03s5z6y1v720v3580000gn/T/ipykernel_1184/2334349146.py:1: UserWarning: Parsing '28-01-2019' in DD/MM/YYYY format. Provide format or specify infer_datetime_format=True for consistent parsing.\n",
      "  dolar[\"Fecha\"] = pd.to_datetime(dolar[\"Fecha\"])\n",
      "/var/folders/04/tp4wyrys03s5z6y1v720v3580000gn/T/ipykernel_1184/2334349146.py:1: UserWarning: Parsing '25-01-2019' in DD/MM/YYYY format. Provide format or specify infer_datetime_format=True for consistent parsing.\n",
      "  dolar[\"Fecha\"] = pd.to_datetime(dolar[\"Fecha\"])\n",
      "/var/folders/04/tp4wyrys03s5z6y1v720v3580000gn/T/ipykernel_1184/2334349146.py:1: UserWarning: Parsing '24-01-2019' in DD/MM/YYYY format. Provide format or specify infer_datetime_format=True for consistent parsing.\n",
      "  dolar[\"Fecha\"] = pd.to_datetime(dolar[\"Fecha\"])\n",
      "/var/folders/04/tp4wyrys03s5z6y1v720v3580000gn/T/ipykernel_1184/2334349146.py:1: UserWarning: Parsing '23-01-2019' in DD/MM/YYYY format. Provide format or specify infer_datetime_format=True for consistent parsing.\n",
      "  dolar[\"Fecha\"] = pd.to_datetime(dolar[\"Fecha\"])\n",
      "/var/folders/04/tp4wyrys03s5z6y1v720v3580000gn/T/ipykernel_1184/2334349146.py:1: UserWarning: Parsing '22-01-2019' in DD/MM/YYYY format. Provide format or specify infer_datetime_format=True for consistent parsing.\n",
      "  dolar[\"Fecha\"] = pd.to_datetime(dolar[\"Fecha\"])\n",
      "/var/folders/04/tp4wyrys03s5z6y1v720v3580000gn/T/ipykernel_1184/2334349146.py:1: UserWarning: Parsing '21-01-2019' in DD/MM/YYYY format. Provide format or specify infer_datetime_format=True for consistent parsing.\n",
      "  dolar[\"Fecha\"] = pd.to_datetime(dolar[\"Fecha\"])\n",
      "/var/folders/04/tp4wyrys03s5z6y1v720v3580000gn/T/ipykernel_1184/2334349146.py:1: UserWarning: Parsing '18-01-2019' in DD/MM/YYYY format. Provide format or specify infer_datetime_format=True for consistent parsing.\n",
      "  dolar[\"Fecha\"] = pd.to_datetime(dolar[\"Fecha\"])\n",
      "/var/folders/04/tp4wyrys03s5z6y1v720v3580000gn/T/ipykernel_1184/2334349146.py:1: UserWarning: Parsing '17-01-2019' in DD/MM/YYYY format. Provide format or specify infer_datetime_format=True for consistent parsing.\n",
      "  dolar[\"Fecha\"] = pd.to_datetime(dolar[\"Fecha\"])\n",
      "/var/folders/04/tp4wyrys03s5z6y1v720v3580000gn/T/ipykernel_1184/2334349146.py:1: UserWarning: Parsing '16-01-2019' in DD/MM/YYYY format. Provide format or specify infer_datetime_format=True for consistent parsing.\n",
      "  dolar[\"Fecha\"] = pd.to_datetime(dolar[\"Fecha\"])\n",
      "/var/folders/04/tp4wyrys03s5z6y1v720v3580000gn/T/ipykernel_1184/2334349146.py:1: UserWarning: Parsing '15-01-2019' in DD/MM/YYYY format. Provide format or specify infer_datetime_format=True for consistent parsing.\n",
      "  dolar[\"Fecha\"] = pd.to_datetime(dolar[\"Fecha\"])\n",
      "/var/folders/04/tp4wyrys03s5z6y1v720v3580000gn/T/ipykernel_1184/2334349146.py:1: UserWarning: Parsing '14-01-2019' in DD/MM/YYYY format. Provide format or specify infer_datetime_format=True for consistent parsing.\n",
      "  dolar[\"Fecha\"] = pd.to_datetime(dolar[\"Fecha\"])\n",
      "/var/folders/04/tp4wyrys03s5z6y1v720v3580000gn/T/ipykernel_1184/2334349146.py:1: UserWarning: Parsing '28-12-2018' in DD/MM/YYYY format. Provide format or specify infer_datetime_format=True for consistent parsing.\n",
      "  dolar[\"Fecha\"] = pd.to_datetime(dolar[\"Fecha\"])\n",
      "/var/folders/04/tp4wyrys03s5z6y1v720v3580000gn/T/ipykernel_1184/2334349146.py:1: UserWarning: Parsing '27-12-2018' in DD/MM/YYYY format. Provide format or specify infer_datetime_format=True for consistent parsing.\n",
      "  dolar[\"Fecha\"] = pd.to_datetime(dolar[\"Fecha\"])\n",
      "/var/folders/04/tp4wyrys03s5z6y1v720v3580000gn/T/ipykernel_1184/2334349146.py:1: UserWarning: Parsing '26-12-2018' in DD/MM/YYYY format. Provide format or specify infer_datetime_format=True for consistent parsing.\n",
      "  dolar[\"Fecha\"] = pd.to_datetime(dolar[\"Fecha\"])\n",
      "/var/folders/04/tp4wyrys03s5z6y1v720v3580000gn/T/ipykernel_1184/2334349146.py:1: UserWarning: Parsing '21-12-2018' in DD/MM/YYYY format. Provide format or specify infer_datetime_format=True for consistent parsing.\n",
      "  dolar[\"Fecha\"] = pd.to_datetime(dolar[\"Fecha\"])\n",
      "/var/folders/04/tp4wyrys03s5z6y1v720v3580000gn/T/ipykernel_1184/2334349146.py:1: UserWarning: Parsing '20-12-2018' in DD/MM/YYYY format. Provide format or specify infer_datetime_format=True for consistent parsing.\n",
      "  dolar[\"Fecha\"] = pd.to_datetime(dolar[\"Fecha\"])\n",
      "/var/folders/04/tp4wyrys03s5z6y1v720v3580000gn/T/ipykernel_1184/2334349146.py:1: UserWarning: Parsing '19-12-2018' in DD/MM/YYYY format. Provide format or specify infer_datetime_format=True for consistent parsing.\n",
      "  dolar[\"Fecha\"] = pd.to_datetime(dolar[\"Fecha\"])\n",
      "/var/folders/04/tp4wyrys03s5z6y1v720v3580000gn/T/ipykernel_1184/2334349146.py:1: UserWarning: Parsing '18-12-2018' in DD/MM/YYYY format. Provide format or specify infer_datetime_format=True for consistent parsing.\n",
      "  dolar[\"Fecha\"] = pd.to_datetime(dolar[\"Fecha\"])\n",
      "/var/folders/04/tp4wyrys03s5z6y1v720v3580000gn/T/ipykernel_1184/2334349146.py:1: UserWarning: Parsing '17-12-2018' in DD/MM/YYYY format. Provide format or specify infer_datetime_format=True for consistent parsing.\n",
      "  dolar[\"Fecha\"] = pd.to_datetime(dolar[\"Fecha\"])\n",
      "/var/folders/04/tp4wyrys03s5z6y1v720v3580000gn/T/ipykernel_1184/2334349146.py:1: UserWarning: Parsing '14-12-2018' in DD/MM/YYYY format. Provide format or specify infer_datetime_format=True for consistent parsing.\n",
      "  dolar[\"Fecha\"] = pd.to_datetime(dolar[\"Fecha\"])\n",
      "/var/folders/04/tp4wyrys03s5z6y1v720v3580000gn/T/ipykernel_1184/2334349146.py:1: UserWarning: Parsing '13-12-2018' in DD/MM/YYYY format. Provide format or specify infer_datetime_format=True for consistent parsing.\n",
      "  dolar[\"Fecha\"] = pd.to_datetime(dolar[\"Fecha\"])\n",
      "/var/folders/04/tp4wyrys03s5z6y1v720v3580000gn/T/ipykernel_1184/2334349146.py:1: UserWarning: Parsing '29-11-2018' in DD/MM/YYYY format. Provide format or specify infer_datetime_format=True for consistent parsing.\n",
      "  dolar[\"Fecha\"] = pd.to_datetime(dolar[\"Fecha\"])\n",
      "/var/folders/04/tp4wyrys03s5z6y1v720v3580000gn/T/ipykernel_1184/2334349146.py:1: UserWarning: Parsing '28-11-2018' in DD/MM/YYYY format. Provide format or specify infer_datetime_format=True for consistent parsing.\n",
      "  dolar[\"Fecha\"] = pd.to_datetime(dolar[\"Fecha\"])\n",
      "/var/folders/04/tp4wyrys03s5z6y1v720v3580000gn/T/ipykernel_1184/2334349146.py:1: UserWarning: Parsing '27-11-2018' in DD/MM/YYYY format. Provide format or specify infer_datetime_format=True for consistent parsing.\n",
      "  dolar[\"Fecha\"] = pd.to_datetime(dolar[\"Fecha\"])\n",
      "/var/folders/04/tp4wyrys03s5z6y1v720v3580000gn/T/ipykernel_1184/2334349146.py:1: UserWarning: Parsing '26-11-2018' in DD/MM/YYYY format. Provide format or specify infer_datetime_format=True for consistent parsing.\n",
      "  dolar[\"Fecha\"] = pd.to_datetime(dolar[\"Fecha\"])\n",
      "/var/folders/04/tp4wyrys03s5z6y1v720v3580000gn/T/ipykernel_1184/2334349146.py:1: UserWarning: Parsing '23-11-2018' in DD/MM/YYYY format. Provide format or specify infer_datetime_format=True for consistent parsing.\n",
      "  dolar[\"Fecha\"] = pd.to_datetime(dolar[\"Fecha\"])\n",
      "/var/folders/04/tp4wyrys03s5z6y1v720v3580000gn/T/ipykernel_1184/2334349146.py:1: UserWarning: Parsing '22-11-2018' in DD/MM/YYYY format. Provide format or specify infer_datetime_format=True for consistent parsing.\n",
      "  dolar[\"Fecha\"] = pd.to_datetime(dolar[\"Fecha\"])\n",
      "/var/folders/04/tp4wyrys03s5z6y1v720v3580000gn/T/ipykernel_1184/2334349146.py:1: UserWarning: Parsing '21-11-2018' in DD/MM/YYYY format. Provide format or specify infer_datetime_format=True for consistent parsing.\n",
      "  dolar[\"Fecha\"] = pd.to_datetime(dolar[\"Fecha\"])\n",
      "/var/folders/04/tp4wyrys03s5z6y1v720v3580000gn/T/ipykernel_1184/2334349146.py:1: UserWarning: Parsing '20-11-2018' in DD/MM/YYYY format. Provide format or specify infer_datetime_format=True for consistent parsing.\n",
      "  dolar[\"Fecha\"] = pd.to_datetime(dolar[\"Fecha\"])\n",
      "/var/folders/04/tp4wyrys03s5z6y1v720v3580000gn/T/ipykernel_1184/2334349146.py:1: UserWarning: Parsing '16-11-2018' in DD/MM/YYYY format. Provide format or specify infer_datetime_format=True for consistent parsing.\n",
      "  dolar[\"Fecha\"] = pd.to_datetime(dolar[\"Fecha\"])\n",
      "/var/folders/04/tp4wyrys03s5z6y1v720v3580000gn/T/ipykernel_1184/2334349146.py:1: UserWarning: Parsing '15-11-2018' in DD/MM/YYYY format. Provide format or specify infer_datetime_format=True for consistent parsing.\n",
      "  dolar[\"Fecha\"] = pd.to_datetime(dolar[\"Fecha\"])\n",
      "/var/folders/04/tp4wyrys03s5z6y1v720v3580000gn/T/ipykernel_1184/2334349146.py:1: UserWarning: Parsing '14-11-2018' in DD/MM/YYYY format. Provide format or specify infer_datetime_format=True for consistent parsing.\n",
      "  dolar[\"Fecha\"] = pd.to_datetime(dolar[\"Fecha\"])\n",
      "/var/folders/04/tp4wyrys03s5z6y1v720v3580000gn/T/ipykernel_1184/2334349146.py:1: UserWarning: Parsing '13-11-2018' in DD/MM/YYYY format. Provide format or specify infer_datetime_format=True for consistent parsing.\n",
      "  dolar[\"Fecha\"] = pd.to_datetime(dolar[\"Fecha\"])\n",
      "/var/folders/04/tp4wyrys03s5z6y1v720v3580000gn/T/ipykernel_1184/2334349146.py:1: UserWarning: Parsing '31-10-2018' in DD/MM/YYYY format. Provide format or specify infer_datetime_format=True for consistent parsing.\n",
      "  dolar[\"Fecha\"] = pd.to_datetime(dolar[\"Fecha\"])\n",
      "/var/folders/04/tp4wyrys03s5z6y1v720v3580000gn/T/ipykernel_1184/2334349146.py:1: UserWarning: Parsing '30-10-2018' in DD/MM/YYYY format. Provide format or specify infer_datetime_format=True for consistent parsing.\n",
      "  dolar[\"Fecha\"] = pd.to_datetime(dolar[\"Fecha\"])\n",
      "/var/folders/04/tp4wyrys03s5z6y1v720v3580000gn/T/ipykernel_1184/2334349146.py:1: UserWarning: Parsing '29-10-2018' in DD/MM/YYYY format. Provide format or specify infer_datetime_format=True for consistent parsing.\n",
      "  dolar[\"Fecha\"] = pd.to_datetime(dolar[\"Fecha\"])\n",
      "/var/folders/04/tp4wyrys03s5z6y1v720v3580000gn/T/ipykernel_1184/2334349146.py:1: UserWarning: Parsing '26-10-2018' in DD/MM/YYYY format. Provide format or specify infer_datetime_format=True for consistent parsing.\n",
      "  dolar[\"Fecha\"] = pd.to_datetime(dolar[\"Fecha\"])\n",
      "/var/folders/04/tp4wyrys03s5z6y1v720v3580000gn/T/ipykernel_1184/2334349146.py:1: UserWarning: Parsing '25-10-2018' in DD/MM/YYYY format. Provide format or specify infer_datetime_format=True for consistent parsing.\n",
      "  dolar[\"Fecha\"] = pd.to_datetime(dolar[\"Fecha\"])\n",
      "/var/folders/04/tp4wyrys03s5z6y1v720v3580000gn/T/ipykernel_1184/2334349146.py:1: UserWarning: Parsing '24-10-2018' in DD/MM/YYYY format. Provide format or specify infer_datetime_format=True for consistent parsing.\n",
      "  dolar[\"Fecha\"] = pd.to_datetime(dolar[\"Fecha\"])\n",
      "/var/folders/04/tp4wyrys03s5z6y1v720v3580000gn/T/ipykernel_1184/2334349146.py:1: UserWarning: Parsing '23-10-2018' in DD/MM/YYYY format. Provide format or specify infer_datetime_format=True for consistent parsing.\n",
      "  dolar[\"Fecha\"] = pd.to_datetime(dolar[\"Fecha\"])\n",
      "/var/folders/04/tp4wyrys03s5z6y1v720v3580000gn/T/ipykernel_1184/2334349146.py:1: UserWarning: Parsing '22-10-2018' in DD/MM/YYYY format. Provide format or specify infer_datetime_format=True for consistent parsing.\n",
      "  dolar[\"Fecha\"] = pd.to_datetime(dolar[\"Fecha\"])\n",
      "/var/folders/04/tp4wyrys03s5z6y1v720v3580000gn/T/ipykernel_1184/2334349146.py:1: UserWarning: Parsing '19-10-2018' in DD/MM/YYYY format. Provide format or specify infer_datetime_format=True for consistent parsing.\n",
      "  dolar[\"Fecha\"] = pd.to_datetime(dolar[\"Fecha\"])\n",
      "/var/folders/04/tp4wyrys03s5z6y1v720v3580000gn/T/ipykernel_1184/2334349146.py:1: UserWarning: Parsing '18-10-2018' in DD/MM/YYYY format. Provide format or specify infer_datetime_format=True for consistent parsing.\n",
      "  dolar[\"Fecha\"] = pd.to_datetime(dolar[\"Fecha\"])\n",
      "/var/folders/04/tp4wyrys03s5z6y1v720v3580000gn/T/ipykernel_1184/2334349146.py:1: UserWarning: Parsing '17-10-2018' in DD/MM/YYYY format. Provide format or specify infer_datetime_format=True for consistent parsing.\n",
      "  dolar[\"Fecha\"] = pd.to_datetime(dolar[\"Fecha\"])\n",
      "/var/folders/04/tp4wyrys03s5z6y1v720v3580000gn/T/ipykernel_1184/2334349146.py:1: UserWarning: Parsing '16-10-2018' in DD/MM/YYYY format. Provide format or specify infer_datetime_format=True for consistent parsing.\n",
      "  dolar[\"Fecha\"] = pd.to_datetime(dolar[\"Fecha\"])\n",
      "/var/folders/04/tp4wyrys03s5z6y1v720v3580000gn/T/ipykernel_1184/2334349146.py:1: UserWarning: Parsing '28-09-2018' in DD/MM/YYYY format. Provide format or specify infer_datetime_format=True for consistent parsing.\n",
      "  dolar[\"Fecha\"] = pd.to_datetime(dolar[\"Fecha\"])\n",
      "/var/folders/04/tp4wyrys03s5z6y1v720v3580000gn/T/ipykernel_1184/2334349146.py:1: UserWarning: Parsing '27-09-2018' in DD/MM/YYYY format. Provide format or specify infer_datetime_format=True for consistent parsing.\n",
      "  dolar[\"Fecha\"] = pd.to_datetime(dolar[\"Fecha\"])\n",
      "/var/folders/04/tp4wyrys03s5z6y1v720v3580000gn/T/ipykernel_1184/2334349146.py:1: UserWarning: Parsing '26-09-2018' in DD/MM/YYYY format. Provide format or specify infer_datetime_format=True for consistent parsing.\n",
      "  dolar[\"Fecha\"] = pd.to_datetime(dolar[\"Fecha\"])\n",
      "/var/folders/04/tp4wyrys03s5z6y1v720v3580000gn/T/ipykernel_1184/2334349146.py:1: UserWarning: Parsing '25-09-2018' in DD/MM/YYYY format. Provide format or specify infer_datetime_format=True for consistent parsing.\n",
      "  dolar[\"Fecha\"] = pd.to_datetime(dolar[\"Fecha\"])\n",
      "/var/folders/04/tp4wyrys03s5z6y1v720v3580000gn/T/ipykernel_1184/2334349146.py:1: UserWarning: Parsing '24-09-2018' in DD/MM/YYYY format. Provide format or specify infer_datetime_format=True for consistent parsing.\n",
      "  dolar[\"Fecha\"] = pd.to_datetime(dolar[\"Fecha\"])\n",
      "/var/folders/04/tp4wyrys03s5z6y1v720v3580000gn/T/ipykernel_1184/2334349146.py:1: UserWarning: Parsing '21-09-2018' in DD/MM/YYYY format. Provide format or specify infer_datetime_format=True for consistent parsing.\n",
      "  dolar[\"Fecha\"] = pd.to_datetime(dolar[\"Fecha\"])\n",
      "/var/folders/04/tp4wyrys03s5z6y1v720v3580000gn/T/ipykernel_1184/2334349146.py:1: UserWarning: Parsing '20-09-2018' in DD/MM/YYYY format. Provide format or specify infer_datetime_format=True for consistent parsing.\n",
      "  dolar[\"Fecha\"] = pd.to_datetime(dolar[\"Fecha\"])\n",
      "/var/folders/04/tp4wyrys03s5z6y1v720v3580000gn/T/ipykernel_1184/2334349146.py:1: UserWarning: Parsing '19-09-2018' in DD/MM/YYYY format. Provide format or specify infer_datetime_format=True for consistent parsing.\n",
      "  dolar[\"Fecha\"] = pd.to_datetime(dolar[\"Fecha\"])\n",
      "/var/folders/04/tp4wyrys03s5z6y1v720v3580000gn/T/ipykernel_1184/2334349146.py:1: UserWarning: Parsing '18-09-2018' in DD/MM/YYYY format. Provide format or specify infer_datetime_format=True for consistent parsing.\n",
      "  dolar[\"Fecha\"] = pd.to_datetime(dolar[\"Fecha\"])\n",
      "/var/folders/04/tp4wyrys03s5z6y1v720v3580000gn/T/ipykernel_1184/2334349146.py:1: UserWarning: Parsing '17-09-2018' in DD/MM/YYYY format. Provide format or specify infer_datetime_format=True for consistent parsing.\n",
      "  dolar[\"Fecha\"] = pd.to_datetime(dolar[\"Fecha\"])\n",
      "/var/folders/04/tp4wyrys03s5z6y1v720v3580000gn/T/ipykernel_1184/2334349146.py:1: UserWarning: Parsing '14-09-2018' in DD/MM/YYYY format. Provide format or specify infer_datetime_format=True for consistent parsing.\n",
      "  dolar[\"Fecha\"] = pd.to_datetime(dolar[\"Fecha\"])\n",
      "/var/folders/04/tp4wyrys03s5z6y1v720v3580000gn/T/ipykernel_1184/2334349146.py:1: UserWarning: Parsing '13-09-2018' in DD/MM/YYYY format. Provide format or specify infer_datetime_format=True for consistent parsing.\n",
      "  dolar[\"Fecha\"] = pd.to_datetime(dolar[\"Fecha\"])\n",
      "/var/folders/04/tp4wyrys03s5z6y1v720v3580000gn/T/ipykernel_1184/2334349146.py:1: UserWarning: Parsing '31-08-2018' in DD/MM/YYYY format. Provide format or specify infer_datetime_format=True for consistent parsing.\n",
      "  dolar[\"Fecha\"] = pd.to_datetime(dolar[\"Fecha\"])\n",
      "/var/folders/04/tp4wyrys03s5z6y1v720v3580000gn/T/ipykernel_1184/2334349146.py:1: UserWarning: Parsing '30-08-2018' in DD/MM/YYYY format. Provide format or specify infer_datetime_format=True for consistent parsing.\n",
      "  dolar[\"Fecha\"] = pd.to_datetime(dolar[\"Fecha\"])\n",
      "/var/folders/04/tp4wyrys03s5z6y1v720v3580000gn/T/ipykernel_1184/2334349146.py:1: UserWarning: Parsing '29-08-2018' in DD/MM/YYYY format. Provide format or specify infer_datetime_format=True for consistent parsing.\n",
      "  dolar[\"Fecha\"] = pd.to_datetime(dolar[\"Fecha\"])\n",
      "/var/folders/04/tp4wyrys03s5z6y1v720v3580000gn/T/ipykernel_1184/2334349146.py:1: UserWarning: Parsing '28-08-2018' in DD/MM/YYYY format. Provide format or specify infer_datetime_format=True for consistent parsing.\n",
      "  dolar[\"Fecha\"] = pd.to_datetime(dolar[\"Fecha\"])\n",
      "/var/folders/04/tp4wyrys03s5z6y1v720v3580000gn/T/ipykernel_1184/2334349146.py:1: UserWarning: Parsing '27-08-2018' in DD/MM/YYYY format. Provide format or specify infer_datetime_format=True for consistent parsing.\n",
      "  dolar[\"Fecha\"] = pd.to_datetime(dolar[\"Fecha\"])\n",
      "/var/folders/04/tp4wyrys03s5z6y1v720v3580000gn/T/ipykernel_1184/2334349146.py:1: UserWarning: Parsing '24-08-2018' in DD/MM/YYYY format. Provide format or specify infer_datetime_format=True for consistent parsing.\n",
      "  dolar[\"Fecha\"] = pd.to_datetime(dolar[\"Fecha\"])\n",
      "/var/folders/04/tp4wyrys03s5z6y1v720v3580000gn/T/ipykernel_1184/2334349146.py:1: UserWarning: Parsing '23-08-2018' in DD/MM/YYYY format. Provide format or specify infer_datetime_format=True for consistent parsing.\n",
      "  dolar[\"Fecha\"] = pd.to_datetime(dolar[\"Fecha\"])\n",
      "/var/folders/04/tp4wyrys03s5z6y1v720v3580000gn/T/ipykernel_1184/2334349146.py:1: UserWarning: Parsing '22-08-2018' in DD/MM/YYYY format. Provide format or specify infer_datetime_format=True for consistent parsing.\n",
      "  dolar[\"Fecha\"] = pd.to_datetime(dolar[\"Fecha\"])\n",
      "/var/folders/04/tp4wyrys03s5z6y1v720v3580000gn/T/ipykernel_1184/2334349146.py:1: UserWarning: Parsing '21-08-2018' in DD/MM/YYYY format. Provide format or specify infer_datetime_format=True for consistent parsing.\n",
      "  dolar[\"Fecha\"] = pd.to_datetime(dolar[\"Fecha\"])\n",
      "/var/folders/04/tp4wyrys03s5z6y1v720v3580000gn/T/ipykernel_1184/2334349146.py:1: UserWarning: Parsing '17-08-2018' in DD/MM/YYYY format. Provide format or specify infer_datetime_format=True for consistent parsing.\n",
      "  dolar[\"Fecha\"] = pd.to_datetime(dolar[\"Fecha\"])\n",
      "/var/folders/04/tp4wyrys03s5z6y1v720v3580000gn/T/ipykernel_1184/2334349146.py:1: UserWarning: Parsing '16-08-2018' in DD/MM/YYYY format. Provide format or specify infer_datetime_format=True for consistent parsing.\n",
      "  dolar[\"Fecha\"] = pd.to_datetime(dolar[\"Fecha\"])\n",
      "/var/folders/04/tp4wyrys03s5z6y1v720v3580000gn/T/ipykernel_1184/2334349146.py:1: UserWarning: Parsing '15-08-2018' in DD/MM/YYYY format. Provide format or specify infer_datetime_format=True for consistent parsing.\n",
      "  dolar[\"Fecha\"] = pd.to_datetime(dolar[\"Fecha\"])\n",
      "/var/folders/04/tp4wyrys03s5z6y1v720v3580000gn/T/ipykernel_1184/2334349146.py:1: UserWarning: Parsing '14-08-2018' in DD/MM/YYYY format. Provide format or specify infer_datetime_format=True for consistent parsing.\n",
      "  dolar[\"Fecha\"] = pd.to_datetime(dolar[\"Fecha\"])\n",
      "/var/folders/04/tp4wyrys03s5z6y1v720v3580000gn/T/ipykernel_1184/2334349146.py:1: UserWarning: Parsing '13-08-2018' in DD/MM/YYYY format. Provide format or specify infer_datetime_format=True for consistent parsing.\n",
      "  dolar[\"Fecha\"] = pd.to_datetime(dolar[\"Fecha\"])\n",
      "/var/folders/04/tp4wyrys03s5z6y1v720v3580000gn/T/ipykernel_1184/2334349146.py:1: UserWarning: Parsing '31-07-2018' in DD/MM/YYYY format. Provide format or specify infer_datetime_format=True for consistent parsing.\n",
      "  dolar[\"Fecha\"] = pd.to_datetime(dolar[\"Fecha\"])\n",
      "/var/folders/04/tp4wyrys03s5z6y1v720v3580000gn/T/ipykernel_1184/2334349146.py:1: UserWarning: Parsing '30-07-2018' in DD/MM/YYYY format. Provide format or specify infer_datetime_format=True for consistent parsing.\n",
      "  dolar[\"Fecha\"] = pd.to_datetime(dolar[\"Fecha\"])\n",
      "/var/folders/04/tp4wyrys03s5z6y1v720v3580000gn/T/ipykernel_1184/2334349146.py:1: UserWarning: Parsing '27-07-2018' in DD/MM/YYYY format. Provide format or specify infer_datetime_format=True for consistent parsing.\n",
      "  dolar[\"Fecha\"] = pd.to_datetime(dolar[\"Fecha\"])\n",
      "/var/folders/04/tp4wyrys03s5z6y1v720v3580000gn/T/ipykernel_1184/2334349146.py:1: UserWarning: Parsing '26-07-2018' in DD/MM/YYYY format. Provide format or specify infer_datetime_format=True for consistent parsing.\n",
      "  dolar[\"Fecha\"] = pd.to_datetime(dolar[\"Fecha\"])\n",
      "/var/folders/04/tp4wyrys03s5z6y1v720v3580000gn/T/ipykernel_1184/2334349146.py:1: UserWarning: Parsing '25-07-2018' in DD/MM/YYYY format. Provide format or specify infer_datetime_format=True for consistent parsing.\n",
      "  dolar[\"Fecha\"] = pd.to_datetime(dolar[\"Fecha\"])\n",
      "/var/folders/04/tp4wyrys03s5z6y1v720v3580000gn/T/ipykernel_1184/2334349146.py:1: UserWarning: Parsing '24-07-2018' in DD/MM/YYYY format. Provide format or specify infer_datetime_format=True for consistent parsing.\n",
      "  dolar[\"Fecha\"] = pd.to_datetime(dolar[\"Fecha\"])\n",
      "/var/folders/04/tp4wyrys03s5z6y1v720v3580000gn/T/ipykernel_1184/2334349146.py:1: UserWarning: Parsing '23-07-2018' in DD/MM/YYYY format. Provide format or specify infer_datetime_format=True for consistent parsing.\n",
      "  dolar[\"Fecha\"] = pd.to_datetime(dolar[\"Fecha\"])\n",
      "/var/folders/04/tp4wyrys03s5z6y1v720v3580000gn/T/ipykernel_1184/2334349146.py:1: UserWarning: Parsing '20-07-2018' in DD/MM/YYYY format. Provide format or specify infer_datetime_format=True for consistent parsing.\n",
      "  dolar[\"Fecha\"] = pd.to_datetime(dolar[\"Fecha\"])\n",
      "/var/folders/04/tp4wyrys03s5z6y1v720v3580000gn/T/ipykernel_1184/2334349146.py:1: UserWarning: Parsing '19-07-2018' in DD/MM/YYYY format. Provide format or specify infer_datetime_format=True for consistent parsing.\n",
      "  dolar[\"Fecha\"] = pd.to_datetime(dolar[\"Fecha\"])\n",
      "/var/folders/04/tp4wyrys03s5z6y1v720v3580000gn/T/ipykernel_1184/2334349146.py:1: UserWarning: Parsing '18-07-2018' in DD/MM/YYYY format. Provide format or specify infer_datetime_format=True for consistent parsing.\n",
      "  dolar[\"Fecha\"] = pd.to_datetime(dolar[\"Fecha\"])\n",
      "/var/folders/04/tp4wyrys03s5z6y1v720v3580000gn/T/ipykernel_1184/2334349146.py:1: UserWarning: Parsing '17-07-2018' in DD/MM/YYYY format. Provide format or specify infer_datetime_format=True for consistent parsing.\n",
      "  dolar[\"Fecha\"] = pd.to_datetime(dolar[\"Fecha\"])\n",
      "/var/folders/04/tp4wyrys03s5z6y1v720v3580000gn/T/ipykernel_1184/2334349146.py:1: UserWarning: Parsing '16-07-2018' in DD/MM/YYYY format. Provide format or specify infer_datetime_format=True for consistent parsing.\n",
      "  dolar[\"Fecha\"] = pd.to_datetime(dolar[\"Fecha\"])\n",
      "/var/folders/04/tp4wyrys03s5z6y1v720v3580000gn/T/ipykernel_1184/2334349146.py:1: UserWarning: Parsing '13-07-2018' in DD/MM/YYYY format. Provide format or specify infer_datetime_format=True for consistent parsing.\n",
      "  dolar[\"Fecha\"] = pd.to_datetime(dolar[\"Fecha\"])\n",
      "/var/folders/04/tp4wyrys03s5z6y1v720v3580000gn/T/ipykernel_1184/2334349146.py:1: UserWarning: Parsing '29-06-2018' in DD/MM/YYYY format. Provide format or specify infer_datetime_format=True for consistent parsing.\n",
      "  dolar[\"Fecha\"] = pd.to_datetime(dolar[\"Fecha\"])\n",
      "/var/folders/04/tp4wyrys03s5z6y1v720v3580000gn/T/ipykernel_1184/2334349146.py:1: UserWarning: Parsing '28-06-2018' in DD/MM/YYYY format. Provide format or specify infer_datetime_format=True for consistent parsing.\n",
      "  dolar[\"Fecha\"] = pd.to_datetime(dolar[\"Fecha\"])\n",
      "/var/folders/04/tp4wyrys03s5z6y1v720v3580000gn/T/ipykernel_1184/2334349146.py:1: UserWarning: Parsing '27-06-2018' in DD/MM/YYYY format. Provide format or specify infer_datetime_format=True for consistent parsing.\n",
      "  dolar[\"Fecha\"] = pd.to_datetime(dolar[\"Fecha\"])\n",
      "/var/folders/04/tp4wyrys03s5z6y1v720v3580000gn/T/ipykernel_1184/2334349146.py:1: UserWarning: Parsing '26-06-2018' in DD/MM/YYYY format. Provide format or specify infer_datetime_format=True for consistent parsing.\n",
      "  dolar[\"Fecha\"] = pd.to_datetime(dolar[\"Fecha\"])\n",
      "/var/folders/04/tp4wyrys03s5z6y1v720v3580000gn/T/ipykernel_1184/2334349146.py:1: UserWarning: Parsing '25-06-2018' in DD/MM/YYYY format. Provide format or specify infer_datetime_format=True for consistent parsing.\n",
      "  dolar[\"Fecha\"] = pd.to_datetime(dolar[\"Fecha\"])\n",
      "/var/folders/04/tp4wyrys03s5z6y1v720v3580000gn/T/ipykernel_1184/2334349146.py:1: UserWarning: Parsing '22-06-2018' in DD/MM/YYYY format. Provide format or specify infer_datetime_format=True for consistent parsing.\n",
      "  dolar[\"Fecha\"] = pd.to_datetime(dolar[\"Fecha\"])\n",
      "/var/folders/04/tp4wyrys03s5z6y1v720v3580000gn/T/ipykernel_1184/2334349146.py:1: UserWarning: Parsing '21-06-2018' in DD/MM/YYYY format. Provide format or specify infer_datetime_format=True for consistent parsing.\n",
      "  dolar[\"Fecha\"] = pd.to_datetime(dolar[\"Fecha\"])\n",
      "/var/folders/04/tp4wyrys03s5z6y1v720v3580000gn/T/ipykernel_1184/2334349146.py:1: UserWarning: Parsing '19-06-2018' in DD/MM/YYYY format. Provide format or specify infer_datetime_format=True for consistent parsing.\n",
      "  dolar[\"Fecha\"] = pd.to_datetime(dolar[\"Fecha\"])\n",
      "/var/folders/04/tp4wyrys03s5z6y1v720v3580000gn/T/ipykernel_1184/2334349146.py:1: UserWarning: Parsing '18-06-2018' in DD/MM/YYYY format. Provide format or specify infer_datetime_format=True for consistent parsing.\n",
      "  dolar[\"Fecha\"] = pd.to_datetime(dolar[\"Fecha\"])\n",
      "/var/folders/04/tp4wyrys03s5z6y1v720v3580000gn/T/ipykernel_1184/2334349146.py:1: UserWarning: Parsing '15-06-2018' in DD/MM/YYYY format. Provide format or specify infer_datetime_format=True for consistent parsing.\n",
      "  dolar[\"Fecha\"] = pd.to_datetime(dolar[\"Fecha\"])\n",
      "/var/folders/04/tp4wyrys03s5z6y1v720v3580000gn/T/ipykernel_1184/2334349146.py:1: UserWarning: Parsing '14-06-2018' in DD/MM/YYYY format. Provide format or specify infer_datetime_format=True for consistent parsing.\n",
      "  dolar[\"Fecha\"] = pd.to_datetime(dolar[\"Fecha\"])\n",
      "/var/folders/04/tp4wyrys03s5z6y1v720v3580000gn/T/ipykernel_1184/2334349146.py:1: UserWarning: Parsing '13-06-2018' in DD/MM/YYYY format. Provide format or specify infer_datetime_format=True for consistent parsing.\n",
      "  dolar[\"Fecha\"] = pd.to_datetime(dolar[\"Fecha\"])\n",
      "/var/folders/04/tp4wyrys03s5z6y1v720v3580000gn/T/ipykernel_1184/2334349146.py:1: UserWarning: Parsing '31-05-2018' in DD/MM/YYYY format. Provide format or specify infer_datetime_format=True for consistent parsing.\n",
      "  dolar[\"Fecha\"] = pd.to_datetime(dolar[\"Fecha\"])\n",
      "/var/folders/04/tp4wyrys03s5z6y1v720v3580000gn/T/ipykernel_1184/2334349146.py:1: UserWarning: Parsing '30-05-2018' in DD/MM/YYYY format. Provide format or specify infer_datetime_format=True for consistent parsing.\n",
      "  dolar[\"Fecha\"] = pd.to_datetime(dolar[\"Fecha\"])\n",
      "/var/folders/04/tp4wyrys03s5z6y1v720v3580000gn/T/ipykernel_1184/2334349146.py:1: UserWarning: Parsing '29-05-2018' in DD/MM/YYYY format. Provide format or specify infer_datetime_format=True for consistent parsing.\n",
      "  dolar[\"Fecha\"] = pd.to_datetime(dolar[\"Fecha\"])\n",
      "/var/folders/04/tp4wyrys03s5z6y1v720v3580000gn/T/ipykernel_1184/2334349146.py:1: UserWarning: Parsing '28-05-2018' in DD/MM/YYYY format. Provide format or specify infer_datetime_format=True for consistent parsing.\n",
      "  dolar[\"Fecha\"] = pd.to_datetime(dolar[\"Fecha\"])\n",
      "/var/folders/04/tp4wyrys03s5z6y1v720v3580000gn/T/ipykernel_1184/2334349146.py:1: UserWarning: Parsing '24-05-2018' in DD/MM/YYYY format. Provide format or specify infer_datetime_format=True for consistent parsing.\n",
      "  dolar[\"Fecha\"] = pd.to_datetime(dolar[\"Fecha\"])\n",
      "/var/folders/04/tp4wyrys03s5z6y1v720v3580000gn/T/ipykernel_1184/2334349146.py:1: UserWarning: Parsing '23-05-2018' in DD/MM/YYYY format. Provide format or specify infer_datetime_format=True for consistent parsing.\n",
      "  dolar[\"Fecha\"] = pd.to_datetime(dolar[\"Fecha\"])\n",
      "/var/folders/04/tp4wyrys03s5z6y1v720v3580000gn/T/ipykernel_1184/2334349146.py:1: UserWarning: Parsing '22-05-2018' in DD/MM/YYYY format. Provide format or specify infer_datetime_format=True for consistent parsing.\n",
      "  dolar[\"Fecha\"] = pd.to_datetime(dolar[\"Fecha\"])\n",
      "/var/folders/04/tp4wyrys03s5z6y1v720v3580000gn/T/ipykernel_1184/2334349146.py:1: UserWarning: Parsing '21-05-2018' in DD/MM/YYYY format. Provide format or specify infer_datetime_format=True for consistent parsing.\n",
      "  dolar[\"Fecha\"] = pd.to_datetime(dolar[\"Fecha\"])\n",
      "/var/folders/04/tp4wyrys03s5z6y1v720v3580000gn/T/ipykernel_1184/2334349146.py:1: UserWarning: Parsing '18-05-2018' in DD/MM/YYYY format. Provide format or specify infer_datetime_format=True for consistent parsing.\n",
      "  dolar[\"Fecha\"] = pd.to_datetime(dolar[\"Fecha\"])\n",
      "/var/folders/04/tp4wyrys03s5z6y1v720v3580000gn/T/ipykernel_1184/2334349146.py:1: UserWarning: Parsing '17-05-2018' in DD/MM/YYYY format. Provide format or specify infer_datetime_format=True for consistent parsing.\n",
      "  dolar[\"Fecha\"] = pd.to_datetime(dolar[\"Fecha\"])\n",
      "/var/folders/04/tp4wyrys03s5z6y1v720v3580000gn/T/ipykernel_1184/2334349146.py:1: UserWarning: Parsing '16-05-2018' in DD/MM/YYYY format. Provide format or specify infer_datetime_format=True for consistent parsing.\n",
      "  dolar[\"Fecha\"] = pd.to_datetime(dolar[\"Fecha\"])\n",
      "/var/folders/04/tp4wyrys03s5z6y1v720v3580000gn/T/ipykernel_1184/2334349146.py:1: UserWarning: Parsing '15-05-2018' in DD/MM/YYYY format. Provide format or specify infer_datetime_format=True for consistent parsing.\n",
      "  dolar[\"Fecha\"] = pd.to_datetime(dolar[\"Fecha\"])\n",
      "/var/folders/04/tp4wyrys03s5z6y1v720v3580000gn/T/ipykernel_1184/2334349146.py:1: UserWarning: Parsing '14-05-2018' in DD/MM/YYYY format. Provide format or specify infer_datetime_format=True for consistent parsing.\n",
      "  dolar[\"Fecha\"] = pd.to_datetime(dolar[\"Fecha\"])\n",
      "/var/folders/04/tp4wyrys03s5z6y1v720v3580000gn/T/ipykernel_1184/2334349146.py:1: UserWarning: Parsing '27-04-2018' in DD/MM/YYYY format. Provide format or specify infer_datetime_format=True for consistent parsing.\n",
      "  dolar[\"Fecha\"] = pd.to_datetime(dolar[\"Fecha\"])\n",
      "/var/folders/04/tp4wyrys03s5z6y1v720v3580000gn/T/ipykernel_1184/2334349146.py:1: UserWarning: Parsing '26-04-2018' in DD/MM/YYYY format. Provide format or specify infer_datetime_format=True for consistent parsing.\n",
      "  dolar[\"Fecha\"] = pd.to_datetime(dolar[\"Fecha\"])\n",
      "/var/folders/04/tp4wyrys03s5z6y1v720v3580000gn/T/ipykernel_1184/2334349146.py:1: UserWarning: Parsing '25-04-2018' in DD/MM/YYYY format. Provide format or specify infer_datetime_format=True for consistent parsing.\n",
      "  dolar[\"Fecha\"] = pd.to_datetime(dolar[\"Fecha\"])\n",
      "/var/folders/04/tp4wyrys03s5z6y1v720v3580000gn/T/ipykernel_1184/2334349146.py:1: UserWarning: Parsing '24-04-2018' in DD/MM/YYYY format. Provide format or specify infer_datetime_format=True for consistent parsing.\n",
      "  dolar[\"Fecha\"] = pd.to_datetime(dolar[\"Fecha\"])\n",
      "/var/folders/04/tp4wyrys03s5z6y1v720v3580000gn/T/ipykernel_1184/2334349146.py:1: UserWarning: Parsing '23-04-2018' in DD/MM/YYYY format. Provide format or specify infer_datetime_format=True for consistent parsing.\n",
      "  dolar[\"Fecha\"] = pd.to_datetime(dolar[\"Fecha\"])\n",
      "/var/folders/04/tp4wyrys03s5z6y1v720v3580000gn/T/ipykernel_1184/2334349146.py:1: UserWarning: Parsing '20-04-2018' in DD/MM/YYYY format. Provide format or specify infer_datetime_format=True for consistent parsing.\n",
      "  dolar[\"Fecha\"] = pd.to_datetime(dolar[\"Fecha\"])\n",
      "/var/folders/04/tp4wyrys03s5z6y1v720v3580000gn/T/ipykernel_1184/2334349146.py:1: UserWarning: Parsing '19-04-2018' in DD/MM/YYYY format. Provide format or specify infer_datetime_format=True for consistent parsing.\n",
      "  dolar[\"Fecha\"] = pd.to_datetime(dolar[\"Fecha\"])\n",
      "/var/folders/04/tp4wyrys03s5z6y1v720v3580000gn/T/ipykernel_1184/2334349146.py:1: UserWarning: Parsing '18-04-2018' in DD/MM/YYYY format. Provide format or specify infer_datetime_format=True for consistent parsing.\n",
      "  dolar[\"Fecha\"] = pd.to_datetime(dolar[\"Fecha\"])\n",
      "/var/folders/04/tp4wyrys03s5z6y1v720v3580000gn/T/ipykernel_1184/2334349146.py:1: UserWarning: Parsing '17-04-2018' in DD/MM/YYYY format. Provide format or specify infer_datetime_format=True for consistent parsing.\n",
      "  dolar[\"Fecha\"] = pd.to_datetime(dolar[\"Fecha\"])\n",
      "/var/folders/04/tp4wyrys03s5z6y1v720v3580000gn/T/ipykernel_1184/2334349146.py:1: UserWarning: Parsing '16-04-2018' in DD/MM/YYYY format. Provide format or specify infer_datetime_format=True for consistent parsing.\n",
      "  dolar[\"Fecha\"] = pd.to_datetime(dolar[\"Fecha\"])\n",
      "/var/folders/04/tp4wyrys03s5z6y1v720v3580000gn/T/ipykernel_1184/2334349146.py:1: UserWarning: Parsing '13-04-2018' in DD/MM/YYYY format. Provide format or specify infer_datetime_format=True for consistent parsing.\n",
      "  dolar[\"Fecha\"] = pd.to_datetime(dolar[\"Fecha\"])\n",
      "/var/folders/04/tp4wyrys03s5z6y1v720v3580000gn/T/ipykernel_1184/2334349146.py:1: UserWarning: Parsing '28-03-2018' in DD/MM/YYYY format. Provide format or specify infer_datetime_format=True for consistent parsing.\n",
      "  dolar[\"Fecha\"] = pd.to_datetime(dolar[\"Fecha\"])\n",
      "/var/folders/04/tp4wyrys03s5z6y1v720v3580000gn/T/ipykernel_1184/2334349146.py:1: UserWarning: Parsing '27-03-2018' in DD/MM/YYYY format. Provide format or specify infer_datetime_format=True for consistent parsing.\n",
      "  dolar[\"Fecha\"] = pd.to_datetime(dolar[\"Fecha\"])\n",
      "/var/folders/04/tp4wyrys03s5z6y1v720v3580000gn/T/ipykernel_1184/2334349146.py:1: UserWarning: Parsing '26-03-2018' in DD/MM/YYYY format. Provide format or specify infer_datetime_format=True for consistent parsing.\n",
      "  dolar[\"Fecha\"] = pd.to_datetime(dolar[\"Fecha\"])\n",
      "/var/folders/04/tp4wyrys03s5z6y1v720v3580000gn/T/ipykernel_1184/2334349146.py:1: UserWarning: Parsing '23-03-2018' in DD/MM/YYYY format. Provide format or specify infer_datetime_format=True for consistent parsing.\n",
      "  dolar[\"Fecha\"] = pd.to_datetime(dolar[\"Fecha\"])\n",
      "/var/folders/04/tp4wyrys03s5z6y1v720v3580000gn/T/ipykernel_1184/2334349146.py:1: UserWarning: Parsing '22-03-2018' in DD/MM/YYYY format. Provide format or specify infer_datetime_format=True for consistent parsing.\n",
      "  dolar[\"Fecha\"] = pd.to_datetime(dolar[\"Fecha\"])\n",
      "/var/folders/04/tp4wyrys03s5z6y1v720v3580000gn/T/ipykernel_1184/2334349146.py:1: UserWarning: Parsing '21-03-2018' in DD/MM/YYYY format. Provide format or specify infer_datetime_format=True for consistent parsing.\n",
      "  dolar[\"Fecha\"] = pd.to_datetime(dolar[\"Fecha\"])\n",
      "/var/folders/04/tp4wyrys03s5z6y1v720v3580000gn/T/ipykernel_1184/2334349146.py:1: UserWarning: Parsing '20-03-2018' in DD/MM/YYYY format. Provide format or specify infer_datetime_format=True for consistent parsing.\n",
      "  dolar[\"Fecha\"] = pd.to_datetime(dolar[\"Fecha\"])\n",
      "/var/folders/04/tp4wyrys03s5z6y1v720v3580000gn/T/ipykernel_1184/2334349146.py:1: UserWarning: Parsing '19-03-2018' in DD/MM/YYYY format. Provide format or specify infer_datetime_format=True for consistent parsing.\n",
      "  dolar[\"Fecha\"] = pd.to_datetime(dolar[\"Fecha\"])\n",
      "/var/folders/04/tp4wyrys03s5z6y1v720v3580000gn/T/ipykernel_1184/2334349146.py:1: UserWarning: Parsing '16-03-2018' in DD/MM/YYYY format. Provide format or specify infer_datetime_format=True for consistent parsing.\n",
      "  dolar[\"Fecha\"] = pd.to_datetime(dolar[\"Fecha\"])\n",
      "/var/folders/04/tp4wyrys03s5z6y1v720v3580000gn/T/ipykernel_1184/2334349146.py:1: UserWarning: Parsing '15-03-2018' in DD/MM/YYYY format. Provide format or specify infer_datetime_format=True for consistent parsing.\n",
      "  dolar[\"Fecha\"] = pd.to_datetime(dolar[\"Fecha\"])\n",
      "/var/folders/04/tp4wyrys03s5z6y1v720v3580000gn/T/ipykernel_1184/2334349146.py:1: UserWarning: Parsing '14-03-2018' in DD/MM/YYYY format. Provide format or specify infer_datetime_format=True for consistent parsing.\n",
      "  dolar[\"Fecha\"] = pd.to_datetime(dolar[\"Fecha\"])\n",
      "/var/folders/04/tp4wyrys03s5z6y1v720v3580000gn/T/ipykernel_1184/2334349146.py:1: UserWarning: Parsing '13-03-2018' in DD/MM/YYYY format. Provide format or specify infer_datetime_format=True for consistent parsing.\n",
      "  dolar[\"Fecha\"] = pd.to_datetime(dolar[\"Fecha\"])\n",
      "/var/folders/04/tp4wyrys03s5z6y1v720v3580000gn/T/ipykernel_1184/2334349146.py:1: UserWarning: Parsing '28-02-2018' in DD/MM/YYYY format. Provide format or specify infer_datetime_format=True for consistent parsing.\n",
      "  dolar[\"Fecha\"] = pd.to_datetime(dolar[\"Fecha\"])\n",
      "/var/folders/04/tp4wyrys03s5z6y1v720v3580000gn/T/ipykernel_1184/2334349146.py:1: UserWarning: Parsing '27-02-2018' in DD/MM/YYYY format. Provide format or specify infer_datetime_format=True for consistent parsing.\n",
      "  dolar[\"Fecha\"] = pd.to_datetime(dolar[\"Fecha\"])\n",
      "/var/folders/04/tp4wyrys03s5z6y1v720v3580000gn/T/ipykernel_1184/2334349146.py:1: UserWarning: Parsing '26-02-2018' in DD/MM/YYYY format. Provide format or specify infer_datetime_format=True for consistent parsing.\n",
      "  dolar[\"Fecha\"] = pd.to_datetime(dolar[\"Fecha\"])\n",
      "/var/folders/04/tp4wyrys03s5z6y1v720v3580000gn/T/ipykernel_1184/2334349146.py:1: UserWarning: Parsing '23-02-2018' in DD/MM/YYYY format. Provide format or specify infer_datetime_format=True for consistent parsing.\n",
      "  dolar[\"Fecha\"] = pd.to_datetime(dolar[\"Fecha\"])\n",
      "/var/folders/04/tp4wyrys03s5z6y1v720v3580000gn/T/ipykernel_1184/2334349146.py:1: UserWarning: Parsing '22-02-2018' in DD/MM/YYYY format. Provide format or specify infer_datetime_format=True for consistent parsing.\n",
      "  dolar[\"Fecha\"] = pd.to_datetime(dolar[\"Fecha\"])\n",
      "/var/folders/04/tp4wyrys03s5z6y1v720v3580000gn/T/ipykernel_1184/2334349146.py:1: UserWarning: Parsing '21-02-2018' in DD/MM/YYYY format. Provide format or specify infer_datetime_format=True for consistent parsing.\n",
      "  dolar[\"Fecha\"] = pd.to_datetime(dolar[\"Fecha\"])\n",
      "/var/folders/04/tp4wyrys03s5z6y1v720v3580000gn/T/ipykernel_1184/2334349146.py:1: UserWarning: Parsing '20-02-2018' in DD/MM/YYYY format. Provide format or specify infer_datetime_format=True for consistent parsing.\n",
      "  dolar[\"Fecha\"] = pd.to_datetime(dolar[\"Fecha\"])\n",
      "/var/folders/04/tp4wyrys03s5z6y1v720v3580000gn/T/ipykernel_1184/2334349146.py:1: UserWarning: Parsing '19-02-2018' in DD/MM/YYYY format. Provide format or specify infer_datetime_format=True for consistent parsing.\n",
      "  dolar[\"Fecha\"] = pd.to_datetime(dolar[\"Fecha\"])\n",
      "/var/folders/04/tp4wyrys03s5z6y1v720v3580000gn/T/ipykernel_1184/2334349146.py:1: UserWarning: Parsing '16-02-2018' in DD/MM/YYYY format. Provide format or specify infer_datetime_format=True for consistent parsing.\n",
      "  dolar[\"Fecha\"] = pd.to_datetime(dolar[\"Fecha\"])\n",
      "/var/folders/04/tp4wyrys03s5z6y1v720v3580000gn/T/ipykernel_1184/2334349146.py:1: UserWarning: Parsing '15-02-2018' in DD/MM/YYYY format. Provide format or specify infer_datetime_format=True for consistent parsing.\n",
      "  dolar[\"Fecha\"] = pd.to_datetime(dolar[\"Fecha\"])\n",
      "/var/folders/04/tp4wyrys03s5z6y1v720v3580000gn/T/ipykernel_1184/2334349146.py:1: UserWarning: Parsing '14-02-2018' in DD/MM/YYYY format. Provide format or specify infer_datetime_format=True for consistent parsing.\n",
      "  dolar[\"Fecha\"] = pd.to_datetime(dolar[\"Fecha\"])\n",
      "/var/folders/04/tp4wyrys03s5z6y1v720v3580000gn/T/ipykernel_1184/2334349146.py:1: UserWarning: Parsing '31-01-2018' in DD/MM/YYYY format. Provide format or specify infer_datetime_format=True for consistent parsing.\n",
      "  dolar[\"Fecha\"] = pd.to_datetime(dolar[\"Fecha\"])\n",
      "/var/folders/04/tp4wyrys03s5z6y1v720v3580000gn/T/ipykernel_1184/2334349146.py:1: UserWarning: Parsing '30-01-2018' in DD/MM/YYYY format. Provide format or specify infer_datetime_format=True for consistent parsing.\n",
      "  dolar[\"Fecha\"] = pd.to_datetime(dolar[\"Fecha\"])\n",
      "/var/folders/04/tp4wyrys03s5z6y1v720v3580000gn/T/ipykernel_1184/2334349146.py:1: UserWarning: Parsing '29-01-2018' in DD/MM/YYYY format. Provide format or specify infer_datetime_format=True for consistent parsing.\n",
      "  dolar[\"Fecha\"] = pd.to_datetime(dolar[\"Fecha\"])\n",
      "/var/folders/04/tp4wyrys03s5z6y1v720v3580000gn/T/ipykernel_1184/2334349146.py:1: UserWarning: Parsing '26-01-2018' in DD/MM/YYYY format. Provide format or specify infer_datetime_format=True for consistent parsing.\n",
      "  dolar[\"Fecha\"] = pd.to_datetime(dolar[\"Fecha\"])\n",
      "/var/folders/04/tp4wyrys03s5z6y1v720v3580000gn/T/ipykernel_1184/2334349146.py:1: UserWarning: Parsing '25-01-2018' in DD/MM/YYYY format. Provide format or specify infer_datetime_format=True for consistent parsing.\n",
      "  dolar[\"Fecha\"] = pd.to_datetime(dolar[\"Fecha\"])\n",
      "/var/folders/04/tp4wyrys03s5z6y1v720v3580000gn/T/ipykernel_1184/2334349146.py:1: UserWarning: Parsing '24-01-2018' in DD/MM/YYYY format. Provide format or specify infer_datetime_format=True for consistent parsing.\n",
      "  dolar[\"Fecha\"] = pd.to_datetime(dolar[\"Fecha\"])\n",
      "/var/folders/04/tp4wyrys03s5z6y1v720v3580000gn/T/ipykernel_1184/2334349146.py:1: UserWarning: Parsing '23-01-2018' in DD/MM/YYYY format. Provide format or specify infer_datetime_format=True for consistent parsing.\n",
      "  dolar[\"Fecha\"] = pd.to_datetime(dolar[\"Fecha\"])\n",
      "/var/folders/04/tp4wyrys03s5z6y1v720v3580000gn/T/ipykernel_1184/2334349146.py:1: UserWarning: Parsing '22-01-2018' in DD/MM/YYYY format. Provide format or specify infer_datetime_format=True for consistent parsing.\n",
      "  dolar[\"Fecha\"] = pd.to_datetime(dolar[\"Fecha\"])\n",
      "/var/folders/04/tp4wyrys03s5z6y1v720v3580000gn/T/ipykernel_1184/2334349146.py:1: UserWarning: Parsing '19-01-2018' in DD/MM/YYYY format. Provide format or specify infer_datetime_format=True for consistent parsing.\n",
      "  dolar[\"Fecha\"] = pd.to_datetime(dolar[\"Fecha\"])\n",
      "/var/folders/04/tp4wyrys03s5z6y1v720v3580000gn/T/ipykernel_1184/2334349146.py:1: UserWarning: Parsing '18-01-2018' in DD/MM/YYYY format. Provide format or specify infer_datetime_format=True for consistent parsing.\n",
      "  dolar[\"Fecha\"] = pd.to_datetime(dolar[\"Fecha\"])\n",
      "/var/folders/04/tp4wyrys03s5z6y1v720v3580000gn/T/ipykernel_1184/2334349146.py:1: UserWarning: Parsing '17-01-2018' in DD/MM/YYYY format. Provide format or specify infer_datetime_format=True for consistent parsing.\n",
      "  dolar[\"Fecha\"] = pd.to_datetime(dolar[\"Fecha\"])\n",
      "/var/folders/04/tp4wyrys03s5z6y1v720v3580000gn/T/ipykernel_1184/2334349146.py:1: UserWarning: Parsing '16-01-2018' in DD/MM/YYYY format. Provide format or specify infer_datetime_format=True for consistent parsing.\n",
      "  dolar[\"Fecha\"] = pd.to_datetime(dolar[\"Fecha\"])\n",
      "/var/folders/04/tp4wyrys03s5z6y1v720v3580000gn/T/ipykernel_1184/2334349146.py:1: UserWarning: Parsing '15-01-2018' in DD/MM/YYYY format. Provide format or specify infer_datetime_format=True for consistent parsing.\n",
      "  dolar[\"Fecha\"] = pd.to_datetime(dolar[\"Fecha\"])\n",
      "/var/folders/04/tp4wyrys03s5z6y1v720v3580000gn/T/ipykernel_1184/2334349146.py:1: UserWarning: Parsing '29-12-2017' in DD/MM/YYYY format. Provide format or specify infer_datetime_format=True for consistent parsing.\n",
      "  dolar[\"Fecha\"] = pd.to_datetime(dolar[\"Fecha\"])\n",
      "/var/folders/04/tp4wyrys03s5z6y1v720v3580000gn/T/ipykernel_1184/2334349146.py:1: UserWarning: Parsing '28-12-2017' in DD/MM/YYYY format. Provide format or specify infer_datetime_format=True for consistent parsing.\n",
      "  dolar[\"Fecha\"] = pd.to_datetime(dolar[\"Fecha\"])\n",
      "/var/folders/04/tp4wyrys03s5z6y1v720v3580000gn/T/ipykernel_1184/2334349146.py:1: UserWarning: Parsing '27-12-2017' in DD/MM/YYYY format. Provide format or specify infer_datetime_format=True for consistent parsing.\n",
      "  dolar[\"Fecha\"] = pd.to_datetime(dolar[\"Fecha\"])\n",
      "/var/folders/04/tp4wyrys03s5z6y1v720v3580000gn/T/ipykernel_1184/2334349146.py:1: UserWarning: Parsing '26-12-2017' in DD/MM/YYYY format. Provide format or specify infer_datetime_format=True for consistent parsing.\n",
      "  dolar[\"Fecha\"] = pd.to_datetime(dolar[\"Fecha\"])\n",
      "/var/folders/04/tp4wyrys03s5z6y1v720v3580000gn/T/ipykernel_1184/2334349146.py:1: UserWarning: Parsing '22-12-2017' in DD/MM/YYYY format. Provide format or specify infer_datetime_format=True for consistent parsing.\n",
      "  dolar[\"Fecha\"] = pd.to_datetime(dolar[\"Fecha\"])\n",
      "/var/folders/04/tp4wyrys03s5z6y1v720v3580000gn/T/ipykernel_1184/2334349146.py:1: UserWarning: Parsing '21-12-2017' in DD/MM/YYYY format. Provide format or specify infer_datetime_format=True for consistent parsing.\n",
      "  dolar[\"Fecha\"] = pd.to_datetime(dolar[\"Fecha\"])\n",
      "/var/folders/04/tp4wyrys03s5z6y1v720v3580000gn/T/ipykernel_1184/2334349146.py:1: UserWarning: Parsing '20-12-2017' in DD/MM/YYYY format. Provide format or specify infer_datetime_format=True for consistent parsing.\n",
      "  dolar[\"Fecha\"] = pd.to_datetime(dolar[\"Fecha\"])\n",
      "/var/folders/04/tp4wyrys03s5z6y1v720v3580000gn/T/ipykernel_1184/2334349146.py:1: UserWarning: Parsing '19-12-2017' in DD/MM/YYYY format. Provide format or specify infer_datetime_format=True for consistent parsing.\n",
      "  dolar[\"Fecha\"] = pd.to_datetime(dolar[\"Fecha\"])\n",
      "/var/folders/04/tp4wyrys03s5z6y1v720v3580000gn/T/ipykernel_1184/2334349146.py:1: UserWarning: Parsing '18-12-2017' in DD/MM/YYYY format. Provide format or specify infer_datetime_format=True for consistent parsing.\n",
      "  dolar[\"Fecha\"] = pd.to_datetime(dolar[\"Fecha\"])\n",
      "/var/folders/04/tp4wyrys03s5z6y1v720v3580000gn/T/ipykernel_1184/2334349146.py:1: UserWarning: Parsing '15-12-2017' in DD/MM/YYYY format. Provide format or specify infer_datetime_format=True for consistent parsing.\n",
      "  dolar[\"Fecha\"] = pd.to_datetime(dolar[\"Fecha\"])\n",
      "/var/folders/04/tp4wyrys03s5z6y1v720v3580000gn/T/ipykernel_1184/2334349146.py:1: UserWarning: Parsing '14-12-2017' in DD/MM/YYYY format. Provide format or specify infer_datetime_format=True for consistent parsing.\n",
      "  dolar[\"Fecha\"] = pd.to_datetime(dolar[\"Fecha\"])\n",
      "/var/folders/04/tp4wyrys03s5z6y1v720v3580000gn/T/ipykernel_1184/2334349146.py:1: UserWarning: Parsing '13-12-2017' in DD/MM/YYYY format. Provide format or specify infer_datetime_format=True for consistent parsing.\n",
      "  dolar[\"Fecha\"] = pd.to_datetime(dolar[\"Fecha\"])\n",
      "/var/folders/04/tp4wyrys03s5z6y1v720v3580000gn/T/ipykernel_1184/2334349146.py:1: UserWarning: Parsing '30-11-2017' in DD/MM/YYYY format. Provide format or specify infer_datetime_format=True for consistent parsing.\n",
      "  dolar[\"Fecha\"] = pd.to_datetime(dolar[\"Fecha\"])\n",
      "/var/folders/04/tp4wyrys03s5z6y1v720v3580000gn/T/ipykernel_1184/2334349146.py:1: UserWarning: Parsing '29-11-2017' in DD/MM/YYYY format. Provide format or specify infer_datetime_format=True for consistent parsing.\n",
      "  dolar[\"Fecha\"] = pd.to_datetime(dolar[\"Fecha\"])\n",
      "/var/folders/04/tp4wyrys03s5z6y1v720v3580000gn/T/ipykernel_1184/2334349146.py:1: UserWarning: Parsing '28-11-2017' in DD/MM/YYYY format. Provide format or specify infer_datetime_format=True for consistent parsing.\n",
      "  dolar[\"Fecha\"] = pd.to_datetime(dolar[\"Fecha\"])\n",
      "/var/folders/04/tp4wyrys03s5z6y1v720v3580000gn/T/ipykernel_1184/2334349146.py:1: UserWarning: Parsing '27-11-2017' in DD/MM/YYYY format. Provide format or specify infer_datetime_format=True for consistent parsing.\n",
      "  dolar[\"Fecha\"] = pd.to_datetime(dolar[\"Fecha\"])\n",
      "/var/folders/04/tp4wyrys03s5z6y1v720v3580000gn/T/ipykernel_1184/2334349146.py:1: UserWarning: Parsing '24-11-2017' in DD/MM/YYYY format. Provide format or specify infer_datetime_format=True for consistent parsing.\n",
      "  dolar[\"Fecha\"] = pd.to_datetime(dolar[\"Fecha\"])\n",
      "/var/folders/04/tp4wyrys03s5z6y1v720v3580000gn/T/ipykernel_1184/2334349146.py:1: UserWarning: Parsing '23-11-2017' in DD/MM/YYYY format. Provide format or specify infer_datetime_format=True for consistent parsing.\n",
      "  dolar[\"Fecha\"] = pd.to_datetime(dolar[\"Fecha\"])\n",
      "/var/folders/04/tp4wyrys03s5z6y1v720v3580000gn/T/ipykernel_1184/2334349146.py:1: UserWarning: Parsing '22-11-2017' in DD/MM/YYYY format. Provide format or specify infer_datetime_format=True for consistent parsing.\n",
      "  dolar[\"Fecha\"] = pd.to_datetime(dolar[\"Fecha\"])\n",
      "/var/folders/04/tp4wyrys03s5z6y1v720v3580000gn/T/ipykernel_1184/2334349146.py:1: UserWarning: Parsing '21-11-2017' in DD/MM/YYYY format. Provide format or specify infer_datetime_format=True for consistent parsing.\n",
      "  dolar[\"Fecha\"] = pd.to_datetime(dolar[\"Fecha\"])\n",
      "/var/folders/04/tp4wyrys03s5z6y1v720v3580000gn/T/ipykernel_1184/2334349146.py:1: UserWarning: Parsing '17-11-2017' in DD/MM/YYYY format. Provide format or specify infer_datetime_format=True for consistent parsing.\n",
      "  dolar[\"Fecha\"] = pd.to_datetime(dolar[\"Fecha\"])\n",
      "/var/folders/04/tp4wyrys03s5z6y1v720v3580000gn/T/ipykernel_1184/2334349146.py:1: UserWarning: Parsing '16-11-2017' in DD/MM/YYYY format. Provide format or specify infer_datetime_format=True for consistent parsing.\n",
      "  dolar[\"Fecha\"] = pd.to_datetime(dolar[\"Fecha\"])\n",
      "/var/folders/04/tp4wyrys03s5z6y1v720v3580000gn/T/ipykernel_1184/2334349146.py:1: UserWarning: Parsing '15-11-2017' in DD/MM/YYYY format. Provide format or specify infer_datetime_format=True for consistent parsing.\n",
      "  dolar[\"Fecha\"] = pd.to_datetime(dolar[\"Fecha\"])\n",
      "/var/folders/04/tp4wyrys03s5z6y1v720v3580000gn/T/ipykernel_1184/2334349146.py:1: UserWarning: Parsing '14-11-2017' in DD/MM/YYYY format. Provide format or specify infer_datetime_format=True for consistent parsing.\n",
      "  dolar[\"Fecha\"] = pd.to_datetime(dolar[\"Fecha\"])\n",
      "/var/folders/04/tp4wyrys03s5z6y1v720v3580000gn/T/ipykernel_1184/2334349146.py:1: UserWarning: Parsing '13-11-2017' in DD/MM/YYYY format. Provide format or specify infer_datetime_format=True for consistent parsing.\n",
      "  dolar[\"Fecha\"] = pd.to_datetime(dolar[\"Fecha\"])\n",
      "/var/folders/04/tp4wyrys03s5z6y1v720v3580000gn/T/ipykernel_1184/2334349146.py:1: UserWarning: Parsing '31-10-2017' in DD/MM/YYYY format. Provide format or specify infer_datetime_format=True for consistent parsing.\n",
      "  dolar[\"Fecha\"] = pd.to_datetime(dolar[\"Fecha\"])\n",
      "/var/folders/04/tp4wyrys03s5z6y1v720v3580000gn/T/ipykernel_1184/2334349146.py:1: UserWarning: Parsing '30-10-2017' in DD/MM/YYYY format. Provide format or specify infer_datetime_format=True for consistent parsing.\n",
      "  dolar[\"Fecha\"] = pd.to_datetime(dolar[\"Fecha\"])\n",
      "/var/folders/04/tp4wyrys03s5z6y1v720v3580000gn/T/ipykernel_1184/2334349146.py:1: UserWarning: Parsing '27-10-2017' in DD/MM/YYYY format. Provide format or specify infer_datetime_format=True for consistent parsing.\n",
      "  dolar[\"Fecha\"] = pd.to_datetime(dolar[\"Fecha\"])\n",
      "/var/folders/04/tp4wyrys03s5z6y1v720v3580000gn/T/ipykernel_1184/2334349146.py:1: UserWarning: Parsing '26-10-2017' in DD/MM/YYYY format. Provide format or specify infer_datetime_format=True for consistent parsing.\n",
      "  dolar[\"Fecha\"] = pd.to_datetime(dolar[\"Fecha\"])\n",
      "/var/folders/04/tp4wyrys03s5z6y1v720v3580000gn/T/ipykernel_1184/2334349146.py:1: UserWarning: Parsing '25-10-2017' in DD/MM/YYYY format. Provide format or specify infer_datetime_format=True for consistent parsing.\n",
      "  dolar[\"Fecha\"] = pd.to_datetime(dolar[\"Fecha\"])\n",
      "/var/folders/04/tp4wyrys03s5z6y1v720v3580000gn/T/ipykernel_1184/2334349146.py:1: UserWarning: Parsing '24-10-2017' in DD/MM/YYYY format. Provide format or specify infer_datetime_format=True for consistent parsing.\n",
      "  dolar[\"Fecha\"] = pd.to_datetime(dolar[\"Fecha\"])\n",
      "/var/folders/04/tp4wyrys03s5z6y1v720v3580000gn/T/ipykernel_1184/2334349146.py:1: UserWarning: Parsing '23-10-2017' in DD/MM/YYYY format. Provide format or specify infer_datetime_format=True for consistent parsing.\n",
      "  dolar[\"Fecha\"] = pd.to_datetime(dolar[\"Fecha\"])\n",
      "/var/folders/04/tp4wyrys03s5z6y1v720v3580000gn/T/ipykernel_1184/2334349146.py:1: UserWarning: Parsing '20-10-2017' in DD/MM/YYYY format. Provide format or specify infer_datetime_format=True for consistent parsing.\n",
      "  dolar[\"Fecha\"] = pd.to_datetime(dolar[\"Fecha\"])\n",
      "/var/folders/04/tp4wyrys03s5z6y1v720v3580000gn/T/ipykernel_1184/2334349146.py:1: UserWarning: Parsing '19-10-2017' in DD/MM/YYYY format. Provide format or specify infer_datetime_format=True for consistent parsing.\n",
      "  dolar[\"Fecha\"] = pd.to_datetime(dolar[\"Fecha\"])\n",
      "/var/folders/04/tp4wyrys03s5z6y1v720v3580000gn/T/ipykernel_1184/2334349146.py:1: UserWarning: Parsing '18-10-2017' in DD/MM/YYYY format. Provide format or specify infer_datetime_format=True for consistent parsing.\n",
      "  dolar[\"Fecha\"] = pd.to_datetime(dolar[\"Fecha\"])\n",
      "/var/folders/04/tp4wyrys03s5z6y1v720v3580000gn/T/ipykernel_1184/2334349146.py:1: UserWarning: Parsing '17-10-2017' in DD/MM/YYYY format. Provide format or specify infer_datetime_format=True for consistent parsing.\n",
      "  dolar[\"Fecha\"] = pd.to_datetime(dolar[\"Fecha\"])\n",
      "/var/folders/04/tp4wyrys03s5z6y1v720v3580000gn/T/ipykernel_1184/2334349146.py:1: UserWarning: Parsing '13-10-2017' in DD/MM/YYYY format. Provide format or specify infer_datetime_format=True for consistent parsing.\n",
      "  dolar[\"Fecha\"] = pd.to_datetime(dolar[\"Fecha\"])\n",
      "/var/folders/04/tp4wyrys03s5z6y1v720v3580000gn/T/ipykernel_1184/2334349146.py:1: UserWarning: Parsing '29-09-2017' in DD/MM/YYYY format. Provide format or specify infer_datetime_format=True for consistent parsing.\n",
      "  dolar[\"Fecha\"] = pd.to_datetime(dolar[\"Fecha\"])\n",
      "/var/folders/04/tp4wyrys03s5z6y1v720v3580000gn/T/ipykernel_1184/2334349146.py:1: UserWarning: Parsing '28-09-2017' in DD/MM/YYYY format. Provide format or specify infer_datetime_format=True for consistent parsing.\n",
      "  dolar[\"Fecha\"] = pd.to_datetime(dolar[\"Fecha\"])\n",
      "/var/folders/04/tp4wyrys03s5z6y1v720v3580000gn/T/ipykernel_1184/2334349146.py:1: UserWarning: Parsing '27-09-2017' in DD/MM/YYYY format. Provide format or specify infer_datetime_format=True for consistent parsing.\n",
      "  dolar[\"Fecha\"] = pd.to_datetime(dolar[\"Fecha\"])\n",
      "/var/folders/04/tp4wyrys03s5z6y1v720v3580000gn/T/ipykernel_1184/2334349146.py:1: UserWarning: Parsing '26-09-2017' in DD/MM/YYYY format. Provide format or specify infer_datetime_format=True for consistent parsing.\n",
      "  dolar[\"Fecha\"] = pd.to_datetime(dolar[\"Fecha\"])\n",
      "/var/folders/04/tp4wyrys03s5z6y1v720v3580000gn/T/ipykernel_1184/2334349146.py:1: UserWarning: Parsing '25-09-2017' in DD/MM/YYYY format. Provide format or specify infer_datetime_format=True for consistent parsing.\n",
      "  dolar[\"Fecha\"] = pd.to_datetime(dolar[\"Fecha\"])\n",
      "/var/folders/04/tp4wyrys03s5z6y1v720v3580000gn/T/ipykernel_1184/2334349146.py:1: UserWarning: Parsing '22-09-2017' in DD/MM/YYYY format. Provide format or specify infer_datetime_format=True for consistent parsing.\n",
      "  dolar[\"Fecha\"] = pd.to_datetime(dolar[\"Fecha\"])\n",
      "/var/folders/04/tp4wyrys03s5z6y1v720v3580000gn/T/ipykernel_1184/2334349146.py:1: UserWarning: Parsing '21-09-2017' in DD/MM/YYYY format. Provide format or specify infer_datetime_format=True for consistent parsing.\n",
      "  dolar[\"Fecha\"] = pd.to_datetime(dolar[\"Fecha\"])\n",
      "/var/folders/04/tp4wyrys03s5z6y1v720v3580000gn/T/ipykernel_1184/2334349146.py:1: UserWarning: Parsing '20-09-2017' in DD/MM/YYYY format. Provide format or specify infer_datetime_format=True for consistent parsing.\n",
      "  dolar[\"Fecha\"] = pd.to_datetime(dolar[\"Fecha\"])\n",
      "/var/folders/04/tp4wyrys03s5z6y1v720v3580000gn/T/ipykernel_1184/2334349146.py:1: UserWarning: Parsing '19-09-2017' in DD/MM/YYYY format. Provide format or specify infer_datetime_format=True for consistent parsing.\n",
      "  dolar[\"Fecha\"] = pd.to_datetime(dolar[\"Fecha\"])\n",
      "/var/folders/04/tp4wyrys03s5z6y1v720v3580000gn/T/ipykernel_1184/2334349146.py:1: UserWarning: Parsing '18-09-2017' in DD/MM/YYYY format. Provide format or specify infer_datetime_format=True for consistent parsing.\n",
      "  dolar[\"Fecha\"] = pd.to_datetime(dolar[\"Fecha\"])\n",
      "/var/folders/04/tp4wyrys03s5z6y1v720v3580000gn/T/ipykernel_1184/2334349146.py:1: UserWarning: Parsing '15-09-2017' in DD/MM/YYYY format. Provide format or specify infer_datetime_format=True for consistent parsing.\n",
      "  dolar[\"Fecha\"] = pd.to_datetime(dolar[\"Fecha\"])\n",
      "/var/folders/04/tp4wyrys03s5z6y1v720v3580000gn/T/ipykernel_1184/2334349146.py:1: UserWarning: Parsing '14-09-2017' in DD/MM/YYYY format. Provide format or specify infer_datetime_format=True for consistent parsing.\n",
      "  dolar[\"Fecha\"] = pd.to_datetime(dolar[\"Fecha\"])\n",
      "/var/folders/04/tp4wyrys03s5z6y1v720v3580000gn/T/ipykernel_1184/2334349146.py:1: UserWarning: Parsing '13-09-2017' in DD/MM/YYYY format. Provide format or specify infer_datetime_format=True for consistent parsing.\n",
      "  dolar[\"Fecha\"] = pd.to_datetime(dolar[\"Fecha\"])\n",
      "/var/folders/04/tp4wyrys03s5z6y1v720v3580000gn/T/ipykernel_1184/2334349146.py:1: UserWarning: Parsing '31-08-2017' in DD/MM/YYYY format. Provide format or specify infer_datetime_format=True for consistent parsing.\n",
      "  dolar[\"Fecha\"] = pd.to_datetime(dolar[\"Fecha\"])\n",
      "/var/folders/04/tp4wyrys03s5z6y1v720v3580000gn/T/ipykernel_1184/2334349146.py:1: UserWarning: Parsing '30-08-2017' in DD/MM/YYYY format. Provide format or specify infer_datetime_format=True for consistent parsing.\n",
      "  dolar[\"Fecha\"] = pd.to_datetime(dolar[\"Fecha\"])\n",
      "/var/folders/04/tp4wyrys03s5z6y1v720v3580000gn/T/ipykernel_1184/2334349146.py:1: UserWarning: Parsing '29-08-2017' in DD/MM/YYYY format. Provide format or specify infer_datetime_format=True for consistent parsing.\n",
      "  dolar[\"Fecha\"] = pd.to_datetime(dolar[\"Fecha\"])\n",
      "/var/folders/04/tp4wyrys03s5z6y1v720v3580000gn/T/ipykernel_1184/2334349146.py:1: UserWarning: Parsing '28-08-2017' in DD/MM/YYYY format. Provide format or specify infer_datetime_format=True for consistent parsing.\n",
      "  dolar[\"Fecha\"] = pd.to_datetime(dolar[\"Fecha\"])\n",
      "/var/folders/04/tp4wyrys03s5z6y1v720v3580000gn/T/ipykernel_1184/2334349146.py:1: UserWarning: Parsing '25-08-2017' in DD/MM/YYYY format. Provide format or specify infer_datetime_format=True for consistent parsing.\n",
      "  dolar[\"Fecha\"] = pd.to_datetime(dolar[\"Fecha\"])\n",
      "/var/folders/04/tp4wyrys03s5z6y1v720v3580000gn/T/ipykernel_1184/2334349146.py:1: UserWarning: Parsing '24-08-2017' in DD/MM/YYYY format. Provide format or specify infer_datetime_format=True for consistent parsing.\n",
      "  dolar[\"Fecha\"] = pd.to_datetime(dolar[\"Fecha\"])\n",
      "/var/folders/04/tp4wyrys03s5z6y1v720v3580000gn/T/ipykernel_1184/2334349146.py:1: UserWarning: Parsing '23-08-2017' in DD/MM/YYYY format. Provide format or specify infer_datetime_format=True for consistent parsing.\n",
      "  dolar[\"Fecha\"] = pd.to_datetime(dolar[\"Fecha\"])\n",
      "/var/folders/04/tp4wyrys03s5z6y1v720v3580000gn/T/ipykernel_1184/2334349146.py:1: UserWarning: Parsing '22-08-2017' in DD/MM/YYYY format. Provide format or specify infer_datetime_format=True for consistent parsing.\n",
      "  dolar[\"Fecha\"] = pd.to_datetime(dolar[\"Fecha\"])\n",
      "/var/folders/04/tp4wyrys03s5z6y1v720v3580000gn/T/ipykernel_1184/2334349146.py:1: UserWarning: Parsing '18-08-2017' in DD/MM/YYYY format. Provide format or specify infer_datetime_format=True for consistent parsing.\n",
      "  dolar[\"Fecha\"] = pd.to_datetime(dolar[\"Fecha\"])\n",
      "/var/folders/04/tp4wyrys03s5z6y1v720v3580000gn/T/ipykernel_1184/2334349146.py:1: UserWarning: Parsing '17-08-2017' in DD/MM/YYYY format. Provide format or specify infer_datetime_format=True for consistent parsing.\n",
      "  dolar[\"Fecha\"] = pd.to_datetime(dolar[\"Fecha\"])\n",
      "/var/folders/04/tp4wyrys03s5z6y1v720v3580000gn/T/ipykernel_1184/2334349146.py:1: UserWarning: Parsing '16-08-2017' in DD/MM/YYYY format. Provide format or specify infer_datetime_format=True for consistent parsing.\n",
      "  dolar[\"Fecha\"] = pd.to_datetime(dolar[\"Fecha\"])\n",
      "/var/folders/04/tp4wyrys03s5z6y1v720v3580000gn/T/ipykernel_1184/2334349146.py:1: UserWarning: Parsing '15-08-2017' in DD/MM/YYYY format. Provide format or specify infer_datetime_format=True for consistent parsing.\n",
      "  dolar[\"Fecha\"] = pd.to_datetime(dolar[\"Fecha\"])\n",
      "/var/folders/04/tp4wyrys03s5z6y1v720v3580000gn/T/ipykernel_1184/2334349146.py:1: UserWarning: Parsing '14-08-2017' in DD/MM/YYYY format. Provide format or specify infer_datetime_format=True for consistent parsing.\n",
      "  dolar[\"Fecha\"] = pd.to_datetime(dolar[\"Fecha\"])\n",
      "/var/folders/04/tp4wyrys03s5z6y1v720v3580000gn/T/ipykernel_1184/2334349146.py:1: UserWarning: Parsing '31-07-2017' in DD/MM/YYYY format. Provide format or specify infer_datetime_format=True for consistent parsing.\n",
      "  dolar[\"Fecha\"] = pd.to_datetime(dolar[\"Fecha\"])\n",
      "/var/folders/04/tp4wyrys03s5z6y1v720v3580000gn/T/ipykernel_1184/2334349146.py:1: UserWarning: Parsing '28-07-2017' in DD/MM/YYYY format. Provide format or specify infer_datetime_format=True for consistent parsing.\n",
      "  dolar[\"Fecha\"] = pd.to_datetime(dolar[\"Fecha\"])\n",
      "/var/folders/04/tp4wyrys03s5z6y1v720v3580000gn/T/ipykernel_1184/2334349146.py:1: UserWarning: Parsing '27-07-2017' in DD/MM/YYYY format. Provide format or specify infer_datetime_format=True for consistent parsing.\n",
      "  dolar[\"Fecha\"] = pd.to_datetime(dolar[\"Fecha\"])\n",
      "/var/folders/04/tp4wyrys03s5z6y1v720v3580000gn/T/ipykernel_1184/2334349146.py:1: UserWarning: Parsing '26-07-2017' in DD/MM/YYYY format. Provide format or specify infer_datetime_format=True for consistent parsing.\n",
      "  dolar[\"Fecha\"] = pd.to_datetime(dolar[\"Fecha\"])\n",
      "/var/folders/04/tp4wyrys03s5z6y1v720v3580000gn/T/ipykernel_1184/2334349146.py:1: UserWarning: Parsing '25-07-2017' in DD/MM/YYYY format. Provide format or specify infer_datetime_format=True for consistent parsing.\n",
      "  dolar[\"Fecha\"] = pd.to_datetime(dolar[\"Fecha\"])\n",
      "/var/folders/04/tp4wyrys03s5z6y1v720v3580000gn/T/ipykernel_1184/2334349146.py:1: UserWarning: Parsing '24-07-2017' in DD/MM/YYYY format. Provide format or specify infer_datetime_format=True for consistent parsing.\n",
      "  dolar[\"Fecha\"] = pd.to_datetime(dolar[\"Fecha\"])\n",
      "/var/folders/04/tp4wyrys03s5z6y1v720v3580000gn/T/ipykernel_1184/2334349146.py:1: UserWarning: Parsing '21-07-2017' in DD/MM/YYYY format. Provide format or specify infer_datetime_format=True for consistent parsing.\n",
      "  dolar[\"Fecha\"] = pd.to_datetime(dolar[\"Fecha\"])\n",
      "/var/folders/04/tp4wyrys03s5z6y1v720v3580000gn/T/ipykernel_1184/2334349146.py:1: UserWarning: Parsing '20-07-2017' in DD/MM/YYYY format. Provide format or specify infer_datetime_format=True for consistent parsing.\n",
      "  dolar[\"Fecha\"] = pd.to_datetime(dolar[\"Fecha\"])\n",
      "/var/folders/04/tp4wyrys03s5z6y1v720v3580000gn/T/ipykernel_1184/2334349146.py:1: UserWarning: Parsing '19-07-2017' in DD/MM/YYYY format. Provide format or specify infer_datetime_format=True for consistent parsing.\n",
      "  dolar[\"Fecha\"] = pd.to_datetime(dolar[\"Fecha\"])\n",
      "/var/folders/04/tp4wyrys03s5z6y1v720v3580000gn/T/ipykernel_1184/2334349146.py:1: UserWarning: Parsing '18-07-2017' in DD/MM/YYYY format. Provide format or specify infer_datetime_format=True for consistent parsing.\n",
      "  dolar[\"Fecha\"] = pd.to_datetime(dolar[\"Fecha\"])\n",
      "/var/folders/04/tp4wyrys03s5z6y1v720v3580000gn/T/ipykernel_1184/2334349146.py:1: UserWarning: Parsing '17-07-2017' in DD/MM/YYYY format. Provide format or specify infer_datetime_format=True for consistent parsing.\n",
      "  dolar[\"Fecha\"] = pd.to_datetime(dolar[\"Fecha\"])\n",
      "/var/folders/04/tp4wyrys03s5z6y1v720v3580000gn/T/ipykernel_1184/2334349146.py:1: UserWarning: Parsing '14-07-2017' in DD/MM/YYYY format. Provide format or specify infer_datetime_format=True for consistent parsing.\n",
      "  dolar[\"Fecha\"] = pd.to_datetime(dolar[\"Fecha\"])\n",
      "/var/folders/04/tp4wyrys03s5z6y1v720v3580000gn/T/ipykernel_1184/2334349146.py:1: UserWarning: Parsing '13-07-2017' in DD/MM/YYYY format. Provide format or specify infer_datetime_format=True for consistent parsing.\n",
      "  dolar[\"Fecha\"] = pd.to_datetime(dolar[\"Fecha\"])\n",
      "/var/folders/04/tp4wyrys03s5z6y1v720v3580000gn/T/ipykernel_1184/2334349146.py:1: UserWarning: Parsing '30-06-2017' in DD/MM/YYYY format. Provide format or specify infer_datetime_format=True for consistent parsing.\n",
      "  dolar[\"Fecha\"] = pd.to_datetime(dolar[\"Fecha\"])\n",
      "/var/folders/04/tp4wyrys03s5z6y1v720v3580000gn/T/ipykernel_1184/2334349146.py:1: UserWarning: Parsing '29-06-2017' in DD/MM/YYYY format. Provide format or specify infer_datetime_format=True for consistent parsing.\n",
      "  dolar[\"Fecha\"] = pd.to_datetime(dolar[\"Fecha\"])\n",
      "/var/folders/04/tp4wyrys03s5z6y1v720v3580000gn/T/ipykernel_1184/2334349146.py:1: UserWarning: Parsing '28-06-2017' in DD/MM/YYYY format. Provide format or specify infer_datetime_format=True for consistent parsing.\n",
      "  dolar[\"Fecha\"] = pd.to_datetime(dolar[\"Fecha\"])\n",
      "/var/folders/04/tp4wyrys03s5z6y1v720v3580000gn/T/ipykernel_1184/2334349146.py:1: UserWarning: Parsing '27-06-2017' in DD/MM/YYYY format. Provide format or specify infer_datetime_format=True for consistent parsing.\n",
      "  dolar[\"Fecha\"] = pd.to_datetime(dolar[\"Fecha\"])\n",
      "/var/folders/04/tp4wyrys03s5z6y1v720v3580000gn/T/ipykernel_1184/2334349146.py:1: UserWarning: Parsing '26-06-2017' in DD/MM/YYYY format. Provide format or specify infer_datetime_format=True for consistent parsing.\n",
      "  dolar[\"Fecha\"] = pd.to_datetime(dolar[\"Fecha\"])\n",
      "/var/folders/04/tp4wyrys03s5z6y1v720v3580000gn/T/ipykernel_1184/2334349146.py:1: UserWarning: Parsing '23-06-2017' in DD/MM/YYYY format. Provide format or specify infer_datetime_format=True for consistent parsing.\n",
      "  dolar[\"Fecha\"] = pd.to_datetime(dolar[\"Fecha\"])\n",
      "/var/folders/04/tp4wyrys03s5z6y1v720v3580000gn/T/ipykernel_1184/2334349146.py:1: UserWarning: Parsing '22-06-2017' in DD/MM/YYYY format. Provide format or specify infer_datetime_format=True for consistent parsing.\n",
      "  dolar[\"Fecha\"] = pd.to_datetime(dolar[\"Fecha\"])\n",
      "/var/folders/04/tp4wyrys03s5z6y1v720v3580000gn/T/ipykernel_1184/2334349146.py:1: UserWarning: Parsing '21-06-2017' in DD/MM/YYYY format. Provide format or specify infer_datetime_format=True for consistent parsing.\n",
      "  dolar[\"Fecha\"] = pd.to_datetime(dolar[\"Fecha\"])\n",
      "/var/folders/04/tp4wyrys03s5z6y1v720v3580000gn/T/ipykernel_1184/2334349146.py:1: UserWarning: Parsing '19-06-2017' in DD/MM/YYYY format. Provide format or specify infer_datetime_format=True for consistent parsing.\n",
      "  dolar[\"Fecha\"] = pd.to_datetime(dolar[\"Fecha\"])\n",
      "/var/folders/04/tp4wyrys03s5z6y1v720v3580000gn/T/ipykernel_1184/2334349146.py:1: UserWarning: Parsing '16-06-2017' in DD/MM/YYYY format. Provide format or specify infer_datetime_format=True for consistent parsing.\n",
      "  dolar[\"Fecha\"] = pd.to_datetime(dolar[\"Fecha\"])\n",
      "/var/folders/04/tp4wyrys03s5z6y1v720v3580000gn/T/ipykernel_1184/2334349146.py:1: UserWarning: Parsing '15-06-2017' in DD/MM/YYYY format. Provide format or specify infer_datetime_format=True for consistent parsing.\n",
      "  dolar[\"Fecha\"] = pd.to_datetime(dolar[\"Fecha\"])\n",
      "/var/folders/04/tp4wyrys03s5z6y1v720v3580000gn/T/ipykernel_1184/2334349146.py:1: UserWarning: Parsing '14-06-2017' in DD/MM/YYYY format. Provide format or specify infer_datetime_format=True for consistent parsing.\n",
      "  dolar[\"Fecha\"] = pd.to_datetime(dolar[\"Fecha\"])\n",
      "/var/folders/04/tp4wyrys03s5z6y1v720v3580000gn/T/ipykernel_1184/2334349146.py:1: UserWarning: Parsing '13-06-2017' in DD/MM/YYYY format. Provide format or specify infer_datetime_format=True for consistent parsing.\n",
      "  dolar[\"Fecha\"] = pd.to_datetime(dolar[\"Fecha\"])\n",
      "/var/folders/04/tp4wyrys03s5z6y1v720v3580000gn/T/ipykernel_1184/2334349146.py:1: UserWarning: Parsing '31-05-2017' in DD/MM/YYYY format. Provide format or specify infer_datetime_format=True for consistent parsing.\n",
      "  dolar[\"Fecha\"] = pd.to_datetime(dolar[\"Fecha\"])\n",
      "/var/folders/04/tp4wyrys03s5z6y1v720v3580000gn/T/ipykernel_1184/2334349146.py:1: UserWarning: Parsing '30-05-2017' in DD/MM/YYYY format. Provide format or specify infer_datetime_format=True for consistent parsing.\n",
      "  dolar[\"Fecha\"] = pd.to_datetime(dolar[\"Fecha\"])\n",
      "/var/folders/04/tp4wyrys03s5z6y1v720v3580000gn/T/ipykernel_1184/2334349146.py:1: UserWarning: Parsing '29-05-2017' in DD/MM/YYYY format. Provide format or specify infer_datetime_format=True for consistent parsing.\n",
      "  dolar[\"Fecha\"] = pd.to_datetime(dolar[\"Fecha\"])\n",
      "/var/folders/04/tp4wyrys03s5z6y1v720v3580000gn/T/ipykernel_1184/2334349146.py:1: UserWarning: Parsing '26-05-2017' in DD/MM/YYYY format. Provide format or specify infer_datetime_format=True for consistent parsing.\n",
      "  dolar[\"Fecha\"] = pd.to_datetime(dolar[\"Fecha\"])\n",
      "/var/folders/04/tp4wyrys03s5z6y1v720v3580000gn/T/ipykernel_1184/2334349146.py:1: UserWarning: Parsing '24-05-2017' in DD/MM/YYYY format. Provide format or specify infer_datetime_format=True for consistent parsing.\n",
      "  dolar[\"Fecha\"] = pd.to_datetime(dolar[\"Fecha\"])\n",
      "/var/folders/04/tp4wyrys03s5z6y1v720v3580000gn/T/ipykernel_1184/2334349146.py:1: UserWarning: Parsing '23-05-2017' in DD/MM/YYYY format. Provide format or specify infer_datetime_format=True for consistent parsing.\n",
      "  dolar[\"Fecha\"] = pd.to_datetime(dolar[\"Fecha\"])\n",
      "/var/folders/04/tp4wyrys03s5z6y1v720v3580000gn/T/ipykernel_1184/2334349146.py:1: UserWarning: Parsing '22-05-2017' in DD/MM/YYYY format. Provide format or specify infer_datetime_format=True for consistent parsing.\n",
      "  dolar[\"Fecha\"] = pd.to_datetime(dolar[\"Fecha\"])\n",
      "/var/folders/04/tp4wyrys03s5z6y1v720v3580000gn/T/ipykernel_1184/2334349146.py:1: UserWarning: Parsing '19-05-2017' in DD/MM/YYYY format. Provide format or specify infer_datetime_format=True for consistent parsing.\n",
      "  dolar[\"Fecha\"] = pd.to_datetime(dolar[\"Fecha\"])\n",
      "/var/folders/04/tp4wyrys03s5z6y1v720v3580000gn/T/ipykernel_1184/2334349146.py:1: UserWarning: Parsing '18-05-2017' in DD/MM/YYYY format. Provide format or specify infer_datetime_format=True for consistent parsing.\n",
      "  dolar[\"Fecha\"] = pd.to_datetime(dolar[\"Fecha\"])\n",
      "/var/folders/04/tp4wyrys03s5z6y1v720v3580000gn/T/ipykernel_1184/2334349146.py:1: UserWarning: Parsing '17-05-2017' in DD/MM/YYYY format. Provide format or specify infer_datetime_format=True for consistent parsing.\n",
      "  dolar[\"Fecha\"] = pd.to_datetime(dolar[\"Fecha\"])\n",
      "/var/folders/04/tp4wyrys03s5z6y1v720v3580000gn/T/ipykernel_1184/2334349146.py:1: UserWarning: Parsing '16-05-2017' in DD/MM/YYYY format. Provide format or specify infer_datetime_format=True for consistent parsing.\n",
      "  dolar[\"Fecha\"] = pd.to_datetime(dolar[\"Fecha\"])\n",
      "/var/folders/04/tp4wyrys03s5z6y1v720v3580000gn/T/ipykernel_1184/2334349146.py:1: UserWarning: Parsing '15-05-2017' in DD/MM/YYYY format. Provide format or specify infer_datetime_format=True for consistent parsing.\n",
      "  dolar[\"Fecha\"] = pd.to_datetime(dolar[\"Fecha\"])\n",
      "/var/folders/04/tp4wyrys03s5z6y1v720v3580000gn/T/ipykernel_1184/2334349146.py:1: UserWarning: Parsing '28-04-2017' in DD/MM/YYYY format. Provide format or specify infer_datetime_format=True for consistent parsing.\n",
      "  dolar[\"Fecha\"] = pd.to_datetime(dolar[\"Fecha\"])\n",
      "/var/folders/04/tp4wyrys03s5z6y1v720v3580000gn/T/ipykernel_1184/2334349146.py:1: UserWarning: Parsing '27-04-2017' in DD/MM/YYYY format. Provide format or specify infer_datetime_format=True for consistent parsing.\n",
      "  dolar[\"Fecha\"] = pd.to_datetime(dolar[\"Fecha\"])\n",
      "/var/folders/04/tp4wyrys03s5z6y1v720v3580000gn/T/ipykernel_1184/2334349146.py:1: UserWarning: Parsing '26-04-2017' in DD/MM/YYYY format. Provide format or specify infer_datetime_format=True for consistent parsing.\n",
      "  dolar[\"Fecha\"] = pd.to_datetime(dolar[\"Fecha\"])\n",
      "/var/folders/04/tp4wyrys03s5z6y1v720v3580000gn/T/ipykernel_1184/2334349146.py:1: UserWarning: Parsing '25-04-2017' in DD/MM/YYYY format. Provide format or specify infer_datetime_format=True for consistent parsing.\n",
      "  dolar[\"Fecha\"] = pd.to_datetime(dolar[\"Fecha\"])\n",
      "/var/folders/04/tp4wyrys03s5z6y1v720v3580000gn/T/ipykernel_1184/2334349146.py:1: UserWarning: Parsing '24-04-2017' in DD/MM/YYYY format. Provide format or specify infer_datetime_format=True for consistent parsing.\n",
      "  dolar[\"Fecha\"] = pd.to_datetime(dolar[\"Fecha\"])\n",
      "/var/folders/04/tp4wyrys03s5z6y1v720v3580000gn/T/ipykernel_1184/2334349146.py:1: UserWarning: Parsing '21-04-2017' in DD/MM/YYYY format. Provide format or specify infer_datetime_format=True for consistent parsing.\n",
      "  dolar[\"Fecha\"] = pd.to_datetime(dolar[\"Fecha\"])\n",
      "/var/folders/04/tp4wyrys03s5z6y1v720v3580000gn/T/ipykernel_1184/2334349146.py:1: UserWarning: Parsing '20-04-2017' in DD/MM/YYYY format. Provide format or specify infer_datetime_format=True for consistent parsing.\n",
      "  dolar[\"Fecha\"] = pd.to_datetime(dolar[\"Fecha\"])\n",
      "/var/folders/04/tp4wyrys03s5z6y1v720v3580000gn/T/ipykernel_1184/2334349146.py:1: UserWarning: Parsing '19-04-2017' in DD/MM/YYYY format. Provide format or specify infer_datetime_format=True for consistent parsing.\n",
      "  dolar[\"Fecha\"] = pd.to_datetime(dolar[\"Fecha\"])\n",
      "/var/folders/04/tp4wyrys03s5z6y1v720v3580000gn/T/ipykernel_1184/2334349146.py:1: UserWarning: Parsing '18-04-2017' in DD/MM/YYYY format. Provide format or specify infer_datetime_format=True for consistent parsing.\n",
      "  dolar[\"Fecha\"] = pd.to_datetime(dolar[\"Fecha\"])\n",
      "/var/folders/04/tp4wyrys03s5z6y1v720v3580000gn/T/ipykernel_1184/2334349146.py:1: UserWarning: Parsing '17-04-2017' in DD/MM/YYYY format. Provide format or specify infer_datetime_format=True for consistent parsing.\n",
      "  dolar[\"Fecha\"] = pd.to_datetime(dolar[\"Fecha\"])\n",
      "/var/folders/04/tp4wyrys03s5z6y1v720v3580000gn/T/ipykernel_1184/2334349146.py:1: UserWarning: Parsing '31-03-2017' in DD/MM/YYYY format. Provide format or specify infer_datetime_format=True for consistent parsing.\n",
      "  dolar[\"Fecha\"] = pd.to_datetime(dolar[\"Fecha\"])\n",
      "/var/folders/04/tp4wyrys03s5z6y1v720v3580000gn/T/ipykernel_1184/2334349146.py:1: UserWarning: Parsing '30-03-2017' in DD/MM/YYYY format. Provide format or specify infer_datetime_format=True for consistent parsing.\n",
      "  dolar[\"Fecha\"] = pd.to_datetime(dolar[\"Fecha\"])\n",
      "/var/folders/04/tp4wyrys03s5z6y1v720v3580000gn/T/ipykernel_1184/2334349146.py:1: UserWarning: Parsing '29-03-2017' in DD/MM/YYYY format. Provide format or specify infer_datetime_format=True for consistent parsing.\n",
      "  dolar[\"Fecha\"] = pd.to_datetime(dolar[\"Fecha\"])\n",
      "/var/folders/04/tp4wyrys03s5z6y1v720v3580000gn/T/ipykernel_1184/2334349146.py:1: UserWarning: Parsing '28-03-2017' in DD/MM/YYYY format. Provide format or specify infer_datetime_format=True for consistent parsing.\n",
      "  dolar[\"Fecha\"] = pd.to_datetime(dolar[\"Fecha\"])\n",
      "/var/folders/04/tp4wyrys03s5z6y1v720v3580000gn/T/ipykernel_1184/2334349146.py:1: UserWarning: Parsing '27-03-2017' in DD/MM/YYYY format. Provide format or specify infer_datetime_format=True for consistent parsing.\n",
      "  dolar[\"Fecha\"] = pd.to_datetime(dolar[\"Fecha\"])\n",
      "/var/folders/04/tp4wyrys03s5z6y1v720v3580000gn/T/ipykernel_1184/2334349146.py:1: UserWarning: Parsing '23-03-2017' in DD/MM/YYYY format. Provide format or specify infer_datetime_format=True for consistent parsing.\n",
      "  dolar[\"Fecha\"] = pd.to_datetime(dolar[\"Fecha\"])\n",
      "/var/folders/04/tp4wyrys03s5z6y1v720v3580000gn/T/ipykernel_1184/2334349146.py:1: UserWarning: Parsing '22-03-2017' in DD/MM/YYYY format. Provide format or specify infer_datetime_format=True for consistent parsing.\n",
      "  dolar[\"Fecha\"] = pd.to_datetime(dolar[\"Fecha\"])\n",
      "/var/folders/04/tp4wyrys03s5z6y1v720v3580000gn/T/ipykernel_1184/2334349146.py:1: UserWarning: Parsing '21-03-2017' in DD/MM/YYYY format. Provide format or specify infer_datetime_format=True for consistent parsing.\n",
      "  dolar[\"Fecha\"] = pd.to_datetime(dolar[\"Fecha\"])\n",
      "/var/folders/04/tp4wyrys03s5z6y1v720v3580000gn/T/ipykernel_1184/2334349146.py:1: UserWarning: Parsing '20-03-2017' in DD/MM/YYYY format. Provide format or specify infer_datetime_format=True for consistent parsing.\n",
      "  dolar[\"Fecha\"] = pd.to_datetime(dolar[\"Fecha\"])\n",
      "/var/folders/04/tp4wyrys03s5z6y1v720v3580000gn/T/ipykernel_1184/2334349146.py:1: UserWarning: Parsing '17-03-2017' in DD/MM/YYYY format. Provide format or specify infer_datetime_format=True for consistent parsing.\n",
      "  dolar[\"Fecha\"] = pd.to_datetime(dolar[\"Fecha\"])\n",
      "/var/folders/04/tp4wyrys03s5z6y1v720v3580000gn/T/ipykernel_1184/2334349146.py:1: UserWarning: Parsing '16-03-2017' in DD/MM/YYYY format. Provide format or specify infer_datetime_format=True for consistent parsing.\n",
      "  dolar[\"Fecha\"] = pd.to_datetime(dolar[\"Fecha\"])\n",
      "/var/folders/04/tp4wyrys03s5z6y1v720v3580000gn/T/ipykernel_1184/2334349146.py:1: UserWarning: Parsing '15-03-2017' in DD/MM/YYYY format. Provide format or specify infer_datetime_format=True for consistent parsing.\n",
      "  dolar[\"Fecha\"] = pd.to_datetime(dolar[\"Fecha\"])\n",
      "/var/folders/04/tp4wyrys03s5z6y1v720v3580000gn/T/ipykernel_1184/2334349146.py:1: UserWarning: Parsing '14-03-2017' in DD/MM/YYYY format. Provide format or specify infer_datetime_format=True for consistent parsing.\n",
      "  dolar[\"Fecha\"] = pd.to_datetime(dolar[\"Fecha\"])\n",
      "/var/folders/04/tp4wyrys03s5z6y1v720v3580000gn/T/ipykernel_1184/2334349146.py:1: UserWarning: Parsing '13-03-2017' in DD/MM/YYYY format. Provide format or specify infer_datetime_format=True for consistent parsing.\n",
      "  dolar[\"Fecha\"] = pd.to_datetime(dolar[\"Fecha\"])\n",
      "/var/folders/04/tp4wyrys03s5z6y1v720v3580000gn/T/ipykernel_1184/2334349146.py:1: UserWarning: Parsing '24-02-2017' in DD/MM/YYYY format. Provide format or specify infer_datetime_format=True for consistent parsing.\n",
      "  dolar[\"Fecha\"] = pd.to_datetime(dolar[\"Fecha\"])\n",
      "/var/folders/04/tp4wyrys03s5z6y1v720v3580000gn/T/ipykernel_1184/2334349146.py:1: UserWarning: Parsing '23-02-2017' in DD/MM/YYYY format. Provide format or specify infer_datetime_format=True for consistent parsing.\n",
      "  dolar[\"Fecha\"] = pd.to_datetime(dolar[\"Fecha\"])\n",
      "/var/folders/04/tp4wyrys03s5z6y1v720v3580000gn/T/ipykernel_1184/2334349146.py:1: UserWarning: Parsing '22-02-2017' in DD/MM/YYYY format. Provide format or specify infer_datetime_format=True for consistent parsing.\n",
      "  dolar[\"Fecha\"] = pd.to_datetime(dolar[\"Fecha\"])\n",
      "/var/folders/04/tp4wyrys03s5z6y1v720v3580000gn/T/ipykernel_1184/2334349146.py:1: UserWarning: Parsing '21-02-2017' in DD/MM/YYYY format. Provide format or specify infer_datetime_format=True for consistent parsing.\n",
      "  dolar[\"Fecha\"] = pd.to_datetime(dolar[\"Fecha\"])\n",
      "/var/folders/04/tp4wyrys03s5z6y1v720v3580000gn/T/ipykernel_1184/2334349146.py:1: UserWarning: Parsing '20-02-2017' in DD/MM/YYYY format. Provide format or specify infer_datetime_format=True for consistent parsing.\n",
      "  dolar[\"Fecha\"] = pd.to_datetime(dolar[\"Fecha\"])\n",
      "/var/folders/04/tp4wyrys03s5z6y1v720v3580000gn/T/ipykernel_1184/2334349146.py:1: UserWarning: Parsing '17-02-2017' in DD/MM/YYYY format. Provide format or specify infer_datetime_format=True for consistent parsing.\n",
      "  dolar[\"Fecha\"] = pd.to_datetime(dolar[\"Fecha\"])\n",
      "/var/folders/04/tp4wyrys03s5z6y1v720v3580000gn/T/ipykernel_1184/2334349146.py:1: UserWarning: Parsing '16-02-2017' in DD/MM/YYYY format. Provide format or specify infer_datetime_format=True for consistent parsing.\n",
      "  dolar[\"Fecha\"] = pd.to_datetime(dolar[\"Fecha\"])\n",
      "/var/folders/04/tp4wyrys03s5z6y1v720v3580000gn/T/ipykernel_1184/2334349146.py:1: UserWarning: Parsing '15-02-2017' in DD/MM/YYYY format. Provide format or specify infer_datetime_format=True for consistent parsing.\n",
      "  dolar[\"Fecha\"] = pd.to_datetime(dolar[\"Fecha\"])\n",
      "/var/folders/04/tp4wyrys03s5z6y1v720v3580000gn/T/ipykernel_1184/2334349146.py:1: UserWarning: Parsing '14-02-2017' in DD/MM/YYYY format. Provide format or specify infer_datetime_format=True for consistent parsing.\n",
      "  dolar[\"Fecha\"] = pd.to_datetime(dolar[\"Fecha\"])\n",
      "/var/folders/04/tp4wyrys03s5z6y1v720v3580000gn/T/ipykernel_1184/2334349146.py:1: UserWarning: Parsing '13-02-2017' in DD/MM/YYYY format. Provide format or specify infer_datetime_format=True for consistent parsing.\n",
      "  dolar[\"Fecha\"] = pd.to_datetime(dolar[\"Fecha\"])\n",
      "/var/folders/04/tp4wyrys03s5z6y1v720v3580000gn/T/ipykernel_1184/2334349146.py:1: UserWarning: Parsing '31-01-2017' in DD/MM/YYYY format. Provide format or specify infer_datetime_format=True for consistent parsing.\n",
      "  dolar[\"Fecha\"] = pd.to_datetime(dolar[\"Fecha\"])\n",
      "/var/folders/04/tp4wyrys03s5z6y1v720v3580000gn/T/ipykernel_1184/2334349146.py:1: UserWarning: Parsing '30-01-2017' in DD/MM/YYYY format. Provide format or specify infer_datetime_format=True for consistent parsing.\n",
      "  dolar[\"Fecha\"] = pd.to_datetime(dolar[\"Fecha\"])\n",
      "/var/folders/04/tp4wyrys03s5z6y1v720v3580000gn/T/ipykernel_1184/2334349146.py:1: UserWarning: Parsing '27-01-2017' in DD/MM/YYYY format. Provide format or specify infer_datetime_format=True for consistent parsing.\n",
      "  dolar[\"Fecha\"] = pd.to_datetime(dolar[\"Fecha\"])\n",
      "/var/folders/04/tp4wyrys03s5z6y1v720v3580000gn/T/ipykernel_1184/2334349146.py:1: UserWarning: Parsing '26-01-2017' in DD/MM/YYYY format. Provide format or specify infer_datetime_format=True for consistent parsing.\n",
      "  dolar[\"Fecha\"] = pd.to_datetime(dolar[\"Fecha\"])\n",
      "/var/folders/04/tp4wyrys03s5z6y1v720v3580000gn/T/ipykernel_1184/2334349146.py:1: UserWarning: Parsing '25-01-2017' in DD/MM/YYYY format. Provide format or specify infer_datetime_format=True for consistent parsing.\n",
      "  dolar[\"Fecha\"] = pd.to_datetime(dolar[\"Fecha\"])\n",
      "/var/folders/04/tp4wyrys03s5z6y1v720v3580000gn/T/ipykernel_1184/2334349146.py:1: UserWarning: Parsing '24-01-2017' in DD/MM/YYYY format. Provide format or specify infer_datetime_format=True for consistent parsing.\n",
      "  dolar[\"Fecha\"] = pd.to_datetime(dolar[\"Fecha\"])\n",
      "/var/folders/04/tp4wyrys03s5z6y1v720v3580000gn/T/ipykernel_1184/2334349146.py:1: UserWarning: Parsing '23-01-2017' in DD/MM/YYYY format. Provide format or specify infer_datetime_format=True for consistent parsing.\n",
      "  dolar[\"Fecha\"] = pd.to_datetime(dolar[\"Fecha\"])\n",
      "/var/folders/04/tp4wyrys03s5z6y1v720v3580000gn/T/ipykernel_1184/2334349146.py:1: UserWarning: Parsing '20-01-2017' in DD/MM/YYYY format. Provide format or specify infer_datetime_format=True for consistent parsing.\n",
      "  dolar[\"Fecha\"] = pd.to_datetime(dolar[\"Fecha\"])\n",
      "/var/folders/04/tp4wyrys03s5z6y1v720v3580000gn/T/ipykernel_1184/2334349146.py:1: UserWarning: Parsing '19-01-2017' in DD/MM/YYYY format. Provide format or specify infer_datetime_format=True for consistent parsing.\n",
      "  dolar[\"Fecha\"] = pd.to_datetime(dolar[\"Fecha\"])\n",
      "/var/folders/04/tp4wyrys03s5z6y1v720v3580000gn/T/ipykernel_1184/2334349146.py:1: UserWarning: Parsing '18-01-2017' in DD/MM/YYYY format. Provide format or specify infer_datetime_format=True for consistent parsing.\n",
      "  dolar[\"Fecha\"] = pd.to_datetime(dolar[\"Fecha\"])\n",
      "/var/folders/04/tp4wyrys03s5z6y1v720v3580000gn/T/ipykernel_1184/2334349146.py:1: UserWarning: Parsing '17-01-2017' in DD/MM/YYYY format. Provide format or specify infer_datetime_format=True for consistent parsing.\n",
      "  dolar[\"Fecha\"] = pd.to_datetime(dolar[\"Fecha\"])\n",
      "/var/folders/04/tp4wyrys03s5z6y1v720v3580000gn/T/ipykernel_1184/2334349146.py:1: UserWarning: Parsing '16-01-2017' in DD/MM/YYYY format. Provide format or specify infer_datetime_format=True for consistent parsing.\n",
      "  dolar[\"Fecha\"] = pd.to_datetime(dolar[\"Fecha\"])\n",
      "/var/folders/04/tp4wyrys03s5z6y1v720v3580000gn/T/ipykernel_1184/2334349146.py:1: UserWarning: Parsing '13-01-2017' in DD/MM/YYYY format. Provide format or specify infer_datetime_format=True for consistent parsing.\n",
      "  dolar[\"Fecha\"] = pd.to_datetime(dolar[\"Fecha\"])\n",
      "/var/folders/04/tp4wyrys03s5z6y1v720v3580000gn/T/ipykernel_1184/2334349146.py:1: UserWarning: Parsing '30-12-2016' in DD/MM/YYYY format. Provide format or specify infer_datetime_format=True for consistent parsing.\n",
      "  dolar[\"Fecha\"] = pd.to_datetime(dolar[\"Fecha\"])\n",
      "/var/folders/04/tp4wyrys03s5z6y1v720v3580000gn/T/ipykernel_1184/2334349146.py:1: UserWarning: Parsing '29-12-2016' in DD/MM/YYYY format. Provide format or specify infer_datetime_format=True for consistent parsing.\n",
      "  dolar[\"Fecha\"] = pd.to_datetime(dolar[\"Fecha\"])\n",
      "/var/folders/04/tp4wyrys03s5z6y1v720v3580000gn/T/ipykernel_1184/2334349146.py:1: UserWarning: Parsing '28-12-2016' in DD/MM/YYYY format. Provide format or specify infer_datetime_format=True for consistent parsing.\n",
      "  dolar[\"Fecha\"] = pd.to_datetime(dolar[\"Fecha\"])\n",
      "/var/folders/04/tp4wyrys03s5z6y1v720v3580000gn/T/ipykernel_1184/2334349146.py:1: UserWarning: Parsing '27-12-2016' in DD/MM/YYYY format. Provide format or specify infer_datetime_format=True for consistent parsing.\n",
      "  dolar[\"Fecha\"] = pd.to_datetime(dolar[\"Fecha\"])\n",
      "/var/folders/04/tp4wyrys03s5z6y1v720v3580000gn/T/ipykernel_1184/2334349146.py:1: UserWarning: Parsing '26-12-2016' in DD/MM/YYYY format. Provide format or specify infer_datetime_format=True for consistent parsing.\n",
      "  dolar[\"Fecha\"] = pd.to_datetime(dolar[\"Fecha\"])\n",
      "/var/folders/04/tp4wyrys03s5z6y1v720v3580000gn/T/ipykernel_1184/2334349146.py:1: UserWarning: Parsing '23-12-2016' in DD/MM/YYYY format. Provide format or specify infer_datetime_format=True for consistent parsing.\n",
      "  dolar[\"Fecha\"] = pd.to_datetime(dolar[\"Fecha\"])\n",
      "/var/folders/04/tp4wyrys03s5z6y1v720v3580000gn/T/ipykernel_1184/2334349146.py:1: UserWarning: Parsing '22-12-2016' in DD/MM/YYYY format. Provide format or specify infer_datetime_format=True for consistent parsing.\n",
      "  dolar[\"Fecha\"] = pd.to_datetime(dolar[\"Fecha\"])\n",
      "/var/folders/04/tp4wyrys03s5z6y1v720v3580000gn/T/ipykernel_1184/2334349146.py:1: UserWarning: Parsing '21-12-2016' in DD/MM/YYYY format. Provide format or specify infer_datetime_format=True for consistent parsing.\n",
      "  dolar[\"Fecha\"] = pd.to_datetime(dolar[\"Fecha\"])\n",
      "/var/folders/04/tp4wyrys03s5z6y1v720v3580000gn/T/ipykernel_1184/2334349146.py:1: UserWarning: Parsing '20-12-2016' in DD/MM/YYYY format. Provide format or specify infer_datetime_format=True for consistent parsing.\n",
      "  dolar[\"Fecha\"] = pd.to_datetime(dolar[\"Fecha\"])\n",
      "/var/folders/04/tp4wyrys03s5z6y1v720v3580000gn/T/ipykernel_1184/2334349146.py:1: UserWarning: Parsing '19-12-2016' in DD/MM/YYYY format. Provide format or specify infer_datetime_format=True for consistent parsing.\n",
      "  dolar[\"Fecha\"] = pd.to_datetime(dolar[\"Fecha\"])\n",
      "/var/folders/04/tp4wyrys03s5z6y1v720v3580000gn/T/ipykernel_1184/2334349146.py:1: UserWarning: Parsing '16-12-2016' in DD/MM/YYYY format. Provide format or specify infer_datetime_format=True for consistent parsing.\n",
      "  dolar[\"Fecha\"] = pd.to_datetime(dolar[\"Fecha\"])\n",
      "/var/folders/04/tp4wyrys03s5z6y1v720v3580000gn/T/ipykernel_1184/2334349146.py:1: UserWarning: Parsing '15-12-2016' in DD/MM/YYYY format. Provide format or specify infer_datetime_format=True for consistent parsing.\n",
      "  dolar[\"Fecha\"] = pd.to_datetime(dolar[\"Fecha\"])\n",
      "/var/folders/04/tp4wyrys03s5z6y1v720v3580000gn/T/ipykernel_1184/2334349146.py:1: UserWarning: Parsing '14-12-2016' in DD/MM/YYYY format. Provide format or specify infer_datetime_format=True for consistent parsing.\n",
      "  dolar[\"Fecha\"] = pd.to_datetime(dolar[\"Fecha\"])\n",
      "/var/folders/04/tp4wyrys03s5z6y1v720v3580000gn/T/ipykernel_1184/2334349146.py:1: UserWarning: Parsing '13-12-2016' in DD/MM/YYYY format. Provide format or specify infer_datetime_format=True for consistent parsing.\n",
      "  dolar[\"Fecha\"] = pd.to_datetime(dolar[\"Fecha\"])\n",
      "/var/folders/04/tp4wyrys03s5z6y1v720v3580000gn/T/ipykernel_1184/2334349146.py:1: UserWarning: Parsing '30-11-2016' in DD/MM/YYYY format. Provide format or specify infer_datetime_format=True for consistent parsing.\n",
      "  dolar[\"Fecha\"] = pd.to_datetime(dolar[\"Fecha\"])\n",
      "/var/folders/04/tp4wyrys03s5z6y1v720v3580000gn/T/ipykernel_1184/2334349146.py:1: UserWarning: Parsing '29-11-2016' in DD/MM/YYYY format. Provide format or specify infer_datetime_format=True for consistent parsing.\n",
      "  dolar[\"Fecha\"] = pd.to_datetime(dolar[\"Fecha\"])\n",
      "/var/folders/04/tp4wyrys03s5z6y1v720v3580000gn/T/ipykernel_1184/2334349146.py:1: UserWarning: Parsing '25-11-2016' in DD/MM/YYYY format. Provide format or specify infer_datetime_format=True for consistent parsing.\n",
      "  dolar[\"Fecha\"] = pd.to_datetime(dolar[\"Fecha\"])\n",
      "/var/folders/04/tp4wyrys03s5z6y1v720v3580000gn/T/ipykernel_1184/2334349146.py:1: UserWarning: Parsing '24-11-2016' in DD/MM/YYYY format. Provide format or specify infer_datetime_format=True for consistent parsing.\n",
      "  dolar[\"Fecha\"] = pd.to_datetime(dolar[\"Fecha\"])\n",
      "/var/folders/04/tp4wyrys03s5z6y1v720v3580000gn/T/ipykernel_1184/2334349146.py:1: UserWarning: Parsing '23-11-2016' in DD/MM/YYYY format. Provide format or specify infer_datetime_format=True for consistent parsing.\n",
      "  dolar[\"Fecha\"] = pd.to_datetime(dolar[\"Fecha\"])\n",
      "/var/folders/04/tp4wyrys03s5z6y1v720v3580000gn/T/ipykernel_1184/2334349146.py:1: UserWarning: Parsing '22-11-2016' in DD/MM/YYYY format. Provide format or specify infer_datetime_format=True for consistent parsing.\n",
      "  dolar[\"Fecha\"] = pd.to_datetime(dolar[\"Fecha\"])\n",
      "/var/folders/04/tp4wyrys03s5z6y1v720v3580000gn/T/ipykernel_1184/2334349146.py:1: UserWarning: Parsing '21-11-2016' in DD/MM/YYYY format. Provide format or specify infer_datetime_format=True for consistent parsing.\n",
      "  dolar[\"Fecha\"] = pd.to_datetime(dolar[\"Fecha\"])\n",
      "/var/folders/04/tp4wyrys03s5z6y1v720v3580000gn/T/ipykernel_1184/2334349146.py:1: UserWarning: Parsing '18-11-2016' in DD/MM/YYYY format. Provide format or specify infer_datetime_format=True for consistent parsing.\n",
      "  dolar[\"Fecha\"] = pd.to_datetime(dolar[\"Fecha\"])\n",
      "/var/folders/04/tp4wyrys03s5z6y1v720v3580000gn/T/ipykernel_1184/2334349146.py:1: UserWarning: Parsing '17-11-2016' in DD/MM/YYYY format. Provide format or specify infer_datetime_format=True for consistent parsing.\n",
      "  dolar[\"Fecha\"] = pd.to_datetime(dolar[\"Fecha\"])\n",
      "/var/folders/04/tp4wyrys03s5z6y1v720v3580000gn/T/ipykernel_1184/2334349146.py:1: UserWarning: Parsing '16-11-2016' in DD/MM/YYYY format. Provide format or specify infer_datetime_format=True for consistent parsing.\n",
      "  dolar[\"Fecha\"] = pd.to_datetime(dolar[\"Fecha\"])\n",
      "/var/folders/04/tp4wyrys03s5z6y1v720v3580000gn/T/ipykernel_1184/2334349146.py:1: UserWarning: Parsing '15-11-2016' in DD/MM/YYYY format. Provide format or specify infer_datetime_format=True for consistent parsing.\n",
      "  dolar[\"Fecha\"] = pd.to_datetime(dolar[\"Fecha\"])\n",
      "/var/folders/04/tp4wyrys03s5z6y1v720v3580000gn/T/ipykernel_1184/2334349146.py:1: UserWarning: Parsing '14-11-2016' in DD/MM/YYYY format. Provide format or specify infer_datetime_format=True for consistent parsing.\n",
      "  dolar[\"Fecha\"] = pd.to_datetime(dolar[\"Fecha\"])\n",
      "/var/folders/04/tp4wyrys03s5z6y1v720v3580000gn/T/ipykernel_1184/2334349146.py:1: UserWarning: Parsing '31-10-2016' in DD/MM/YYYY format. Provide format or specify infer_datetime_format=True for consistent parsing.\n",
      "  dolar[\"Fecha\"] = pd.to_datetime(dolar[\"Fecha\"])\n",
      "/var/folders/04/tp4wyrys03s5z6y1v720v3580000gn/T/ipykernel_1184/2334349146.py:1: UserWarning: Parsing '28-10-2016' in DD/MM/YYYY format. Provide format or specify infer_datetime_format=True for consistent parsing.\n",
      "  dolar[\"Fecha\"] = pd.to_datetime(dolar[\"Fecha\"])\n",
      "/var/folders/04/tp4wyrys03s5z6y1v720v3580000gn/T/ipykernel_1184/2334349146.py:1: UserWarning: Parsing '27-10-2016' in DD/MM/YYYY format. Provide format or specify infer_datetime_format=True for consistent parsing.\n",
      "  dolar[\"Fecha\"] = pd.to_datetime(dolar[\"Fecha\"])\n",
      "/var/folders/04/tp4wyrys03s5z6y1v720v3580000gn/T/ipykernel_1184/2334349146.py:1: UserWarning: Parsing '26-10-2016' in DD/MM/YYYY format. Provide format or specify infer_datetime_format=True for consistent parsing.\n",
      "  dolar[\"Fecha\"] = pd.to_datetime(dolar[\"Fecha\"])\n",
      "/var/folders/04/tp4wyrys03s5z6y1v720v3580000gn/T/ipykernel_1184/2334349146.py:1: UserWarning: Parsing '25-10-2016' in DD/MM/YYYY format. Provide format or specify infer_datetime_format=True for consistent parsing.\n",
      "  dolar[\"Fecha\"] = pd.to_datetime(dolar[\"Fecha\"])\n",
      "/var/folders/04/tp4wyrys03s5z6y1v720v3580000gn/T/ipykernel_1184/2334349146.py:1: UserWarning: Parsing '24-10-2016' in DD/MM/YYYY format. Provide format or specify infer_datetime_format=True for consistent parsing.\n",
      "  dolar[\"Fecha\"] = pd.to_datetime(dolar[\"Fecha\"])\n",
      "/var/folders/04/tp4wyrys03s5z6y1v720v3580000gn/T/ipykernel_1184/2334349146.py:1: UserWarning: Parsing '21-10-2016' in DD/MM/YYYY format. Provide format or specify infer_datetime_format=True for consistent parsing.\n",
      "  dolar[\"Fecha\"] = pd.to_datetime(dolar[\"Fecha\"])\n",
      "/var/folders/04/tp4wyrys03s5z6y1v720v3580000gn/T/ipykernel_1184/2334349146.py:1: UserWarning: Parsing '20-10-2016' in DD/MM/YYYY format. Provide format or specify infer_datetime_format=True for consistent parsing.\n",
      "  dolar[\"Fecha\"] = pd.to_datetime(dolar[\"Fecha\"])\n",
      "/var/folders/04/tp4wyrys03s5z6y1v720v3580000gn/T/ipykernel_1184/2334349146.py:1: UserWarning: Parsing '19-10-2016' in DD/MM/YYYY format. Provide format or specify infer_datetime_format=True for consistent parsing.\n",
      "  dolar[\"Fecha\"] = pd.to_datetime(dolar[\"Fecha\"])\n",
      "/var/folders/04/tp4wyrys03s5z6y1v720v3580000gn/T/ipykernel_1184/2334349146.py:1: UserWarning: Parsing '18-10-2016' in DD/MM/YYYY format. Provide format or specify infer_datetime_format=True for consistent parsing.\n",
      "  dolar[\"Fecha\"] = pd.to_datetime(dolar[\"Fecha\"])\n",
      "/var/folders/04/tp4wyrys03s5z6y1v720v3580000gn/T/ipykernel_1184/2334349146.py:1: UserWarning: Parsing '17-10-2016' in DD/MM/YYYY format. Provide format or specify infer_datetime_format=True for consistent parsing.\n",
      "  dolar[\"Fecha\"] = pd.to_datetime(dolar[\"Fecha\"])\n",
      "/var/folders/04/tp4wyrys03s5z6y1v720v3580000gn/T/ipykernel_1184/2334349146.py:1: UserWarning: Parsing '14-10-2016' in DD/MM/YYYY format. Provide format or specify infer_datetime_format=True for consistent parsing.\n",
      "  dolar[\"Fecha\"] = pd.to_datetime(dolar[\"Fecha\"])\n",
      "/var/folders/04/tp4wyrys03s5z6y1v720v3580000gn/T/ipykernel_1184/2334349146.py:1: UserWarning: Parsing '13-10-2016' in DD/MM/YYYY format. Provide format or specify infer_datetime_format=True for consistent parsing.\n",
      "  dolar[\"Fecha\"] = pd.to_datetime(dolar[\"Fecha\"])\n",
      "/var/folders/04/tp4wyrys03s5z6y1v720v3580000gn/T/ipykernel_1184/2334349146.py:1: UserWarning: Parsing '30-09-2016' in DD/MM/YYYY format. Provide format or specify infer_datetime_format=True for consistent parsing.\n",
      "  dolar[\"Fecha\"] = pd.to_datetime(dolar[\"Fecha\"])\n",
      "/var/folders/04/tp4wyrys03s5z6y1v720v3580000gn/T/ipykernel_1184/2334349146.py:1: UserWarning: Parsing '29-09-2016' in DD/MM/YYYY format. Provide format or specify infer_datetime_format=True for consistent parsing.\n",
      "  dolar[\"Fecha\"] = pd.to_datetime(dolar[\"Fecha\"])\n",
      "/var/folders/04/tp4wyrys03s5z6y1v720v3580000gn/T/ipykernel_1184/2334349146.py:1: UserWarning: Parsing '28-09-2016' in DD/MM/YYYY format. Provide format or specify infer_datetime_format=True for consistent parsing.\n",
      "  dolar[\"Fecha\"] = pd.to_datetime(dolar[\"Fecha\"])\n",
      "/var/folders/04/tp4wyrys03s5z6y1v720v3580000gn/T/ipykernel_1184/2334349146.py:1: UserWarning: Parsing '27-09-2016' in DD/MM/YYYY format. Provide format or specify infer_datetime_format=True for consistent parsing.\n",
      "  dolar[\"Fecha\"] = pd.to_datetime(dolar[\"Fecha\"])\n",
      "/var/folders/04/tp4wyrys03s5z6y1v720v3580000gn/T/ipykernel_1184/2334349146.py:1: UserWarning: Parsing '26-09-2016' in DD/MM/YYYY format. Provide format or specify infer_datetime_format=True for consistent parsing.\n",
      "  dolar[\"Fecha\"] = pd.to_datetime(dolar[\"Fecha\"])\n",
      "/var/folders/04/tp4wyrys03s5z6y1v720v3580000gn/T/ipykernel_1184/2334349146.py:1: UserWarning: Parsing '23-09-2016' in DD/MM/YYYY format. Provide format or specify infer_datetime_format=True for consistent parsing.\n",
      "  dolar[\"Fecha\"] = pd.to_datetime(dolar[\"Fecha\"])\n",
      "/var/folders/04/tp4wyrys03s5z6y1v720v3580000gn/T/ipykernel_1184/2334349146.py:1: UserWarning: Parsing '22-09-2016' in DD/MM/YYYY format. Provide format or specify infer_datetime_format=True for consistent parsing.\n",
      "  dolar[\"Fecha\"] = pd.to_datetime(dolar[\"Fecha\"])\n",
      "/var/folders/04/tp4wyrys03s5z6y1v720v3580000gn/T/ipykernel_1184/2334349146.py:1: UserWarning: Parsing '21-09-2016' in DD/MM/YYYY format. Provide format or specify infer_datetime_format=True for consistent parsing.\n",
      "  dolar[\"Fecha\"] = pd.to_datetime(dolar[\"Fecha\"])\n",
      "/var/folders/04/tp4wyrys03s5z6y1v720v3580000gn/T/ipykernel_1184/2334349146.py:1: UserWarning: Parsing '20-09-2016' in DD/MM/YYYY format. Provide format or specify infer_datetime_format=True for consistent parsing.\n",
      "  dolar[\"Fecha\"] = pd.to_datetime(dolar[\"Fecha\"])\n",
      "/var/folders/04/tp4wyrys03s5z6y1v720v3580000gn/T/ipykernel_1184/2334349146.py:1: UserWarning: Parsing '19-09-2016' in DD/MM/YYYY format. Provide format or specify infer_datetime_format=True for consistent parsing.\n",
      "  dolar[\"Fecha\"] = pd.to_datetime(dolar[\"Fecha\"])\n",
      "/var/folders/04/tp4wyrys03s5z6y1v720v3580000gn/T/ipykernel_1184/2334349146.py:1: UserWarning: Parsing '16-09-2016' in DD/MM/YYYY format. Provide format or specify infer_datetime_format=True for consistent parsing.\n",
      "  dolar[\"Fecha\"] = pd.to_datetime(dolar[\"Fecha\"])\n",
      "/var/folders/04/tp4wyrys03s5z6y1v720v3580000gn/T/ipykernel_1184/2334349146.py:1: UserWarning: Parsing '15-09-2016' in DD/MM/YYYY format. Provide format or specify infer_datetime_format=True for consistent parsing.\n",
      "  dolar[\"Fecha\"] = pd.to_datetime(dolar[\"Fecha\"])\n",
      "/var/folders/04/tp4wyrys03s5z6y1v720v3580000gn/T/ipykernel_1184/2334349146.py:1: UserWarning: Parsing '14-09-2016' in DD/MM/YYYY format. Provide format or specify infer_datetime_format=True for consistent parsing.\n",
      "  dolar[\"Fecha\"] = pd.to_datetime(dolar[\"Fecha\"])\n",
      "/var/folders/04/tp4wyrys03s5z6y1v720v3580000gn/T/ipykernel_1184/2334349146.py:1: UserWarning: Parsing '13-09-2016' in DD/MM/YYYY format. Provide format or specify infer_datetime_format=True for consistent parsing.\n",
      "  dolar[\"Fecha\"] = pd.to_datetime(dolar[\"Fecha\"])\n",
      "/var/folders/04/tp4wyrys03s5z6y1v720v3580000gn/T/ipykernel_1184/2334349146.py:1: UserWarning: Parsing '31-08-2016' in DD/MM/YYYY format. Provide format or specify infer_datetime_format=True for consistent parsing.\n",
      "  dolar[\"Fecha\"] = pd.to_datetime(dolar[\"Fecha\"])\n",
      "/var/folders/04/tp4wyrys03s5z6y1v720v3580000gn/T/ipykernel_1184/2334349146.py:1: UserWarning: Parsing '30-08-2016' in DD/MM/YYYY format. Provide format or specify infer_datetime_format=True for consistent parsing.\n",
      "  dolar[\"Fecha\"] = pd.to_datetime(dolar[\"Fecha\"])\n",
      "/var/folders/04/tp4wyrys03s5z6y1v720v3580000gn/T/ipykernel_1184/2334349146.py:1: UserWarning: Parsing '29-08-2016' in DD/MM/YYYY format. Provide format or specify infer_datetime_format=True for consistent parsing.\n",
      "  dolar[\"Fecha\"] = pd.to_datetime(dolar[\"Fecha\"])\n",
      "/var/folders/04/tp4wyrys03s5z6y1v720v3580000gn/T/ipykernel_1184/2334349146.py:1: UserWarning: Parsing '26-08-2016' in DD/MM/YYYY format. Provide format or specify infer_datetime_format=True for consistent parsing.\n",
      "  dolar[\"Fecha\"] = pd.to_datetime(dolar[\"Fecha\"])\n",
      "/var/folders/04/tp4wyrys03s5z6y1v720v3580000gn/T/ipykernel_1184/2334349146.py:1: UserWarning: Parsing '25-08-2016' in DD/MM/YYYY format. Provide format or specify infer_datetime_format=True for consistent parsing.\n",
      "  dolar[\"Fecha\"] = pd.to_datetime(dolar[\"Fecha\"])\n",
      "/var/folders/04/tp4wyrys03s5z6y1v720v3580000gn/T/ipykernel_1184/2334349146.py:1: UserWarning: Parsing '24-08-2016' in DD/MM/YYYY format. Provide format or specify infer_datetime_format=True for consistent parsing.\n",
      "  dolar[\"Fecha\"] = pd.to_datetime(dolar[\"Fecha\"])\n",
      "/var/folders/04/tp4wyrys03s5z6y1v720v3580000gn/T/ipykernel_1184/2334349146.py:1: UserWarning: Parsing '23-08-2016' in DD/MM/YYYY format. Provide format or specify infer_datetime_format=True for consistent parsing.\n",
      "  dolar[\"Fecha\"] = pd.to_datetime(dolar[\"Fecha\"])\n",
      "/var/folders/04/tp4wyrys03s5z6y1v720v3580000gn/T/ipykernel_1184/2334349146.py:1: UserWarning: Parsing '22-08-2016' in DD/MM/YYYY format. Provide format or specify infer_datetime_format=True for consistent parsing.\n",
      "  dolar[\"Fecha\"] = pd.to_datetime(dolar[\"Fecha\"])\n",
      "/var/folders/04/tp4wyrys03s5z6y1v720v3580000gn/T/ipykernel_1184/2334349146.py:1: UserWarning: Parsing '19-08-2016' in DD/MM/YYYY format. Provide format or specify infer_datetime_format=True for consistent parsing.\n",
      "  dolar[\"Fecha\"] = pd.to_datetime(dolar[\"Fecha\"])\n",
      "/var/folders/04/tp4wyrys03s5z6y1v720v3580000gn/T/ipykernel_1184/2334349146.py:1: UserWarning: Parsing '18-08-2016' in DD/MM/YYYY format. Provide format or specify infer_datetime_format=True for consistent parsing.\n",
      "  dolar[\"Fecha\"] = pd.to_datetime(dolar[\"Fecha\"])\n",
      "/var/folders/04/tp4wyrys03s5z6y1v720v3580000gn/T/ipykernel_1184/2334349146.py:1: UserWarning: Parsing '17-08-2016' in DD/MM/YYYY format. Provide format or specify infer_datetime_format=True for consistent parsing.\n",
      "  dolar[\"Fecha\"] = pd.to_datetime(dolar[\"Fecha\"])\n",
      "/var/folders/04/tp4wyrys03s5z6y1v720v3580000gn/T/ipykernel_1184/2334349146.py:1: UserWarning: Parsing '16-08-2016' in DD/MM/YYYY format. Provide format or specify infer_datetime_format=True for consistent parsing.\n",
      "  dolar[\"Fecha\"] = pd.to_datetime(dolar[\"Fecha\"])\n",
      "/var/folders/04/tp4wyrys03s5z6y1v720v3580000gn/T/ipykernel_1184/2334349146.py:1: UserWarning: Parsing '29-07-2016' in DD/MM/YYYY format. Provide format or specify infer_datetime_format=True for consistent parsing.\n",
      "  dolar[\"Fecha\"] = pd.to_datetime(dolar[\"Fecha\"])\n",
      "/var/folders/04/tp4wyrys03s5z6y1v720v3580000gn/T/ipykernel_1184/2334349146.py:1: UserWarning: Parsing '28-07-2016' in DD/MM/YYYY format. Provide format or specify infer_datetime_format=True for consistent parsing.\n",
      "  dolar[\"Fecha\"] = pd.to_datetime(dolar[\"Fecha\"])\n",
      "/var/folders/04/tp4wyrys03s5z6y1v720v3580000gn/T/ipykernel_1184/2334349146.py:1: UserWarning: Parsing '27-07-2016' in DD/MM/YYYY format. Provide format or specify infer_datetime_format=True for consistent parsing.\n",
      "  dolar[\"Fecha\"] = pd.to_datetime(dolar[\"Fecha\"])\n",
      "/var/folders/04/tp4wyrys03s5z6y1v720v3580000gn/T/ipykernel_1184/2334349146.py:1: UserWarning: Parsing '26-07-2016' in DD/MM/YYYY format. Provide format or specify infer_datetime_format=True for consistent parsing.\n",
      "  dolar[\"Fecha\"] = pd.to_datetime(dolar[\"Fecha\"])\n",
      "/var/folders/04/tp4wyrys03s5z6y1v720v3580000gn/T/ipykernel_1184/2334349146.py:1: UserWarning: Parsing '25-07-2016' in DD/MM/YYYY format. Provide format or specify infer_datetime_format=True for consistent parsing.\n",
      "  dolar[\"Fecha\"] = pd.to_datetime(dolar[\"Fecha\"])\n",
      "/var/folders/04/tp4wyrys03s5z6y1v720v3580000gn/T/ipykernel_1184/2334349146.py:1: UserWarning: Parsing '22-07-2016' in DD/MM/YYYY format. Provide format or specify infer_datetime_format=True for consistent parsing.\n",
      "  dolar[\"Fecha\"] = pd.to_datetime(dolar[\"Fecha\"])\n",
      "/var/folders/04/tp4wyrys03s5z6y1v720v3580000gn/T/ipykernel_1184/2334349146.py:1: UserWarning: Parsing '21-07-2016' in DD/MM/YYYY format. Provide format or specify infer_datetime_format=True for consistent parsing.\n",
      "  dolar[\"Fecha\"] = pd.to_datetime(dolar[\"Fecha\"])\n",
      "/var/folders/04/tp4wyrys03s5z6y1v720v3580000gn/T/ipykernel_1184/2334349146.py:1: UserWarning: Parsing '20-07-2016' in DD/MM/YYYY format. Provide format or specify infer_datetime_format=True for consistent parsing.\n",
      "  dolar[\"Fecha\"] = pd.to_datetime(dolar[\"Fecha\"])\n",
      "/var/folders/04/tp4wyrys03s5z6y1v720v3580000gn/T/ipykernel_1184/2334349146.py:1: UserWarning: Parsing '19-07-2016' in DD/MM/YYYY format. Provide format or specify infer_datetime_format=True for consistent parsing.\n",
      "  dolar[\"Fecha\"] = pd.to_datetime(dolar[\"Fecha\"])\n",
      "/var/folders/04/tp4wyrys03s5z6y1v720v3580000gn/T/ipykernel_1184/2334349146.py:1: UserWarning: Parsing '18-07-2016' in DD/MM/YYYY format. Provide format or specify infer_datetime_format=True for consistent parsing.\n",
      "  dolar[\"Fecha\"] = pd.to_datetime(dolar[\"Fecha\"])\n",
      "/var/folders/04/tp4wyrys03s5z6y1v720v3580000gn/T/ipykernel_1184/2334349146.py:1: UserWarning: Parsing '15-07-2016' in DD/MM/YYYY format. Provide format or specify infer_datetime_format=True for consistent parsing.\n",
      "  dolar[\"Fecha\"] = pd.to_datetime(dolar[\"Fecha\"])\n",
      "/var/folders/04/tp4wyrys03s5z6y1v720v3580000gn/T/ipykernel_1184/2334349146.py:1: UserWarning: Parsing '14-07-2016' in DD/MM/YYYY format. Provide format or specify infer_datetime_format=True for consistent parsing.\n",
      "  dolar[\"Fecha\"] = pd.to_datetime(dolar[\"Fecha\"])\n",
      "/var/folders/04/tp4wyrys03s5z6y1v720v3580000gn/T/ipykernel_1184/2334349146.py:1: UserWarning: Parsing '13-07-2016' in DD/MM/YYYY format. Provide format or specify infer_datetime_format=True for consistent parsing.\n",
      "  dolar[\"Fecha\"] = pd.to_datetime(dolar[\"Fecha\"])\n",
      "/var/folders/04/tp4wyrys03s5z6y1v720v3580000gn/T/ipykernel_1184/2334349146.py:1: UserWarning: Parsing '30-06-2016' in DD/MM/YYYY format. Provide format or specify infer_datetime_format=True for consistent parsing.\n",
      "  dolar[\"Fecha\"] = pd.to_datetime(dolar[\"Fecha\"])\n",
      "/var/folders/04/tp4wyrys03s5z6y1v720v3580000gn/T/ipykernel_1184/2334349146.py:1: UserWarning: Parsing '29-06-2016' in DD/MM/YYYY format. Provide format or specify infer_datetime_format=True for consistent parsing.\n",
      "  dolar[\"Fecha\"] = pd.to_datetime(dolar[\"Fecha\"])\n",
      "/var/folders/04/tp4wyrys03s5z6y1v720v3580000gn/T/ipykernel_1184/2334349146.py:1: UserWarning: Parsing '28-06-2016' in DD/MM/YYYY format. Provide format or specify infer_datetime_format=True for consistent parsing.\n",
      "  dolar[\"Fecha\"] = pd.to_datetime(dolar[\"Fecha\"])\n",
      "/var/folders/04/tp4wyrys03s5z6y1v720v3580000gn/T/ipykernel_1184/2334349146.py:1: UserWarning: Parsing '27-06-2016' in DD/MM/YYYY format. Provide format or specify infer_datetime_format=True for consistent parsing.\n",
      "  dolar[\"Fecha\"] = pd.to_datetime(dolar[\"Fecha\"])\n",
      "/var/folders/04/tp4wyrys03s5z6y1v720v3580000gn/T/ipykernel_1184/2334349146.py:1: UserWarning: Parsing '24-06-2016' in DD/MM/YYYY format. Provide format or specify infer_datetime_format=True for consistent parsing.\n",
      "  dolar[\"Fecha\"] = pd.to_datetime(dolar[\"Fecha\"])\n",
      "/var/folders/04/tp4wyrys03s5z6y1v720v3580000gn/T/ipykernel_1184/2334349146.py:1: UserWarning: Parsing '23-06-2016' in DD/MM/YYYY format. Provide format or specify infer_datetime_format=True for consistent parsing.\n",
      "  dolar[\"Fecha\"] = pd.to_datetime(dolar[\"Fecha\"])\n",
      "/var/folders/04/tp4wyrys03s5z6y1v720v3580000gn/T/ipykernel_1184/2334349146.py:1: UserWarning: Parsing '22-06-2016' in DD/MM/YYYY format. Provide format or specify infer_datetime_format=True for consistent parsing.\n",
      "  dolar[\"Fecha\"] = pd.to_datetime(dolar[\"Fecha\"])\n",
      "/var/folders/04/tp4wyrys03s5z6y1v720v3580000gn/T/ipykernel_1184/2334349146.py:1: UserWarning: Parsing '21-06-2016' in DD/MM/YYYY format. Provide format or specify infer_datetime_format=True for consistent parsing.\n",
      "  dolar[\"Fecha\"] = pd.to_datetime(dolar[\"Fecha\"])\n",
      "/var/folders/04/tp4wyrys03s5z6y1v720v3580000gn/T/ipykernel_1184/2334349146.py:1: UserWarning: Parsing '16-06-2016' in DD/MM/YYYY format. Provide format or specify infer_datetime_format=True for consistent parsing.\n",
      "  dolar[\"Fecha\"] = pd.to_datetime(dolar[\"Fecha\"])\n",
      "/var/folders/04/tp4wyrys03s5z6y1v720v3580000gn/T/ipykernel_1184/2334349146.py:1: UserWarning: Parsing '15-06-2016' in DD/MM/YYYY format. Provide format or specify infer_datetime_format=True for consistent parsing.\n",
      "  dolar[\"Fecha\"] = pd.to_datetime(dolar[\"Fecha\"])\n",
      "/var/folders/04/tp4wyrys03s5z6y1v720v3580000gn/T/ipykernel_1184/2334349146.py:1: UserWarning: Parsing '14-06-2016' in DD/MM/YYYY format. Provide format or specify infer_datetime_format=True for consistent parsing.\n",
      "  dolar[\"Fecha\"] = pd.to_datetime(dolar[\"Fecha\"])\n",
      "/var/folders/04/tp4wyrys03s5z6y1v720v3580000gn/T/ipykernel_1184/2334349146.py:1: UserWarning: Parsing '13-06-2016' in DD/MM/YYYY format. Provide format or specify infer_datetime_format=True for consistent parsing.\n",
      "  dolar[\"Fecha\"] = pd.to_datetime(dolar[\"Fecha\"])\n",
      "/var/folders/04/tp4wyrys03s5z6y1v720v3580000gn/T/ipykernel_1184/2334349146.py:1: UserWarning: Parsing '31-05-2016' in DD/MM/YYYY format. Provide format or specify infer_datetime_format=True for consistent parsing.\n",
      "  dolar[\"Fecha\"] = pd.to_datetime(dolar[\"Fecha\"])\n",
      "/var/folders/04/tp4wyrys03s5z6y1v720v3580000gn/T/ipykernel_1184/2334349146.py:1: UserWarning: Parsing '30-05-2016' in DD/MM/YYYY format. Provide format or specify infer_datetime_format=True for consistent parsing.\n",
      "  dolar[\"Fecha\"] = pd.to_datetime(dolar[\"Fecha\"])\n",
      "/var/folders/04/tp4wyrys03s5z6y1v720v3580000gn/T/ipykernel_1184/2334349146.py:1: UserWarning: Parsing '27-05-2016' in DD/MM/YYYY format. Provide format or specify infer_datetime_format=True for consistent parsing.\n",
      "  dolar[\"Fecha\"] = pd.to_datetime(dolar[\"Fecha\"])\n",
      "/var/folders/04/tp4wyrys03s5z6y1v720v3580000gn/T/ipykernel_1184/2334349146.py:1: UserWarning: Parsing '26-05-2016' in DD/MM/YYYY format. Provide format or specify infer_datetime_format=True for consistent parsing.\n",
      "  dolar[\"Fecha\"] = pd.to_datetime(dolar[\"Fecha\"])\n",
      "/var/folders/04/tp4wyrys03s5z6y1v720v3580000gn/T/ipykernel_1184/2334349146.py:1: UserWarning: Parsing '24-05-2016' in DD/MM/YYYY format. Provide format or specify infer_datetime_format=True for consistent parsing.\n",
      "  dolar[\"Fecha\"] = pd.to_datetime(dolar[\"Fecha\"])\n",
      "/var/folders/04/tp4wyrys03s5z6y1v720v3580000gn/T/ipykernel_1184/2334349146.py:1: UserWarning: Parsing '23-05-2016' in DD/MM/YYYY format. Provide format or specify infer_datetime_format=True for consistent parsing.\n",
      "  dolar[\"Fecha\"] = pd.to_datetime(dolar[\"Fecha\"])\n",
      "/var/folders/04/tp4wyrys03s5z6y1v720v3580000gn/T/ipykernel_1184/2334349146.py:1: UserWarning: Parsing '20-05-2016' in DD/MM/YYYY format. Provide format or specify infer_datetime_format=True for consistent parsing.\n",
      "  dolar[\"Fecha\"] = pd.to_datetime(dolar[\"Fecha\"])\n",
      "/var/folders/04/tp4wyrys03s5z6y1v720v3580000gn/T/ipykernel_1184/2334349146.py:1: UserWarning: Parsing '19-05-2016' in DD/MM/YYYY format. Provide format or specify infer_datetime_format=True for consistent parsing.\n",
      "  dolar[\"Fecha\"] = pd.to_datetime(dolar[\"Fecha\"])\n",
      "/var/folders/04/tp4wyrys03s5z6y1v720v3580000gn/T/ipykernel_1184/2334349146.py:1: UserWarning: Parsing '18-05-2016' in DD/MM/YYYY format. Provide format or specify infer_datetime_format=True for consistent parsing.\n",
      "  dolar[\"Fecha\"] = pd.to_datetime(dolar[\"Fecha\"])\n",
      "/var/folders/04/tp4wyrys03s5z6y1v720v3580000gn/T/ipykernel_1184/2334349146.py:1: UserWarning: Parsing '17-05-2016' in DD/MM/YYYY format. Provide format or specify infer_datetime_format=True for consistent parsing.\n",
      "  dolar[\"Fecha\"] = pd.to_datetime(dolar[\"Fecha\"])\n",
      "/var/folders/04/tp4wyrys03s5z6y1v720v3580000gn/T/ipykernel_1184/2334349146.py:1: UserWarning: Parsing '16-05-2016' in DD/MM/YYYY format. Provide format or specify infer_datetime_format=True for consistent parsing.\n",
      "  dolar[\"Fecha\"] = pd.to_datetime(dolar[\"Fecha\"])\n",
      "/var/folders/04/tp4wyrys03s5z6y1v720v3580000gn/T/ipykernel_1184/2334349146.py:1: UserWarning: Parsing '13-05-2016' in DD/MM/YYYY format. Provide format or specify infer_datetime_format=True for consistent parsing.\n",
      "  dolar[\"Fecha\"] = pd.to_datetime(dolar[\"Fecha\"])\n",
      "/var/folders/04/tp4wyrys03s5z6y1v720v3580000gn/T/ipykernel_1184/2334349146.py:1: UserWarning: Parsing '29-04-2016' in DD/MM/YYYY format. Provide format or specify infer_datetime_format=True for consistent parsing.\n",
      "  dolar[\"Fecha\"] = pd.to_datetime(dolar[\"Fecha\"])\n",
      "/var/folders/04/tp4wyrys03s5z6y1v720v3580000gn/T/ipykernel_1184/2334349146.py:1: UserWarning: Parsing '28-04-2016' in DD/MM/YYYY format. Provide format or specify infer_datetime_format=True for consistent parsing.\n",
      "  dolar[\"Fecha\"] = pd.to_datetime(dolar[\"Fecha\"])\n",
      "/var/folders/04/tp4wyrys03s5z6y1v720v3580000gn/T/ipykernel_1184/2334349146.py:1: UserWarning: Parsing '27-04-2016' in DD/MM/YYYY format. Provide format or specify infer_datetime_format=True for consistent parsing.\n",
      "  dolar[\"Fecha\"] = pd.to_datetime(dolar[\"Fecha\"])\n",
      "/var/folders/04/tp4wyrys03s5z6y1v720v3580000gn/T/ipykernel_1184/2334349146.py:1: UserWarning: Parsing '26-04-2016' in DD/MM/YYYY format. Provide format or specify infer_datetime_format=True for consistent parsing.\n",
      "  dolar[\"Fecha\"] = pd.to_datetime(dolar[\"Fecha\"])\n",
      "/var/folders/04/tp4wyrys03s5z6y1v720v3580000gn/T/ipykernel_1184/2334349146.py:1: UserWarning: Parsing '25-04-2016' in DD/MM/YYYY format. Provide format or specify infer_datetime_format=True for consistent parsing.\n",
      "  dolar[\"Fecha\"] = pd.to_datetime(dolar[\"Fecha\"])\n",
      "/var/folders/04/tp4wyrys03s5z6y1v720v3580000gn/T/ipykernel_1184/2334349146.py:1: UserWarning: Parsing '22-04-2016' in DD/MM/YYYY format. Provide format or specify infer_datetime_format=True for consistent parsing.\n",
      "  dolar[\"Fecha\"] = pd.to_datetime(dolar[\"Fecha\"])\n",
      "/var/folders/04/tp4wyrys03s5z6y1v720v3580000gn/T/ipykernel_1184/2334349146.py:1: UserWarning: Parsing '21-04-2016' in DD/MM/YYYY format. Provide format or specify infer_datetime_format=True for consistent parsing.\n",
      "  dolar[\"Fecha\"] = pd.to_datetime(dolar[\"Fecha\"])\n",
      "/var/folders/04/tp4wyrys03s5z6y1v720v3580000gn/T/ipykernel_1184/2334349146.py:1: UserWarning: Parsing '20-04-2016' in DD/MM/YYYY format. Provide format or specify infer_datetime_format=True for consistent parsing.\n",
      "  dolar[\"Fecha\"] = pd.to_datetime(dolar[\"Fecha\"])\n",
      "/var/folders/04/tp4wyrys03s5z6y1v720v3580000gn/T/ipykernel_1184/2334349146.py:1: UserWarning: Parsing '19-04-2016' in DD/MM/YYYY format. Provide format or specify infer_datetime_format=True for consistent parsing.\n",
      "  dolar[\"Fecha\"] = pd.to_datetime(dolar[\"Fecha\"])\n",
      "/var/folders/04/tp4wyrys03s5z6y1v720v3580000gn/T/ipykernel_1184/2334349146.py:1: UserWarning: Parsing '18-04-2016' in DD/MM/YYYY format. Provide format or specify infer_datetime_format=True for consistent parsing.\n",
      "  dolar[\"Fecha\"] = pd.to_datetime(dolar[\"Fecha\"])\n",
      "/var/folders/04/tp4wyrys03s5z6y1v720v3580000gn/T/ipykernel_1184/2334349146.py:1: UserWarning: Parsing '15-04-2016' in DD/MM/YYYY format. Provide format or specify infer_datetime_format=True for consistent parsing.\n",
      "  dolar[\"Fecha\"] = pd.to_datetime(dolar[\"Fecha\"])\n",
      "/var/folders/04/tp4wyrys03s5z6y1v720v3580000gn/T/ipykernel_1184/2334349146.py:1: UserWarning: Parsing '14-04-2016' in DD/MM/YYYY format. Provide format or specify infer_datetime_format=True for consistent parsing.\n",
      "  dolar[\"Fecha\"] = pd.to_datetime(dolar[\"Fecha\"])\n",
      "/var/folders/04/tp4wyrys03s5z6y1v720v3580000gn/T/ipykernel_1184/2334349146.py:1: UserWarning: Parsing '13-04-2016' in DD/MM/YYYY format. Provide format or specify infer_datetime_format=True for consistent parsing.\n",
      "  dolar[\"Fecha\"] = pd.to_datetime(dolar[\"Fecha\"])\n",
      "/var/folders/04/tp4wyrys03s5z6y1v720v3580000gn/T/ipykernel_1184/2334349146.py:1: UserWarning: Parsing '31-03-2016' in DD/MM/YYYY format. Provide format or specify infer_datetime_format=True for consistent parsing.\n",
      "  dolar[\"Fecha\"] = pd.to_datetime(dolar[\"Fecha\"])\n",
      "/var/folders/04/tp4wyrys03s5z6y1v720v3580000gn/T/ipykernel_1184/2334349146.py:1: UserWarning: Parsing '30-03-2016' in DD/MM/YYYY format. Provide format or specify infer_datetime_format=True for consistent parsing.\n",
      "  dolar[\"Fecha\"] = pd.to_datetime(dolar[\"Fecha\"])\n",
      "/var/folders/04/tp4wyrys03s5z6y1v720v3580000gn/T/ipykernel_1184/2334349146.py:1: UserWarning: Parsing '29-03-2016' in DD/MM/YYYY format. Provide format or specify infer_datetime_format=True for consistent parsing.\n",
      "  dolar[\"Fecha\"] = pd.to_datetime(dolar[\"Fecha\"])\n",
      "/var/folders/04/tp4wyrys03s5z6y1v720v3580000gn/T/ipykernel_1184/2334349146.py:1: UserWarning: Parsing '28-03-2016' in DD/MM/YYYY format. Provide format or specify infer_datetime_format=True for consistent parsing.\n",
      "  dolar[\"Fecha\"] = pd.to_datetime(dolar[\"Fecha\"])\n",
      "/var/folders/04/tp4wyrys03s5z6y1v720v3580000gn/T/ipykernel_1184/2334349146.py:1: UserWarning: Parsing '23-03-2016' in DD/MM/YYYY format. Provide format or specify infer_datetime_format=True for consistent parsing.\n",
      "  dolar[\"Fecha\"] = pd.to_datetime(dolar[\"Fecha\"])\n",
      "/var/folders/04/tp4wyrys03s5z6y1v720v3580000gn/T/ipykernel_1184/2334349146.py:1: UserWarning: Parsing '22-03-2016' in DD/MM/YYYY format. Provide format or specify infer_datetime_format=True for consistent parsing.\n",
      "  dolar[\"Fecha\"] = pd.to_datetime(dolar[\"Fecha\"])\n",
      "/var/folders/04/tp4wyrys03s5z6y1v720v3580000gn/T/ipykernel_1184/2334349146.py:1: UserWarning: Parsing '21-03-2016' in DD/MM/YYYY format. Provide format or specify infer_datetime_format=True for consistent parsing.\n",
      "  dolar[\"Fecha\"] = pd.to_datetime(dolar[\"Fecha\"])\n",
      "/var/folders/04/tp4wyrys03s5z6y1v720v3580000gn/T/ipykernel_1184/2334349146.py:1: UserWarning: Parsing '18-03-2016' in DD/MM/YYYY format. Provide format or specify infer_datetime_format=True for consistent parsing.\n",
      "  dolar[\"Fecha\"] = pd.to_datetime(dolar[\"Fecha\"])\n",
      "/var/folders/04/tp4wyrys03s5z6y1v720v3580000gn/T/ipykernel_1184/2334349146.py:1: UserWarning: Parsing '17-03-2016' in DD/MM/YYYY format. Provide format or specify infer_datetime_format=True for consistent parsing.\n",
      "  dolar[\"Fecha\"] = pd.to_datetime(dolar[\"Fecha\"])\n",
      "/var/folders/04/tp4wyrys03s5z6y1v720v3580000gn/T/ipykernel_1184/2334349146.py:1: UserWarning: Parsing '16-03-2016' in DD/MM/YYYY format. Provide format or specify infer_datetime_format=True for consistent parsing.\n",
      "  dolar[\"Fecha\"] = pd.to_datetime(dolar[\"Fecha\"])\n",
      "/var/folders/04/tp4wyrys03s5z6y1v720v3580000gn/T/ipykernel_1184/2334349146.py:1: UserWarning: Parsing '15-03-2016' in DD/MM/YYYY format. Provide format or specify infer_datetime_format=True for consistent parsing.\n",
      "  dolar[\"Fecha\"] = pd.to_datetime(dolar[\"Fecha\"])\n",
      "/var/folders/04/tp4wyrys03s5z6y1v720v3580000gn/T/ipykernel_1184/2334349146.py:1: UserWarning: Parsing '14-03-2016' in DD/MM/YYYY format. Provide format or specify infer_datetime_format=True for consistent parsing.\n",
      "  dolar[\"Fecha\"] = pd.to_datetime(dolar[\"Fecha\"])\n",
      "/var/folders/04/tp4wyrys03s5z6y1v720v3580000gn/T/ipykernel_1184/2334349146.py:1: UserWarning: Parsing '29-02-2016' in DD/MM/YYYY format. Provide format or specify infer_datetime_format=True for consistent parsing.\n",
      "  dolar[\"Fecha\"] = pd.to_datetime(dolar[\"Fecha\"])\n",
      "/var/folders/04/tp4wyrys03s5z6y1v720v3580000gn/T/ipykernel_1184/2334349146.py:1: UserWarning: Parsing '26-02-2016' in DD/MM/YYYY format. Provide format or specify infer_datetime_format=True for consistent parsing.\n",
      "  dolar[\"Fecha\"] = pd.to_datetime(dolar[\"Fecha\"])\n",
      "/var/folders/04/tp4wyrys03s5z6y1v720v3580000gn/T/ipykernel_1184/2334349146.py:1: UserWarning: Parsing '25-02-2016' in DD/MM/YYYY format. Provide format or specify infer_datetime_format=True for consistent parsing.\n",
      "  dolar[\"Fecha\"] = pd.to_datetime(dolar[\"Fecha\"])\n",
      "/var/folders/04/tp4wyrys03s5z6y1v720v3580000gn/T/ipykernel_1184/2334349146.py:1: UserWarning: Parsing '24-02-2016' in DD/MM/YYYY format. Provide format or specify infer_datetime_format=True for consistent parsing.\n",
      "  dolar[\"Fecha\"] = pd.to_datetime(dolar[\"Fecha\"])\n",
      "/var/folders/04/tp4wyrys03s5z6y1v720v3580000gn/T/ipykernel_1184/2334349146.py:1: UserWarning: Parsing '23-02-2016' in DD/MM/YYYY format. Provide format or specify infer_datetime_format=True for consistent parsing.\n",
      "  dolar[\"Fecha\"] = pd.to_datetime(dolar[\"Fecha\"])\n",
      "/var/folders/04/tp4wyrys03s5z6y1v720v3580000gn/T/ipykernel_1184/2334349146.py:1: UserWarning: Parsing '22-02-2016' in DD/MM/YYYY format. Provide format or specify infer_datetime_format=True for consistent parsing.\n",
      "  dolar[\"Fecha\"] = pd.to_datetime(dolar[\"Fecha\"])\n",
      "/var/folders/04/tp4wyrys03s5z6y1v720v3580000gn/T/ipykernel_1184/2334349146.py:1: UserWarning: Parsing '19-02-2016' in DD/MM/YYYY format. Provide format or specify infer_datetime_format=True for consistent parsing.\n",
      "  dolar[\"Fecha\"] = pd.to_datetime(dolar[\"Fecha\"])\n",
      "/var/folders/04/tp4wyrys03s5z6y1v720v3580000gn/T/ipykernel_1184/2334349146.py:1: UserWarning: Parsing '18-02-2016' in DD/MM/YYYY format. Provide format or specify infer_datetime_format=True for consistent parsing.\n",
      "  dolar[\"Fecha\"] = pd.to_datetime(dolar[\"Fecha\"])\n",
      "/var/folders/04/tp4wyrys03s5z6y1v720v3580000gn/T/ipykernel_1184/2334349146.py:1: UserWarning: Parsing '17-02-2016' in DD/MM/YYYY format. Provide format or specify infer_datetime_format=True for consistent parsing.\n",
      "  dolar[\"Fecha\"] = pd.to_datetime(dolar[\"Fecha\"])\n",
      "/var/folders/04/tp4wyrys03s5z6y1v720v3580000gn/T/ipykernel_1184/2334349146.py:1: UserWarning: Parsing '16-02-2016' in DD/MM/YYYY format. Provide format or specify infer_datetime_format=True for consistent parsing.\n",
      "  dolar[\"Fecha\"] = pd.to_datetime(dolar[\"Fecha\"])\n",
      "/var/folders/04/tp4wyrys03s5z6y1v720v3580000gn/T/ipykernel_1184/2334349146.py:1: UserWarning: Parsing '15-02-2016' in DD/MM/YYYY format. Provide format or specify infer_datetime_format=True for consistent parsing.\n",
      "  dolar[\"Fecha\"] = pd.to_datetime(dolar[\"Fecha\"])\n",
      "/var/folders/04/tp4wyrys03s5z6y1v720v3580000gn/T/ipykernel_1184/2334349146.py:1: UserWarning: Parsing '29-01-2016' in DD/MM/YYYY format. Provide format or specify infer_datetime_format=True for consistent parsing.\n",
      "  dolar[\"Fecha\"] = pd.to_datetime(dolar[\"Fecha\"])\n",
      "/var/folders/04/tp4wyrys03s5z6y1v720v3580000gn/T/ipykernel_1184/2334349146.py:1: UserWarning: Parsing '28-01-2016' in DD/MM/YYYY format. Provide format or specify infer_datetime_format=True for consistent parsing.\n",
      "  dolar[\"Fecha\"] = pd.to_datetime(dolar[\"Fecha\"])\n",
      "/var/folders/04/tp4wyrys03s5z6y1v720v3580000gn/T/ipykernel_1184/2334349146.py:1: UserWarning: Parsing '27-01-2016' in DD/MM/YYYY format. Provide format or specify infer_datetime_format=True for consistent parsing.\n",
      "  dolar[\"Fecha\"] = pd.to_datetime(dolar[\"Fecha\"])\n",
      "/var/folders/04/tp4wyrys03s5z6y1v720v3580000gn/T/ipykernel_1184/2334349146.py:1: UserWarning: Parsing '26-01-2016' in DD/MM/YYYY format. Provide format or specify infer_datetime_format=True for consistent parsing.\n",
      "  dolar[\"Fecha\"] = pd.to_datetime(dolar[\"Fecha\"])\n",
      "/var/folders/04/tp4wyrys03s5z6y1v720v3580000gn/T/ipykernel_1184/2334349146.py:1: UserWarning: Parsing '25-01-2016' in DD/MM/YYYY format. Provide format or specify infer_datetime_format=True for consistent parsing.\n",
      "  dolar[\"Fecha\"] = pd.to_datetime(dolar[\"Fecha\"])\n",
      "/var/folders/04/tp4wyrys03s5z6y1v720v3580000gn/T/ipykernel_1184/2334349146.py:1: UserWarning: Parsing '22-01-2016' in DD/MM/YYYY format. Provide format or specify infer_datetime_format=True for consistent parsing.\n",
      "  dolar[\"Fecha\"] = pd.to_datetime(dolar[\"Fecha\"])\n",
      "/var/folders/04/tp4wyrys03s5z6y1v720v3580000gn/T/ipykernel_1184/2334349146.py:1: UserWarning: Parsing '21-01-2016' in DD/MM/YYYY format. Provide format or specify infer_datetime_format=True for consistent parsing.\n",
      "  dolar[\"Fecha\"] = pd.to_datetime(dolar[\"Fecha\"])\n",
      "/var/folders/04/tp4wyrys03s5z6y1v720v3580000gn/T/ipykernel_1184/2334349146.py:1: UserWarning: Parsing '20-01-2016' in DD/MM/YYYY format. Provide format or specify infer_datetime_format=True for consistent parsing.\n",
      "  dolar[\"Fecha\"] = pd.to_datetime(dolar[\"Fecha\"])\n",
      "/var/folders/04/tp4wyrys03s5z6y1v720v3580000gn/T/ipykernel_1184/2334349146.py:1: UserWarning: Parsing '19-01-2016' in DD/MM/YYYY format. Provide format or specify infer_datetime_format=True for consistent parsing.\n",
      "  dolar[\"Fecha\"] = pd.to_datetime(dolar[\"Fecha\"])\n",
      "/var/folders/04/tp4wyrys03s5z6y1v720v3580000gn/T/ipykernel_1184/2334349146.py:1: UserWarning: Parsing '18-01-2016' in DD/MM/YYYY format. Provide format or specify infer_datetime_format=True for consistent parsing.\n",
      "  dolar[\"Fecha\"] = pd.to_datetime(dolar[\"Fecha\"])\n",
      "/var/folders/04/tp4wyrys03s5z6y1v720v3580000gn/T/ipykernel_1184/2334349146.py:1: UserWarning: Parsing '15-01-2016' in DD/MM/YYYY format. Provide format or specify infer_datetime_format=True for consistent parsing.\n",
      "  dolar[\"Fecha\"] = pd.to_datetime(dolar[\"Fecha\"])\n",
      "/var/folders/04/tp4wyrys03s5z6y1v720v3580000gn/T/ipykernel_1184/2334349146.py:1: UserWarning: Parsing '14-01-2016' in DD/MM/YYYY format. Provide format or specify infer_datetime_format=True for consistent parsing.\n",
      "  dolar[\"Fecha\"] = pd.to_datetime(dolar[\"Fecha\"])\n",
      "/var/folders/04/tp4wyrys03s5z6y1v720v3580000gn/T/ipykernel_1184/2334349146.py:1: UserWarning: Parsing '13-01-2016' in DD/MM/YYYY format. Provide format or specify infer_datetime_format=True for consistent parsing.\n",
      "  dolar[\"Fecha\"] = pd.to_datetime(dolar[\"Fecha\"])\n",
      "/var/folders/04/tp4wyrys03s5z6y1v720v3580000gn/T/ipykernel_1184/2334349146.py:1: UserWarning: Parsing '31-12-2015' in DD/MM/YYYY format. Provide format or specify infer_datetime_format=True for consistent parsing.\n",
      "  dolar[\"Fecha\"] = pd.to_datetime(dolar[\"Fecha\"])\n",
      "/var/folders/04/tp4wyrys03s5z6y1v720v3580000gn/T/ipykernel_1184/2334349146.py:1: UserWarning: Parsing '30-12-2015' in DD/MM/YYYY format. Provide format or specify infer_datetime_format=True for consistent parsing.\n",
      "  dolar[\"Fecha\"] = pd.to_datetime(dolar[\"Fecha\"])\n",
      "/var/folders/04/tp4wyrys03s5z6y1v720v3580000gn/T/ipykernel_1184/2334349146.py:1: UserWarning: Parsing '29-12-2015' in DD/MM/YYYY format. Provide format or specify infer_datetime_format=True for consistent parsing.\n",
      "  dolar[\"Fecha\"] = pd.to_datetime(dolar[\"Fecha\"])\n",
      "/var/folders/04/tp4wyrys03s5z6y1v720v3580000gn/T/ipykernel_1184/2334349146.py:1: UserWarning: Parsing '28-12-2015' in DD/MM/YYYY format. Provide format or specify infer_datetime_format=True for consistent parsing.\n",
      "  dolar[\"Fecha\"] = pd.to_datetime(dolar[\"Fecha\"])\n",
      "/var/folders/04/tp4wyrys03s5z6y1v720v3580000gn/T/ipykernel_1184/2334349146.py:1: UserWarning: Parsing '24-12-2015' in DD/MM/YYYY format. Provide format or specify infer_datetime_format=True for consistent parsing.\n",
      "  dolar[\"Fecha\"] = pd.to_datetime(dolar[\"Fecha\"])\n",
      "/var/folders/04/tp4wyrys03s5z6y1v720v3580000gn/T/ipykernel_1184/2334349146.py:1: UserWarning: Parsing '23-12-2015' in DD/MM/YYYY format. Provide format or specify infer_datetime_format=True for consistent parsing.\n",
      "  dolar[\"Fecha\"] = pd.to_datetime(dolar[\"Fecha\"])\n",
      "/var/folders/04/tp4wyrys03s5z6y1v720v3580000gn/T/ipykernel_1184/2334349146.py:1: UserWarning: Parsing '22-12-2015' in DD/MM/YYYY format. Provide format or specify infer_datetime_format=True for consistent parsing.\n",
      "  dolar[\"Fecha\"] = pd.to_datetime(dolar[\"Fecha\"])\n",
      "/var/folders/04/tp4wyrys03s5z6y1v720v3580000gn/T/ipykernel_1184/2334349146.py:1: UserWarning: Parsing '21-12-2015' in DD/MM/YYYY format. Provide format or specify infer_datetime_format=True for consistent parsing.\n",
      "  dolar[\"Fecha\"] = pd.to_datetime(dolar[\"Fecha\"])\n",
      "/var/folders/04/tp4wyrys03s5z6y1v720v3580000gn/T/ipykernel_1184/2334349146.py:1: UserWarning: Parsing '18-12-2015' in DD/MM/YYYY format. Provide format or specify infer_datetime_format=True for consistent parsing.\n",
      "  dolar[\"Fecha\"] = pd.to_datetime(dolar[\"Fecha\"])\n",
      "/var/folders/04/tp4wyrys03s5z6y1v720v3580000gn/T/ipykernel_1184/2334349146.py:1: UserWarning: Parsing '17-12-2015' in DD/MM/YYYY format. Provide format or specify infer_datetime_format=True for consistent parsing.\n",
      "  dolar[\"Fecha\"] = pd.to_datetime(dolar[\"Fecha\"])\n",
      "/var/folders/04/tp4wyrys03s5z6y1v720v3580000gn/T/ipykernel_1184/2334349146.py:1: UserWarning: Parsing '16-12-2015' in DD/MM/YYYY format. Provide format or specify infer_datetime_format=True for consistent parsing.\n",
      "  dolar[\"Fecha\"] = pd.to_datetime(dolar[\"Fecha\"])\n",
      "/var/folders/04/tp4wyrys03s5z6y1v720v3580000gn/T/ipykernel_1184/2334349146.py:1: UserWarning: Parsing '15-12-2015' in DD/MM/YYYY format. Provide format or specify infer_datetime_format=True for consistent parsing.\n",
      "  dolar[\"Fecha\"] = pd.to_datetime(dolar[\"Fecha\"])\n",
      "/var/folders/04/tp4wyrys03s5z6y1v720v3580000gn/T/ipykernel_1184/2334349146.py:1: UserWarning: Parsing '14-12-2015' in DD/MM/YYYY format. Provide format or specify infer_datetime_format=True for consistent parsing.\n",
      "  dolar[\"Fecha\"] = pd.to_datetime(dolar[\"Fecha\"])\n",
      "/var/folders/04/tp4wyrys03s5z6y1v720v3580000gn/T/ipykernel_1184/2334349146.py:1: UserWarning: Parsing '30-11-2015' in DD/MM/YYYY format. Provide format or specify infer_datetime_format=True for consistent parsing.\n",
      "  dolar[\"Fecha\"] = pd.to_datetime(dolar[\"Fecha\"])\n",
      "/var/folders/04/tp4wyrys03s5z6y1v720v3580000gn/T/ipykernel_1184/2334349146.py:1: UserWarning: Parsing '26-11-2015' in DD/MM/YYYY format. Provide format or specify infer_datetime_format=True for consistent parsing.\n",
      "  dolar[\"Fecha\"] = pd.to_datetime(dolar[\"Fecha\"])\n",
      "/var/folders/04/tp4wyrys03s5z6y1v720v3580000gn/T/ipykernel_1184/2334349146.py:1: UserWarning: Parsing '25-11-2015' in DD/MM/YYYY format. Provide format or specify infer_datetime_format=True for consistent parsing.\n",
      "  dolar[\"Fecha\"] = pd.to_datetime(dolar[\"Fecha\"])\n",
      "/var/folders/04/tp4wyrys03s5z6y1v720v3580000gn/T/ipykernel_1184/2334349146.py:1: UserWarning: Parsing '24-11-2015' in DD/MM/YYYY format. Provide format or specify infer_datetime_format=True for consistent parsing.\n",
      "  dolar[\"Fecha\"] = pd.to_datetime(dolar[\"Fecha\"])\n",
      "/var/folders/04/tp4wyrys03s5z6y1v720v3580000gn/T/ipykernel_1184/2334349146.py:1: UserWarning: Parsing '23-11-2015' in DD/MM/YYYY format. Provide format or specify infer_datetime_format=True for consistent parsing.\n",
      "  dolar[\"Fecha\"] = pd.to_datetime(dolar[\"Fecha\"])\n",
      "/var/folders/04/tp4wyrys03s5z6y1v720v3580000gn/T/ipykernel_1184/2334349146.py:1: UserWarning: Parsing '20-11-2015' in DD/MM/YYYY format. Provide format or specify infer_datetime_format=True for consistent parsing.\n",
      "  dolar[\"Fecha\"] = pd.to_datetime(dolar[\"Fecha\"])\n",
      "/var/folders/04/tp4wyrys03s5z6y1v720v3580000gn/T/ipykernel_1184/2334349146.py:1: UserWarning: Parsing '19-11-2015' in DD/MM/YYYY format. Provide format or specify infer_datetime_format=True for consistent parsing.\n",
      "  dolar[\"Fecha\"] = pd.to_datetime(dolar[\"Fecha\"])\n",
      "/var/folders/04/tp4wyrys03s5z6y1v720v3580000gn/T/ipykernel_1184/2334349146.py:1: UserWarning: Parsing '18-11-2015' in DD/MM/YYYY format. Provide format or specify infer_datetime_format=True for consistent parsing.\n",
      "  dolar[\"Fecha\"] = pd.to_datetime(dolar[\"Fecha\"])\n",
      "/var/folders/04/tp4wyrys03s5z6y1v720v3580000gn/T/ipykernel_1184/2334349146.py:1: UserWarning: Parsing '17-11-2015' in DD/MM/YYYY format. Provide format or specify infer_datetime_format=True for consistent parsing.\n",
      "  dolar[\"Fecha\"] = pd.to_datetime(dolar[\"Fecha\"])\n",
      "/var/folders/04/tp4wyrys03s5z6y1v720v3580000gn/T/ipykernel_1184/2334349146.py:1: UserWarning: Parsing '16-11-2015' in DD/MM/YYYY format. Provide format or specify infer_datetime_format=True for consistent parsing.\n",
      "  dolar[\"Fecha\"] = pd.to_datetime(dolar[\"Fecha\"])\n",
      "/var/folders/04/tp4wyrys03s5z6y1v720v3580000gn/T/ipykernel_1184/2334349146.py:1: UserWarning: Parsing '13-11-2015' in DD/MM/YYYY format. Provide format or specify infer_datetime_format=True for consistent parsing.\n",
      "  dolar[\"Fecha\"] = pd.to_datetime(dolar[\"Fecha\"])\n",
      "/var/folders/04/tp4wyrys03s5z6y1v720v3580000gn/T/ipykernel_1184/2334349146.py:1: UserWarning: Parsing '30-10-2015' in DD/MM/YYYY format. Provide format or specify infer_datetime_format=True for consistent parsing.\n",
      "  dolar[\"Fecha\"] = pd.to_datetime(dolar[\"Fecha\"])\n",
      "/var/folders/04/tp4wyrys03s5z6y1v720v3580000gn/T/ipykernel_1184/2334349146.py:1: UserWarning: Parsing '29-10-2015' in DD/MM/YYYY format. Provide format or specify infer_datetime_format=True for consistent parsing.\n",
      "  dolar[\"Fecha\"] = pd.to_datetime(dolar[\"Fecha\"])\n",
      "/var/folders/04/tp4wyrys03s5z6y1v720v3580000gn/T/ipykernel_1184/2334349146.py:1: UserWarning: Parsing '28-10-2015' in DD/MM/YYYY format. Provide format or specify infer_datetime_format=True for consistent parsing.\n",
      "  dolar[\"Fecha\"] = pd.to_datetime(dolar[\"Fecha\"])\n",
      "/var/folders/04/tp4wyrys03s5z6y1v720v3580000gn/T/ipykernel_1184/2334349146.py:1: UserWarning: Parsing '27-10-2015' in DD/MM/YYYY format. Provide format or specify infer_datetime_format=True for consistent parsing.\n",
      "  dolar[\"Fecha\"] = pd.to_datetime(dolar[\"Fecha\"])\n",
      "/var/folders/04/tp4wyrys03s5z6y1v720v3580000gn/T/ipykernel_1184/2334349146.py:1: UserWarning: Parsing '26-10-2015' in DD/MM/YYYY format. Provide format or specify infer_datetime_format=True for consistent parsing.\n",
      "  dolar[\"Fecha\"] = pd.to_datetime(dolar[\"Fecha\"])\n",
      "/var/folders/04/tp4wyrys03s5z6y1v720v3580000gn/T/ipykernel_1184/2334349146.py:1: UserWarning: Parsing '23-10-2015' in DD/MM/YYYY format. Provide format or specify infer_datetime_format=True for consistent parsing.\n",
      "  dolar[\"Fecha\"] = pd.to_datetime(dolar[\"Fecha\"])\n",
      "/var/folders/04/tp4wyrys03s5z6y1v720v3580000gn/T/ipykernel_1184/2334349146.py:1: UserWarning: Parsing '22-10-2015' in DD/MM/YYYY format. Provide format or specify infer_datetime_format=True for consistent parsing.\n",
      "  dolar[\"Fecha\"] = pd.to_datetime(dolar[\"Fecha\"])\n",
      "/var/folders/04/tp4wyrys03s5z6y1v720v3580000gn/T/ipykernel_1184/2334349146.py:1: UserWarning: Parsing '21-10-2015' in DD/MM/YYYY format. Provide format or specify infer_datetime_format=True for consistent parsing.\n",
      "  dolar[\"Fecha\"] = pd.to_datetime(dolar[\"Fecha\"])\n",
      "/var/folders/04/tp4wyrys03s5z6y1v720v3580000gn/T/ipykernel_1184/2334349146.py:1: UserWarning: Parsing '20-10-2015' in DD/MM/YYYY format. Provide format or specify infer_datetime_format=True for consistent parsing.\n",
      "  dolar[\"Fecha\"] = pd.to_datetime(dolar[\"Fecha\"])\n",
      "/var/folders/04/tp4wyrys03s5z6y1v720v3580000gn/T/ipykernel_1184/2334349146.py:1: UserWarning: Parsing '19-10-2015' in DD/MM/YYYY format. Provide format or specify infer_datetime_format=True for consistent parsing.\n",
      "  dolar[\"Fecha\"] = pd.to_datetime(dolar[\"Fecha\"])\n",
      "/var/folders/04/tp4wyrys03s5z6y1v720v3580000gn/T/ipykernel_1184/2334349146.py:1: UserWarning: Parsing '16-10-2015' in DD/MM/YYYY format. Provide format or specify infer_datetime_format=True for consistent parsing.\n",
      "  dolar[\"Fecha\"] = pd.to_datetime(dolar[\"Fecha\"])\n",
      "/var/folders/04/tp4wyrys03s5z6y1v720v3580000gn/T/ipykernel_1184/2334349146.py:1: UserWarning: Parsing '15-10-2015' in DD/MM/YYYY format. Provide format or specify infer_datetime_format=True for consistent parsing.\n",
      "  dolar[\"Fecha\"] = pd.to_datetime(dolar[\"Fecha\"])\n",
      "/var/folders/04/tp4wyrys03s5z6y1v720v3580000gn/T/ipykernel_1184/2334349146.py:1: UserWarning: Parsing '14-10-2015' in DD/MM/YYYY format. Provide format or specify infer_datetime_format=True for consistent parsing.\n",
      "  dolar[\"Fecha\"] = pd.to_datetime(dolar[\"Fecha\"])\n",
      "/var/folders/04/tp4wyrys03s5z6y1v720v3580000gn/T/ipykernel_1184/2334349146.py:1: UserWarning: Parsing '13-10-2015' in DD/MM/YYYY format. Provide format or specify infer_datetime_format=True for consistent parsing.\n",
      "  dolar[\"Fecha\"] = pd.to_datetime(dolar[\"Fecha\"])\n",
      "/var/folders/04/tp4wyrys03s5z6y1v720v3580000gn/T/ipykernel_1184/2334349146.py:1: UserWarning: Parsing '30-09-2015' in DD/MM/YYYY format. Provide format or specify infer_datetime_format=True for consistent parsing.\n",
      "  dolar[\"Fecha\"] = pd.to_datetime(dolar[\"Fecha\"])\n",
      "/var/folders/04/tp4wyrys03s5z6y1v720v3580000gn/T/ipykernel_1184/2334349146.py:1: UserWarning: Parsing '29-09-2015' in DD/MM/YYYY format. Provide format or specify infer_datetime_format=True for consistent parsing.\n",
      "  dolar[\"Fecha\"] = pd.to_datetime(dolar[\"Fecha\"])\n",
      "/var/folders/04/tp4wyrys03s5z6y1v720v3580000gn/T/ipykernel_1184/2334349146.py:1: UserWarning: Parsing '28-09-2015' in DD/MM/YYYY format. Provide format or specify infer_datetime_format=True for consistent parsing.\n",
      "  dolar[\"Fecha\"] = pd.to_datetime(dolar[\"Fecha\"])\n",
      "/var/folders/04/tp4wyrys03s5z6y1v720v3580000gn/T/ipykernel_1184/2334349146.py:1: UserWarning: Parsing '25-09-2015' in DD/MM/YYYY format. Provide format or specify infer_datetime_format=True for consistent parsing.\n",
      "  dolar[\"Fecha\"] = pd.to_datetime(dolar[\"Fecha\"])\n",
      "/var/folders/04/tp4wyrys03s5z6y1v720v3580000gn/T/ipykernel_1184/2334349146.py:1: UserWarning: Parsing '24-09-2015' in DD/MM/YYYY format. Provide format or specify infer_datetime_format=True for consistent parsing.\n",
      "  dolar[\"Fecha\"] = pd.to_datetime(dolar[\"Fecha\"])\n",
      "/var/folders/04/tp4wyrys03s5z6y1v720v3580000gn/T/ipykernel_1184/2334349146.py:1: UserWarning: Parsing '23-09-2015' in DD/MM/YYYY format. Provide format or specify infer_datetime_format=True for consistent parsing.\n",
      "  dolar[\"Fecha\"] = pd.to_datetime(dolar[\"Fecha\"])\n",
      "/var/folders/04/tp4wyrys03s5z6y1v720v3580000gn/T/ipykernel_1184/2334349146.py:1: UserWarning: Parsing '22-09-2015' in DD/MM/YYYY format. Provide format or specify infer_datetime_format=True for consistent parsing.\n",
      "  dolar[\"Fecha\"] = pd.to_datetime(dolar[\"Fecha\"])\n",
      "/var/folders/04/tp4wyrys03s5z6y1v720v3580000gn/T/ipykernel_1184/2334349146.py:1: UserWarning: Parsing '21-09-2015' in DD/MM/YYYY format. Provide format or specify infer_datetime_format=True for consistent parsing.\n",
      "  dolar[\"Fecha\"] = pd.to_datetime(dolar[\"Fecha\"])\n",
      "/var/folders/04/tp4wyrys03s5z6y1v720v3580000gn/T/ipykernel_1184/2334349146.py:1: UserWarning: Parsing '18-09-2015' in DD/MM/YYYY format. Provide format or specify infer_datetime_format=True for consistent parsing.\n",
      "  dolar[\"Fecha\"] = pd.to_datetime(dolar[\"Fecha\"])\n",
      "/var/folders/04/tp4wyrys03s5z6y1v720v3580000gn/T/ipykernel_1184/2334349146.py:1: UserWarning: Parsing '17-09-2015' in DD/MM/YYYY format. Provide format or specify infer_datetime_format=True for consistent parsing.\n",
      "  dolar[\"Fecha\"] = pd.to_datetime(dolar[\"Fecha\"])\n",
      "/var/folders/04/tp4wyrys03s5z6y1v720v3580000gn/T/ipykernel_1184/2334349146.py:1: UserWarning: Parsing '16-09-2015' in DD/MM/YYYY format. Provide format or specify infer_datetime_format=True for consistent parsing.\n",
      "  dolar[\"Fecha\"] = pd.to_datetime(dolar[\"Fecha\"])\n",
      "/var/folders/04/tp4wyrys03s5z6y1v720v3580000gn/T/ipykernel_1184/2334349146.py:1: UserWarning: Parsing '15-09-2015' in DD/MM/YYYY format. Provide format or specify infer_datetime_format=True for consistent parsing.\n",
      "  dolar[\"Fecha\"] = pd.to_datetime(dolar[\"Fecha\"])\n",
      "/var/folders/04/tp4wyrys03s5z6y1v720v3580000gn/T/ipykernel_1184/2334349146.py:1: UserWarning: Parsing '14-09-2015' in DD/MM/YYYY format. Provide format or specify infer_datetime_format=True for consistent parsing.\n",
      "  dolar[\"Fecha\"] = pd.to_datetime(dolar[\"Fecha\"])\n",
      "/var/folders/04/tp4wyrys03s5z6y1v720v3580000gn/T/ipykernel_1184/2334349146.py:1: UserWarning: Parsing '31-08-2015' in DD/MM/YYYY format. Provide format or specify infer_datetime_format=True for consistent parsing.\n",
      "  dolar[\"Fecha\"] = pd.to_datetime(dolar[\"Fecha\"])\n",
      "/var/folders/04/tp4wyrys03s5z6y1v720v3580000gn/T/ipykernel_1184/2334349146.py:1: UserWarning: Parsing '28-08-2015' in DD/MM/YYYY format. Provide format or specify infer_datetime_format=True for consistent parsing.\n",
      "  dolar[\"Fecha\"] = pd.to_datetime(dolar[\"Fecha\"])\n",
      "/var/folders/04/tp4wyrys03s5z6y1v720v3580000gn/T/ipykernel_1184/2334349146.py:1: UserWarning: Parsing '27-08-2015' in DD/MM/YYYY format. Provide format or specify infer_datetime_format=True for consistent parsing.\n",
      "  dolar[\"Fecha\"] = pd.to_datetime(dolar[\"Fecha\"])\n",
      "/var/folders/04/tp4wyrys03s5z6y1v720v3580000gn/T/ipykernel_1184/2334349146.py:1: UserWarning: Parsing '26-08-2015' in DD/MM/YYYY format. Provide format or specify infer_datetime_format=True for consistent parsing.\n",
      "  dolar[\"Fecha\"] = pd.to_datetime(dolar[\"Fecha\"])\n",
      "/var/folders/04/tp4wyrys03s5z6y1v720v3580000gn/T/ipykernel_1184/2334349146.py:1: UserWarning: Parsing '25-08-2015' in DD/MM/YYYY format. Provide format or specify infer_datetime_format=True for consistent parsing.\n",
      "  dolar[\"Fecha\"] = pd.to_datetime(dolar[\"Fecha\"])\n",
      "/var/folders/04/tp4wyrys03s5z6y1v720v3580000gn/T/ipykernel_1184/2334349146.py:1: UserWarning: Parsing '24-08-2015' in DD/MM/YYYY format. Provide format or specify infer_datetime_format=True for consistent parsing.\n",
      "  dolar[\"Fecha\"] = pd.to_datetime(dolar[\"Fecha\"])\n",
      "/var/folders/04/tp4wyrys03s5z6y1v720v3580000gn/T/ipykernel_1184/2334349146.py:1: UserWarning: Parsing '21-08-2015' in DD/MM/YYYY format. Provide format or specify infer_datetime_format=True for consistent parsing.\n",
      "  dolar[\"Fecha\"] = pd.to_datetime(dolar[\"Fecha\"])\n",
      "/var/folders/04/tp4wyrys03s5z6y1v720v3580000gn/T/ipykernel_1184/2334349146.py:1: UserWarning: Parsing '20-08-2015' in DD/MM/YYYY format. Provide format or specify infer_datetime_format=True for consistent parsing.\n",
      "  dolar[\"Fecha\"] = pd.to_datetime(dolar[\"Fecha\"])\n",
      "/var/folders/04/tp4wyrys03s5z6y1v720v3580000gn/T/ipykernel_1184/2334349146.py:1: UserWarning: Parsing '19-08-2015' in DD/MM/YYYY format. Provide format or specify infer_datetime_format=True for consistent parsing.\n",
      "  dolar[\"Fecha\"] = pd.to_datetime(dolar[\"Fecha\"])\n",
      "/var/folders/04/tp4wyrys03s5z6y1v720v3580000gn/T/ipykernel_1184/2334349146.py:1: UserWarning: Parsing '18-08-2015' in DD/MM/YYYY format. Provide format or specify infer_datetime_format=True for consistent parsing.\n",
      "  dolar[\"Fecha\"] = pd.to_datetime(dolar[\"Fecha\"])\n",
      "/var/folders/04/tp4wyrys03s5z6y1v720v3580000gn/T/ipykernel_1184/2334349146.py:1: UserWarning: Parsing '14-08-2015' in DD/MM/YYYY format. Provide format or specify infer_datetime_format=True for consistent parsing.\n",
      "  dolar[\"Fecha\"] = pd.to_datetime(dolar[\"Fecha\"])\n",
      "/var/folders/04/tp4wyrys03s5z6y1v720v3580000gn/T/ipykernel_1184/2334349146.py:1: UserWarning: Parsing '13-08-2015' in DD/MM/YYYY format. Provide format or specify infer_datetime_format=True for consistent parsing.\n",
      "  dolar[\"Fecha\"] = pd.to_datetime(dolar[\"Fecha\"])\n",
      "/var/folders/04/tp4wyrys03s5z6y1v720v3580000gn/T/ipykernel_1184/2334349146.py:1: UserWarning: Parsing '31-07-2015' in DD/MM/YYYY format. Provide format or specify infer_datetime_format=True for consistent parsing.\n",
      "  dolar[\"Fecha\"] = pd.to_datetime(dolar[\"Fecha\"])\n",
      "/var/folders/04/tp4wyrys03s5z6y1v720v3580000gn/T/ipykernel_1184/2334349146.py:1: UserWarning: Parsing '30-07-2015' in DD/MM/YYYY format. Provide format or specify infer_datetime_format=True for consistent parsing.\n",
      "  dolar[\"Fecha\"] = pd.to_datetime(dolar[\"Fecha\"])\n",
      "/var/folders/04/tp4wyrys03s5z6y1v720v3580000gn/T/ipykernel_1184/2334349146.py:1: UserWarning: Parsing '29-07-2015' in DD/MM/YYYY format. Provide format or specify infer_datetime_format=True for consistent parsing.\n",
      "  dolar[\"Fecha\"] = pd.to_datetime(dolar[\"Fecha\"])\n",
      "/var/folders/04/tp4wyrys03s5z6y1v720v3580000gn/T/ipykernel_1184/2334349146.py:1: UserWarning: Parsing '28-07-2015' in DD/MM/YYYY format. Provide format or specify infer_datetime_format=True for consistent parsing.\n",
      "  dolar[\"Fecha\"] = pd.to_datetime(dolar[\"Fecha\"])\n",
      "/var/folders/04/tp4wyrys03s5z6y1v720v3580000gn/T/ipykernel_1184/2334349146.py:1: UserWarning: Parsing '27-07-2015' in DD/MM/YYYY format. Provide format or specify infer_datetime_format=True for consistent parsing.\n",
      "  dolar[\"Fecha\"] = pd.to_datetime(dolar[\"Fecha\"])\n",
      "/var/folders/04/tp4wyrys03s5z6y1v720v3580000gn/T/ipykernel_1184/2334349146.py:1: UserWarning: Parsing '24-07-2015' in DD/MM/YYYY format. Provide format or specify infer_datetime_format=True for consistent parsing.\n",
      "  dolar[\"Fecha\"] = pd.to_datetime(dolar[\"Fecha\"])\n",
      "/var/folders/04/tp4wyrys03s5z6y1v720v3580000gn/T/ipykernel_1184/2334349146.py:1: UserWarning: Parsing '23-07-2015' in DD/MM/YYYY format. Provide format or specify infer_datetime_format=True for consistent parsing.\n",
      "  dolar[\"Fecha\"] = pd.to_datetime(dolar[\"Fecha\"])\n",
      "/var/folders/04/tp4wyrys03s5z6y1v720v3580000gn/T/ipykernel_1184/2334349146.py:1: UserWarning: Parsing '22-07-2015' in DD/MM/YYYY format. Provide format or specify infer_datetime_format=True for consistent parsing.\n",
      "  dolar[\"Fecha\"] = pd.to_datetime(dolar[\"Fecha\"])\n",
      "/var/folders/04/tp4wyrys03s5z6y1v720v3580000gn/T/ipykernel_1184/2334349146.py:1: UserWarning: Parsing '21-07-2015' in DD/MM/YYYY format. Provide format or specify infer_datetime_format=True for consistent parsing.\n",
      "  dolar[\"Fecha\"] = pd.to_datetime(dolar[\"Fecha\"])\n",
      "/var/folders/04/tp4wyrys03s5z6y1v720v3580000gn/T/ipykernel_1184/2334349146.py:1: UserWarning: Parsing '20-07-2015' in DD/MM/YYYY format. Provide format or specify infer_datetime_format=True for consistent parsing.\n",
      "  dolar[\"Fecha\"] = pd.to_datetime(dolar[\"Fecha\"])\n",
      "/var/folders/04/tp4wyrys03s5z6y1v720v3580000gn/T/ipykernel_1184/2334349146.py:1: UserWarning: Parsing '17-07-2015' in DD/MM/YYYY format. Provide format or specify infer_datetime_format=True for consistent parsing.\n",
      "  dolar[\"Fecha\"] = pd.to_datetime(dolar[\"Fecha\"])\n",
      "/var/folders/04/tp4wyrys03s5z6y1v720v3580000gn/T/ipykernel_1184/2334349146.py:1: UserWarning: Parsing '16-07-2015' in DD/MM/YYYY format. Provide format or specify infer_datetime_format=True for consistent parsing.\n",
      "  dolar[\"Fecha\"] = pd.to_datetime(dolar[\"Fecha\"])\n",
      "/var/folders/04/tp4wyrys03s5z6y1v720v3580000gn/T/ipykernel_1184/2334349146.py:1: UserWarning: Parsing '15-07-2015' in DD/MM/YYYY format. Provide format or specify infer_datetime_format=True for consistent parsing.\n",
      "  dolar[\"Fecha\"] = pd.to_datetime(dolar[\"Fecha\"])\n",
      "/var/folders/04/tp4wyrys03s5z6y1v720v3580000gn/T/ipykernel_1184/2334349146.py:1: UserWarning: Parsing '14-07-2015' in DD/MM/YYYY format. Provide format or specify infer_datetime_format=True for consistent parsing.\n",
      "  dolar[\"Fecha\"] = pd.to_datetime(dolar[\"Fecha\"])\n",
      "/var/folders/04/tp4wyrys03s5z6y1v720v3580000gn/T/ipykernel_1184/2334349146.py:1: UserWarning: Parsing '13-07-2015' in DD/MM/YYYY format. Provide format or specify infer_datetime_format=True for consistent parsing.\n",
      "  dolar[\"Fecha\"] = pd.to_datetime(dolar[\"Fecha\"])\n",
      "/var/folders/04/tp4wyrys03s5z6y1v720v3580000gn/T/ipykernel_1184/2334349146.py:1: UserWarning: Parsing '30-06-2015' in DD/MM/YYYY format. Provide format or specify infer_datetime_format=True for consistent parsing.\n",
      "  dolar[\"Fecha\"] = pd.to_datetime(dolar[\"Fecha\"])\n",
      "/var/folders/04/tp4wyrys03s5z6y1v720v3580000gn/T/ipykernel_1184/2334349146.py:1: UserWarning: Parsing '29-06-2015' in DD/MM/YYYY format. Provide format or specify infer_datetime_format=True for consistent parsing.\n",
      "  dolar[\"Fecha\"] = pd.to_datetime(dolar[\"Fecha\"])\n",
      "/var/folders/04/tp4wyrys03s5z6y1v720v3580000gn/T/ipykernel_1184/2334349146.py:1: UserWarning: Parsing '26-06-2015' in DD/MM/YYYY format. Provide format or specify infer_datetime_format=True for consistent parsing.\n",
      "  dolar[\"Fecha\"] = pd.to_datetime(dolar[\"Fecha\"])\n",
      "/var/folders/04/tp4wyrys03s5z6y1v720v3580000gn/T/ipykernel_1184/2334349146.py:1: UserWarning: Parsing '25-06-2015' in DD/MM/YYYY format. Provide format or specify infer_datetime_format=True for consistent parsing.\n",
      "  dolar[\"Fecha\"] = pd.to_datetime(dolar[\"Fecha\"])\n",
      "/var/folders/04/tp4wyrys03s5z6y1v720v3580000gn/T/ipykernel_1184/2334349146.py:1: UserWarning: Parsing '24-06-2015' in DD/MM/YYYY format. Provide format or specify infer_datetime_format=True for consistent parsing.\n",
      "  dolar[\"Fecha\"] = pd.to_datetime(dolar[\"Fecha\"])\n",
      "/var/folders/04/tp4wyrys03s5z6y1v720v3580000gn/T/ipykernel_1184/2334349146.py:1: UserWarning: Parsing '23-06-2015' in DD/MM/YYYY format. Provide format or specify infer_datetime_format=True for consistent parsing.\n",
      "  dolar[\"Fecha\"] = pd.to_datetime(dolar[\"Fecha\"])\n",
      "/var/folders/04/tp4wyrys03s5z6y1v720v3580000gn/T/ipykernel_1184/2334349146.py:1: UserWarning: Parsing '22-06-2015' in DD/MM/YYYY format. Provide format or specify infer_datetime_format=True for consistent parsing.\n",
      "  dolar[\"Fecha\"] = pd.to_datetime(dolar[\"Fecha\"])\n",
      "/var/folders/04/tp4wyrys03s5z6y1v720v3580000gn/T/ipykernel_1184/2334349146.py:1: UserWarning: Parsing '19-06-2015' in DD/MM/YYYY format. Provide format or specify infer_datetime_format=True for consistent parsing.\n",
      "  dolar[\"Fecha\"] = pd.to_datetime(dolar[\"Fecha\"])\n",
      "/var/folders/04/tp4wyrys03s5z6y1v720v3580000gn/T/ipykernel_1184/2334349146.py:1: UserWarning: Parsing '18-06-2015' in DD/MM/YYYY format. Provide format or specify infer_datetime_format=True for consistent parsing.\n",
      "  dolar[\"Fecha\"] = pd.to_datetime(dolar[\"Fecha\"])\n",
      "/var/folders/04/tp4wyrys03s5z6y1v720v3580000gn/T/ipykernel_1184/2334349146.py:1: UserWarning: Parsing '17-06-2015' in DD/MM/YYYY format. Provide format or specify infer_datetime_format=True for consistent parsing.\n",
      "  dolar[\"Fecha\"] = pd.to_datetime(dolar[\"Fecha\"])\n",
      "/var/folders/04/tp4wyrys03s5z6y1v720v3580000gn/T/ipykernel_1184/2334349146.py:1: UserWarning: Parsing '16-06-2015' in DD/MM/YYYY format. Provide format or specify infer_datetime_format=True for consistent parsing.\n",
      "  dolar[\"Fecha\"] = pd.to_datetime(dolar[\"Fecha\"])\n"
     ]
    },
    {
     "data": {
      "text/plain": "dtype('<M8[ns]')"
     },
     "execution_count": 104,
     "metadata": {},
     "output_type": "execute_result"
    }
   ],
   "source": [
    "dolar[\"Fecha\"] = pd.to_datetime(dolar[\"Fecha\"])\n",
    "dolar.Fecha.dtype"
   ]
  },
  {
   "cell_type": "markdown",
   "source": [
    "## Crear año-mes"
   ],
   "metadata": {
    "collapsed": false
   }
  },
  {
   "cell_type": "code",
   "execution_count": 105,
   "id": "0a915f70",
   "metadata": {},
   "outputs": [
    {
     "data": {
      "text/plain": "          Fecha  Compra   Venta year_month\n0    2022-07-15  283,00  293,00    2022-07\n1    2022-07-14  279,00  289,00    2022-07\n2    2022-07-13  273,00  283,00    2022-07\n3    2022-12-07  262,00  272,00    2022-12\n4    2022-11-07  258,00  268,00    2022-11\n...         ...     ...     ...        ...\n1758 2015-06-22   12,95   13,05    2015-06\n1759 2015-06-19   12,92   13,02    2015-06\n1760 2015-06-18   12,98   13,08    2015-06\n1761 2015-06-17   12,84   12,94    2015-06\n1762 2015-06-16   12,75   12,85    2015-06\n\n[1763 rows x 4 columns]",
      "text/html": "<div>\n<style scoped>\n    .dataframe tbody tr th:only-of-type {\n        vertical-align: middle;\n    }\n\n    .dataframe tbody tr th {\n        vertical-align: top;\n    }\n\n    .dataframe thead th {\n        text-align: right;\n    }\n</style>\n<table border=\"1\" class=\"dataframe\">\n  <thead>\n    <tr style=\"text-align: right;\">\n      <th></th>\n      <th>Fecha</th>\n      <th>Compra</th>\n      <th>Venta</th>\n      <th>year_month</th>\n    </tr>\n  </thead>\n  <tbody>\n    <tr>\n      <th>0</th>\n      <td>2022-07-15</td>\n      <td>283,00</td>\n      <td>293,00</td>\n      <td>2022-07</td>\n    </tr>\n    <tr>\n      <th>1</th>\n      <td>2022-07-14</td>\n      <td>279,00</td>\n      <td>289,00</td>\n      <td>2022-07</td>\n    </tr>\n    <tr>\n      <th>2</th>\n      <td>2022-07-13</td>\n      <td>273,00</td>\n      <td>283,00</td>\n      <td>2022-07</td>\n    </tr>\n    <tr>\n      <th>3</th>\n      <td>2022-12-07</td>\n      <td>262,00</td>\n      <td>272,00</td>\n      <td>2022-12</td>\n    </tr>\n    <tr>\n      <th>4</th>\n      <td>2022-11-07</td>\n      <td>258,00</td>\n      <td>268,00</td>\n      <td>2022-11</td>\n    </tr>\n    <tr>\n      <th>...</th>\n      <td>...</td>\n      <td>...</td>\n      <td>...</td>\n      <td>...</td>\n    </tr>\n    <tr>\n      <th>1758</th>\n      <td>2015-06-22</td>\n      <td>12,95</td>\n      <td>13,05</td>\n      <td>2015-06</td>\n    </tr>\n    <tr>\n      <th>1759</th>\n      <td>2015-06-19</td>\n      <td>12,92</td>\n      <td>13,02</td>\n      <td>2015-06</td>\n    </tr>\n    <tr>\n      <th>1760</th>\n      <td>2015-06-18</td>\n      <td>12,98</td>\n      <td>13,08</td>\n      <td>2015-06</td>\n    </tr>\n    <tr>\n      <th>1761</th>\n      <td>2015-06-17</td>\n      <td>12,84</td>\n      <td>12,94</td>\n      <td>2015-06</td>\n    </tr>\n    <tr>\n      <th>1762</th>\n      <td>2015-06-16</td>\n      <td>12,75</td>\n      <td>12,85</td>\n      <td>2015-06</td>\n    </tr>\n  </tbody>\n</table>\n<p>1763 rows × 4 columns</p>\n</div>"
     },
     "execution_count": 105,
     "metadata": {},
     "output_type": "execute_result"
    }
   ],
   "source": [
    "dolar[\"year_month\"] = dolar[\"Fecha\"].dt.to_period('m')\n",
    "dolar"
   ]
  },
  {
   "cell_type": "markdown",
   "source": [
    "## 18. En python pase la columna Dolar Venta a Float.\n",
    " (Hint en python dolar_df.Venta.apply(lambda x:x.replace(\",\",\".\")))"
   ],
   "metadata": {
    "collapsed": false
   }
  },
  {
   "cell_type": "code",
   "execution_count": 106,
   "outputs": [],
   "source": [
    "dolar.Compra = dolar.Compra.apply(lambda x:x.replace(\",\",\".\"))\n",
    "dolar.Compra = dolar.Compra.astype(float)"
   ],
   "metadata": {
    "collapsed": false
   }
  },
  {
   "cell_type": "code",
   "execution_count": 107,
   "id": "8d516fbe",
   "metadata": {},
   "outputs": [],
   "source": [
    "dolar.Venta = dolar.Venta.apply(lambda x:x.replace(\",\",\".\"))\n",
    "dolar.Venta = dolar.Venta.astype(float)"
   ]
  },
  {
   "cell_type": "markdown",
   "source": [
    "## 17. Cree un dataset del valor promedio de la venta del dólar por año-mes (groupby)."
   ],
   "metadata": {
    "collapsed": false
   }
  },
  {
   "cell_type": "code",
   "execution_count": 108,
   "id": "a5ec4360",
   "metadata": {},
   "outputs": [
    {
     "data": {
      "text/plain": "year_month\n2015-01     14.857500\n2015-02     15.098000\n2015-03     14.854000\n2015-04     15.162500\n2015-05     15.296667\n              ...    \n2022-08    218.900000\n2022-09    207.750000\n2022-10    207.300000\n2022-11    215.750000\n2022-12    219.750000\nFreq: M, Name: Venta, Length: 96, dtype: float64"
     },
     "execution_count": 108,
     "metadata": {},
     "output_type": "execute_result"
    }
   ],
   "source": [
    "valor_promedio = dolar.groupby(\"year_month\").Venta.mean()\n",
    "valor_promedio"
   ]
  },
  {
   "cell_type": "markdown",
   "source": [
    "## 19. Cree un dataset que sea el resultado de hacer un merge/join entre el dataset agrupado de recibos_facts_debitos con el agrupado de dolar del punto anterior.\n",
    " (Hint en python pd.merge(rec_mensual, dolar_df_mensual,how=\"left\", left_index=True,right_index=True)"
   ],
   "metadata": {
    "collapsed": false
   }
  },
  {
   "cell_type": "code",
   "execution_count": 109,
   "id": "d9347289",
   "metadata": {},
   "outputs": [],
   "source": [
    "df_mensual =pd.merge(cobrado_df, valor_promedio,how=\"left\", left_index=True,right_index=True)"
   ]
  },
  {
   "cell_type": "markdown",
   "source": [
    "# Solo en Python (25,26,27,28,29)"
   ],
   "metadata": {
    "collapsed": false
   }
  },
  {
   "cell_type": "code",
   "execution_count": 110,
   "outputs": [],
   "source": [
    "import matplotlib.pyplot as plt"
   ],
   "metadata": {
    "collapsed": false
   }
  },
  {
   "cell_type": "markdown",
   "source": [
    "## 25. Hacer un lineplot del total cobrado"
   ],
   "metadata": {
    "collapsed": false
   }
  },
  {
   "cell_type": "code",
   "execution_count": 112,
   "outputs": [
    {
     "data": {
      "text/plain": "<AxesSubplot:xlabel='year_month'>"
     },
     "execution_count": 112,
     "metadata": {},
     "output_type": "execute_result"
    },
    {
     "data": {
      "text/plain": "<Figure size 640x480 with 1 Axes>",
      "image/png": "[encoded data removed]"
     },
     "metadata": {},
     "output_type": "display_data"
    }
   ],
   "source": [
    "df_mensual[[\"monto_cobrado\"]].plot()"
   ],
   "metadata": {
    "collapsed": false
   }
  },
  {
   "cell_type": "markdown",
   "source": [
    "## 26. lineplot con clientes únicos por mes en otro gráfico"
   ],
   "metadata": {
    "collapsed": false
   }
  },
  {
   "cell_type": "code",
   "execution_count": null,
   "outputs": [],
   "source": [
    "recibos['month'] = recibos.year_month.dt.month\n",
    "clientes_unicos = recibos.groupby(\"month\").id_cliente.nunique()"
   ],
   "metadata": {
    "collapsed": false
   }
  },
  {
   "cell_type": "code",
   "execution_count": null,
   "outputs": [],
   "source": [
    "clientes_unicos.plot.line(figsize = (10, 5));"
   ],
   "metadata": {
    "collapsed": false
   }
  },
  {
   "cell_type": "markdown",
   "source": [
    "## 27. Poner ambas lineas en un mismo gráfico"
   ],
   "metadata": {
    "collapsed": false
   }
  },
  {
   "cell_type": "code",
   "execution_count": null,
   "outputs": [],
   "source": [
    "plt.figure(figsize=(20,8))\n",
    "plt.plot(clientes_unicos, color=\"midnightblue\")\n",
    "plt.plot(cobrado_df2['monto_cobrado'], color=\"crimson\")\n",
    "plt.yscale('log')\n",
    "plt.show()"
   ],
   "metadata": {
    "collapsed": false
   }
  },
  {
   "cell_type": "code",
   "execution_count": null,
   "outputs": [],
   "source": [],
   "metadata": {
    "collapsed": false
   }
  },
  {
   "cell_type": "markdown",
   "source": [
    "## 28. Haga otro gráfico que le parezca interesante. ¿Qué idea trasmite con ese gráfico?\n"
   ],
   "metadata": {
    "collapsed": false
   }
  },
  {
   "cell_type": "markdown",
   "source": [
    "## 29. Imprima la ubicación de este notebook (el path)"
   ],
   "metadata": {
    "collapsed": false
   }
  },
  {
   "cell_type": "code",
   "execution_count": null,
   "outputs": [],
   "source": [
    "pwd"
   ],
   "metadata": {
    "collapsed": false
   }
  }
 ],
 "metadata": {
  "kernelspec": {
   "display_name": "Python 3 (ipykernel)",
   "language": "python",
   "name": "python3"
  },
  "language_info": {
   "codemirror_mode": {
    "name": "ipython",
    "version": 3
   },
   "file_extension": ".py",
   "mimetype": "text/x-python",
   "name": "python",
   "nbconvert_exporter": "python",
   "pygments_lexer": "ipython3",
   "version": "3.10.3"
  }
 },
 "nbformat": 4,
 "nbformat_minor": 5
}
