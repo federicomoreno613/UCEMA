{
 "cells": [
  {
   "cell_type": "code",
   "execution_count": 76,
   "outputs": [
    {
     "name": "stdout",
     "output_type": "stream",
     "text": [
      "The autoreload extension is already loaded. To reload it, use:\n",
      "  %reload_ext autoreload\n"
     ]
    }
   ],
   "source": [
    "%load_ext autoreload\n",
    "%autoreload 2"
   ],
   "metadata": {
    "collapsed": false
   }
  },
  {
   "cell_type": "code",
   "execution_count": 77,
   "outputs": [],
   "source": [
    "import pandas as pd\n",
    "import numpy as np\n",
    "import seaborn as sns\n",
    "import matplotlib.pyplot as plt"
   ],
   "metadata": {
    "collapsed": false
   }
  },
  {
   "cell_type": "code",
   "execution_count": 78,
   "outputs": [],
   "source": [
    "# Import olist data\n",
    "from olist.load_data import load_all_data\n",
    "data = load_all_data(\"data/\")"
   ],
   "metadata": {
    "collapsed": false
   }
  },
  {
   "cell_type": "code",
   "execution_count": 79,
   "outputs": [
    {
     "data": {
      "text/plain": "dict_keys(['sellers', 'product_category_name_translation', 'orders', 'order_items', 'customers', 'geolocation', 'order_payments', 'order_reviews', 'products'])"
     },
     "execution_count": 79,
     "metadata": {},
     "output_type": "execute_result"
    }
   ],
   "source": [
    "data.keys()"
   ],
   "metadata": {
    "collapsed": false
   }
  },
  {
   "cell_type": "code",
   "execution_count": 80,
   "outputs": [],
   "source": [
    "orders = data['orders'].copy()"
   ],
   "metadata": {
    "collapsed": false
   }
  },
  {
   "cell_type": "code",
   "execution_count": 81,
   "outputs": [],
   "source": [
    "from olist.preprocess import transformar_columnas_datetime\n",
    "orders = transformar_columnas_datetime(orders)"
   ],
   "metadata": {
    "collapsed": false
   }
  },
  {
   "cell_type": "code",
   "execution_count": 82,
   "outputs": [
    {
     "name": "stderr",
     "output_type": "stream",
     "text": [
      "/Users/usuario/PycharmProjects/pythonProject5/UCEMA/07-entrenamiento/olist/preprocess.py:17: SettingWithCopyWarning: \n",
      "A value is trying to be set on a copy of a slice from a DataFrame.\n",
      "Try using .loc[row_indexer,col_indexer] = value instead\n",
      "\n",
      "See the caveats in the documentation: https://pandas.pydata.org/pandas-docs/stable/user_guide/indexing.html#returning-a-view-versus-a-copy\n",
      "  orders_df['tiempo_de_espera'] = (orders_df['order_delivered_customer_date'] - orders_df[\n"
     ]
    },
    {
     "data": {
      "text/plain": "                           order_id                       customer_id  \\\n0  e481f51cbdc54678b7cc49136f2d6af7  9ef432eb6251297304e76186b10a928d   \n1  53cdb2fc8bc7dce0b6741e2150273451  b0830fb4747a6c6d20dea0b8c802d7ef   \n2  47770eb9100c2d0c44946d9cf07ec65d  41ce2a54c0b03bf3443c3d931a367089   \n3  949d5b44dbf5de918fe9c16f97b45f8a  f88197465ea7920adcdbec7375364d82   \n4  ad21c59c0840e6cb83a9ceb5573f8159  8ab97904e6daea8866dbdbc4fb7aad2c   \n\n  order_status order_purchase_timestamp   order_approved_at  \\\n0    delivered      2017-10-02 10:56:33 2017-10-02 11:07:15   \n1    delivered      2018-07-24 20:41:37 2018-07-26 03:24:27   \n2    delivered      2018-08-08 08:38:49 2018-08-08 08:55:23   \n3    delivered      2017-11-18 19:28:06 2017-11-18 19:45:59   \n4    delivered      2018-02-13 21:18:39 2018-02-13 22:20:29   \n\n  order_delivered_carrier_date order_delivered_customer_date  \\\n0          2017-10-04 19:55:00           2017-10-10 21:25:13   \n1          2018-07-26 14:31:00           2018-08-07 15:27:45   \n2          2018-08-08 13:50:00           2018-08-17 18:06:29   \n3          2017-11-22 13:39:59           2017-12-02 00:28:42   \n4          2018-02-14 19:46:34           2018-02-16 18:17:02   \n\n  order_estimated_delivery_date  tiempo_de_espera  \n0                    2017-10-18          8.436574  \n1                    2018-08-13         13.782037  \n2                    2018-09-04          9.394213  \n3                    2017-12-15         13.208750  \n4                    2018-02-26          2.873877  ",
      "text/html": "<div>\n<style scoped>\n    .dataframe tbody tr th:only-of-type {\n        vertical-align: middle;\n    }\n\n    .dataframe tbody tr th {\n        vertical-align: top;\n    }\n\n    .dataframe thead th {\n        text-align: right;\n    }\n</style>\n<table border=\"1\" class=\"dataframe\">\n  <thead>\n    <tr style=\"text-align: right;\">\n      <th></th>\n      <th>order_id</th>\n      <th>customer_id</th>\n      <th>order_status</th>\n      <th>order_purchase_timestamp</th>\n      <th>order_approved_at</th>\n      <th>order_delivered_carrier_date</th>\n      <th>order_delivered_customer_date</th>\n      <th>order_estimated_delivery_date</th>\n      <th>tiempo_de_espera</th>\n    </tr>\n  </thead>\n  <tbody>\n    <tr>\n      <th>0</th>\n      <td>e481f51cbdc54678b7cc49136f2d6af7</td>\n      <td>9ef432eb6251297304e76186b10a928d</td>\n      <td>delivered</td>\n      <td>2017-10-02 10:56:33</td>\n      <td>2017-10-02 11:07:15</td>\n      <td>2017-10-04 19:55:00</td>\n      <td>2017-10-10 21:25:13</td>\n      <td>2017-10-18</td>\n      <td>8.436574</td>\n    </tr>\n    <tr>\n      <th>1</th>\n      <td>53cdb2fc8bc7dce0b6741e2150273451</td>\n      <td>b0830fb4747a6c6d20dea0b8c802d7ef</td>\n      <td>delivered</td>\n      <td>2018-07-24 20:41:37</td>\n      <td>2018-07-26 03:24:27</td>\n      <td>2018-07-26 14:31:00</td>\n      <td>2018-08-07 15:27:45</td>\n      <td>2018-08-13</td>\n      <td>13.782037</td>\n    </tr>\n    <tr>\n      <th>2</th>\n      <td>47770eb9100c2d0c44946d9cf07ec65d</td>\n      <td>41ce2a54c0b03bf3443c3d931a367089</td>\n      <td>delivered</td>\n      <td>2018-08-08 08:38:49</td>\n      <td>2018-08-08 08:55:23</td>\n      <td>2018-08-08 13:50:00</td>\n      <td>2018-08-17 18:06:29</td>\n      <td>2018-09-04</td>\n      <td>9.394213</td>\n    </tr>\n    <tr>\n      <th>3</th>\n      <td>949d5b44dbf5de918fe9c16f97b45f8a</td>\n      <td>f88197465ea7920adcdbec7375364d82</td>\n      <td>delivered</td>\n      <td>2017-11-18 19:28:06</td>\n      <td>2017-11-18 19:45:59</td>\n      <td>2017-11-22 13:39:59</td>\n      <td>2017-12-02 00:28:42</td>\n      <td>2017-12-15</td>\n      <td>13.208750</td>\n    </tr>\n    <tr>\n      <th>4</th>\n      <td>ad21c59c0840e6cb83a9ceb5573f8159</td>\n      <td>8ab97904e6daea8866dbdbc4fb7aad2c</td>\n      <td>delivered</td>\n      <td>2018-02-13 21:18:39</td>\n      <td>2018-02-13 22:20:29</td>\n      <td>2018-02-14 19:46:34</td>\n      <td>2018-02-16 18:17:02</td>\n      <td>2018-02-26</td>\n      <td>2.873877</td>\n    </tr>\n  </tbody>\n</table>\n</div>"
     },
     "execution_count": 82,
     "metadata": {},
     "output_type": "execute_result"
    }
   ],
   "source": [
    "#pasarlo a modulo\n",
    "from olist.preprocess import tiempo_de_espera\n",
    "orders = tiempo_de_espera(orders, is_delivered = True)\n",
    "orders.head()"
   ],
   "metadata": {
    "collapsed": false
   }
  },
  {
   "cell_type": "code",
   "execution_count": 83,
   "outputs": [
    {
     "data": {
      "text/plain": "0        0.0\n1        0.0\n2        0.0\n3        0.0\n4        0.0\n        ... \n99436    0.0\n99437    0.0\n99438    0.0\n99439    0.0\n99440    0.0\nName: real_vs_esperado, Length: 96478, dtype: float64"
     },
     "execution_count": 83,
     "metadata": {},
     "output_type": "execute_result"
    }
   ],
   "source": [
    "# crear real vs esperado\n",
    "# ver que columnas hay\n",
    "# igual que en NPS si algun numero en real_vs_esperado es negativo reemplazarlo por 0\n",
    "from olist.preprocess import real_vs_esperado\n",
    "orders = real_vs_esperado(orders, is_delivered = True)\n",
    "orders['real_vs_esperado']"
   ],
   "metadata": {
    "collapsed": false
   }
  },
  {
   "cell_type": "code",
   "execution_count": 84,
   "outputs": [
    {
     "data": {
      "text/plain": "7755"
     },
     "execution_count": 84,
     "metadata": {},
     "output_type": "execute_result"
    }
   ],
   "source": [
    "orders['real_vs_esperado'].nunique()"
   ],
   "metadata": {
    "collapsed": false
   }
  },
  {
   "cell_type": "code",
   "execution_count": 85,
   "outputs": [
    {
     "data": {
      "text/plain": "                               order_id  tiempo_de_espera  \\\n0      e481f51cbdc54678b7cc49136f2d6af7          8.436574   \n1      53cdb2fc8bc7dce0b6741e2150273451         13.782037   \n2      47770eb9100c2d0c44946d9cf07ec65d          9.394213   \n3      949d5b44dbf5de918fe9c16f97b45f8a         13.208750   \n4      ad21c59c0840e6cb83a9ceb5573f8159          2.873877   \n...                                 ...               ...   \n99436  9c5dedf39a927c1b2549525ed64a053c          8.218009   \n99437  63943bddc261676b46f01ca7ac2f7bd8         22.193727   \n99438  83c1379a015df1e13d02aae0204711ab         24.859421   \n99439  11c177c8e97725db2631073c19f07b62         17.086424   \n99440  66dea50a8b16d9b4dee7af250b4be1a5          7.674306   \n\n      tiempo_de_espera_previsto  real_vs_esperado status_de_la_orden  \n0                    2017-10-18               0.0          delivered  \n1                    2018-08-13               0.0          delivered  \n2                    2018-09-04               0.0          delivered  \n3                    2017-12-15               0.0          delivered  \n4                    2018-02-26               0.0          delivered  \n...                         ...               ...                ...  \n99436                2017-03-28               0.0          delivered  \n99437                2018-03-02               0.0          delivered  \n99438                2017-09-27               0.0          delivered  \n99439                2018-02-15               0.0          delivered  \n99440                2018-04-03               0.0          delivered  \n\n[96478 rows x 5 columns]",
      "text/html": "<div>\n<style scoped>\n    .dataframe tbody tr th:only-of-type {\n        vertical-align: middle;\n    }\n\n    .dataframe tbody tr th {\n        vertical-align: top;\n    }\n\n    .dataframe thead th {\n        text-align: right;\n    }\n</style>\n<table border=\"1\" class=\"dataframe\">\n  <thead>\n    <tr style=\"text-align: right;\">\n      <th></th>\n      <th>order_id</th>\n      <th>tiempo_de_espera</th>\n      <th>tiempo_de_espera_previsto</th>\n      <th>real_vs_esperado</th>\n      <th>status_de_la_orden</th>\n    </tr>\n  </thead>\n  <tbody>\n    <tr>\n      <th>0</th>\n      <td>e481f51cbdc54678b7cc49136f2d6af7</td>\n      <td>8.436574</td>\n      <td>2017-10-18</td>\n      <td>0.0</td>\n      <td>delivered</td>\n    </tr>\n    <tr>\n      <th>1</th>\n      <td>53cdb2fc8bc7dce0b6741e2150273451</td>\n      <td>13.782037</td>\n      <td>2018-08-13</td>\n      <td>0.0</td>\n      <td>delivered</td>\n    </tr>\n    <tr>\n      <th>2</th>\n      <td>47770eb9100c2d0c44946d9cf07ec65d</td>\n      <td>9.394213</td>\n      <td>2018-09-04</td>\n      <td>0.0</td>\n      <td>delivered</td>\n    </tr>\n    <tr>\n      <th>3</th>\n      <td>949d5b44dbf5de918fe9c16f97b45f8a</td>\n      <td>13.208750</td>\n      <td>2017-12-15</td>\n      <td>0.0</td>\n      <td>delivered</td>\n    </tr>\n    <tr>\n      <th>4</th>\n      <td>ad21c59c0840e6cb83a9ceb5573f8159</td>\n      <td>2.873877</td>\n      <td>2018-02-26</td>\n      <td>0.0</td>\n      <td>delivered</td>\n    </tr>\n    <tr>\n      <th>...</th>\n      <td>...</td>\n      <td>...</td>\n      <td>...</td>\n      <td>...</td>\n      <td>...</td>\n    </tr>\n    <tr>\n      <th>99436</th>\n      <td>9c5dedf39a927c1b2549525ed64a053c</td>\n      <td>8.218009</td>\n      <td>2017-03-28</td>\n      <td>0.0</td>\n      <td>delivered</td>\n    </tr>\n    <tr>\n      <th>99437</th>\n      <td>63943bddc261676b46f01ca7ac2f7bd8</td>\n      <td>22.193727</td>\n      <td>2018-03-02</td>\n      <td>0.0</td>\n      <td>delivered</td>\n    </tr>\n    <tr>\n      <th>99438</th>\n      <td>83c1379a015df1e13d02aae0204711ab</td>\n      <td>24.859421</td>\n      <td>2017-09-27</td>\n      <td>0.0</td>\n      <td>delivered</td>\n    </tr>\n    <tr>\n      <th>99439</th>\n      <td>11c177c8e97725db2631073c19f07b62</td>\n      <td>17.086424</td>\n      <td>2018-02-15</td>\n      <td>0.0</td>\n      <td>delivered</td>\n    </tr>\n    <tr>\n      <th>99440</th>\n      <td>66dea50a8b16d9b4dee7af250b4be1a5</td>\n      <td>7.674306</td>\n      <td>2018-04-03</td>\n      <td>0.0</td>\n      <td>delivered</td>\n    </tr>\n  </tbody>\n</table>\n<p>96478 rows × 5 columns</p>\n</div>"
     },
     "execution_count": 85,
     "metadata": {},
     "output_type": "execute_result"
    }
   ],
   "source": [
    "orders = orders.rename(\n",
    "    columns={\"order_estimated_delivery_date\": 'tiempo_de_espera_previsto', 'order_status': \"status_de_la_orden\"})\n",
    "orders_2 = orders[\n",
    "    ['order_id', 'tiempo_de_espera', 'tiempo_de_espera_previsto', 'real_vs_esperado', 'status_de_la_orden']]\n",
    "orders_2"
   ],
   "metadata": {
    "collapsed": false
   }
  },
  {
   "cell_type": "markdown",
   "source": [
    "### b) `puntaje_de_compra`\n",
    "     retorna un dataframe con\n",
    "        order_id, es_cinco_estrellas, es_una_estrella, review_score\n",
    "\n",
    "recordar del examen `DataFrame.apply()` o tmb se puede usar`Series.map()`"
   ],
   "metadata": {
    "collapsed": false
   }
  },
  {
   "cell_type": "code",
   "execution_count": 86,
   "metadata": {
    "collapsed": true
   },
   "outputs": [
    {
     "data": {
      "text/plain": "                          review_id                          order_id  \\\n0  7bc2406110b926393aa56f80a40eba40  73fc7af87114b39712e6da79b0a377eb   \n1  80e641a11e56f04c1ad469d5645fdfde  a548910a1c6147796b98fdf73dbeba33   \n2  228ce5500dc1d8e020d8d1322874b6f0  f9e4b658b201a9f2ecdecbb34bed034b   \n3  e64fb393e7b32834bb789ff8bb30750e  658677c97b385a9be170737859d3511b   \n4  f7c4243c7fe1938f181bec41a392bdeb  8e6bfb81e283fa7e4f11123a3fb894f1   \n\n   review_score review_comment_title  \\\n0             4                  NaN   \n1             5                  NaN   \n2             5                  NaN   \n3             5                  NaN   \n4             5                  NaN   \n\n                              review_comment_message review_creation_date  \\\n0                                                NaN  2018-01-18 00:00:00   \n1                                                NaN  2018-03-10 00:00:00   \n2                                                NaN  2018-02-17 00:00:00   \n3              Recebi bem antes do prazo estipulado.  2017-04-21 00:00:00   \n4  Parabéns lojas lannister adorei comprar pela I...  2018-03-01 00:00:00   \n\n  review_answer_timestamp  \n0     2018-01-18 21:46:59  \n1     2018-03-11 03:05:13  \n2     2018-02-18 14:36:24  \n3     2017-04-21 22:02:06  \n4     2018-03-02 10:26:53  ",
      "text/html": "<div>\n<style scoped>\n    .dataframe tbody tr th:only-of-type {\n        vertical-align: middle;\n    }\n\n    .dataframe tbody tr th {\n        vertical-align: top;\n    }\n\n    .dataframe thead th {\n        text-align: right;\n    }\n</style>\n<table border=\"1\" class=\"dataframe\">\n  <thead>\n    <tr style=\"text-align: right;\">\n      <th></th>\n      <th>review_id</th>\n      <th>order_id</th>\n      <th>review_score</th>\n      <th>review_comment_title</th>\n      <th>review_comment_message</th>\n      <th>review_creation_date</th>\n      <th>review_answer_timestamp</th>\n    </tr>\n  </thead>\n  <tbody>\n    <tr>\n      <th>0</th>\n      <td>7bc2406110b926393aa56f80a40eba40</td>\n      <td>73fc7af87114b39712e6da79b0a377eb</td>\n      <td>4</td>\n      <td>NaN</td>\n      <td>NaN</td>\n      <td>2018-01-18 00:00:00</td>\n      <td>2018-01-18 21:46:59</td>\n    </tr>\n    <tr>\n      <th>1</th>\n      <td>80e641a11e56f04c1ad469d5645fdfde</td>\n      <td>a548910a1c6147796b98fdf73dbeba33</td>\n      <td>5</td>\n      <td>NaN</td>\n      <td>NaN</td>\n      <td>2018-03-10 00:00:00</td>\n      <td>2018-03-11 03:05:13</td>\n    </tr>\n    <tr>\n      <th>2</th>\n      <td>228ce5500dc1d8e020d8d1322874b6f0</td>\n      <td>f9e4b658b201a9f2ecdecbb34bed034b</td>\n      <td>5</td>\n      <td>NaN</td>\n      <td>NaN</td>\n      <td>2018-02-17 00:00:00</td>\n      <td>2018-02-18 14:36:24</td>\n    </tr>\n    <tr>\n      <th>3</th>\n      <td>e64fb393e7b32834bb789ff8bb30750e</td>\n      <td>658677c97b385a9be170737859d3511b</td>\n      <td>5</td>\n      <td>NaN</td>\n      <td>Recebi bem antes do prazo estipulado.</td>\n      <td>2017-04-21 00:00:00</td>\n      <td>2017-04-21 22:02:06</td>\n    </tr>\n    <tr>\n      <th>4</th>\n      <td>f7c4243c7fe1938f181bec41a392bdeb</td>\n      <td>8e6bfb81e283fa7e4f11123a3fb894f1</td>\n      <td>5</td>\n      <td>NaN</td>\n      <td>Parabéns lojas lannister adorei comprar pela I...</td>\n      <td>2018-03-01 00:00:00</td>\n      <td>2018-03-02 10:26:53</td>\n    </tr>\n  </tbody>\n</table>\n</div>"
     },
     "execution_count": 86,
     "metadata": {},
     "output_type": "execute_result"
    }
   ],
   "source": [
    "reviews = data['order_reviews'].copy()\n",
    "reviews.head()"
   ]
  },
  {
   "cell_type": "code",
   "execution_count": 87,
   "outputs": [
    {
     "data": {
      "text/plain": "                               order_id  es_cinco_estrellas  es_una_estrella  \\\n0      73fc7af87114b39712e6da79b0a377eb                   0                0   \n1      a548910a1c6147796b98fdf73dbeba33                   1                0   \n2      f9e4b658b201a9f2ecdecbb34bed034b                   1                0   \n3      658677c97b385a9be170737859d3511b                   1                0   \n4      8e6bfb81e283fa7e4f11123a3fb894f1                   1                0   \n...                                 ...                 ...              ...   \n99219  2a8c23fee101d4d5662fa670396eb8da                   1                0   \n99220  22ec9f0669f784db00fa86d035cf8602                   1                0   \n99221  55d4004744368f5571d1f590031933e4                   1                0   \n99222  7725825d039fc1f0ceb7635e3f7d9206                   0                0   \n99223  90531360ecb1eec2a1fbb265a0db0508                   0                1   \n\n       review_score  \n0                 4  \n1                 5  \n2                 5  \n3                 5  \n4                 5  \n...             ...  \n99219             5  \n99220             5  \n99221             5  \n99222             4  \n99223             1  \n\n[99224 rows x 4 columns]",
      "text/html": "<div>\n<style scoped>\n    .dataframe tbody tr th:only-of-type {\n        vertical-align: middle;\n    }\n\n    .dataframe tbody tr th {\n        vertical-align: top;\n    }\n\n    .dataframe thead th {\n        text-align: right;\n    }\n</style>\n<table border=\"1\" class=\"dataframe\">\n  <thead>\n    <tr style=\"text-align: right;\">\n      <th></th>\n      <th>order_id</th>\n      <th>es_cinco_estrellas</th>\n      <th>es_una_estrella</th>\n      <th>review_score</th>\n    </tr>\n  </thead>\n  <tbody>\n    <tr>\n      <th>0</th>\n      <td>73fc7af87114b39712e6da79b0a377eb</td>\n      <td>0</td>\n      <td>0</td>\n      <td>4</td>\n    </tr>\n    <tr>\n      <th>1</th>\n      <td>a548910a1c6147796b98fdf73dbeba33</td>\n      <td>1</td>\n      <td>0</td>\n      <td>5</td>\n    </tr>\n    <tr>\n      <th>2</th>\n      <td>f9e4b658b201a9f2ecdecbb34bed034b</td>\n      <td>1</td>\n      <td>0</td>\n      <td>5</td>\n    </tr>\n    <tr>\n      <th>3</th>\n      <td>658677c97b385a9be170737859d3511b</td>\n      <td>1</td>\n      <td>0</td>\n      <td>5</td>\n    </tr>\n    <tr>\n      <th>4</th>\n      <td>8e6bfb81e283fa7e4f11123a3fb894f1</td>\n      <td>1</td>\n      <td>0</td>\n      <td>5</td>\n    </tr>\n    <tr>\n      <th>...</th>\n      <td>...</td>\n      <td>...</td>\n      <td>...</td>\n      <td>...</td>\n    </tr>\n    <tr>\n      <th>99219</th>\n      <td>2a8c23fee101d4d5662fa670396eb8da</td>\n      <td>1</td>\n      <td>0</td>\n      <td>5</td>\n    </tr>\n    <tr>\n      <th>99220</th>\n      <td>22ec9f0669f784db00fa86d035cf8602</td>\n      <td>1</td>\n      <td>0</td>\n      <td>5</td>\n    </tr>\n    <tr>\n      <th>99221</th>\n      <td>55d4004744368f5571d1f590031933e4</td>\n      <td>1</td>\n      <td>0</td>\n      <td>5</td>\n    </tr>\n    <tr>\n      <th>99222</th>\n      <td>7725825d039fc1f0ceb7635e3f7d9206</td>\n      <td>0</td>\n      <td>0</td>\n      <td>4</td>\n    </tr>\n    <tr>\n      <th>99223</th>\n      <td>90531360ecb1eec2a1fbb265a0db0508</td>\n      <td>0</td>\n      <td>1</td>\n      <td>1</td>\n    </tr>\n  </tbody>\n</table>\n<p>99224 rows × 4 columns</p>\n</div>"
     },
     "execution_count": 87,
     "metadata": {},
     "output_type": "execute_result"
    }
   ],
   "source": [
    "from olist.preprocess import puntaje_de_compra\n",
    "puntaje_de_compra(reviews)"
   ],
   "metadata": {
    "collapsed": false
   }
  },
  {
   "cell_type": "markdown",
   "source": [
    "c) numero_de_productos:\n",
    " retorna un dataframe con\n",
    "    order_id, numero_de_productos (numero_de_productos_por_orden)"
   ],
   "metadata": {
    "collapsed": false
   }
  },
  {
   "cell_type": "code",
   "execution_count": 88,
   "outputs": [
    {
     "data": {
      "text/plain": "                                order_id  order_item_id  \\\n0       00010242fe8c5a6d1ba2dd792cb16214              1   \n1       00018f77f2f0320c557190d7a144bdd3              1   \n2       000229ec398224ef6ca0657da4fc703e              1   \n3       00024acbcdf0a6daa1e931b038114c75              1   \n4       00042b26cf59d7ce69dfabb4e55b4fd9              1   \n...                                  ...            ...   \n112645  fffc94f6ce00a00581880bf54a75a037              1   \n112646  fffcd46ef2263f404302a634eb57f7eb              1   \n112647  fffce4705a9662cd70adb13d4a31832d              1   \n112648  fffe18544ffabc95dfada21779c9644f              1   \n112649  fffe41c64501cc87c801fd61db3f6244              1   \n\n                              product_id                         seller_id  \\\n0       4244733e06e7ecb4970a6e2683c13e61  48436dade18ac8b2bce089ec2a041202   \n1       e5f2d52b802189ee658865ca93d83a8f  dd7ddc04e1b6c2c614352b383efe2d36   \n2       c777355d18b72b67abbeef9df44fd0fd  5b51032eddd242adc84c38acab88f23d   \n3       7634da152a4610f1595efa32f14722fc  9d7a1d34a5052409006425275ba1c2b4   \n4       ac6c3623068f30de03045865e4e10089  df560393f3a51e74553ab94004ba5c87   \n...                                  ...                               ...   \n112645  4aa6014eceb682077f9dc4bffebc05b0  b8bc237ba3788b23da09c0f1f3a3288c   \n112646  32e07fd915822b0765e448c4dd74c828  f3c38ab652836d21de61fb8314b69182   \n112647  72a30483855e2eafc67aee5dc2560482  c3cfdc648177fdbbbb35635a37472c53   \n112648  9c422a519119dcad7575db5af1ba540e  2b3e4a2a3ea8e01938cabda2a3e5cc79   \n112649  350688d9dc1e75ff97be326363655e01  f7ccf836d21b2fb1de37564105216cc1   \n\n        shipping_limit_date   price  freight_value  \n0       2017-09-19 09:45:35   58.90          13.29  \n1       2017-05-03 11:05:13  239.90          19.93  \n2       2018-01-18 14:48:30  199.00          17.87  \n3       2018-08-15 10:10:18   12.99          12.79  \n4       2017-02-13 13:57:51  199.90          18.14  \n...                     ...     ...            ...  \n112645  2018-05-02 04:11:01  299.99          43.41  \n112646  2018-07-20 04:31:48  350.00          36.53  \n112647  2017-10-30 17:14:25   99.90          16.95  \n112648  2017-08-21 00:04:32   55.99           8.72  \n112649  2018-06-12 17:10:13   43.00          12.79  \n\n[112650 rows x 7 columns]",
      "text/html": "<div>\n<style scoped>\n    .dataframe tbody tr th:only-of-type {\n        vertical-align: middle;\n    }\n\n    .dataframe tbody tr th {\n        vertical-align: top;\n    }\n\n    .dataframe thead th {\n        text-align: right;\n    }\n</style>\n<table border=\"1\" class=\"dataframe\">\n  <thead>\n    <tr style=\"text-align: right;\">\n      <th></th>\n      <th>order_id</th>\n      <th>order_item_id</th>\n      <th>product_id</th>\n      <th>seller_id</th>\n      <th>shipping_limit_date</th>\n      <th>price</th>\n      <th>freight_value</th>\n    </tr>\n  </thead>\n  <tbody>\n    <tr>\n      <th>0</th>\n      <td>00010242fe8c5a6d1ba2dd792cb16214</td>\n      <td>1</td>\n      <td>4244733e06e7ecb4970a6e2683c13e61</td>\n      <td>48436dade18ac8b2bce089ec2a041202</td>\n      <td>2017-09-19 09:45:35</td>\n      <td>58.90</td>\n      <td>13.29</td>\n    </tr>\n    <tr>\n      <th>1</th>\n      <td>00018f77f2f0320c557190d7a144bdd3</td>\n      <td>1</td>\n      <td>e5f2d52b802189ee658865ca93d83a8f</td>\n      <td>dd7ddc04e1b6c2c614352b383efe2d36</td>\n      <td>2017-05-03 11:05:13</td>\n      <td>239.90</td>\n      <td>19.93</td>\n    </tr>\n    <tr>\n      <th>2</th>\n      <td>000229ec398224ef6ca0657da4fc703e</td>\n      <td>1</td>\n      <td>c777355d18b72b67abbeef9df44fd0fd</td>\n      <td>5b51032eddd242adc84c38acab88f23d</td>\n      <td>2018-01-18 14:48:30</td>\n      <td>199.00</td>\n      <td>17.87</td>\n    </tr>\n    <tr>\n      <th>3</th>\n      <td>00024acbcdf0a6daa1e931b038114c75</td>\n      <td>1</td>\n      <td>7634da152a4610f1595efa32f14722fc</td>\n      <td>9d7a1d34a5052409006425275ba1c2b4</td>\n      <td>2018-08-15 10:10:18</td>\n      <td>12.99</td>\n      <td>12.79</td>\n    </tr>\n    <tr>\n      <th>4</th>\n      <td>00042b26cf59d7ce69dfabb4e55b4fd9</td>\n      <td>1</td>\n      <td>ac6c3623068f30de03045865e4e10089</td>\n      <td>df560393f3a51e74553ab94004ba5c87</td>\n      <td>2017-02-13 13:57:51</td>\n      <td>199.90</td>\n      <td>18.14</td>\n    </tr>\n    <tr>\n      <th>...</th>\n      <td>...</td>\n      <td>...</td>\n      <td>...</td>\n      <td>...</td>\n      <td>...</td>\n      <td>...</td>\n      <td>...</td>\n    </tr>\n    <tr>\n      <th>112645</th>\n      <td>fffc94f6ce00a00581880bf54a75a037</td>\n      <td>1</td>\n      <td>4aa6014eceb682077f9dc4bffebc05b0</td>\n      <td>b8bc237ba3788b23da09c0f1f3a3288c</td>\n      <td>2018-05-02 04:11:01</td>\n      <td>299.99</td>\n      <td>43.41</td>\n    </tr>\n    <tr>\n      <th>112646</th>\n      <td>fffcd46ef2263f404302a634eb57f7eb</td>\n      <td>1</td>\n      <td>32e07fd915822b0765e448c4dd74c828</td>\n      <td>f3c38ab652836d21de61fb8314b69182</td>\n      <td>2018-07-20 04:31:48</td>\n      <td>350.00</td>\n      <td>36.53</td>\n    </tr>\n    <tr>\n      <th>112647</th>\n      <td>fffce4705a9662cd70adb13d4a31832d</td>\n      <td>1</td>\n      <td>72a30483855e2eafc67aee5dc2560482</td>\n      <td>c3cfdc648177fdbbbb35635a37472c53</td>\n      <td>2017-10-30 17:14:25</td>\n      <td>99.90</td>\n      <td>16.95</td>\n    </tr>\n    <tr>\n      <th>112648</th>\n      <td>fffe18544ffabc95dfada21779c9644f</td>\n      <td>1</td>\n      <td>9c422a519119dcad7575db5af1ba540e</td>\n      <td>2b3e4a2a3ea8e01938cabda2a3e5cc79</td>\n      <td>2017-08-21 00:04:32</td>\n      <td>55.99</td>\n      <td>8.72</td>\n    </tr>\n    <tr>\n      <th>112649</th>\n      <td>fffe41c64501cc87c801fd61db3f6244</td>\n      <td>1</td>\n      <td>350688d9dc1e75ff97be326363655e01</td>\n      <td>f7ccf836d21b2fb1de37564105216cc1</td>\n      <td>2018-06-12 17:10:13</td>\n      <td>43.00</td>\n      <td>12.79</td>\n    </tr>\n  </tbody>\n</table>\n<p>112650 rows × 7 columns</p>\n</div>"
     },
     "execution_count": 88,
     "metadata": {},
     "output_type": "execute_result"
    }
   ],
   "source": [
    "items = data['order_items'].copy()\n",
    "items"
   ],
   "metadata": {
    "collapsed": false
   }
  },
  {
   "cell_type": "code",
   "execution_count": 89,
   "outputs": [
    {
     "data": {
      "text/plain": "                               order_id  product_id\n0      00010242fe8c5a6d1ba2dd792cb16214           1\n1      00018f77f2f0320c557190d7a144bdd3           1\n2      000229ec398224ef6ca0657da4fc703e           1\n3      00024acbcdf0a6daa1e931b038114c75           1\n4      00042b26cf59d7ce69dfabb4e55b4fd9           1\n...                                 ...         ...\n98661  fffc94f6ce00a00581880bf54a75a037           1\n98662  fffcd46ef2263f404302a634eb57f7eb           1\n98663  fffce4705a9662cd70adb13d4a31832d           1\n98664  fffe18544ffabc95dfada21779c9644f           1\n98665  fffe41c64501cc87c801fd61db3f6244           1\n\n[98666 rows x 2 columns]",
      "text/html": "<div>\n<style scoped>\n    .dataframe tbody tr th:only-of-type {\n        vertical-align: middle;\n    }\n\n    .dataframe tbody tr th {\n        vertical-align: top;\n    }\n\n    .dataframe thead th {\n        text-align: right;\n    }\n</style>\n<table border=\"1\" class=\"dataframe\">\n  <thead>\n    <tr style=\"text-align: right;\">\n      <th></th>\n      <th>order_id</th>\n      <th>product_id</th>\n    </tr>\n  </thead>\n  <tbody>\n    <tr>\n      <th>0</th>\n      <td>00010242fe8c5a6d1ba2dd792cb16214</td>\n      <td>1</td>\n    </tr>\n    <tr>\n      <th>1</th>\n      <td>00018f77f2f0320c557190d7a144bdd3</td>\n      <td>1</td>\n    </tr>\n    <tr>\n      <th>2</th>\n      <td>000229ec398224ef6ca0657da4fc703e</td>\n      <td>1</td>\n    </tr>\n    <tr>\n      <th>3</th>\n      <td>00024acbcdf0a6daa1e931b038114c75</td>\n      <td>1</td>\n    </tr>\n    <tr>\n      <th>4</th>\n      <td>00042b26cf59d7ce69dfabb4e55b4fd9</td>\n      <td>1</td>\n    </tr>\n    <tr>\n      <th>...</th>\n      <td>...</td>\n      <td>...</td>\n    </tr>\n    <tr>\n      <th>98661</th>\n      <td>fffc94f6ce00a00581880bf54a75a037</td>\n      <td>1</td>\n    </tr>\n    <tr>\n      <th>98662</th>\n      <td>fffcd46ef2263f404302a634eb57f7eb</td>\n      <td>1</td>\n    </tr>\n    <tr>\n      <th>98663</th>\n      <td>fffce4705a9662cd70adb13d4a31832d</td>\n      <td>1</td>\n    </tr>\n    <tr>\n      <th>98664</th>\n      <td>fffe18544ffabc95dfada21779c9644f</td>\n      <td>1</td>\n    </tr>\n    <tr>\n      <th>98665</th>\n      <td>fffe41c64501cc87c801fd61db3f6244</td>\n      <td>1</td>\n    </tr>\n  </tbody>\n</table>\n<p>98666 rows × 2 columns</p>\n</div>"
     },
     "execution_count": 89,
     "metadata": {},
     "output_type": "execute_result"
    }
   ],
   "source": [
    "items.groupby('order_id').product_id.count().reset_index()"
   ],
   "metadata": {
    "collapsed": false
   }
  },
  {
   "cell_type": "code",
   "execution_count": 90,
   "outputs": [
    {
     "data": {
      "text/plain": "                               order_id  number_of_products\n0      00010242fe8c5a6d1ba2dd792cb16214                   1\n1      00018f77f2f0320c557190d7a144bdd3                   1\n2      000229ec398224ef6ca0657da4fc703e                   1\n3      00024acbcdf0a6daa1e931b038114c75                   1\n4      00042b26cf59d7ce69dfabb4e55b4fd9                   1\n...                                 ...                 ...\n98661  fffc94f6ce00a00581880bf54a75a037                   1\n98662  fffcd46ef2263f404302a634eb57f7eb                   1\n98663  fffce4705a9662cd70adb13d4a31832d                   1\n98664  fffe18544ffabc95dfada21779c9644f                   1\n98665  fffe41c64501cc87c801fd61db3f6244                   1\n\n[98666 rows x 2 columns]",
      "text/html": "<div>\n<style scoped>\n    .dataframe tbody tr th:only-of-type {\n        vertical-align: middle;\n    }\n\n    .dataframe tbody tr th {\n        vertical-align: top;\n    }\n\n    .dataframe thead th {\n        text-align: right;\n    }\n</style>\n<table border=\"1\" class=\"dataframe\">\n  <thead>\n    <tr style=\"text-align: right;\">\n      <th></th>\n      <th>order_id</th>\n      <th>number_of_products</th>\n    </tr>\n  </thead>\n  <tbody>\n    <tr>\n      <th>0</th>\n      <td>00010242fe8c5a6d1ba2dd792cb16214</td>\n      <td>1</td>\n    </tr>\n    <tr>\n      <th>1</th>\n      <td>00018f77f2f0320c557190d7a144bdd3</td>\n      <td>1</td>\n    </tr>\n    <tr>\n      <th>2</th>\n      <td>000229ec398224ef6ca0657da4fc703e</td>\n      <td>1</td>\n    </tr>\n    <tr>\n      <th>3</th>\n      <td>00024acbcdf0a6daa1e931b038114c75</td>\n      <td>1</td>\n    </tr>\n    <tr>\n      <th>4</th>\n      <td>00042b26cf59d7ce69dfabb4e55b4fd9</td>\n      <td>1</td>\n    </tr>\n    <tr>\n      <th>...</th>\n      <td>...</td>\n      <td>...</td>\n    </tr>\n    <tr>\n      <th>98661</th>\n      <td>fffc94f6ce00a00581880bf54a75a037</td>\n      <td>1</td>\n    </tr>\n    <tr>\n      <th>98662</th>\n      <td>fffcd46ef2263f404302a634eb57f7eb</td>\n      <td>1</td>\n    </tr>\n    <tr>\n      <th>98663</th>\n      <td>fffce4705a9662cd70adb13d4a31832d</td>\n      <td>1</td>\n    </tr>\n    <tr>\n      <th>98664</th>\n      <td>fffe18544ffabc95dfada21779c9644f</td>\n      <td>1</td>\n    </tr>\n    <tr>\n      <th>98665</th>\n      <td>fffe41c64501cc87c801fd61db3f6244</td>\n      <td>1</td>\n    </tr>\n  </tbody>\n</table>\n<p>98666 rows × 2 columns</p>\n</div>"
     },
     "execution_count": 90,
     "metadata": {},
     "output_type": "execute_result"
    }
   ],
   "source": [
    "from olist.preprocess import calcular_numero_productos\n",
    "#fijarse que no uso solo un dataframe\n",
    "productos = calcular_numero_productos(items)\n",
    "productos"
   ],
   "metadata": {
    "collapsed": false
   }
  },
  {
   "cell_type": "markdown",
   "source": [
    "### d) `numero_de_vendedores`:\n",
    "     Retorna un dataframe con\n",
    "        order_id, numero_de_vendedores (total de vendedores UNICOS !!! )\n",
    "\n",
    "HINT!:\n",
    "`pd.Series.nunique()`"
   ],
   "metadata": {
    "collapsed": false
   }
  },
  {
   "cell_type": "code",
   "execution_count": 91,
   "outputs": [
    {
     "data": {
      "text/plain": "                               order_id  vendedores_unicos\n0      00010242fe8c5a6d1ba2dd792cb16214                  1\n1      00018f77f2f0320c557190d7a144bdd3                  1\n2      000229ec398224ef6ca0657da4fc703e                  1\n3      00024acbcdf0a6daa1e931b038114c75                  1\n4      00042b26cf59d7ce69dfabb4e55b4fd9                  1\n...                                 ...                ...\n98661  fffc94f6ce00a00581880bf54a75a037                  1\n98662  fffcd46ef2263f404302a634eb57f7eb                  1\n98663  fffce4705a9662cd70adb13d4a31832d                  1\n98664  fffe18544ffabc95dfada21779c9644f                  1\n98665  fffe41c64501cc87c801fd61db3f6244                  1\n\n[98666 rows x 2 columns]",
      "text/html": "<div>\n<style scoped>\n    .dataframe tbody tr th:only-of-type {\n        vertical-align: middle;\n    }\n\n    .dataframe tbody tr th {\n        vertical-align: top;\n    }\n\n    .dataframe thead th {\n        text-align: right;\n    }\n</style>\n<table border=\"1\" class=\"dataframe\">\n  <thead>\n    <tr style=\"text-align: right;\">\n      <th></th>\n      <th>order_id</th>\n      <th>vendedores_unicos</th>\n    </tr>\n  </thead>\n  <tbody>\n    <tr>\n      <th>0</th>\n      <td>00010242fe8c5a6d1ba2dd792cb16214</td>\n      <td>1</td>\n    </tr>\n    <tr>\n      <th>1</th>\n      <td>00018f77f2f0320c557190d7a144bdd3</td>\n      <td>1</td>\n    </tr>\n    <tr>\n      <th>2</th>\n      <td>000229ec398224ef6ca0657da4fc703e</td>\n      <td>1</td>\n    </tr>\n    <tr>\n      <th>3</th>\n      <td>00024acbcdf0a6daa1e931b038114c75</td>\n      <td>1</td>\n    </tr>\n    <tr>\n      <th>4</th>\n      <td>00042b26cf59d7ce69dfabb4e55b4fd9</td>\n      <td>1</td>\n    </tr>\n    <tr>\n      <th>...</th>\n      <td>...</td>\n      <td>...</td>\n    </tr>\n    <tr>\n      <th>98661</th>\n      <td>fffc94f6ce00a00581880bf54a75a037</td>\n      <td>1</td>\n    </tr>\n    <tr>\n      <th>98662</th>\n      <td>fffcd46ef2263f404302a634eb57f7eb</td>\n      <td>1</td>\n    </tr>\n    <tr>\n      <th>98663</th>\n      <td>fffce4705a9662cd70adb13d4a31832d</td>\n      <td>1</td>\n    </tr>\n    <tr>\n      <th>98664</th>\n      <td>fffe18544ffabc95dfada21779c9644f</td>\n      <td>1</td>\n    </tr>\n    <tr>\n      <th>98665</th>\n      <td>fffe41c64501cc87c801fd61db3f6244</td>\n      <td>1</td>\n    </tr>\n  </tbody>\n</table>\n<p>98666 rows × 2 columns</p>\n</div>"
     },
     "execution_count": 91,
     "metadata": {},
     "output_type": "execute_result"
    }
   ],
   "source": [
    "from olist.preprocess import vendedores_unicos\n",
    "vendedores = vendedores_unicos(items)\n",
    "vendedores"
   ],
   "metadata": {
    "collapsed": false
   }
  },
  {
   "cell_type": "markdown",
   "source": [
    "### e) `calcular_precio_y_transporte`\n",
    "     Returns a DataFrame with:\n",
    "        order_id, precio, valor_transporte\n",
    "\n",
    "recordar el agg en el groupby"
   ],
   "metadata": {
    "collapsed": false
   }
  },
  {
   "cell_type": "markdown",
   "source": [
    "| `precio` \t                    | float \t| total del precio pagado por el cliente                                                                                                                |\n",
    "| `valor_transporte` \t          | float \t| el valor del freight pagado por el cliente \t                                                                                                          |"
   ],
   "metadata": {
    "collapsed": false
   }
  },
  {
   "cell_type": "code",
   "execution_count": 99,
   "outputs": [
    {
     "data": {
      "text/plain": "                               order_id  precio  transporte\n0      00010242fe8c5a6d1ba2dd792cb16214   58.90       13.29\n1      00018f77f2f0320c557190d7a144bdd3  239.90       19.93\n2      000229ec398224ef6ca0657da4fc703e  199.00       17.87\n3      00024acbcdf0a6daa1e931b038114c75   12.99       12.79\n4      00042b26cf59d7ce69dfabb4e55b4fd9  199.90       18.14\n...                                 ...     ...         ...\n98661  fffc94f6ce00a00581880bf54a75a037  299.99       43.41\n98662  fffcd46ef2263f404302a634eb57f7eb  350.00       36.53\n98663  fffce4705a9662cd70adb13d4a31832d   99.90       16.95\n98664  fffe18544ffabc95dfada21779c9644f   55.99        8.72\n98665  fffe41c64501cc87c801fd61db3f6244   43.00       12.79\n\n[98666 rows x 3 columns]",
      "text/html": "<div>\n<style scoped>\n    .dataframe tbody tr th:only-of-type {\n        vertical-align: middle;\n    }\n\n    .dataframe tbody tr th {\n        vertical-align: top;\n    }\n\n    .dataframe thead th {\n        text-align: right;\n    }\n</style>\n<table border=\"1\" class=\"dataframe\">\n  <thead>\n    <tr style=\"text-align: right;\">\n      <th></th>\n      <th>order_id</th>\n      <th>precio</th>\n      <th>transporte</th>\n    </tr>\n  </thead>\n  <tbody>\n    <tr>\n      <th>0</th>\n      <td>00010242fe8c5a6d1ba2dd792cb16214</td>\n      <td>58.90</td>\n      <td>13.29</td>\n    </tr>\n    <tr>\n      <th>1</th>\n      <td>00018f77f2f0320c557190d7a144bdd3</td>\n      <td>239.90</td>\n      <td>19.93</td>\n    </tr>\n    <tr>\n      <th>2</th>\n      <td>000229ec398224ef6ca0657da4fc703e</td>\n      <td>199.00</td>\n      <td>17.87</td>\n    </tr>\n    <tr>\n      <th>3</th>\n      <td>00024acbcdf0a6daa1e931b038114c75</td>\n      <td>12.99</td>\n      <td>12.79</td>\n    </tr>\n    <tr>\n      <th>4</th>\n      <td>00042b26cf59d7ce69dfabb4e55b4fd9</td>\n      <td>199.90</td>\n      <td>18.14</td>\n    </tr>\n    <tr>\n      <th>...</th>\n      <td>...</td>\n      <td>...</td>\n      <td>...</td>\n    </tr>\n    <tr>\n      <th>98661</th>\n      <td>fffc94f6ce00a00581880bf54a75a037</td>\n      <td>299.99</td>\n      <td>43.41</td>\n    </tr>\n    <tr>\n      <th>98662</th>\n      <td>fffcd46ef2263f404302a634eb57f7eb</td>\n      <td>350.00</td>\n      <td>36.53</td>\n    </tr>\n    <tr>\n      <th>98663</th>\n      <td>fffce4705a9662cd70adb13d4a31832d</td>\n      <td>99.90</td>\n      <td>16.95</td>\n    </tr>\n    <tr>\n      <th>98664</th>\n      <td>fffe18544ffabc95dfada21779c9644f</td>\n      <td>55.99</td>\n      <td>8.72</td>\n    </tr>\n    <tr>\n      <th>98665</th>\n      <td>fffe41c64501cc87c801fd61db3f6244</td>\n      <td>43.00</td>\n      <td>12.79</td>\n    </tr>\n  </tbody>\n</table>\n<p>98666 rows × 3 columns</p>\n</div>"
     },
     "execution_count": 99,
     "metadata": {},
     "output_type": "execute_result"
    }
   ],
   "source": [
    "from olist.preprocess import calcular_precio_y_transporte\n",
    "precio_y_transporte = calcular_precio_y_transporte(items)\n",
    "precio_y_transporte"
   ],
   "metadata": {
    "collapsed": false
   }
  },
  {
   "cell_type": "markdown",
   "source": [
    "### e) `distancia_al_cliente`\n",
    "\n",
    "    Retorna un dataframe con\n",
    "        order_id, distancia_al_cliente (distancia en kilometros)\n",
    "\n",
    "usar`haversine_distance`"
   ],
   "metadata": {
    "collapsed": false
   }
  },
  {
   "cell_type": "code",
   "execution_count": 93,
   "outputs": [],
   "source": [
    "from math import radians, sin, cos, asin, sqrt\n",
    "\n",
    "def haversine_distance(lon1, lat1, lon2, lat2):\n",
    "    \"\"\"\n",
    "    Computa distancia entre dos pares (lat, lng)\n",
    "    Ver - (https://en.wikipedia.org/wiki/Haversine_formula)\n",
    "    \"\"\"\n",
    "    lon1, lat1, lon2, lat2 = map(radians, [lon1, lat1, lon2, lat2])\n",
    "    dlon = lon2 - lon1\n",
    "    dlat = lat2 - lat1\n",
    "    a = sin(dlat / 2) ** 2 + cos(lat1) * cos(lat2) * sin(dlon / 2) ** 2\n",
    "    return 2 * 6371 * asin(sqrt(a))"
   ],
   "metadata": {
    "collapsed": false
   }
  },
  {
   "cell_type": "code",
   "execution_count": 94,
   "outputs": [
    {
     "data": {
      "text/plain": "                             seller_id  seller_zip_code_prefix\n0     3442f8959a84dea7ee197c632cb2df15                   13023\n1     d1b65fc7debc3361ea86b5f14c68d2e2                   13844\n2     ce3ad9de960102d0677a81f5d0bb7b2d                   20031\n3     c0f3eea2e14555b6faeea3dd58c1b1c3                    4195\n4     51a04a8a6bdcb23deccc82b0b80742cf                   12914\n...                                ...                     ...\n3090  98dddbc4601dd4443ca174359b237166                   87111\n3091  f8201cab383e484733266d1906e2fdfa                   88137\n3092  74871d19219c7d518d0090283e03c137                    4650\n3093  e603cf3fec55f8697c9059638d6c8eb5                   96080\n3094  9e25199f6ef7e7c347120ff175652c3b                   12051\n\n[3095 rows x 2 columns]",
      "text/html": "<div>\n<style scoped>\n    .dataframe tbody tr th:only-of-type {\n        vertical-align: middle;\n    }\n\n    .dataframe tbody tr th {\n        vertical-align: top;\n    }\n\n    .dataframe thead th {\n        text-align: right;\n    }\n</style>\n<table border=\"1\" class=\"dataframe\">\n  <thead>\n    <tr style=\"text-align: right;\">\n      <th></th>\n      <th>seller_id</th>\n      <th>seller_zip_code_prefix</th>\n    </tr>\n  </thead>\n  <tbody>\n    <tr>\n      <th>0</th>\n      <td>3442f8959a84dea7ee197c632cb2df15</td>\n      <td>13023</td>\n    </tr>\n    <tr>\n      <th>1</th>\n      <td>d1b65fc7debc3361ea86b5f14c68d2e2</td>\n      <td>13844</td>\n    </tr>\n    <tr>\n      <th>2</th>\n      <td>ce3ad9de960102d0677a81f5d0bb7b2d</td>\n      <td>20031</td>\n    </tr>\n    <tr>\n      <th>3</th>\n      <td>c0f3eea2e14555b6faeea3dd58c1b1c3</td>\n      <td>4195</td>\n    </tr>\n    <tr>\n      <th>4</th>\n      <td>51a04a8a6bdcb23deccc82b0b80742cf</td>\n      <td>12914</td>\n    </tr>\n    <tr>\n      <th>...</th>\n      <td>...</td>\n      <td>...</td>\n    </tr>\n    <tr>\n      <th>3090</th>\n      <td>98dddbc4601dd4443ca174359b237166</td>\n      <td>87111</td>\n    </tr>\n    <tr>\n      <th>3091</th>\n      <td>f8201cab383e484733266d1906e2fdfa</td>\n      <td>88137</td>\n    </tr>\n    <tr>\n      <th>3092</th>\n      <td>74871d19219c7d518d0090283e03c137</td>\n      <td>4650</td>\n    </tr>\n    <tr>\n      <th>3093</th>\n      <td>e603cf3fec55f8697c9059638d6c8eb5</td>\n      <td>96080</td>\n    </tr>\n    <tr>\n      <th>3094</th>\n      <td>9e25199f6ef7e7c347120ff175652c3b</td>\n      <td>12051</td>\n    </tr>\n  </tbody>\n</table>\n<p>3095 rows × 2 columns</p>\n</div>"
     },
     "execution_count": 94,
     "metadata": {},
     "output_type": "execute_result"
    }
   ],
   "source": [
    "sellers = data['sellers'].copy()\n",
    "sellers = sellers[['seller_id', 'seller_zip_code_prefix']]\n",
    "sellers"
   ],
   "metadata": {
    "collapsed": false
   }
  },
  {
   "cell_type": "code",
   "execution_count": 95,
   "outputs": [
    {
     "data": {
      "text/plain": "                            customer_id  customer_zip_code_prefix\n0      06b8999e2fba1a1fbc88172c00ba8bc7                     14409\n1      18955e83d337fd6b2def6b18a428ac77                      9790\n2      4e7b3e00288586ebd08712fdd0374a03                      1151\n3      b2b6027bc5c5109e529d4dc6358b12c3                      8775\n4      4f2d8ab171c80ec8364f7c12e35b23ad                     13056\n...                                 ...                       ...\n99436  17ddf5dd5d51696bb3d7c6291687be6f                      3937\n99437  e7b71a9017aa05c9a7fd292d714858e8                      6764\n99438  5e28dfe12db7fb50a4b2f691faecea5e                     60115\n99439  56b18e2166679b8a959d72dd06da27f9                     92120\n99440  274fa6071e5e17fe303b9748641082c8                      6703\n\n[99441 rows x 2 columns]",
      "text/html": "<div>\n<style scoped>\n    .dataframe tbody tr th:only-of-type {\n        vertical-align: middle;\n    }\n\n    .dataframe tbody tr th {\n        vertical-align: top;\n    }\n\n    .dataframe thead th {\n        text-align: right;\n    }\n</style>\n<table border=\"1\" class=\"dataframe\">\n  <thead>\n    <tr style=\"text-align: right;\">\n      <th></th>\n      <th>customer_id</th>\n      <th>customer_zip_code_prefix</th>\n    </tr>\n  </thead>\n  <tbody>\n    <tr>\n      <th>0</th>\n      <td>06b8999e2fba1a1fbc88172c00ba8bc7</td>\n      <td>14409</td>\n    </tr>\n    <tr>\n      <th>1</th>\n      <td>18955e83d337fd6b2def6b18a428ac77</td>\n      <td>9790</td>\n    </tr>\n    <tr>\n      <th>2</th>\n      <td>4e7b3e00288586ebd08712fdd0374a03</td>\n      <td>1151</td>\n    </tr>\n    <tr>\n      <th>3</th>\n      <td>b2b6027bc5c5109e529d4dc6358b12c3</td>\n      <td>8775</td>\n    </tr>\n    <tr>\n      <th>4</th>\n      <td>4f2d8ab171c80ec8364f7c12e35b23ad</td>\n      <td>13056</td>\n    </tr>\n    <tr>\n      <th>...</th>\n      <td>...</td>\n      <td>...</td>\n    </tr>\n    <tr>\n      <th>99436</th>\n      <td>17ddf5dd5d51696bb3d7c6291687be6f</td>\n      <td>3937</td>\n    </tr>\n    <tr>\n      <th>99437</th>\n      <td>e7b71a9017aa05c9a7fd292d714858e8</td>\n      <td>6764</td>\n    </tr>\n    <tr>\n      <th>99438</th>\n      <td>5e28dfe12db7fb50a4b2f691faecea5e</td>\n      <td>60115</td>\n    </tr>\n    <tr>\n      <th>99439</th>\n      <td>56b18e2166679b8a959d72dd06da27f9</td>\n      <td>92120</td>\n    </tr>\n    <tr>\n      <th>99440</th>\n      <td>274fa6071e5e17fe303b9748641082c8</td>\n      <td>6703</td>\n    </tr>\n  </tbody>\n</table>\n<p>99441 rows × 2 columns</p>\n</div>"
     },
     "execution_count": 95,
     "metadata": {},
     "output_type": "execute_result"
    }
   ],
   "source": [
    "customers = data['customers'].copy()\n",
    "customers = customers[['customer_id', 'customer_zip_code_prefix']]\n",
    "customers"
   ],
   "metadata": {
    "collapsed": false
   }
  },
  {
   "cell_type": "code",
   "execution_count": 96,
   "outputs": [
    {
     "data": {
      "text/plain": "                             geolocation_lat  geolocation_lng  \\\ngeolocation_zip_code_prefix                                     \n1001                              -23.549292       -46.633559   \n1002                              -23.548318       -46.635421   \n1003                              -23.549032       -46.635313   \n1004                              -23.550116       -46.635122   \n1005                              -23.549819       -46.635606   \n...                                      ...              ...   \n99960                             -27.953797       -52.029641   \n99965                             -28.173892       -52.038447   \n99970                             -28.345143       -51.876926   \n99980                             -28.389218       -51.846012   \n99990                             -28.329718       -51.769615   \n\n                            geolocation_city geolocation_state  \ngeolocation_zip_code_prefix                                     \n1001                               sao paulo                SP  \n1002                               sao paulo                SP  \n1003                               sao paulo                SP  \n1004                               sao paulo                SP  \n1005                               sao paulo                SP  \n...                                      ...               ...  \n99960                                charrua                RS  \n99965                             agua santa                RS  \n99970                                ciriaco                RS  \n99980                        david canabarro                RS  \n99990                              muliterno                RS  \n\n[19015 rows x 4 columns]",
      "text/html": "<div>\n<style scoped>\n    .dataframe tbody tr th:only-of-type {\n        vertical-align: middle;\n    }\n\n    .dataframe tbody tr th {\n        vertical-align: top;\n    }\n\n    .dataframe thead th {\n        text-align: right;\n    }\n</style>\n<table border=\"1\" class=\"dataframe\">\n  <thead>\n    <tr style=\"text-align: right;\">\n      <th></th>\n      <th>geolocation_lat</th>\n      <th>geolocation_lng</th>\n      <th>geolocation_city</th>\n      <th>geolocation_state</th>\n    </tr>\n    <tr>\n      <th>geolocation_zip_code_prefix</th>\n      <th></th>\n      <th></th>\n      <th></th>\n      <th></th>\n    </tr>\n  </thead>\n  <tbody>\n    <tr>\n      <th>1001</th>\n      <td>-23.549292</td>\n      <td>-46.633559</td>\n      <td>sao paulo</td>\n      <td>SP</td>\n    </tr>\n    <tr>\n      <th>1002</th>\n      <td>-23.548318</td>\n      <td>-46.635421</td>\n      <td>sao paulo</td>\n      <td>SP</td>\n    </tr>\n    <tr>\n      <th>1003</th>\n      <td>-23.549032</td>\n      <td>-46.635313</td>\n      <td>sao paulo</td>\n      <td>SP</td>\n    </tr>\n    <tr>\n      <th>1004</th>\n      <td>-23.550116</td>\n      <td>-46.635122</td>\n      <td>sao paulo</td>\n      <td>SP</td>\n    </tr>\n    <tr>\n      <th>1005</th>\n      <td>-23.549819</td>\n      <td>-46.635606</td>\n      <td>sao paulo</td>\n      <td>SP</td>\n    </tr>\n    <tr>\n      <th>...</th>\n      <td>...</td>\n      <td>...</td>\n      <td>...</td>\n      <td>...</td>\n    </tr>\n    <tr>\n      <th>99960</th>\n      <td>-27.953797</td>\n      <td>-52.029641</td>\n      <td>charrua</td>\n      <td>RS</td>\n    </tr>\n    <tr>\n      <th>99965</th>\n      <td>-28.173892</td>\n      <td>-52.038447</td>\n      <td>agua santa</td>\n      <td>RS</td>\n    </tr>\n    <tr>\n      <th>99970</th>\n      <td>-28.345143</td>\n      <td>-51.876926</td>\n      <td>ciriaco</td>\n      <td>RS</td>\n    </tr>\n    <tr>\n      <th>99980</th>\n      <td>-28.389218</td>\n      <td>-51.846012</td>\n      <td>david canabarro</td>\n      <td>RS</td>\n    </tr>\n    <tr>\n      <th>99990</th>\n      <td>-28.329718</td>\n      <td>-51.769615</td>\n      <td>muliterno</td>\n      <td>RS</td>\n    </tr>\n  </tbody>\n</table>\n<p>19015 rows × 4 columns</p>\n</div>"
     },
     "execution_count": 96,
     "metadata": {},
     "output_type": "execute_result"
    }
   ],
   "source": [
    "geo = data['geolocation'].copy()\n",
    "geo = geo.groupby(\"geolocation_zip_code_prefix\").first()\n",
    "geo"
   ],
   "metadata": {
    "collapsed": false
   }
  },
  {
   "cell_type": "code",
   "execution_count": 97,
   "outputs": [],
   "source": [
    "A = pd.merge(customers, geo, how=\"left\", left_on = \"customer_zip_code_prefix\", right_on= \"geolocation_zip_code_prefix\")"
   ],
   "metadata": {
    "collapsed": false
   }
  },
  {
   "cell_type": "code",
   "execution_count": 98,
   "outputs": [],
   "source": [
    "B = pd.merge(customers, sellers, how=\"left\", left_on = \"customer_zip_code_prefix\", right_on= \"seller_zip_code_prefix\")"
   ],
   "metadata": {
    "collapsed": false
   }
  },
  {
   "cell_type": "code",
   "execution_count": 59,
   "outputs": [
    {
     "data": {
      "text/plain": "                             customer_id  customer_zip_code_prefix  \\\n4       4f2d8ab171c80ec8364f7c12e35b23ad                     13056   \n5       879864dab9bc3047522c92c82e1212b8                     89254   \n6       fd826e7cf63160e536e0908c76c3f441                      4534   \n8       5adf08e34b2e993982a47070956c5c65                     81560   \n9       5adf08e34b2e993982a47070956c5c65                     81560   \n...                                  ...                       ...   \n116432  17ddf5dd5d51696bb3d7c6291687be6f                      3937   \n116433  e7b71a9017aa05c9a7fd292d714858e8                      6764   \n116435  56b18e2166679b8a959d72dd06da27f9                     92120   \n116436  56b18e2166679b8a959d72dd06da27f9                     92120   \n116437  274fa6071e5e17fe303b9748641082c8                      6703   \n\n        geolocation_lat  geolocation_lng geolocation_city geolocation_state  \\\n4            -22.987222       -47.151073         campinas                SP   \n5            -26.468503       -49.109883   jaragua do sul                SC   \n6            -23.584547       -46.674561        sao paulo                SP   \n8            -25.496853       -49.209023         curitiba                PR   \n9            -25.496853       -49.209023         curitiba                PR   \n...                 ...              ...              ...               ...   \n116432       -23.587901       -46.501830        são paulo                SP   \n116433       -23.612294       -46.765787  taboao da serra                SP   \n116435       -29.956391       -51.167614           canoas                RS   \n116436       -29.956391       -51.167614           canoas                RS   \n116437       -23.593985       -46.910591            cotia                SP   \n\n                               seller_id  seller_zip_code_prefix  \n4       8d46553a36e68f95350a200c12f8f2e2                 13056.0  \n5       8cbac7e12637ed9cffa18c7875207478                 89254.0  \n6       bac44fa8e13424950488659b5f765c41                  4534.0  \n8       a3082f442524a1be452e3189e003b361                 81560.0  \n9       3f8034bfc6b8b4135534975d49f04c63                 81560.0  \n...                                  ...                     ...  \n116432  6ee85be3693ed79a8e80718743d80655                  3937.0  \n116433  8185694b58b2ba6de20fd41ae608bbea                  6764.0  \n116435  091065b789659bc3cd9af9cb3a6253ff                 92120.0  \n116436  353e21e8bf8de2722b4fae1636664b76                 92120.0  \n116437  d06d019f72a04e5497a0b64190af170c                  6703.0  \n\n[44881 rows x 8 columns]",
      "text/html": "<div>\n<style scoped>\n    .dataframe tbody tr th:only-of-type {\n        vertical-align: middle;\n    }\n\n    .dataframe tbody tr th {\n        vertical-align: top;\n    }\n\n    .dataframe thead th {\n        text-align: right;\n    }\n</style>\n<table border=\"1\" class=\"dataframe\">\n  <thead>\n    <tr style=\"text-align: right;\">\n      <th></th>\n      <th>customer_id</th>\n      <th>customer_zip_code_prefix</th>\n      <th>geolocation_lat</th>\n      <th>geolocation_lng</th>\n      <th>geolocation_city</th>\n      <th>geolocation_state</th>\n      <th>seller_id</th>\n      <th>seller_zip_code_prefix</th>\n    </tr>\n  </thead>\n  <tbody>\n    <tr>\n      <th>4</th>\n      <td>4f2d8ab171c80ec8364f7c12e35b23ad</td>\n      <td>13056</td>\n      <td>-22.987222</td>\n      <td>-47.151073</td>\n      <td>campinas</td>\n      <td>SP</td>\n      <td>8d46553a36e68f95350a200c12f8f2e2</td>\n      <td>13056.0</td>\n    </tr>\n    <tr>\n      <th>5</th>\n      <td>879864dab9bc3047522c92c82e1212b8</td>\n      <td>89254</td>\n      <td>-26.468503</td>\n      <td>-49.109883</td>\n      <td>jaragua do sul</td>\n      <td>SC</td>\n      <td>8cbac7e12637ed9cffa18c7875207478</td>\n      <td>89254.0</td>\n    </tr>\n    <tr>\n      <th>6</th>\n      <td>fd826e7cf63160e536e0908c76c3f441</td>\n      <td>4534</td>\n      <td>-23.584547</td>\n      <td>-46.674561</td>\n      <td>sao paulo</td>\n      <td>SP</td>\n      <td>bac44fa8e13424950488659b5f765c41</td>\n      <td>4534.0</td>\n    </tr>\n    <tr>\n      <th>8</th>\n      <td>5adf08e34b2e993982a47070956c5c65</td>\n      <td>81560</td>\n      <td>-25.496853</td>\n      <td>-49.209023</td>\n      <td>curitiba</td>\n      <td>PR</td>\n      <td>a3082f442524a1be452e3189e003b361</td>\n      <td>81560.0</td>\n    </tr>\n    <tr>\n      <th>9</th>\n      <td>5adf08e34b2e993982a47070956c5c65</td>\n      <td>81560</td>\n      <td>-25.496853</td>\n      <td>-49.209023</td>\n      <td>curitiba</td>\n      <td>PR</td>\n      <td>3f8034bfc6b8b4135534975d49f04c63</td>\n      <td>81560.0</td>\n    </tr>\n    <tr>\n      <th>...</th>\n      <td>...</td>\n      <td>...</td>\n      <td>...</td>\n      <td>...</td>\n      <td>...</td>\n      <td>...</td>\n      <td>...</td>\n      <td>...</td>\n    </tr>\n    <tr>\n      <th>116432</th>\n      <td>17ddf5dd5d51696bb3d7c6291687be6f</td>\n      <td>3937</td>\n      <td>-23.587901</td>\n      <td>-46.501830</td>\n      <td>são paulo</td>\n      <td>SP</td>\n      <td>6ee85be3693ed79a8e80718743d80655</td>\n      <td>3937.0</td>\n    </tr>\n    <tr>\n      <th>116433</th>\n      <td>e7b71a9017aa05c9a7fd292d714858e8</td>\n      <td>6764</td>\n      <td>-23.612294</td>\n      <td>-46.765787</td>\n      <td>taboao da serra</td>\n      <td>SP</td>\n      <td>8185694b58b2ba6de20fd41ae608bbea</td>\n      <td>6764.0</td>\n    </tr>\n    <tr>\n      <th>116435</th>\n      <td>56b18e2166679b8a959d72dd06da27f9</td>\n      <td>92120</td>\n      <td>-29.956391</td>\n      <td>-51.167614</td>\n      <td>canoas</td>\n      <td>RS</td>\n      <td>091065b789659bc3cd9af9cb3a6253ff</td>\n      <td>92120.0</td>\n    </tr>\n    <tr>\n      <th>116436</th>\n      <td>56b18e2166679b8a959d72dd06da27f9</td>\n      <td>92120</td>\n      <td>-29.956391</td>\n      <td>-51.167614</td>\n      <td>canoas</td>\n      <td>RS</td>\n      <td>353e21e8bf8de2722b4fae1636664b76</td>\n      <td>92120.0</td>\n    </tr>\n    <tr>\n      <th>116437</th>\n      <td>274fa6071e5e17fe303b9748641082c8</td>\n      <td>6703</td>\n      <td>-23.593985</td>\n      <td>-46.910591</td>\n      <td>cotia</td>\n      <td>SP</td>\n      <td>d06d019f72a04e5497a0b64190af170c</td>\n      <td>6703.0</td>\n    </tr>\n  </tbody>\n</table>\n<p>44881 rows × 8 columns</p>\n</div>"
     },
     "execution_count": 59,
     "metadata": {},
     "output_type": "execute_result"
    }
   ],
   "source": [
    "pd.merge(A,B, how = \"left\").dropna()"
   ],
   "metadata": {
    "collapsed": false
   }
  },
  {
   "cell_type": "code",
   "execution_count": null,
   "outputs": [],
   "source": [],
   "metadata": {
    "collapsed": false
   }
  }
 ],
 "metadata": {
  "kernelspec": {
   "display_name": "Python 3",
   "language": "python",
   "name": "python3"
  },
  "language_info": {
   "codemirror_mode": {
    "name": "ipython",
    "version": 2
   },
   "file_extension": ".py",
   "mimetype": "text/x-python",
   "name": "python",
   "nbconvert_exporter": "python",
   "pygments_lexer": "ipython2",
   "version": "2.7.6"
  }
 },
 "nbformat": 4,
 "nbformat_minor": 0
}
