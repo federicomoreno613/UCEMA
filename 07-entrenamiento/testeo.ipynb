{
 "cells": [
  {
   "cell_type": "code",
   "execution_count": 29,
   "outputs": [
    {
     "name": "stdout",
     "output_type": "stream",
     "text": [
      "The autoreload extension is already loaded. To reload it, use:\n",
      "  %reload_ext autoreload\n"
     ]
    }
   ],
   "source": [
    "%load_ext autoreload\n",
    "%autoreload 2"
   ],
   "metadata": {
    "collapsed": false
   }
  },
  {
   "cell_type": "code",
   "execution_count": 30,
   "outputs": [],
   "source": [
    "import pandas as pd\n",
    "import numpy as np\n",
    "import seaborn as sns\n",
    "import matplotlib.pyplot as plt"
   ],
   "metadata": {
    "collapsed": false
   }
  },
  {
   "cell_type": "code",
   "execution_count": 31,
   "outputs": [],
   "source": [
    "orders = data['orders'].copy()"
   ],
   "metadata": {
    "collapsed": false
   }
  },
  {
   "cell_type": "code",
   "execution_count": 32,
   "outputs": [],
   "source": [
    "# Import olist data\n",
    "from olist.load_data import load_all_data\n",
    "data = load_all_data(\"data/\")"
   ],
   "metadata": {
    "collapsed": false
   }
  },
  {
   "cell_type": "code",
   "execution_count": 33,
   "outputs": [],
   "source": [
    "from olist.preprocess import transformar_columnas_datetime\n",
    "orders = transformar_columnas_datetime(orders)"
   ],
   "metadata": {
    "collapsed": false
   }
  },
  {
   "cell_type": "code",
   "execution_count": 34,
   "outputs": [
    {
     "name": "stderr",
     "output_type": "stream",
     "text": [
      "/Users/usuario/PycharmProjects/pythonProject5/UCEMA/07-entrenamiento/olist/preprocess.py:19: SettingWithCopyWarning: \n",
      "A value is trying to be set on a copy of a slice from a DataFrame.\n",
      "Try using .loc[row_indexer,col_indexer] = value instead\n",
      "\n",
      "See the caveats in the documentation: https://pandas.pydata.org/pandas-docs/stable/user_guide/indexing.html#returning-a-view-versus-a-copy\n",
      "  orders_df['tiempo_de_espera'] = (orders_df['order_delivered_customer_date'] - orders_df[\n"
     ]
    },
    {
     "data": {
      "text/plain": "                           order_id                       customer_id  \\\n0  e481f51cbdc54678b7cc49136f2d6af7  9ef432eb6251297304e76186b10a928d   \n1  53cdb2fc8bc7dce0b6741e2150273451  b0830fb4747a6c6d20dea0b8c802d7ef   \n2  47770eb9100c2d0c44946d9cf07ec65d  41ce2a54c0b03bf3443c3d931a367089   \n3  949d5b44dbf5de918fe9c16f97b45f8a  f88197465ea7920adcdbec7375364d82   \n4  ad21c59c0840e6cb83a9ceb5573f8159  8ab97904e6daea8866dbdbc4fb7aad2c   \n\n  order_status order_purchase_timestamp   order_approved_at  \\\n0    delivered      2017-10-02 10:56:33 2017-10-02 11:07:15   \n1    delivered      2018-07-24 20:41:37 2018-07-26 03:24:27   \n2    delivered      2018-08-08 08:38:49 2018-08-08 08:55:23   \n3    delivered      2017-11-18 19:28:06 2017-11-18 19:45:59   \n4    delivered      2018-02-13 21:18:39 2018-02-13 22:20:29   \n\n  order_delivered_carrier_date order_delivered_customer_date  \\\n0          2017-10-04 19:55:00           2017-10-10 21:25:13   \n1          2018-07-26 14:31:00           2018-08-07 15:27:45   \n2          2018-08-08 13:50:00           2018-08-17 18:06:29   \n3          2017-11-22 13:39:59           2017-12-02 00:28:42   \n4          2018-02-14 19:46:34           2018-02-16 18:17:02   \n\n  order_estimated_delivery_date  tiempo_de_espera  \n0                    2017-10-18          8.436574  \n1                    2018-08-13         13.782037  \n2                    2018-09-04          9.394213  \n3                    2017-12-15         13.208750  \n4                    2018-02-26          2.873877  ",
      "text/html": "<div>\n<style scoped>\n    .dataframe tbody tr th:only-of-type {\n        vertical-align: middle;\n    }\n\n    .dataframe tbody tr th {\n        vertical-align: top;\n    }\n\n    .dataframe thead th {\n        text-align: right;\n    }\n</style>\n<table border=\"1\" class=\"dataframe\">\n  <thead>\n    <tr style=\"text-align: right;\">\n      <th></th>\n      <th>order_id</th>\n      <th>customer_id</th>\n      <th>order_status</th>\n      <th>order_purchase_timestamp</th>\n      <th>order_approved_at</th>\n      <th>order_delivered_carrier_date</th>\n      <th>order_delivered_customer_date</th>\n      <th>order_estimated_delivery_date</th>\n      <th>tiempo_de_espera</th>\n    </tr>\n  </thead>\n  <tbody>\n    <tr>\n      <th>0</th>\n      <td>e481f51cbdc54678b7cc49136f2d6af7</td>\n      <td>9ef432eb6251297304e76186b10a928d</td>\n      <td>delivered</td>\n      <td>2017-10-02 10:56:33</td>\n      <td>2017-10-02 11:07:15</td>\n      <td>2017-10-04 19:55:00</td>\n      <td>2017-10-10 21:25:13</td>\n      <td>2017-10-18</td>\n      <td>8.436574</td>\n    </tr>\n    <tr>\n      <th>1</th>\n      <td>53cdb2fc8bc7dce0b6741e2150273451</td>\n      <td>b0830fb4747a6c6d20dea0b8c802d7ef</td>\n      <td>delivered</td>\n      <td>2018-07-24 20:41:37</td>\n      <td>2018-07-26 03:24:27</td>\n      <td>2018-07-26 14:31:00</td>\n      <td>2018-08-07 15:27:45</td>\n      <td>2018-08-13</td>\n      <td>13.782037</td>\n    </tr>\n    <tr>\n      <th>2</th>\n      <td>47770eb9100c2d0c44946d9cf07ec65d</td>\n      <td>41ce2a54c0b03bf3443c3d931a367089</td>\n      <td>delivered</td>\n      <td>2018-08-08 08:38:49</td>\n      <td>2018-08-08 08:55:23</td>\n      <td>2018-08-08 13:50:00</td>\n      <td>2018-08-17 18:06:29</td>\n      <td>2018-09-04</td>\n      <td>9.394213</td>\n    </tr>\n    <tr>\n      <th>3</th>\n      <td>949d5b44dbf5de918fe9c16f97b45f8a</td>\n      <td>f88197465ea7920adcdbec7375364d82</td>\n      <td>delivered</td>\n      <td>2017-11-18 19:28:06</td>\n      <td>2017-11-18 19:45:59</td>\n      <td>2017-11-22 13:39:59</td>\n      <td>2017-12-02 00:28:42</td>\n      <td>2017-12-15</td>\n      <td>13.208750</td>\n    </tr>\n    <tr>\n      <th>4</th>\n      <td>ad21c59c0840e6cb83a9ceb5573f8159</td>\n      <td>8ab97904e6daea8866dbdbc4fb7aad2c</td>\n      <td>delivered</td>\n      <td>2018-02-13 21:18:39</td>\n      <td>2018-02-13 22:20:29</td>\n      <td>2018-02-14 19:46:34</td>\n      <td>2018-02-16 18:17:02</td>\n      <td>2018-02-26</td>\n      <td>2.873877</td>\n    </tr>\n  </tbody>\n</table>\n</div>"
     },
     "execution_count": 34,
     "metadata": {},
     "output_type": "execute_result"
    }
   ],
   "source": [
    "#pasarlo a modulo\n",
    "from olist.preprocess import tiempo_de_espera\n",
    "orders = tiempo_de_espera(orders, is_delivered = True)\n",
    "orders.head()"
   ],
   "metadata": {
    "collapsed": false
   }
  },
  {
   "cell_type": "code",
   "execution_count": 35,
   "outputs": [
    {
     "data": {
      "text/plain": "0        0.0\n1        0.0\n2        0.0\n3        0.0\n4        0.0\n        ... \n99436    0.0\n99437    0.0\n99438    0.0\n99439    0.0\n99440    0.0\nName: real_vs_esperado, Length: 96478, dtype: float64"
     },
     "execution_count": 35,
     "metadata": {},
     "output_type": "execute_result"
    }
   ],
   "source": [
    "# crear real vs esperado\n",
    "# ver que columnas hay\n",
    "# igual que en NPS si algun numero en real_vs_esperado es negativo reemplazarlo por 0\n",
    "from olist.preprocess import real_vs_esperado\n",
    "orders = real_vs_esperado(orders, is_delivered = True)\n",
    "orders['real_vs_esperado']"
   ],
   "metadata": {
    "collapsed": false
   }
  },
  {
   "cell_type": "code",
   "execution_count": 36,
   "outputs": [
    {
     "data": {
      "text/plain": "                               order_id  tiempo_de_espera  \\\n0      e481f51cbdc54678b7cc49136f2d6af7          8.436574   \n1      53cdb2fc8bc7dce0b6741e2150273451         13.782037   \n2      47770eb9100c2d0c44946d9cf07ec65d          9.394213   \n3      949d5b44dbf5de918fe9c16f97b45f8a         13.208750   \n4      ad21c59c0840e6cb83a9ceb5573f8159          2.873877   \n...                                 ...               ...   \n99436  9c5dedf39a927c1b2549525ed64a053c          8.218009   \n99437  63943bddc261676b46f01ca7ac2f7bd8         22.193727   \n99438  83c1379a015df1e13d02aae0204711ab         24.859421   \n99439  11c177c8e97725db2631073c19f07b62         17.086424   \n99440  66dea50a8b16d9b4dee7af250b4be1a5          7.674306   \n\n      tiempo_de_espera_previsto  real_vs_esperado status_de_la_orden  \n0                    2017-10-18               0.0          delivered  \n1                    2018-08-13               0.0          delivered  \n2                    2018-09-04               0.0          delivered  \n3                    2017-12-15               0.0          delivered  \n4                    2018-02-26               0.0          delivered  \n...                         ...               ...                ...  \n99436                2017-03-28               0.0          delivered  \n99437                2018-03-02               0.0          delivered  \n99438                2017-09-27               0.0          delivered  \n99439                2018-02-15               0.0          delivered  \n99440                2018-04-03               0.0          delivered  \n\n[96478 rows x 5 columns]",
      "text/html": "<div>\n<style scoped>\n    .dataframe tbody tr th:only-of-type {\n        vertical-align: middle;\n    }\n\n    .dataframe tbody tr th {\n        vertical-align: top;\n    }\n\n    .dataframe thead th {\n        text-align: right;\n    }\n</style>\n<table border=\"1\" class=\"dataframe\">\n  <thead>\n    <tr style=\"text-align: right;\">\n      <th></th>\n      <th>order_id</th>\n      <th>tiempo_de_espera</th>\n      <th>tiempo_de_espera_previsto</th>\n      <th>real_vs_esperado</th>\n      <th>status_de_la_orden</th>\n    </tr>\n  </thead>\n  <tbody>\n    <tr>\n      <th>0</th>\n      <td>e481f51cbdc54678b7cc49136f2d6af7</td>\n      <td>8.436574</td>\n      <td>2017-10-18</td>\n      <td>0.0</td>\n      <td>delivered</td>\n    </tr>\n    <tr>\n      <th>1</th>\n      <td>53cdb2fc8bc7dce0b6741e2150273451</td>\n      <td>13.782037</td>\n      <td>2018-08-13</td>\n      <td>0.0</td>\n      <td>delivered</td>\n    </tr>\n    <tr>\n      <th>2</th>\n      <td>47770eb9100c2d0c44946d9cf07ec65d</td>\n      <td>9.394213</td>\n      <td>2018-09-04</td>\n      <td>0.0</td>\n      <td>delivered</td>\n    </tr>\n    <tr>\n      <th>3</th>\n      <td>949d5b44dbf5de918fe9c16f97b45f8a</td>\n      <td>13.208750</td>\n      <td>2017-12-15</td>\n      <td>0.0</td>\n      <td>delivered</td>\n    </tr>\n    <tr>\n      <th>4</th>\n      <td>ad21c59c0840e6cb83a9ceb5573f8159</td>\n      <td>2.873877</td>\n      <td>2018-02-26</td>\n      <td>0.0</td>\n      <td>delivered</td>\n    </tr>\n    <tr>\n      <th>...</th>\n      <td>...</td>\n      <td>...</td>\n      <td>...</td>\n      <td>...</td>\n      <td>...</td>\n    </tr>\n    <tr>\n      <th>99436</th>\n      <td>9c5dedf39a927c1b2549525ed64a053c</td>\n      <td>8.218009</td>\n      <td>2017-03-28</td>\n      <td>0.0</td>\n      <td>delivered</td>\n    </tr>\n    <tr>\n      <th>99437</th>\n      <td>63943bddc261676b46f01ca7ac2f7bd8</td>\n      <td>22.193727</td>\n      <td>2018-03-02</td>\n      <td>0.0</td>\n      <td>delivered</td>\n    </tr>\n    <tr>\n      <th>99438</th>\n      <td>83c1379a015df1e13d02aae0204711ab</td>\n      <td>24.859421</td>\n      <td>2017-09-27</td>\n      <td>0.0</td>\n      <td>delivered</td>\n    </tr>\n    <tr>\n      <th>99439</th>\n      <td>11c177c8e97725db2631073c19f07b62</td>\n      <td>17.086424</td>\n      <td>2018-02-15</td>\n      <td>0.0</td>\n      <td>delivered</td>\n    </tr>\n    <tr>\n      <th>99440</th>\n      <td>66dea50a8b16d9b4dee7af250b4be1a5</td>\n      <td>7.674306</td>\n      <td>2018-04-03</td>\n      <td>0.0</td>\n      <td>delivered</td>\n    </tr>\n  </tbody>\n</table>\n<p>96478 rows × 5 columns</p>\n</div>"
     },
     "execution_count": 36,
     "metadata": {},
     "output_type": "execute_result"
    }
   ],
   "source": [
    "orders = orders.rename(\n",
    "    columns={\"order_estimated_delivery_date\": 'tiempo_de_espera_previsto', 'order_status': \"status_de_la_orden\"})\n",
    "orders_2 = orders[\n",
    "    ['order_id', 'tiempo_de_espera', 'tiempo_de_espera_previsto', 'real_vs_esperado', 'status_de_la_orden']]\n",
    "orders_2"
   ],
   "metadata": {
    "collapsed": false
   }
  },
  {
   "cell_type": "markdown",
   "source": [
    "### b) `puntaje_de_compra`\n",
    "     retorna un dataframe con\n",
    "        order_id, es_cinco_estrellas, es_una_estrella, review_score\n",
    "\n",
    "recordar del examen `DataFrame.apply()` o tmb se puede usar`Series.map()`"
   ],
   "metadata": {
    "collapsed": false
   }
  },
  {
   "cell_type": "code",
   "execution_count": 37,
   "metadata": {
    "collapsed": true
   },
   "outputs": [
    {
     "data": {
      "text/plain": "                          review_id                          order_id  \\\n0  7bc2406110b926393aa56f80a40eba40  73fc7af87114b39712e6da79b0a377eb   \n1  80e641a11e56f04c1ad469d5645fdfde  a548910a1c6147796b98fdf73dbeba33   \n2  228ce5500dc1d8e020d8d1322874b6f0  f9e4b658b201a9f2ecdecbb34bed034b   \n3  e64fb393e7b32834bb789ff8bb30750e  658677c97b385a9be170737859d3511b   \n4  f7c4243c7fe1938f181bec41a392bdeb  8e6bfb81e283fa7e4f11123a3fb894f1   \n\n   review_score review_comment_title  \\\n0             4                  NaN   \n1             5                  NaN   \n2             5                  NaN   \n3             5                  NaN   \n4             5                  NaN   \n\n                              review_comment_message review_creation_date  \\\n0                                                NaN  2018-01-18 00:00:00   \n1                                                NaN  2018-03-10 00:00:00   \n2                                                NaN  2018-02-17 00:00:00   \n3              Recebi bem antes do prazo estipulado.  2017-04-21 00:00:00   \n4  Parabéns lojas lannister adorei comprar pela I...  2018-03-01 00:00:00   \n\n  review_answer_timestamp  \n0     2018-01-18 21:46:59  \n1     2018-03-11 03:05:13  \n2     2018-02-18 14:36:24  \n3     2017-04-21 22:02:06  \n4     2018-03-02 10:26:53  ",
      "text/html": "<div>\n<style scoped>\n    .dataframe tbody tr th:only-of-type {\n        vertical-align: middle;\n    }\n\n    .dataframe tbody tr th {\n        vertical-align: top;\n    }\n\n    .dataframe thead th {\n        text-align: right;\n    }\n</style>\n<table border=\"1\" class=\"dataframe\">\n  <thead>\n    <tr style=\"text-align: right;\">\n      <th></th>\n      <th>review_id</th>\n      <th>order_id</th>\n      <th>review_score</th>\n      <th>review_comment_title</th>\n      <th>review_comment_message</th>\n      <th>review_creation_date</th>\n      <th>review_answer_timestamp</th>\n    </tr>\n  </thead>\n  <tbody>\n    <tr>\n      <th>0</th>\n      <td>7bc2406110b926393aa56f80a40eba40</td>\n      <td>73fc7af87114b39712e6da79b0a377eb</td>\n      <td>4</td>\n      <td>NaN</td>\n      <td>NaN</td>\n      <td>2018-01-18 00:00:00</td>\n      <td>2018-01-18 21:46:59</td>\n    </tr>\n    <tr>\n      <th>1</th>\n      <td>80e641a11e56f04c1ad469d5645fdfde</td>\n      <td>a548910a1c6147796b98fdf73dbeba33</td>\n      <td>5</td>\n      <td>NaN</td>\n      <td>NaN</td>\n      <td>2018-03-10 00:00:00</td>\n      <td>2018-03-11 03:05:13</td>\n    </tr>\n    <tr>\n      <th>2</th>\n      <td>228ce5500dc1d8e020d8d1322874b6f0</td>\n      <td>f9e4b658b201a9f2ecdecbb34bed034b</td>\n      <td>5</td>\n      <td>NaN</td>\n      <td>NaN</td>\n      <td>2018-02-17 00:00:00</td>\n      <td>2018-02-18 14:36:24</td>\n    </tr>\n    <tr>\n      <th>3</th>\n      <td>e64fb393e7b32834bb789ff8bb30750e</td>\n      <td>658677c97b385a9be170737859d3511b</td>\n      <td>5</td>\n      <td>NaN</td>\n      <td>Recebi bem antes do prazo estipulado.</td>\n      <td>2017-04-21 00:00:00</td>\n      <td>2017-04-21 22:02:06</td>\n    </tr>\n    <tr>\n      <th>4</th>\n      <td>f7c4243c7fe1938f181bec41a392bdeb</td>\n      <td>8e6bfb81e283fa7e4f11123a3fb894f1</td>\n      <td>5</td>\n      <td>NaN</td>\n      <td>Parabéns lojas lannister adorei comprar pela I...</td>\n      <td>2018-03-01 00:00:00</td>\n      <td>2018-03-02 10:26:53</td>\n    </tr>\n  </tbody>\n</table>\n</div>"
     },
     "execution_count": 37,
     "metadata": {},
     "output_type": "execute_result"
    }
   ],
   "source": [
    "reviews = data['order_reviews'].copy()\n",
    "reviews.head()"
   ]
  },
  {
   "cell_type": "code",
   "execution_count": 24,
   "outputs": [
    {
     "data": {
      "text/plain": "                               order_id  es_cinco_estrellas  es_una_estrella  \\\n0      73fc7af87114b39712e6da79b0a377eb                   0                0   \n1      a548910a1c6147796b98fdf73dbeba33                   1                0   \n2      f9e4b658b201a9f2ecdecbb34bed034b                   1                0   \n3      658677c97b385a9be170737859d3511b                   1                0   \n4      8e6bfb81e283fa7e4f11123a3fb894f1                   1                0   \n...                                 ...                 ...              ...   \n99219  2a8c23fee101d4d5662fa670396eb8da                   1                0   \n99220  22ec9f0669f784db00fa86d035cf8602                   1                0   \n99221  55d4004744368f5571d1f590031933e4                   1                0   \n99222  7725825d039fc1f0ceb7635e3f7d9206                   0                0   \n99223  90531360ecb1eec2a1fbb265a0db0508                   0                1   \n\n       review_score  \n0                 4  \n1                 5  \n2                 5  \n3                 5  \n4                 5  \n...             ...  \n99219             5  \n99220             5  \n99221             5  \n99222             4  \n99223             1  \n\n[99224 rows x 4 columns]",
      "text/html": "<div>\n<style scoped>\n    .dataframe tbody tr th:only-of-type {\n        vertical-align: middle;\n    }\n\n    .dataframe tbody tr th {\n        vertical-align: top;\n    }\n\n    .dataframe thead th {\n        text-align: right;\n    }\n</style>\n<table border=\"1\" class=\"dataframe\">\n  <thead>\n    <tr style=\"text-align: right;\">\n      <th></th>\n      <th>order_id</th>\n      <th>es_cinco_estrellas</th>\n      <th>es_una_estrella</th>\n      <th>review_score</th>\n    </tr>\n  </thead>\n  <tbody>\n    <tr>\n      <th>0</th>\n      <td>73fc7af87114b39712e6da79b0a377eb</td>\n      <td>0</td>\n      <td>0</td>\n      <td>4</td>\n    </tr>\n    <tr>\n      <th>1</th>\n      <td>a548910a1c6147796b98fdf73dbeba33</td>\n      <td>1</td>\n      <td>0</td>\n      <td>5</td>\n    </tr>\n    <tr>\n      <th>2</th>\n      <td>f9e4b658b201a9f2ecdecbb34bed034b</td>\n      <td>1</td>\n      <td>0</td>\n      <td>5</td>\n    </tr>\n    <tr>\n      <th>3</th>\n      <td>658677c97b385a9be170737859d3511b</td>\n      <td>1</td>\n      <td>0</td>\n      <td>5</td>\n    </tr>\n    <tr>\n      <th>4</th>\n      <td>8e6bfb81e283fa7e4f11123a3fb894f1</td>\n      <td>1</td>\n      <td>0</td>\n      <td>5</td>\n    </tr>\n    <tr>\n      <th>...</th>\n      <td>...</td>\n      <td>...</td>\n      <td>...</td>\n      <td>...</td>\n    </tr>\n    <tr>\n      <th>99219</th>\n      <td>2a8c23fee101d4d5662fa670396eb8da</td>\n      <td>1</td>\n      <td>0</td>\n      <td>5</td>\n    </tr>\n    <tr>\n      <th>99220</th>\n      <td>22ec9f0669f784db00fa86d035cf8602</td>\n      <td>1</td>\n      <td>0</td>\n      <td>5</td>\n    </tr>\n    <tr>\n      <th>99221</th>\n      <td>55d4004744368f5571d1f590031933e4</td>\n      <td>1</td>\n      <td>0</td>\n      <td>5</td>\n    </tr>\n    <tr>\n      <th>99222</th>\n      <td>7725825d039fc1f0ceb7635e3f7d9206</td>\n      <td>0</td>\n      <td>0</td>\n      <td>4</td>\n    </tr>\n    <tr>\n      <th>99223</th>\n      <td>90531360ecb1eec2a1fbb265a0db0508</td>\n      <td>0</td>\n      <td>1</td>\n      <td>1</td>\n    </tr>\n  </tbody>\n</table>\n<p>99224 rows × 4 columns</p>\n</div>"
     },
     "execution_count": 24,
     "metadata": {},
     "output_type": "execute_result"
    }
   ],
   "source": [
    "from olist.preprocess import puntaje_de_compra\n",
    "puntaje_de_compra(reviews)"
   ],
   "metadata": {
    "collapsed": false
   }
  },
  {
   "cell_type": "markdown",
   "source": [
    "c) numero_de_productos:\n",
    " retorna un dataframe con\n",
    "    order_id, numero_de_productos (numero_de_productos_por_orden)"
   ],
   "metadata": {
    "collapsed": false
   }
  },
  {
   "cell_type": "code",
   "execution_count": 52,
   "outputs": [
    {
     "data": {
      "text/plain": "98666"
     },
     "execution_count": 52,
     "metadata": {},
     "output_type": "execute_result"
    }
   ],
   "source": [
    "items = data['order_items'].copy()\n",
    "items.order_id.nunique()"
   ],
   "metadata": {
    "collapsed": false
   }
  },
  {
   "cell_type": "code",
   "execution_count": null,
   "outputs": [],
   "source": [],
   "metadata": {
    "collapsed": false,
    "pycharm": {
     "is_executing": true
    }
   }
  },
  {
   "cell_type": "code",
   "execution_count": null,
   "outputs": [],
   "source": [
    "from olist.preprocess import calcular_numero_productos\n",
    "#fijarse que no uso solo un dataframe\n",
    "productos = calcular_numero_productos(data)\n",
    "productos"
   ],
   "metadata": {
    "collapsed": false
   }
  },
  {
   "cell_type": "code",
   "execution_count": null,
   "outputs": [],
   "source": [],
   "metadata": {
    "collapsed": false
   }
  }
 ],
 "metadata": {
  "kernelspec": {
   "display_name": "Python 3",
   "language": "python",
   "name": "python3"
  },
  "language_info": {
   "codemirror_mode": {
    "name": "ipython",
    "version": 2
   },
   "file_extension": ".py",
   "mimetype": "text/x-python",
   "name": "python",
   "nbconvert_exporter": "python",
   "pygments_lexer": "ipython2",
   "version": "2.7.6"
  }
 },
 "nbformat": 4,
 "nbformat_minor": 0
}
