{
 "cells": [
  {
   "cell_type": "markdown",
   "metadata": {},
   "source": [
    "# Orders"
   ]
  },
  {
   "cell_type": "markdown",
   "source": [
    "Gran parte de nuestra tarea es crear \"Features\", variables en los datos que representan un aspecto del fenómeno que estudiamos y nos ayudan a explicarlo."
   ],
   "metadata": {
    "collapsed": false
   }
  },
  {
   "cell_type": "markdown",
   "metadata": {},
   "source": [
    "**Ejercicio**\n",
    "\n",
    "Vamos a investigar la relación entre orders y el score.\n",
    "\n",
    "La idea es crear un dataframe con las siguientes features:\n",
    "\n",
    "| feature_name \t                | type \t| description \t                                                                                                                                         |\n",
    "|:------------------------------|:---:\t|:------------------------------------------------------------------------------------------------------------------------------------------------------|\n",
    "| `order_id` \t                  | str \t| the id of the order \t                                                                                                                                 |\n",
    "| `tiempo_de_espera` \t          | float \t| numero de días entre order_date y delivered_date \t                                                                                                    |\n",
    "| `tiempo_de_espera_previsto` \t | float \t| numero de días entre order_date y estimated_delivery_date \t                                                                                           |\n",
    "| `real_vas_esperado` \t         | float \t| si la fecha de entrega real es posterior a la fecha de entrega estimada, devuelve el número de días entre las dos fechas; de lo contrario, devuelve 0 |\n",
    "| `order_status` \t              | str \t| statusde la orden\t                                                                                                                                    |\n",
    "| `es_es_cinco_estrellas` \t     | int \t| 1 si tuvo cinco estrellas en la  review, 0 caso contrario \t                                                                                           |\n",
    "| `es_una_estrella` \t           | int \t| 1 si tuvo una estrella, 0 caso contrario \t                                                                                                            |\n",
    "| `review_score` \t              | int \t| from 1 to 5 \t                                                                                                                                         |\n",
    "| `numero_de_productos` \t       | int \t| numero de productos que contiene una orden\t                                                                                                           |\n",
    "| `numero_de_vendedores` \t      | int \t| numero de vendedores unicos                                                                                                                           |\n",
    "| `precio` \t                    | float \t| total del precio pagado por el cliente                                                                                                                |\n",
    "| `valor_transporte` \t          | float \t| el valor del freight pagado por el cliente \t                                                                                                          |\n",
    "| `distancia_al_cliente` \t      | float \t| distancia en km entre cliente y vendedor \t                                                                                                  |\n",
    "  \n",
    "Queremos filtrar las ordenes no entregadas"
   ]
  },
  {
   "cell_type": "markdown",
   "metadata": {},
   "source": [
    "## Metodología:\n",
    "\n",
    "Vamos a crear dos notebooks una de testeo y otra para importar nuestro paquete preprocess.orders_data y de ahí ir elavorando los métodos.\n",
    "\n",
    "1er Método: Load_data: Trae el dataset sin nulos de una ubicación ya prefijada."
   ]
  },
  {
   "cell_type": "markdown",
   "metadata": {},
   "source": [
    "###  Buenas Pracitcas\n",
    "\n",
    "\n",
    "Las notebooks se pueden hacer muy largas y desordenadas.\n",
    "- Codifique su lógica para que siempre se pueda ejecutar de arriba a abajo sin fallar (Celda --> Ejecutar todo)\n",
    "- Nombre sus variables con lo que significa y para que otra persona pueda entenderlo.\n",
    "- Use nombres como `tmp` o `_` para pasos intermedios si sabe que no va a usarlos mucho tiempo\n",
    "- Borre su código y combine celdas cuando sea relevante para minimizar el tamaño del Notebook (`Shift-M`)\n",
    "- Oculte la salida de su celda si ya no necesita verla (haga doble clic en la sección roja `Out[]:` a la izquierda de su celda).\n",
    "- Utilice la Structure de pycharm o Juypter lab para organizarse\n",
    "- Shortcuts\n",
    "    - `a` para insertar una celda arriba\n",
    "    - `b` para insertar una celda debajo\n",
    "    - `dd` para borrar una celda\n",
    "    - `esc` y `flechas` para moverse entre celdas\n",
    "    - `Shift-Enter` para ejecutar la celda y mover el foco a la siguiente\n",
    "    - `Shift + Tab` cuando entre paréntesis de método, p. ¡`groupby()` para obtener los documentos! Repita varias veces para abrirlo permanentemente"
   ]
  },
  {
   "cell_type": "code",
   "execution_count": 194,
   "metadata": {},
   "outputs": [
    {
     "name": "stdout",
     "output_type": "stream",
     "text": [
      "The autoreload extension is already loaded. To reload it, use:\n",
      "  %reload_ext autoreload\n"
     ]
    }
   ],
   "source": [
    "%load_ext autoreload\n",
    "%autoreload 2"
   ]
  },
  {
   "cell_type": "code",
   "execution_count": 195,
   "metadata": {},
   "outputs": [],
   "source": [
    "import pandas as pd\n",
    "import numpy as np\n",
    "import seaborn as sns\n",
    "import matplotlib.pyplot as plt"
   ]
  },
  {
   "cell_type": "code",
   "execution_count": 196,
   "metadata": {},
   "outputs": [],
   "source": [
    "# Import olist data\n",
    "from olist.load_data import load_all_data\n",
    "data = load_all_data(\"data/\")"
   ]
  },
  {
   "cell_type": "code",
   "execution_count": 197,
   "outputs": [
    {
     "data": {
      "text/plain": "dict_keys(['sellers', 'product_category_name_translation', 'orders', 'order_items', 'customers', 'geolocation', 'order_payments', 'order_reviews', 'products'])"
     },
     "execution_count": 197,
     "metadata": {},
     "output_type": "execute_result"
    }
   ],
   "source": [
    "data.keys()"
   ],
   "metadata": {
    "collapsed": false
   }
  },
  {
   "cell_type": "code",
   "execution_count": 198,
   "metadata": {},
   "outputs": [],
   "source": [
    "orders = data['orders'].copy() # buena practica para estar seguro que no modificas tu dataset original"
   ]
  },
  {
   "cell_type": "markdown",
   "metadata": {},
   "source": [
    "## 1. Crear orders.py"
   ]
  },
  {
   "cell_type": "code",
   "execution_count": 199,
   "outputs": [
    {
     "data": {
      "text/plain": "                               order_id                       customer_id  \\\n0      e481f51cbdc54678b7cc49136f2d6af7  9ef432eb6251297304e76186b10a928d   \n1      53cdb2fc8bc7dce0b6741e2150273451  b0830fb4747a6c6d20dea0b8c802d7ef   \n2      47770eb9100c2d0c44946d9cf07ec65d  41ce2a54c0b03bf3443c3d931a367089   \n3      949d5b44dbf5de918fe9c16f97b45f8a  f88197465ea7920adcdbec7375364d82   \n4      ad21c59c0840e6cb83a9ceb5573f8159  8ab97904e6daea8866dbdbc4fb7aad2c   \n...                                 ...                               ...   \n99436  9c5dedf39a927c1b2549525ed64a053c  39bd1228ee8140590ac3aca26f2dfe00   \n99437  63943bddc261676b46f01ca7ac2f7bd8  1fca14ff2861355f6e5f14306ff977a7   \n99438  83c1379a015df1e13d02aae0204711ab  1aa71eb042121263aafbe80c1b562c9c   \n99439  11c177c8e97725db2631073c19f07b62  b331b74b18dc79bcdf6532d51e1637c1   \n99440  66dea50a8b16d9b4dee7af250b4be1a5  edb027a75a1449115f6b43211ae02a24   \n\n      order_status order_purchase_timestamp    order_approved_at  \\\n0        delivered      2017-10-02 10:56:33  2017-10-02 11:07:15   \n1        delivered      2018-07-24 20:41:37  2018-07-26 03:24:27   \n2        delivered      2018-08-08 08:38:49  2018-08-08 08:55:23   \n3        delivered      2017-11-18 19:28:06  2017-11-18 19:45:59   \n4        delivered      2018-02-13 21:18:39  2018-02-13 22:20:29   \n...            ...                      ...                  ...   \n99436    delivered      2017-03-09 09:54:05  2017-03-09 09:54:05   \n99437    delivered      2018-02-06 12:58:58  2018-02-06 13:10:37   \n99438    delivered      2017-08-27 14:46:43  2017-08-27 15:04:16   \n99439    delivered      2018-01-08 21:28:27  2018-01-08 21:36:21   \n99440    delivered      2018-03-08 20:57:30  2018-03-09 11:20:28   \n\n      order_delivered_carrier_date order_delivered_customer_date  \\\n0              2017-10-04 19:55:00           2017-10-10 21:25:13   \n1              2018-07-26 14:31:00           2018-08-07 15:27:45   \n2              2018-08-08 13:50:00           2018-08-17 18:06:29   \n3              2017-11-22 13:39:59           2017-12-02 00:28:42   \n4              2018-02-14 19:46:34           2018-02-16 18:17:02   \n...                            ...                           ...   \n99436          2017-03-10 11:18:03           2017-03-17 15:08:01   \n99437          2018-02-07 23:22:42           2018-02-28 17:37:56   \n99438          2017-08-28 20:52:26           2017-09-21 11:24:17   \n99439          2018-01-12 15:35:03           2018-01-25 23:32:54   \n99440          2018-03-09 22:11:59           2018-03-16 13:08:30   \n\n      order_estimated_delivery_date  \n0               2017-10-18 00:00:00  \n1               2018-08-13 00:00:00  \n2               2018-09-04 00:00:00  \n3               2017-12-15 00:00:00  \n4               2018-02-26 00:00:00  \n...                             ...  \n99436           2017-03-28 00:00:00  \n99437           2018-03-02 00:00:00  \n99438           2017-09-27 00:00:00  \n99439           2018-02-15 00:00:00  \n99440           2018-04-03 00:00:00  \n\n[99441 rows x 8 columns]",
      "text/html": "<div>\n<style scoped>\n    .dataframe tbody tr th:only-of-type {\n        vertical-align: middle;\n    }\n\n    .dataframe tbody tr th {\n        vertical-align: top;\n    }\n\n    .dataframe thead th {\n        text-align: right;\n    }\n</style>\n<table border=\"1\" class=\"dataframe\">\n  <thead>\n    <tr style=\"text-align: right;\">\n      <th></th>\n      <th>order_id</th>\n      <th>customer_id</th>\n      <th>order_status</th>\n      <th>order_purchase_timestamp</th>\n      <th>order_approved_at</th>\n      <th>order_delivered_carrier_date</th>\n      <th>order_delivered_customer_date</th>\n      <th>order_estimated_delivery_date</th>\n    </tr>\n  </thead>\n  <tbody>\n    <tr>\n      <th>0</th>\n      <td>e481f51cbdc54678b7cc49136f2d6af7</td>\n      <td>9ef432eb6251297304e76186b10a928d</td>\n      <td>delivered</td>\n      <td>2017-10-02 10:56:33</td>\n      <td>2017-10-02 11:07:15</td>\n      <td>2017-10-04 19:55:00</td>\n      <td>2017-10-10 21:25:13</td>\n      <td>2017-10-18 00:00:00</td>\n    </tr>\n    <tr>\n      <th>1</th>\n      <td>53cdb2fc8bc7dce0b6741e2150273451</td>\n      <td>b0830fb4747a6c6d20dea0b8c802d7ef</td>\n      <td>delivered</td>\n      <td>2018-07-24 20:41:37</td>\n      <td>2018-07-26 03:24:27</td>\n      <td>2018-07-26 14:31:00</td>\n      <td>2018-08-07 15:27:45</td>\n      <td>2018-08-13 00:00:00</td>\n    </tr>\n    <tr>\n      <th>2</th>\n      <td>47770eb9100c2d0c44946d9cf07ec65d</td>\n      <td>41ce2a54c0b03bf3443c3d931a367089</td>\n      <td>delivered</td>\n      <td>2018-08-08 08:38:49</td>\n      <td>2018-08-08 08:55:23</td>\n      <td>2018-08-08 13:50:00</td>\n      <td>2018-08-17 18:06:29</td>\n      <td>2018-09-04 00:00:00</td>\n    </tr>\n    <tr>\n      <th>3</th>\n      <td>949d5b44dbf5de918fe9c16f97b45f8a</td>\n      <td>f88197465ea7920adcdbec7375364d82</td>\n      <td>delivered</td>\n      <td>2017-11-18 19:28:06</td>\n      <td>2017-11-18 19:45:59</td>\n      <td>2017-11-22 13:39:59</td>\n      <td>2017-12-02 00:28:42</td>\n      <td>2017-12-15 00:00:00</td>\n    </tr>\n    <tr>\n      <th>4</th>\n      <td>ad21c59c0840e6cb83a9ceb5573f8159</td>\n      <td>8ab97904e6daea8866dbdbc4fb7aad2c</td>\n      <td>delivered</td>\n      <td>2018-02-13 21:18:39</td>\n      <td>2018-02-13 22:20:29</td>\n      <td>2018-02-14 19:46:34</td>\n      <td>2018-02-16 18:17:02</td>\n      <td>2018-02-26 00:00:00</td>\n    </tr>\n    <tr>\n      <th>...</th>\n      <td>...</td>\n      <td>...</td>\n      <td>...</td>\n      <td>...</td>\n      <td>...</td>\n      <td>...</td>\n      <td>...</td>\n      <td>...</td>\n    </tr>\n    <tr>\n      <th>99436</th>\n      <td>9c5dedf39a927c1b2549525ed64a053c</td>\n      <td>39bd1228ee8140590ac3aca26f2dfe00</td>\n      <td>delivered</td>\n      <td>2017-03-09 09:54:05</td>\n      <td>2017-03-09 09:54:05</td>\n      <td>2017-03-10 11:18:03</td>\n      <td>2017-03-17 15:08:01</td>\n      <td>2017-03-28 00:00:00</td>\n    </tr>\n    <tr>\n      <th>99437</th>\n      <td>63943bddc261676b46f01ca7ac2f7bd8</td>\n      <td>1fca14ff2861355f6e5f14306ff977a7</td>\n      <td>delivered</td>\n      <td>2018-02-06 12:58:58</td>\n      <td>2018-02-06 13:10:37</td>\n      <td>2018-02-07 23:22:42</td>\n      <td>2018-02-28 17:37:56</td>\n      <td>2018-03-02 00:00:00</td>\n    </tr>\n    <tr>\n      <th>99438</th>\n      <td>83c1379a015df1e13d02aae0204711ab</td>\n      <td>1aa71eb042121263aafbe80c1b562c9c</td>\n      <td>delivered</td>\n      <td>2017-08-27 14:46:43</td>\n      <td>2017-08-27 15:04:16</td>\n      <td>2017-08-28 20:52:26</td>\n      <td>2017-09-21 11:24:17</td>\n      <td>2017-09-27 00:00:00</td>\n    </tr>\n    <tr>\n      <th>99439</th>\n      <td>11c177c8e97725db2631073c19f07b62</td>\n      <td>b331b74b18dc79bcdf6532d51e1637c1</td>\n      <td>delivered</td>\n      <td>2018-01-08 21:28:27</td>\n      <td>2018-01-08 21:36:21</td>\n      <td>2018-01-12 15:35:03</td>\n      <td>2018-01-25 23:32:54</td>\n      <td>2018-02-15 00:00:00</td>\n    </tr>\n    <tr>\n      <th>99440</th>\n      <td>66dea50a8b16d9b4dee7af250b4be1a5</td>\n      <td>edb027a75a1449115f6b43211ae02a24</td>\n      <td>delivered</td>\n      <td>2018-03-08 20:57:30</td>\n      <td>2018-03-09 11:20:28</td>\n      <td>2018-03-09 22:11:59</td>\n      <td>2018-03-16 13:08:30</td>\n      <td>2018-04-03 00:00:00</td>\n    </tr>\n  </tbody>\n</table>\n<p>99441 rows × 8 columns</p>\n</div>"
     },
     "execution_count": 199,
     "metadata": {},
     "output_type": "execute_result"
    }
   ],
   "source": [
    "orders"
   ],
   "metadata": {
    "collapsed": false
   }
  },
  {
   "cell_type": "markdown",
   "metadata": {},
   "source": [
    "### a) `tiempo_de_espera`\n",
    "    Armar un dataframe que tenga\n",
    "           order_id, tiempo_de_espera, tiempo_de_espera_previsto, real_vs_esperado, status_de_la_orden\n"
   ]
  },
  {
   "cell_type": "markdown",
   "metadata": {},
   "source": [
    "# Pasos a seguir\n",
    "\n",
    "> 1. Explora el dataframe `orders`\n",
    "2. Filtra por `delivered orders`\n",
    "3. Manipulá correctamente `datetime` (recordá el examen)\n",
    "    - Repasá[`datetime`](https://docs.python.org/3/library/datetime.html)\n",
    "    - Métodos para pasar \"string\" type a \"pandas.datetime'  [`pandas.to_datetime()`](https://pandas.pydata.org/pandas-docs/stable/reference/api/pandas.to_datetime.html)\n",
    "4. Crea la columna `tiempo_de_espera`\n",
    "5. Crea la columna  `tiempo_de_espera_previsto`\n",
    "6. Crea la columna  `real_vs_esperado`\n",
    "7. Chequea el nuevo dataset\n",
    "8. Una vez terminado el código pasalo a tu librería `order.py`\n",
    "\n",
    "Tanto para `tiempo_de_espera` como para `tiempo_de_espera_previsto`, debe restar las fechas/marcas de tiempo relevantes para obtener la diferencia horaria entre los objetos `pandas.datetime`. Luego, puede usar [`datetime.timedelta()`](https://docs.python.org/3/library/datetime.html#timedelta-objects) o [`np.timedelta64()`](https ://numpy.org/doc/stable/reference/arrays.datetime.html#datetime-and-timedelta-arithmetic) para averiguar cuántos días representa esa resta.\n"
   ]
  },
  {
   "cell_type": "code",
   "execution_count": 200,
   "outputs": [],
   "source": [
    "delivered_orders = orders[orders.order_status == \"delivered\"]"
   ],
   "metadata": {
    "collapsed": false
   }
  },
  {
   "cell_type": "code",
   "execution_count": 201,
   "metadata": {
    "tags": [
     "challengify"
    ]
   },
   "outputs": [
    {
     "data": {
      "text/plain": "                           order_id                       customer_id  \\\n0  e481f51cbdc54678b7cc49136f2d6af7  9ef432eb6251297304e76186b10a928d   \n1  53cdb2fc8bc7dce0b6741e2150273451  b0830fb4747a6c6d20dea0b8c802d7ef   \n\n  order_status order_purchase_timestamp    order_approved_at  \\\n0    delivered      2017-10-02 10:56:33  2017-10-02 11:07:15   \n1    delivered      2018-07-24 20:41:37  2018-07-26 03:24:27   \n\n  order_delivered_carrier_date order_delivered_customer_date  \\\n0          2017-10-04 19:55:00           2017-10-10 21:25:13   \n1          2018-07-26 14:31:00           2018-08-07 15:27:45   \n\n  order_estimated_delivery_date  \n0           2017-10-18 00:00:00  \n1           2018-08-13 00:00:00  ",
      "text/html": "<div>\n<style scoped>\n    .dataframe tbody tr th:only-of-type {\n        vertical-align: middle;\n    }\n\n    .dataframe tbody tr th {\n        vertical-align: top;\n    }\n\n    .dataframe thead th {\n        text-align: right;\n    }\n</style>\n<table border=\"1\" class=\"dataframe\">\n  <thead>\n    <tr style=\"text-align: right;\">\n      <th></th>\n      <th>order_id</th>\n      <th>customer_id</th>\n      <th>order_status</th>\n      <th>order_purchase_timestamp</th>\n      <th>order_approved_at</th>\n      <th>order_delivered_carrier_date</th>\n      <th>order_delivered_customer_date</th>\n      <th>order_estimated_delivery_date</th>\n    </tr>\n  </thead>\n  <tbody>\n    <tr>\n      <th>0</th>\n      <td>e481f51cbdc54678b7cc49136f2d6af7</td>\n      <td>9ef432eb6251297304e76186b10a928d</td>\n      <td>delivered</td>\n      <td>2017-10-02 10:56:33</td>\n      <td>2017-10-02 11:07:15</td>\n      <td>2017-10-04 19:55:00</td>\n      <td>2017-10-10 21:25:13</td>\n      <td>2017-10-18 00:00:00</td>\n    </tr>\n    <tr>\n      <th>1</th>\n      <td>53cdb2fc8bc7dce0b6741e2150273451</td>\n      <td>b0830fb4747a6c6d20dea0b8c802d7ef</td>\n      <td>delivered</td>\n      <td>2018-07-24 20:41:37</td>\n      <td>2018-07-26 03:24:27</td>\n      <td>2018-07-26 14:31:00</td>\n      <td>2018-08-07 15:27:45</td>\n      <td>2018-08-13 00:00:00</td>\n    </tr>\n  </tbody>\n</table>\n</div>"
     },
     "execution_count": 201,
     "metadata": {},
     "output_type": "execute_result"
    }
   ],
   "source": [
    "orders.head(2)"
   ]
  },
  {
   "cell_type": "code",
   "execution_count": 202,
   "metadata": {
    "tags": [
     "delete_begin"
    ]
   },
   "outputs": [
    {
     "data": {
      "text/plain": "order_id                            0\ncustomer_id                         0\norder_status                        0\norder_purchase_timestamp            0\norder_approved_at                 160\norder_delivered_carrier_date     1783\norder_delivered_customer_date    2965\norder_estimated_delivery_date       0\ndtype: int64"
     },
     "execution_count": 202,
     "metadata": {},
     "output_type": "execute_result"
    }
   ],
   "source": [
    "orders.isna().sum()"
   ]
  },
  {
   "cell_type": "code",
   "execution_count": 203,
   "metadata": {},
   "outputs": [],
   "source": [
    "# Transforma a datetime"
   ]
  },
  {
   "cell_type": "code",
   "execution_count": 204,
   "outputs": [],
   "source": [
    "from olist.preprocess import transformar_columnas_datetime\n",
    "orders = transformar_columnas_datetime(orders)"
   ],
   "metadata": {
    "collapsed": false
   }
  },
  {
   "cell_type": "code",
   "execution_count": 205,
   "outputs": [
    {
     "data": {
      "text/plain": "                               order_id                       customer_id  \\\n0      e481f51cbdc54678b7cc49136f2d6af7  9ef432eb6251297304e76186b10a928d   \n1      53cdb2fc8bc7dce0b6741e2150273451  b0830fb4747a6c6d20dea0b8c802d7ef   \n2      47770eb9100c2d0c44946d9cf07ec65d  41ce2a54c0b03bf3443c3d931a367089   \n3      949d5b44dbf5de918fe9c16f97b45f8a  f88197465ea7920adcdbec7375364d82   \n4      ad21c59c0840e6cb83a9ceb5573f8159  8ab97904e6daea8866dbdbc4fb7aad2c   \n...                                 ...                               ...   \n99436  9c5dedf39a927c1b2549525ed64a053c  39bd1228ee8140590ac3aca26f2dfe00   \n99437  63943bddc261676b46f01ca7ac2f7bd8  1fca14ff2861355f6e5f14306ff977a7   \n99438  83c1379a015df1e13d02aae0204711ab  1aa71eb042121263aafbe80c1b562c9c   \n99439  11c177c8e97725db2631073c19f07b62  b331b74b18dc79bcdf6532d51e1637c1   \n99440  66dea50a8b16d9b4dee7af250b4be1a5  edb027a75a1449115f6b43211ae02a24   \n\n      order_status order_purchase_timestamp   order_approved_at  \\\n0        delivered      2017-10-02 10:56:33 2017-10-02 11:07:15   \n1        delivered      2018-07-24 20:41:37 2018-07-26 03:24:27   \n2        delivered      2018-08-08 08:38:49 2018-08-08 08:55:23   \n3        delivered      2017-11-18 19:28:06 2017-11-18 19:45:59   \n4        delivered      2018-02-13 21:18:39 2018-02-13 22:20:29   \n...            ...                      ...                 ...   \n99436    delivered      2017-03-09 09:54:05 2017-03-09 09:54:05   \n99437    delivered      2018-02-06 12:58:58 2018-02-06 13:10:37   \n99438    delivered      2017-08-27 14:46:43 2017-08-27 15:04:16   \n99439    delivered      2018-01-08 21:28:27 2018-01-08 21:36:21   \n99440    delivered      2018-03-08 20:57:30 2018-03-09 11:20:28   \n\n      order_delivered_carrier_date order_delivered_customer_date  \\\n0              2017-10-04 19:55:00           2017-10-10 21:25:13   \n1              2018-07-26 14:31:00           2018-08-07 15:27:45   \n2              2018-08-08 13:50:00           2018-08-17 18:06:29   \n3              2017-11-22 13:39:59           2017-12-02 00:28:42   \n4              2018-02-14 19:46:34           2018-02-16 18:17:02   \n...                            ...                           ...   \n99436          2017-03-10 11:18:03           2017-03-17 15:08:01   \n99437          2018-02-07 23:22:42           2018-02-28 17:37:56   \n99438          2017-08-28 20:52:26           2017-09-21 11:24:17   \n99439          2018-01-12 15:35:03           2018-01-25 23:32:54   \n99440          2018-03-09 22:11:59           2018-03-16 13:08:30   \n\n      order_estimated_delivery_date  \n0                        2017-10-18  \n1                        2018-08-13  \n2                        2018-09-04  \n3                        2017-12-15  \n4                        2018-02-26  \n...                             ...  \n99436                    2017-03-28  \n99437                    2018-03-02  \n99438                    2017-09-27  \n99439                    2018-02-15  \n99440                    2018-04-03  \n\n[99441 rows x 8 columns]",
      "text/html": "<div>\n<style scoped>\n    .dataframe tbody tr th:only-of-type {\n        vertical-align: middle;\n    }\n\n    .dataframe tbody tr th {\n        vertical-align: top;\n    }\n\n    .dataframe thead th {\n        text-align: right;\n    }\n</style>\n<table border=\"1\" class=\"dataframe\">\n  <thead>\n    <tr style=\"text-align: right;\">\n      <th></th>\n      <th>order_id</th>\n      <th>customer_id</th>\n      <th>order_status</th>\n      <th>order_purchase_timestamp</th>\n      <th>order_approved_at</th>\n      <th>order_delivered_carrier_date</th>\n      <th>order_delivered_customer_date</th>\n      <th>order_estimated_delivery_date</th>\n    </tr>\n  </thead>\n  <tbody>\n    <tr>\n      <th>0</th>\n      <td>e481f51cbdc54678b7cc49136f2d6af7</td>\n      <td>9ef432eb6251297304e76186b10a928d</td>\n      <td>delivered</td>\n      <td>2017-10-02 10:56:33</td>\n      <td>2017-10-02 11:07:15</td>\n      <td>2017-10-04 19:55:00</td>\n      <td>2017-10-10 21:25:13</td>\n      <td>2017-10-18</td>\n    </tr>\n    <tr>\n      <th>1</th>\n      <td>53cdb2fc8bc7dce0b6741e2150273451</td>\n      <td>b0830fb4747a6c6d20dea0b8c802d7ef</td>\n      <td>delivered</td>\n      <td>2018-07-24 20:41:37</td>\n      <td>2018-07-26 03:24:27</td>\n      <td>2018-07-26 14:31:00</td>\n      <td>2018-08-07 15:27:45</td>\n      <td>2018-08-13</td>\n    </tr>\n    <tr>\n      <th>2</th>\n      <td>47770eb9100c2d0c44946d9cf07ec65d</td>\n      <td>41ce2a54c0b03bf3443c3d931a367089</td>\n      <td>delivered</td>\n      <td>2018-08-08 08:38:49</td>\n      <td>2018-08-08 08:55:23</td>\n      <td>2018-08-08 13:50:00</td>\n      <td>2018-08-17 18:06:29</td>\n      <td>2018-09-04</td>\n    </tr>\n    <tr>\n      <th>3</th>\n      <td>949d5b44dbf5de918fe9c16f97b45f8a</td>\n      <td>f88197465ea7920adcdbec7375364d82</td>\n      <td>delivered</td>\n      <td>2017-11-18 19:28:06</td>\n      <td>2017-11-18 19:45:59</td>\n      <td>2017-11-22 13:39:59</td>\n      <td>2017-12-02 00:28:42</td>\n      <td>2017-12-15</td>\n    </tr>\n    <tr>\n      <th>4</th>\n      <td>ad21c59c0840e6cb83a9ceb5573f8159</td>\n      <td>8ab97904e6daea8866dbdbc4fb7aad2c</td>\n      <td>delivered</td>\n      <td>2018-02-13 21:18:39</td>\n      <td>2018-02-13 22:20:29</td>\n      <td>2018-02-14 19:46:34</td>\n      <td>2018-02-16 18:17:02</td>\n      <td>2018-02-26</td>\n    </tr>\n    <tr>\n      <th>...</th>\n      <td>...</td>\n      <td>...</td>\n      <td>...</td>\n      <td>...</td>\n      <td>...</td>\n      <td>...</td>\n      <td>...</td>\n      <td>...</td>\n    </tr>\n    <tr>\n      <th>99436</th>\n      <td>9c5dedf39a927c1b2549525ed64a053c</td>\n      <td>39bd1228ee8140590ac3aca26f2dfe00</td>\n      <td>delivered</td>\n      <td>2017-03-09 09:54:05</td>\n      <td>2017-03-09 09:54:05</td>\n      <td>2017-03-10 11:18:03</td>\n      <td>2017-03-17 15:08:01</td>\n      <td>2017-03-28</td>\n    </tr>\n    <tr>\n      <th>99437</th>\n      <td>63943bddc261676b46f01ca7ac2f7bd8</td>\n      <td>1fca14ff2861355f6e5f14306ff977a7</td>\n      <td>delivered</td>\n      <td>2018-02-06 12:58:58</td>\n      <td>2018-02-06 13:10:37</td>\n      <td>2018-02-07 23:22:42</td>\n      <td>2018-02-28 17:37:56</td>\n      <td>2018-03-02</td>\n    </tr>\n    <tr>\n      <th>99438</th>\n      <td>83c1379a015df1e13d02aae0204711ab</td>\n      <td>1aa71eb042121263aafbe80c1b562c9c</td>\n      <td>delivered</td>\n      <td>2017-08-27 14:46:43</td>\n      <td>2017-08-27 15:04:16</td>\n      <td>2017-08-28 20:52:26</td>\n      <td>2017-09-21 11:24:17</td>\n      <td>2017-09-27</td>\n    </tr>\n    <tr>\n      <th>99439</th>\n      <td>11c177c8e97725db2631073c19f07b62</td>\n      <td>b331b74b18dc79bcdf6532d51e1637c1</td>\n      <td>delivered</td>\n      <td>2018-01-08 21:28:27</td>\n      <td>2018-01-08 21:36:21</td>\n      <td>2018-01-12 15:35:03</td>\n      <td>2018-01-25 23:32:54</td>\n      <td>2018-02-15</td>\n    </tr>\n    <tr>\n      <th>99440</th>\n      <td>66dea50a8b16d9b4dee7af250b4be1a5</td>\n      <td>edb027a75a1449115f6b43211ae02a24</td>\n      <td>delivered</td>\n      <td>2018-03-08 20:57:30</td>\n      <td>2018-03-09 11:20:28</td>\n      <td>2018-03-09 22:11:59</td>\n      <td>2018-03-16 13:08:30</td>\n      <td>2018-04-03</td>\n    </tr>\n  </tbody>\n</table>\n<p>99441 rows × 8 columns</p>\n</div>"
     },
     "execution_count": 205,
     "metadata": {},
     "output_type": "execute_result"
    }
   ],
   "source": [
    "orders"
   ],
   "metadata": {
    "collapsed": false
   }
  },
  {
   "cell_type": "code",
   "execution_count": 206,
   "outputs": [
    {
     "data": {
      "text/plain": "order_id                                 object\ncustomer_id                              object\norder_status                             object\norder_purchase_timestamp         datetime64[ns]\norder_approved_at                datetime64[ns]\norder_delivered_carrier_date     datetime64[ns]\norder_delivered_customer_date    datetime64[ns]\norder_estimated_delivery_date    datetime64[ns]\ndtype: object"
     },
     "execution_count": 206,
     "metadata": {},
     "output_type": "execute_result"
    }
   ],
   "source": [
    "orders.dtypes"
   ],
   "metadata": {
    "collapsed": false
   }
  },
  {
   "cell_type": "markdown",
   "source": [
    "### Crear una columna\n",
    "Es lo mismo utilizar .loc para asignar una columna nueva, que utilizar .assign o simplemente df['columna'] = operación"
   ],
   "metadata": {
    "collapsed": false
   }
  },
  {
   "cell_type": "markdown",
   "source": [
    "Compute just the number of days in each time_delta\n",
    "import datetime\n",
    "one_day_delta = datetime.timedelta(days=1) # lleva el time delta a un día\n",
    "one_day_delta = np.timedelta64(24, 'h') # también se puede hacer de esta manera\n",
    "\n",
    "\\ se puede usar para ahorrar espacio\n",
    "orders.loc[:,'tiempo_de_espera'] = \\\n",
    "    (orders['order_delivered_customer_date'] - orders['order_purchase_timestamp']) / one_day_delta"
   ],
   "metadata": {
    "collapsed": false
   }
  },
  {
   "cell_type": "code",
   "execution_count": 207,
   "metadata": {},
   "outputs": [],
   "source": [
    "#(orders['order_delivered_customer_date'] - orders['order_purchase_timestamp']).dt.days"
   ]
  },
  {
   "cell_type": "code",
   "execution_count": 208,
   "outputs": [
    {
     "name": "stderr",
     "output_type": "stream",
     "text": [
      "/Users/usuario/PycharmProjects/pythonProject5/UCEMA/07-entrenamiento/olist/preprocess.py:18: SettingWithCopyWarning: \n",
      "A value is trying to be set on a copy of a slice from a DataFrame.\n",
      "Try using .loc[row_indexer,col_indexer] = value instead\n",
      "\n",
      "See the caveats in the documentation: https://pandas.pydata.org/pandas-docs/stable/user_guide/indexing.html#returning-a-view-versus-a-copy\n",
      "  orders_df['tiempo_de_espera'] = (orders_df['order_delivered_customer_date'] - orders_df[\n"
     ]
    },
    {
     "data": {
      "text/plain": "                           order_id                       customer_id  \\\n0  e481f51cbdc54678b7cc49136f2d6af7  9ef432eb6251297304e76186b10a928d   \n1  53cdb2fc8bc7dce0b6741e2150273451  b0830fb4747a6c6d20dea0b8c802d7ef   \n2  47770eb9100c2d0c44946d9cf07ec65d  41ce2a54c0b03bf3443c3d931a367089   \n3  949d5b44dbf5de918fe9c16f97b45f8a  f88197465ea7920adcdbec7375364d82   \n4  ad21c59c0840e6cb83a9ceb5573f8159  8ab97904e6daea8866dbdbc4fb7aad2c   \n\n  order_status order_purchase_timestamp   order_approved_at  \\\n0    delivered      2017-10-02 10:56:33 2017-10-02 11:07:15   \n1    delivered      2018-07-24 20:41:37 2018-07-26 03:24:27   \n2    delivered      2018-08-08 08:38:49 2018-08-08 08:55:23   \n3    delivered      2017-11-18 19:28:06 2017-11-18 19:45:59   \n4    delivered      2018-02-13 21:18:39 2018-02-13 22:20:29   \n\n  order_delivered_carrier_date order_delivered_customer_date  \\\n0          2017-10-04 19:55:00           2017-10-10 21:25:13   \n1          2018-07-26 14:31:00           2018-08-07 15:27:45   \n2          2018-08-08 13:50:00           2018-08-17 18:06:29   \n3          2017-11-22 13:39:59           2017-12-02 00:28:42   \n4          2018-02-14 19:46:34           2018-02-16 18:17:02   \n\n  order_estimated_delivery_date  tiempo_de_espera  \n0                    2017-10-18          8.436574  \n1                    2018-08-13         13.782037  \n2                    2018-09-04          9.394213  \n3                    2017-12-15         13.208750  \n4                    2018-02-26          2.873877  ",
      "text/html": "<div>\n<style scoped>\n    .dataframe tbody tr th:only-of-type {\n        vertical-align: middle;\n    }\n\n    .dataframe tbody tr th {\n        vertical-align: top;\n    }\n\n    .dataframe thead th {\n        text-align: right;\n    }\n</style>\n<table border=\"1\" class=\"dataframe\">\n  <thead>\n    <tr style=\"text-align: right;\">\n      <th></th>\n      <th>order_id</th>\n      <th>customer_id</th>\n      <th>order_status</th>\n      <th>order_purchase_timestamp</th>\n      <th>order_approved_at</th>\n      <th>order_delivered_carrier_date</th>\n      <th>order_delivered_customer_date</th>\n      <th>order_estimated_delivery_date</th>\n      <th>tiempo_de_espera</th>\n    </tr>\n  </thead>\n  <tbody>\n    <tr>\n      <th>0</th>\n      <td>e481f51cbdc54678b7cc49136f2d6af7</td>\n      <td>9ef432eb6251297304e76186b10a928d</td>\n      <td>delivered</td>\n      <td>2017-10-02 10:56:33</td>\n      <td>2017-10-02 11:07:15</td>\n      <td>2017-10-04 19:55:00</td>\n      <td>2017-10-10 21:25:13</td>\n      <td>2017-10-18</td>\n      <td>8.436574</td>\n    </tr>\n    <tr>\n      <th>1</th>\n      <td>53cdb2fc8bc7dce0b6741e2150273451</td>\n      <td>b0830fb4747a6c6d20dea0b8c802d7ef</td>\n      <td>delivered</td>\n      <td>2018-07-24 20:41:37</td>\n      <td>2018-07-26 03:24:27</td>\n      <td>2018-07-26 14:31:00</td>\n      <td>2018-08-07 15:27:45</td>\n      <td>2018-08-13</td>\n      <td>13.782037</td>\n    </tr>\n    <tr>\n      <th>2</th>\n      <td>47770eb9100c2d0c44946d9cf07ec65d</td>\n      <td>41ce2a54c0b03bf3443c3d931a367089</td>\n      <td>delivered</td>\n      <td>2018-08-08 08:38:49</td>\n      <td>2018-08-08 08:55:23</td>\n      <td>2018-08-08 13:50:00</td>\n      <td>2018-08-17 18:06:29</td>\n      <td>2018-09-04</td>\n      <td>9.394213</td>\n    </tr>\n    <tr>\n      <th>3</th>\n      <td>949d5b44dbf5de918fe9c16f97b45f8a</td>\n      <td>f88197465ea7920adcdbec7375364d82</td>\n      <td>delivered</td>\n      <td>2017-11-18 19:28:06</td>\n      <td>2017-11-18 19:45:59</td>\n      <td>2017-11-22 13:39:59</td>\n      <td>2017-12-02 00:28:42</td>\n      <td>2017-12-15</td>\n      <td>13.208750</td>\n    </tr>\n    <tr>\n      <th>4</th>\n      <td>ad21c59c0840e6cb83a9ceb5573f8159</td>\n      <td>8ab97904e6daea8866dbdbc4fb7aad2c</td>\n      <td>delivered</td>\n      <td>2018-02-13 21:18:39</td>\n      <td>2018-02-13 22:20:29</td>\n      <td>2018-02-14 19:46:34</td>\n      <td>2018-02-16 18:17:02</td>\n      <td>2018-02-26</td>\n      <td>2.873877</td>\n    </tr>\n  </tbody>\n</table>\n</div>"
     },
     "execution_count": 208,
     "metadata": {},
     "output_type": "execute_result"
    }
   ],
   "source": [
    "#pasarlo a modulo\n",
    "from olist.preprocess import tiempo_de_espera\n",
    "orders = tiempo_de_espera(orders, is_delivered = True)\n",
    "orders.head()"
   ],
   "metadata": {
    "collapsed": false
   }
  },
  {
   "cell_type": "code",
   "execution_count": 209,
   "outputs": [
    {
     "data": {
      "text/plain": "0        0.0\n1        0.0\n2        0.0\n3        0.0\n4        0.0\n        ... \n99436    0.0\n99437    0.0\n99438    0.0\n99439    0.0\n99440    0.0\nName: real_vs_esperado, Length: 96478, dtype: float64"
     },
     "execution_count": 209,
     "metadata": {},
     "output_type": "execute_result"
    }
   ],
   "source": [
    "# crear real vs esperado\n",
    "# ver que columnas hay\n",
    "# igual que en NPS si algun numero en real_vs_esperado es negativo reemplazarlo por 0\n",
    "from olist.preprocess import real_vs_esperado\n",
    "orders = real_vs_esperado(orders, is_delivered = True)\n",
    "orders['real_vs_esperado']"
   ],
   "metadata": {
    "collapsed": false
   }
  },
  {
   "cell_type": "code",
   "execution_count": 227,
   "metadata": {
    "tags": [
     "delete_end"
    ]
   },
   "outputs": [
    {
     "data": {
      "text/plain": "<seaborn.axisgrid.FacetGrid at 0x7f9c854d2a00>"
     },
     "execution_count": 227,
     "metadata": {},
     "output_type": "execute_result"
    }
   ],
   "source": [
    "sns.displot(orders['real_vs_esperado'])"
   ]
  },
  {
   "cell_type": "code",
   "execution_count": 211,
   "outputs": [],
   "source": [
    "orders = orders.rename(columns= {\"order_estimated_delivery_date\" : 'tiempo_de_espera_previsto', 'order_status' : \"status_de_la_orden\"})"
   ],
   "metadata": {
    "collapsed": false
   }
  },
  {
   "cell_type": "code",
   "execution_count": 213,
   "outputs": [
    {
     "data": {
      "text/plain": "                               order_id  tiempo_de_espera  \\\n0      e481f51cbdc54678b7cc49136f2d6af7          8.436574   \n1      53cdb2fc8bc7dce0b6741e2150273451         13.782037   \n2      47770eb9100c2d0c44946d9cf07ec65d          9.394213   \n3      949d5b44dbf5de918fe9c16f97b45f8a         13.208750   \n4      ad21c59c0840e6cb83a9ceb5573f8159          2.873877   \n...                                 ...               ...   \n99436  9c5dedf39a927c1b2549525ed64a053c          8.218009   \n99437  63943bddc261676b46f01ca7ac2f7bd8         22.193727   \n99438  83c1379a015df1e13d02aae0204711ab         24.859421   \n99439  11c177c8e97725db2631073c19f07b62         17.086424   \n99440  66dea50a8b16d9b4dee7af250b4be1a5          7.674306   \n\n      tiempo_de_espera_previsto  real_vs_esperado status_de_la_orden  \n0                    2017-10-18               0.0          delivered  \n1                    2018-08-13               0.0          delivered  \n2                    2018-09-04               0.0          delivered  \n3                    2017-12-15               0.0          delivered  \n4                    2018-02-26               0.0          delivered  \n...                         ...               ...                ...  \n99436                2017-03-28               0.0          delivered  \n99437                2018-03-02               0.0          delivered  \n99438                2017-09-27               0.0          delivered  \n99439                2018-02-15               0.0          delivered  \n99440                2018-04-03               0.0          delivered  \n\n[96478 rows x 5 columns]",
      "text/html": "<div>\n<style scoped>\n    .dataframe tbody tr th:only-of-type {\n        vertical-align: middle;\n    }\n\n    .dataframe tbody tr th {\n        vertical-align: top;\n    }\n\n    .dataframe thead th {\n        text-align: right;\n    }\n</style>\n<table border=\"1\" class=\"dataframe\">\n  <thead>\n    <tr style=\"text-align: right;\">\n      <th></th>\n      <th>order_id</th>\n      <th>tiempo_de_espera</th>\n      <th>tiempo_de_espera_previsto</th>\n      <th>real_vs_esperado</th>\n      <th>status_de_la_orden</th>\n    </tr>\n  </thead>\n  <tbody>\n    <tr>\n      <th>0</th>\n      <td>e481f51cbdc54678b7cc49136f2d6af7</td>\n      <td>8.436574</td>\n      <td>2017-10-18</td>\n      <td>0.0</td>\n      <td>delivered</td>\n    </tr>\n    <tr>\n      <th>1</th>\n      <td>53cdb2fc8bc7dce0b6741e2150273451</td>\n      <td>13.782037</td>\n      <td>2018-08-13</td>\n      <td>0.0</td>\n      <td>delivered</td>\n    </tr>\n    <tr>\n      <th>2</th>\n      <td>47770eb9100c2d0c44946d9cf07ec65d</td>\n      <td>9.394213</td>\n      <td>2018-09-04</td>\n      <td>0.0</td>\n      <td>delivered</td>\n    </tr>\n    <tr>\n      <th>3</th>\n      <td>949d5b44dbf5de918fe9c16f97b45f8a</td>\n      <td>13.208750</td>\n      <td>2017-12-15</td>\n      <td>0.0</td>\n      <td>delivered</td>\n    </tr>\n    <tr>\n      <th>4</th>\n      <td>ad21c59c0840e6cb83a9ceb5573f8159</td>\n      <td>2.873877</td>\n      <td>2018-02-26</td>\n      <td>0.0</td>\n      <td>delivered</td>\n    </tr>\n    <tr>\n      <th>...</th>\n      <td>...</td>\n      <td>...</td>\n      <td>...</td>\n      <td>...</td>\n      <td>...</td>\n    </tr>\n    <tr>\n      <th>99436</th>\n      <td>9c5dedf39a927c1b2549525ed64a053c</td>\n      <td>8.218009</td>\n      <td>2017-03-28</td>\n      <td>0.0</td>\n      <td>delivered</td>\n    </tr>\n    <tr>\n      <th>99437</th>\n      <td>63943bddc261676b46f01ca7ac2f7bd8</td>\n      <td>22.193727</td>\n      <td>2018-03-02</td>\n      <td>0.0</td>\n      <td>delivered</td>\n    </tr>\n    <tr>\n      <th>99438</th>\n      <td>83c1379a015df1e13d02aae0204711ab</td>\n      <td>24.859421</td>\n      <td>2017-09-27</td>\n      <td>0.0</td>\n      <td>delivered</td>\n    </tr>\n    <tr>\n      <th>99439</th>\n      <td>11c177c8e97725db2631073c19f07b62</td>\n      <td>17.086424</td>\n      <td>2018-02-15</td>\n      <td>0.0</td>\n      <td>delivered</td>\n    </tr>\n    <tr>\n      <th>99440</th>\n      <td>66dea50a8b16d9b4dee7af250b4be1a5</td>\n      <td>7.674306</td>\n      <td>2018-04-03</td>\n      <td>0.0</td>\n      <td>delivered</td>\n    </tr>\n  </tbody>\n</table>\n<p>96478 rows × 5 columns</p>\n</div>"
     },
     "execution_count": 213,
     "metadata": {},
     "output_type": "execute_result"
    }
   ],
   "source": [
    "orders_2 = orders[['order_id', 'tiempo_de_espera', 'tiempo_de_espera_previsto', 'real_vs_esperado', 'status_de_la_orden']]\n",
    "orders_2"
   ],
   "metadata": {
    "collapsed": false
   }
  },
  {
   "cell_type": "markdown",
   "metadata": {},
   "source": [
    "### b) `puntaje_de_compra`\n",
    "     retorna un dataframe con\n",
    "        order_id, es_cinco_estrellas, es_una_estrella, review_score\n",
    "\n",
    "recordar del examen `DataFrame.apply()` o tmb se puede usar`Series.map()`\n"
   ]
  },
  {
   "cell_type": "markdown",
   "metadata": {},
   "source": [
    "👉 We load the `reviews` for you"
   ]
  },
  {
   "cell_type": "code",
   "execution_count": 122,
   "metadata": {},
   "outputs": [
    {
     "data": {
      "text/plain": "                          review_id                          order_id  \\\n0  7bc2406110b926393aa56f80a40eba40  73fc7af87114b39712e6da79b0a377eb   \n1  80e641a11e56f04c1ad469d5645fdfde  a548910a1c6147796b98fdf73dbeba33   \n2  228ce5500dc1d8e020d8d1322874b6f0  f9e4b658b201a9f2ecdecbb34bed034b   \n3  e64fb393e7b32834bb789ff8bb30750e  658677c97b385a9be170737859d3511b   \n4  f7c4243c7fe1938f181bec41a392bdeb  8e6bfb81e283fa7e4f11123a3fb894f1   \n\n   review_score review_comment_title  \\\n0             4                  NaN   \n1             5                  NaN   \n2             5                  NaN   \n3             5                  NaN   \n4             5                  NaN   \n\n                              review_comment_message review_creation_date  \\\n0                                                NaN  2018-01-18 00:00:00   \n1                                                NaN  2018-03-10 00:00:00   \n2                                                NaN  2018-02-17 00:00:00   \n3              Recebi bem antes do prazo estipulado.  2017-04-21 00:00:00   \n4  Parabéns lojas lannister adorei comprar pela I...  2018-03-01 00:00:00   \n\n  review_answer_timestamp  \n0     2018-01-18 21:46:59  \n1     2018-03-11 03:05:13  \n2     2018-02-18 14:36:24  \n3     2017-04-21 22:02:06  \n4     2018-03-02 10:26:53  ",
      "text/html": "<div>\n<style scoped>\n    .dataframe tbody tr th:only-of-type {\n        vertical-align: middle;\n    }\n\n    .dataframe tbody tr th {\n        vertical-align: top;\n    }\n\n    .dataframe thead th {\n        text-align: right;\n    }\n</style>\n<table border=\"1\" class=\"dataframe\">\n  <thead>\n    <tr style=\"text-align: right;\">\n      <th></th>\n      <th>review_id</th>\n      <th>order_id</th>\n      <th>review_score</th>\n      <th>review_comment_title</th>\n      <th>review_comment_message</th>\n      <th>review_creation_date</th>\n      <th>review_answer_timestamp</th>\n    </tr>\n  </thead>\n  <tbody>\n    <tr>\n      <th>0</th>\n      <td>7bc2406110b926393aa56f80a40eba40</td>\n      <td>73fc7af87114b39712e6da79b0a377eb</td>\n      <td>4</td>\n      <td>NaN</td>\n      <td>NaN</td>\n      <td>2018-01-18 00:00:00</td>\n      <td>2018-01-18 21:46:59</td>\n    </tr>\n    <tr>\n      <th>1</th>\n      <td>80e641a11e56f04c1ad469d5645fdfde</td>\n      <td>a548910a1c6147796b98fdf73dbeba33</td>\n      <td>5</td>\n      <td>NaN</td>\n      <td>NaN</td>\n      <td>2018-03-10 00:00:00</td>\n      <td>2018-03-11 03:05:13</td>\n    </tr>\n    <tr>\n      <th>2</th>\n      <td>228ce5500dc1d8e020d8d1322874b6f0</td>\n      <td>f9e4b658b201a9f2ecdecbb34bed034b</td>\n      <td>5</td>\n      <td>NaN</td>\n      <td>NaN</td>\n      <td>2018-02-17 00:00:00</td>\n      <td>2018-02-18 14:36:24</td>\n    </tr>\n    <tr>\n      <th>3</th>\n      <td>e64fb393e7b32834bb789ff8bb30750e</td>\n      <td>658677c97b385a9be170737859d3511b</td>\n      <td>5</td>\n      <td>NaN</td>\n      <td>Recebi bem antes do prazo estipulado.</td>\n      <td>2017-04-21 00:00:00</td>\n      <td>2017-04-21 22:02:06</td>\n    </tr>\n    <tr>\n      <th>4</th>\n      <td>f7c4243c7fe1938f181bec41a392bdeb</td>\n      <td>8e6bfb81e283fa7e4f11123a3fb894f1</td>\n      <td>5</td>\n      <td>NaN</td>\n      <td>Parabéns lojas lannister adorei comprar pela I...</td>\n      <td>2018-03-01 00:00:00</td>\n      <td>2018-03-02 10:26:53</td>\n    </tr>\n  </tbody>\n</table>\n</div>"
     },
     "execution_count": 122,
     "metadata": {},
     "output_type": "execute_result"
    }
   ],
   "source": [
    "reviews = data['order_reviews'].copy()\n",
    "\n",
    "reviews.head()"
   ]
  },
  {
   "cell_type": "code",
   "execution_count": 225,
   "metadata": {
    "tags": [
     "challengify"
    ]
   },
   "outputs": [
    {
     "data": {
      "text/plain": "                           order_id  es_cinco_estrellas  es_una_estrella  \\\n0  73fc7af87114b39712e6da79b0a377eb                   0                0   \n1  a548910a1c6147796b98fdf73dbeba33                   1                0   \n2  f9e4b658b201a9f2ecdecbb34bed034b                   1                0   \n3  658677c97b385a9be170737859d3511b                   1                0   \n4  8e6bfb81e283fa7e4f11123a3fb894f1                   1                0   \n\n   review_score  \n0             4  \n1             5  \n2             5  \n3             5  \n4             5  ",
      "text/html": "<div>\n<style scoped>\n    .dataframe tbody tr th:only-of-type {\n        vertical-align: middle;\n    }\n\n    .dataframe tbody tr th {\n        vertical-align: top;\n    }\n\n    .dataframe thead th {\n        text-align: right;\n    }\n</style>\n<table border=\"1\" class=\"dataframe\">\n  <thead>\n    <tr style=\"text-align: right;\">\n      <th></th>\n      <th>order_id</th>\n      <th>es_cinco_estrellas</th>\n      <th>es_una_estrella</th>\n      <th>review_score</th>\n    </tr>\n  </thead>\n  <tbody>\n    <tr>\n      <th>0</th>\n      <td>73fc7af87114b39712e6da79b0a377eb</td>\n      <td>0</td>\n      <td>0</td>\n      <td>4</td>\n    </tr>\n    <tr>\n      <th>1</th>\n      <td>a548910a1c6147796b98fdf73dbeba33</td>\n      <td>1</td>\n      <td>0</td>\n      <td>5</td>\n    </tr>\n    <tr>\n      <th>2</th>\n      <td>f9e4b658b201a9f2ecdecbb34bed034b</td>\n      <td>1</td>\n      <td>0</td>\n      <td>5</td>\n    </tr>\n    <tr>\n      <th>3</th>\n      <td>658677c97b385a9be170737859d3511b</td>\n      <td>1</td>\n      <td>0</td>\n      <td>5</td>\n    </tr>\n    <tr>\n      <th>4</th>\n      <td>8e6bfb81e283fa7e4f11123a3fb894f1</td>\n      <td>1</td>\n      <td>0</td>\n      <td>5</td>\n    </tr>\n  </tbody>\n</table>\n</div>"
     },
     "execution_count": 225,
     "metadata": {},
     "output_type": "execute_result"
    }
   ],
   "source": [
    "from olist.preprocess import puntaje_de_compra\n",
    "reviews = puntaje_de_compra(reviews)\n",
    "reviews.head()"
   ]
  },
  {
   "cell_type": "markdown",
   "metadata": {},
   "source": [
    "### c) `numero_de_productos`:\n",
    "     retorna un dataframe con\n",
    "        order_id, numero_de_productos (numero_de_productos_por_orden)"
   ]
  },
  {
   "cell_type": "code",
   "execution_count": null,
   "outputs": [],
   "source": [
    "from olist.preprocess import calcular_numero_productos\n",
    "#fijarse que no uso solo un dataframe\n",
    "productos = calcular_numero_productos(data)\n",
    "productos"
   ],
   "metadata": {
    "collapsed": false
   }
  },
  {
   "cell_type": "markdown",
   "metadata": {},
   "source": [
    "### d) `numero_de_vendedores`:\n",
    "     Retorna un dataframe con\n",
    "        order_id, numero_de_vendedores (total de vendedores UNICOS !!! )\n",
    "\n",
    "HINT!:\n",
    "`pd.Series.nunique()`\n"
   ]
  },
  {
   "cell_type": "code",
   "execution_count": null,
   "metadata": {
    "tags": [
     "challengify"
    ]
   },
   "outputs": [],
   "source": [
    "from olist.preprocess import vendedores_unicos\n",
    "vendedores = vendedores_unicos(data)\n",
    "vendedores"
   ]
  },
  {
   "cell_type": "markdown",
   "metadata": {},
   "source": [
    "### e) `calcular_precio_y_transporte`\n",
    "     Returns a DataFrame with:\n",
    "        order_id, precio, valor_transporte\n",
    "\n",
    "recordar el agg en el groupby"
   ]
  },
  {
   "cell_type": "code",
   "execution_count": null,
   "metadata": {
    "tags": [
     "challengify"
    ]
   },
   "outputs": [],
   "source": [
    "from olist.preprocess import calcular_precio_y_transporte\n",
    "precio_y_transporte = calcular_precio_y_transporte(data)\n",
    "precio_y_transporte"
   ]
  },
  {
   "cell_type": "markdown",
   "metadata": {
    "tags": []
   },
   "source": [
    "### e) `distancia_al_cliente`\n",
    "\n",
    "    Retorna un dataframe con\n",
    "        order_id, distancia_al_cliente (distancia en kilometros)\n",
    "\n",
    "usar`haversine_distance`"
   ]
  },
  {
   "cell_type": "code",
   "execution_count": null,
   "metadata": {},
   "outputs": [],
   "source": [
    "from math import radians, sin, cos, asin, sqrt\n",
    "\n",
    "def haversine_distance(lon1, lat1, lon2, lat2):\n",
    "    \"\"\"\n",
    "    Computa distancia entre dos pares (lat, lng)\n",
    "    Ver - (https://en.wikipedia.org/wiki/Haversine_formula)\n",
    "    \"\"\"\n",
    "    lon1, lat1, lon2, lat2 = map(radians, [lon1, lat1, lon2, lat2])\n",
    "    dlon = lon2 - lon1\n",
    "    dlat = lat2 - lat1\n",
    "    a = sin(dlat / 2) ** 2 + cos(lat1) * cos(lat2) * sin(dlon / 2) ** 2\n",
    "    return 2 * 6371 * asin(sqrt(a))\n"
   ]
  },
  {
   "cell_type": "code",
   "execution_count": null,
   "outputs": [],
   "source": [
    "#Tip 1:\n",
    "# usar los datasets\n",
    "\n",
    "# data['order_items']\n",
    "# data['sellers']\n",
    "# data['customers']\n"
   ],
   "metadata": {
    "collapsed": false
   }
  },
  {
   "cell_type": "code",
   "execution_count": null,
   "metadata": {
    "tags": [
     "delete_begin"
    ]
   },
   "outputs": [],
   "source": [
    "#tipo 2\n",
    "#usar el dataset de geolocalizacion\n",
    "# Un zip code puede tener varias lat y lon. groupby puede ser usado con el metodo .first() para quedarte con el primero\n",
    "#agroupa data['geolocation'] con ese metodo y crea un datset llamado geo\n",
    "\n",
    "# Solo usar columnas 'seller_id', 'seller_zip_code_prefix', 'geolocation_lat', 'geolocation_lng'\n",
    "\n"
   ]
  },
  {
   "cell_type": "code",
   "execution_count": null,
   "outputs": [],
   "source": [
    "\n",
    "# mergear sellers con geolocalizacion\n",
    "# Mergear con buyers, usar solo de ese dataset ['customer_id', 'customer_zip_code_prefix', 'geolocation_lat', 'geolocation_lng']\n",
    "\n",
    "# Mergear en otra tabla compradores y vendedores\n",
    "\n",
    "\n",
    "# Mergear ese resultado con geolocalizacion de compradores\n",
    "\n",
    "# Remover  na()\n",
    "\n",
    "# Una orden puede tener muchos compradores retorna el promedio\n"
   ],
   "metadata": {
    "collapsed": false
   }
  },
  {
   "cell_type": "code",
   "execution_count": null,
   "outputs": [],
   "source": [
    "from olist.preprocess import calcular_distancia_vendedor_comprador\n",
    "distancia_a_la_orden = calcular_distancia_vendedor_comprador(data)"
   ],
   "metadata": {
    "collapsed": false
   }
  },
  {
   "cell_type": "code",
   "execution_count": null,
   "outputs": [],
   "source": [
    "distancia_a_la_orden"
   ],
   "metadata": {
    "collapsed": false
   }
  },
  {
   "cell_type": "code",
   "execution_count": null,
   "metadata": {
    "tags": [
     "challengify"
    ]
   },
   "outputs": [],
   "source": [
    "distancia_a_la_orden"
   ]
  },
  {
   "cell_type": "markdown",
   "metadata": {},
   "source": [
    "cual es la mediana de la distancia"
   ]
  },
  {
   "cell_type": "code",
   "execution_count": null,
   "metadata": {},
   "outputs": [],
   "source": [
    "distancia_a_la_orden['distance_seller_customer'].describe()"
   ]
  },
  {
   "cell_type": "markdown",
   "source": [
    "# Merger todos los datasets excepto el de distancia"
   ],
   "metadata": {
    "collapsed": false
   },
   "execution_count": 27
  },
  {
   "cell_type": "code",
   "execution_count": null,
   "outputs": [],
   "source": [
    "tablon_primario = orders.merge(reviews, on='order_id') \\\n",
    "    .merge(productos, on='order_id') \\\n",
    "    .merge(vendedores, on='order_id') \\\n",
    "    .merge(precio_y_transporte, on='order_id')\n",
    "tablon_primario"
   ],
   "metadata": {
    "collapsed": false
   }
  },
  {
   "cell_type": "code",
   "execution_count": null,
   "outputs": [],
   "source": [],
   "metadata": {
    "collapsed": false
   }
  }
 ],
 "metadata": {
  "kernelspec": {
   "display_name": "Python 3",
   "language": "python",
   "name": "python3"
  }
 },
 "nbformat": 4,
 "nbformat_minor": 4
}
