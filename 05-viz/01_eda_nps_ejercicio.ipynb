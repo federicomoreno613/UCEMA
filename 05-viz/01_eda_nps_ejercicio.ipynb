{
 "cells": [
  {
   "cell_type": "markdown",
   "source": [
    "https://drive.google.com/file/d/1qXY__4wYfjLcLTKWYWlVYHOXFgY8L-qP/view?usp=sharing"
   ],
   "metadata": {
    "collapsed": false,
    "pycharm": {
     "name": "#%% md\n"
    }
   }
  },
  {
   "cell_type": "code",
   "execution_count": 15,
   "metadata": {
    "pycharm": {
     "name": "#%%\n"
    }
   },
   "outputs": [],
   "source": [
    "#Importamos librerias\n",
    "import pandas as pd\n",
    "import matplotlib.pyplot as plt\n",
    "import seaborn as sns\n",
    "import numpy as np"
   ]
  },
  {
   "cell_type": "code",
   "execution_count": 16,
   "metadata": {
    "pycharm": {
     "name": "#%%\n"
    }
   },
   "outputs": [
    {
     "name": "stdout",
     "output_type": "stream",
     "text": [
      ",CREATION_DATE,RESPONSE_DATE,CURRENT_STATUS,GENDER,DAY_OF_BIRTH,CIF_ID,AGE,LOCATION,TOUCHPOINT_NUMBER,CASE_NUMBER,CASE_DATE,CASE_CHANNEL,PRODUCT_NAME,NPS_SCORE,TAGS\r\n",
      "0,2021-06-11 10:30:03 UTC,2021-06-12 10:43:18 UTC,2,M,1954-09-18 00:00:00 UTC,1402267,66.0,DOMINGO FAUSTINO SARMIENTO,Service,5671770,2021-06-09 00:00:00 UTC,EUROP,Automotores Individuales,0, mot Grua  mot Servicio  mot Accesibilidad  mot Cobertura poliza\r\n",
      "1,2021-06-10 10:30:03 UTC,2021-06-12 17:38:35 UTC,5,F,1994-10-06 00:00:00 UTC,23733377,26.0,CORDOBA,Service,5662123,2021-06-08 00:00:00 UTC,AUXICAJA,Automotores Individuales,9, mot Servicio  mot Precio  atr Eficacia  mot Atencion\r\n",
      "2,2021-06-07 10:30:03 UTC,2021-06-12 16:52:27 UTC,5,M,1980-08-07 00:00:00 UTC,21113765,40.0,DIAMANTE,Service,5625253,2021-06-03 00:00:00 UTC,AUXICAJA,Automotores Individuales,10,\r\n",
      "3,2021-06-10 10:30:03 UTC,2021-06-13 19:29:41 UTC,5,M,1959-09-12 00:00:00 UTC,19579674,61.0,CIUDAD AUTONOMA BUENOS AIRES,Query/Servicing request,5663499,2021-06-09 00:00:00 UTC,SUCURSAL,Automotores Individuales,10, mot Grua  atr Eficacia\r\n",
      "4,2021-05-31 10:30:03 UTC,2021-06-06 22:26:27 UTC,1,M,1952-04-19 00:00:00 UTC,13972088,69.0,TRANCAS,Claims,5582911,2021-05-21 00:00:00 UTC,CALL CENTER,Automotores Individuales,0, mot Siniestro  atr Eficacia\r\n",
      "5,2021-06-04 10:30:02 UTC,2021-06-06 18:03:57 UTC,2,M,1978-09-29 00:00:00 UTC,18454077,42.0,COMODORO RIVADAVIA,Purchase,5616941,2021-06-03 00:00:00 UTC,CALL CENTER,Automotores Individuales,0, mot Atencion\r\n",
      "6,2021-06-04 10:30:02 UTC,2021-06-06 13:58:35 UTC,5,M,1964-05-17 00:00:00 UTC,20754786,57.0,SALTA,Documentation Request,5619982,2021-06-02 00:00:00 UTC,WEB,Automotores Individuales,10, atr Eficacia\r\n",
      "7,2021-06-09 10:30:03 UTC,2021-06-09 10:48:03 UTC,0,M,1996-12-20 00:00:00 UTC,14884444,24.0,CORDOBA,Purchase,5653163,2021-06-08 00:00:00 UTC,WEB,Automotores Individuales,8, mot FacturacionPagos\r\n",
      "8,2021-06-09 10:30:03 UTC,2021-06-10 20:47:15 UTC,5,M,1988-01-27 00:00:00 UTC,17409488,33.0,LAS HERAS,Documentation Request,5656265,2021-06-07 00:00:00 UTC,WEB,Automotores Individuales,10, mot Servicio  atr Eficacia\r\n"
     ]
    }
   ],
   "source": [
    "!head data_nps.csv"
   ]
  },
  {
   "cell_type": "code",
   "execution_count": 17,
   "outputs": [
    {
     "data": {
      "text/plain": "'/Users/usuario/PycharmProjects/pythonProject5/UCEMA/05-viz'"
     },
     "execution_count": 17,
     "metadata": {},
     "output_type": "execute_result"
    }
   ],
   "source": [
    "pwd"
   ],
   "metadata": {
    "collapsed": false,
    "pycharm": {
     "name": "#%%\n"
    }
   }
  },
  {
   "cell_type": "code",
   "execution_count": 18,
   "metadata": {
    "pycharm": {
     "name": "#%%\n"
    }
   },
   "outputs": [
    {
     "data": {
      "text/plain": "       Unnamed: 0            CREATION_DATE            RESPONSE_DATE  \\\n0               0  2021-06-11 10:30:03 UTC  2021-06-12 10:43:18 UTC   \n1               1  2021-06-10 10:30:03 UTC  2021-06-12 17:38:35 UTC   \n2               2  2021-06-07 10:30:03 UTC  2021-06-12 16:52:27 UTC   \n3               3  2021-06-10 10:30:03 UTC  2021-06-13 19:29:41 UTC   \n4               4  2021-05-31 10:30:03 UTC  2021-06-06 22:26:27 UTC   \n...           ...                      ...                      ...   \n15995       15995  2021-05-10 10:30:03 UTC  2021-05-10 10:46:11 UTC   \n15996       15996  2021-05-10 10:30:03 UTC  2021-05-10 12:12:26 UTC   \n15997       15997  2021-05-10 10:30:03 UTC  2021-05-10 19:38:46 UTC   \n15998       15998  2021-05-10 10:30:03 UTC  2021-05-10 10:45:03 UTC   \n15999       15999  2021-05-10 10:39:05 UTC  2021-05-10 12:02:05 UTC   \n\n       CURRENT_STATUS GENDER             DAY_OF_BIRTH    CIF_ID   AGE  \\\n0                   2      M  1954-09-18 00:00:00 UTC   1402267  66.0   \n1                   5      F  1994-10-06 00:00:00 UTC  23733377  26.0   \n2                   5      M  1980-08-07 00:00:00 UTC  21113765  40.0   \n3                   5      M  1959-09-12 00:00:00 UTC  19579674  61.0   \n4                   1      M  1952-04-19 00:00:00 UTC  13972088  69.0   \n...               ...    ...                      ...       ...   ...   \n15995               5      M  1974-11-24 00:00:00 UTC  23609326  46.0   \n15996               0      M  1960-09-21 00:00:00 UTC  11254684  60.0   \n15997               0      M  1960-07-15 00:00:00 UTC  16971297  60.0   \n15998               2      M  1956-07-10 00:00:00 UTC   5768360  64.0   \n15999               0      F  1965-11-22 00:00:00 UTC   8703935  55.0   \n\n                           LOCATION        TOUCHPOINT_NUMBER  CASE_NUMBER  \\\n0        DOMINGO FAUSTINO SARMIENTO                  Service      5671770   \n1                           CORDOBA                  Service      5662123   \n2                          DIAMANTE                  Service      5625253   \n3      CIUDAD AUTONOMA BUENOS AIRES  Query/Servicing request      5663499   \n4                           TRANCAS                   Claims      5582911   \n...                             ...                      ...          ...   \n15995               ISIDRO CASANOVA    Documentation Request      5436373   \n15996  CIUDAD AUTONOMA BUENOS AIRES    Documentation Request      5434652   \n15997         SAN MIGUEL DE TUCUMAN    Documentation Request      5435120   \n15998                VILLA DOMINICO    Documentation Request      5434365   \n15999  CIUDAD AUTONOMA BUENOS AIRES  Query/Servicing request      5426739   \n\n                     CASE_DATE CASE_CHANNEL              PRODUCT_NAME  \\\n0      2021-06-09 00:00:00 UTC        EUROP  Automotores Individuales   \n1      2021-06-08 00:00:00 UTC     AUXICAJA  Automotores Individuales   \n2      2021-06-03 00:00:00 UTC     AUXICAJA  Automotores Individuales   \n3      2021-06-09 00:00:00 UTC     SUCURSAL  Automotores Individuales   \n4      2021-05-21 00:00:00 UTC  CALL CENTER  Automotores Individuales   \n...                        ...          ...                       ...   \n15995  2021-05-07 00:00:00 UTC          WEB  Automotores Individuales   \n15996  2021-05-07 00:00:00 UTC          WEB  Automotores Individuales   \n15997  2021-05-07 00:00:00 UTC          WEB  Automotores Individuales   \n15998  2021-05-07 00:00:00 UTC          WEB  Automotores Individuales   \n15999  2021-05-07 00:00:00 UTC     SUCURSAL  Automotores Individuales   \n\n       NPS_SCORE                                               TAGS  \n0              0   mot Grua  mot Servicio  mot Accesibilidad  mo...  \n1              9   mot Servicio  mot Precio  atr Eficacia  mot A...  \n2             10                                                NaN  \n3             10                             mot Grua  atr Eficacia  \n4              0                        mot Siniestro  atr Eficacia  \n...          ...                                                ...  \n15995          9                mot Siniestro  mot Cobertura poliza  \n15996          7   mot Siniestro  mot FacturacionPagos  mot Prec...  \n15997          7                                                NaN  \n15998          2   mot Siniestro  atr Conformidad  mot Facturaci...  \n15999          8                                       mot Servicio  \n\n[16000 rows x 16 columns]",
      "text/html": "<div>\n<style scoped>\n    .dataframe tbody tr th:only-of-type {\n        vertical-align: middle;\n    }\n\n    .dataframe tbody tr th {\n        vertical-align: top;\n    }\n\n    .dataframe thead th {\n        text-align: right;\n    }\n</style>\n<table border=\"1\" class=\"dataframe\">\n  <thead>\n    <tr style=\"text-align: right;\">\n      <th></th>\n      <th>Unnamed: 0</th>\n      <th>CREATION_DATE</th>\n      <th>RESPONSE_DATE</th>\n      <th>CURRENT_STATUS</th>\n      <th>GENDER</th>\n      <th>DAY_OF_BIRTH</th>\n      <th>CIF_ID</th>\n      <th>AGE</th>\n      <th>LOCATION</th>\n      <th>TOUCHPOINT_NUMBER</th>\n      <th>CASE_NUMBER</th>\n      <th>CASE_DATE</th>\n      <th>CASE_CHANNEL</th>\n      <th>PRODUCT_NAME</th>\n      <th>NPS_SCORE</th>\n      <th>TAGS</th>\n    </tr>\n  </thead>\n  <tbody>\n    <tr>\n      <th>0</th>\n      <td>0</td>\n      <td>2021-06-11 10:30:03 UTC</td>\n      <td>2021-06-12 10:43:18 UTC</td>\n      <td>2</td>\n      <td>M</td>\n      <td>1954-09-18 00:00:00 UTC</td>\n      <td>1402267</td>\n      <td>66.0</td>\n      <td>DOMINGO FAUSTINO SARMIENTO</td>\n      <td>Service</td>\n      <td>5671770</td>\n      <td>2021-06-09 00:00:00 UTC</td>\n      <td>EUROP</td>\n      <td>Automotores Individuales</td>\n      <td>0</td>\n      <td>mot Grua  mot Servicio  mot Accesibilidad  mo...</td>\n    </tr>\n    <tr>\n      <th>1</th>\n      <td>1</td>\n      <td>2021-06-10 10:30:03 UTC</td>\n      <td>2021-06-12 17:38:35 UTC</td>\n      <td>5</td>\n      <td>F</td>\n      <td>1994-10-06 00:00:00 UTC</td>\n      <td>23733377</td>\n      <td>26.0</td>\n      <td>CORDOBA</td>\n      <td>Service</td>\n      <td>5662123</td>\n      <td>2021-06-08 00:00:00 UTC</td>\n      <td>AUXICAJA</td>\n      <td>Automotores Individuales</td>\n      <td>9</td>\n      <td>mot Servicio  mot Precio  atr Eficacia  mot A...</td>\n    </tr>\n    <tr>\n      <th>2</th>\n      <td>2</td>\n      <td>2021-06-07 10:30:03 UTC</td>\n      <td>2021-06-12 16:52:27 UTC</td>\n      <td>5</td>\n      <td>M</td>\n      <td>1980-08-07 00:00:00 UTC</td>\n      <td>21113765</td>\n      <td>40.0</td>\n      <td>DIAMANTE</td>\n      <td>Service</td>\n      <td>5625253</td>\n      <td>2021-06-03 00:00:00 UTC</td>\n      <td>AUXICAJA</td>\n      <td>Automotores Individuales</td>\n      <td>10</td>\n      <td>NaN</td>\n    </tr>\n    <tr>\n      <th>3</th>\n      <td>3</td>\n      <td>2021-06-10 10:30:03 UTC</td>\n      <td>2021-06-13 19:29:41 UTC</td>\n      <td>5</td>\n      <td>M</td>\n      <td>1959-09-12 00:00:00 UTC</td>\n      <td>19579674</td>\n      <td>61.0</td>\n      <td>CIUDAD AUTONOMA BUENOS AIRES</td>\n      <td>Query/Servicing request</td>\n      <td>5663499</td>\n      <td>2021-06-09 00:00:00 UTC</td>\n      <td>SUCURSAL</td>\n      <td>Automotores Individuales</td>\n      <td>10</td>\n      <td>mot Grua  atr Eficacia</td>\n    </tr>\n    <tr>\n      <th>4</th>\n      <td>4</td>\n      <td>2021-05-31 10:30:03 UTC</td>\n      <td>2021-06-06 22:26:27 UTC</td>\n      <td>1</td>\n      <td>M</td>\n      <td>1952-04-19 00:00:00 UTC</td>\n      <td>13972088</td>\n      <td>69.0</td>\n      <td>TRANCAS</td>\n      <td>Claims</td>\n      <td>5582911</td>\n      <td>2021-05-21 00:00:00 UTC</td>\n      <td>CALL CENTER</td>\n      <td>Automotores Individuales</td>\n      <td>0</td>\n      <td>mot Siniestro  atr Eficacia</td>\n    </tr>\n    <tr>\n      <th>...</th>\n      <td>...</td>\n      <td>...</td>\n      <td>...</td>\n      <td>...</td>\n      <td>...</td>\n      <td>...</td>\n      <td>...</td>\n      <td>...</td>\n      <td>...</td>\n      <td>...</td>\n      <td>...</td>\n      <td>...</td>\n      <td>...</td>\n      <td>...</td>\n      <td>...</td>\n      <td>...</td>\n    </tr>\n    <tr>\n      <th>15995</th>\n      <td>15995</td>\n      <td>2021-05-10 10:30:03 UTC</td>\n      <td>2021-05-10 10:46:11 UTC</td>\n      <td>5</td>\n      <td>M</td>\n      <td>1974-11-24 00:00:00 UTC</td>\n      <td>23609326</td>\n      <td>46.0</td>\n      <td>ISIDRO CASANOVA</td>\n      <td>Documentation Request</td>\n      <td>5436373</td>\n      <td>2021-05-07 00:00:00 UTC</td>\n      <td>WEB</td>\n      <td>Automotores Individuales</td>\n      <td>9</td>\n      <td>mot Siniestro  mot Cobertura poliza</td>\n    </tr>\n    <tr>\n      <th>15996</th>\n      <td>15996</td>\n      <td>2021-05-10 10:30:03 UTC</td>\n      <td>2021-05-10 12:12:26 UTC</td>\n      <td>0</td>\n      <td>M</td>\n      <td>1960-09-21 00:00:00 UTC</td>\n      <td>11254684</td>\n      <td>60.0</td>\n      <td>CIUDAD AUTONOMA BUENOS AIRES</td>\n      <td>Documentation Request</td>\n      <td>5434652</td>\n      <td>2021-05-07 00:00:00 UTC</td>\n      <td>WEB</td>\n      <td>Automotores Individuales</td>\n      <td>7</td>\n      <td>mot Siniestro  mot FacturacionPagos  mot Prec...</td>\n    </tr>\n    <tr>\n      <th>15997</th>\n      <td>15997</td>\n      <td>2021-05-10 10:30:03 UTC</td>\n      <td>2021-05-10 19:38:46 UTC</td>\n      <td>0</td>\n      <td>M</td>\n      <td>1960-07-15 00:00:00 UTC</td>\n      <td>16971297</td>\n      <td>60.0</td>\n      <td>SAN MIGUEL DE TUCUMAN</td>\n      <td>Documentation Request</td>\n      <td>5435120</td>\n      <td>2021-05-07 00:00:00 UTC</td>\n      <td>WEB</td>\n      <td>Automotores Individuales</td>\n      <td>7</td>\n      <td>NaN</td>\n    </tr>\n    <tr>\n      <th>15998</th>\n      <td>15998</td>\n      <td>2021-05-10 10:30:03 UTC</td>\n      <td>2021-05-10 10:45:03 UTC</td>\n      <td>2</td>\n      <td>M</td>\n      <td>1956-07-10 00:00:00 UTC</td>\n      <td>5768360</td>\n      <td>64.0</td>\n      <td>VILLA DOMINICO</td>\n      <td>Documentation Request</td>\n      <td>5434365</td>\n      <td>2021-05-07 00:00:00 UTC</td>\n      <td>WEB</td>\n      <td>Automotores Individuales</td>\n      <td>2</td>\n      <td>mot Siniestro  atr Conformidad  mot Facturaci...</td>\n    </tr>\n    <tr>\n      <th>15999</th>\n      <td>15999</td>\n      <td>2021-05-10 10:39:05 UTC</td>\n      <td>2021-05-10 12:02:05 UTC</td>\n      <td>0</td>\n      <td>F</td>\n      <td>1965-11-22 00:00:00 UTC</td>\n      <td>8703935</td>\n      <td>55.0</td>\n      <td>CIUDAD AUTONOMA BUENOS AIRES</td>\n      <td>Query/Servicing request</td>\n      <td>5426739</td>\n      <td>2021-05-07 00:00:00 UTC</td>\n      <td>SUCURSAL</td>\n      <td>Automotores Individuales</td>\n      <td>8</td>\n      <td>mot Servicio</td>\n    </tr>\n  </tbody>\n</table>\n<p>16000 rows × 16 columns</p>\n</div>"
     },
     "execution_count": 18,
     "metadata": {},
     "output_type": "execute_result"
    }
   ],
   "source": [
    "#Cargamos el dataframe y nos interiorizamos de sus campos\n",
    "#Que no haya una columna que se llame 'Unnamed: 0'\n",
    "df = pd.read_csv('data_nps.csv')\n",
    "df"
   ]
  },
  {
   "cell_type": "code",
   "execution_count": 19,
   "outputs": [
    {
     "data": {
      "text/plain": "                 CREATION_DATE            RESPONSE_DATE  CURRENT_STATUS  \\\n0      2021-06-11 10:30:03 UTC  2021-06-12 10:43:18 UTC               2   \n1      2021-06-10 10:30:03 UTC  2021-06-12 17:38:35 UTC               5   \n2      2021-06-07 10:30:03 UTC  2021-06-12 16:52:27 UTC               5   \n3      2021-06-10 10:30:03 UTC  2021-06-13 19:29:41 UTC               5   \n4      2021-05-31 10:30:03 UTC  2021-06-06 22:26:27 UTC               1   \n...                        ...                      ...             ...   \n15995  2021-05-10 10:30:03 UTC  2021-05-10 10:46:11 UTC               5   \n15996  2021-05-10 10:30:03 UTC  2021-05-10 12:12:26 UTC               0   \n15997  2021-05-10 10:30:03 UTC  2021-05-10 19:38:46 UTC               0   \n15998  2021-05-10 10:30:03 UTC  2021-05-10 10:45:03 UTC               2   \n15999  2021-05-10 10:39:05 UTC  2021-05-10 12:02:05 UTC               0   \n\n      GENDER             DAY_OF_BIRTH    CIF_ID   AGE  \\\n0          M  1954-09-18 00:00:00 UTC   1402267  66.0   \n1          F  1994-10-06 00:00:00 UTC  23733377  26.0   \n2          M  1980-08-07 00:00:00 UTC  21113765  40.0   \n3          M  1959-09-12 00:00:00 UTC  19579674  61.0   \n4          M  1952-04-19 00:00:00 UTC  13972088  69.0   \n...      ...                      ...       ...   ...   \n15995      M  1974-11-24 00:00:00 UTC  23609326  46.0   \n15996      M  1960-09-21 00:00:00 UTC  11254684  60.0   \n15997      M  1960-07-15 00:00:00 UTC  16971297  60.0   \n15998      M  1956-07-10 00:00:00 UTC   5768360  64.0   \n15999      F  1965-11-22 00:00:00 UTC   8703935  55.0   \n\n                           LOCATION        TOUCHPOINT_NUMBER  CASE_NUMBER  \\\n0        DOMINGO FAUSTINO SARMIENTO                  Service      5671770   \n1                           CORDOBA                  Service      5662123   \n2                          DIAMANTE                  Service      5625253   \n3      CIUDAD AUTONOMA BUENOS AIRES  Query/Servicing request      5663499   \n4                           TRANCAS                   Claims      5582911   \n...                             ...                      ...          ...   \n15995               ISIDRO CASANOVA    Documentation Request      5436373   \n15996  CIUDAD AUTONOMA BUENOS AIRES    Documentation Request      5434652   \n15997         SAN MIGUEL DE TUCUMAN    Documentation Request      5435120   \n15998                VILLA DOMINICO    Documentation Request      5434365   \n15999  CIUDAD AUTONOMA BUENOS AIRES  Query/Servicing request      5426739   \n\n                     CASE_DATE CASE_CHANNEL              PRODUCT_NAME  \\\n0      2021-06-09 00:00:00 UTC        EUROP  Automotores Individuales   \n1      2021-06-08 00:00:00 UTC     AUXICAJA  Automotores Individuales   \n2      2021-06-03 00:00:00 UTC     AUXICAJA  Automotores Individuales   \n3      2021-06-09 00:00:00 UTC     SUCURSAL  Automotores Individuales   \n4      2021-05-21 00:00:00 UTC  CALL CENTER  Automotores Individuales   \n...                        ...          ...                       ...   \n15995  2021-05-07 00:00:00 UTC          WEB  Automotores Individuales   \n15996  2021-05-07 00:00:00 UTC          WEB  Automotores Individuales   \n15997  2021-05-07 00:00:00 UTC          WEB  Automotores Individuales   \n15998  2021-05-07 00:00:00 UTC          WEB  Automotores Individuales   \n15999  2021-05-07 00:00:00 UTC     SUCURSAL  Automotores Individuales   \n\n       NPS_SCORE                                               TAGS  \n0              0   mot Grua  mot Servicio  mot Accesibilidad  mo...  \n1              9   mot Servicio  mot Precio  atr Eficacia  mot A...  \n2             10                                                NaN  \n3             10                             mot Grua  atr Eficacia  \n4              0                        mot Siniestro  atr Eficacia  \n...          ...                                                ...  \n15995          9                mot Siniestro  mot Cobertura poliza  \n15996          7   mot Siniestro  mot FacturacionPagos  mot Prec...  \n15997          7                                                NaN  \n15998          2   mot Siniestro  atr Conformidad  mot Facturaci...  \n15999          8                                       mot Servicio  \n\n[16000 rows x 15 columns]",
      "text/html": "<div>\n<style scoped>\n    .dataframe tbody tr th:only-of-type {\n        vertical-align: middle;\n    }\n\n    .dataframe tbody tr th {\n        vertical-align: top;\n    }\n\n    .dataframe thead th {\n        text-align: right;\n    }\n</style>\n<table border=\"1\" class=\"dataframe\">\n  <thead>\n    <tr style=\"text-align: right;\">\n      <th></th>\n      <th>CREATION_DATE</th>\n      <th>RESPONSE_DATE</th>\n      <th>CURRENT_STATUS</th>\n      <th>GENDER</th>\n      <th>DAY_OF_BIRTH</th>\n      <th>CIF_ID</th>\n      <th>AGE</th>\n      <th>LOCATION</th>\n      <th>TOUCHPOINT_NUMBER</th>\n      <th>CASE_NUMBER</th>\n      <th>CASE_DATE</th>\n      <th>CASE_CHANNEL</th>\n      <th>PRODUCT_NAME</th>\n      <th>NPS_SCORE</th>\n      <th>TAGS</th>\n    </tr>\n  </thead>\n  <tbody>\n    <tr>\n      <th>0</th>\n      <td>2021-06-11 10:30:03 UTC</td>\n      <td>2021-06-12 10:43:18 UTC</td>\n      <td>2</td>\n      <td>M</td>\n      <td>1954-09-18 00:00:00 UTC</td>\n      <td>1402267</td>\n      <td>66.0</td>\n      <td>DOMINGO FAUSTINO SARMIENTO</td>\n      <td>Service</td>\n      <td>5671770</td>\n      <td>2021-06-09 00:00:00 UTC</td>\n      <td>EUROP</td>\n      <td>Automotores Individuales</td>\n      <td>0</td>\n      <td>mot Grua  mot Servicio  mot Accesibilidad  mo...</td>\n    </tr>\n    <tr>\n      <th>1</th>\n      <td>2021-06-10 10:30:03 UTC</td>\n      <td>2021-06-12 17:38:35 UTC</td>\n      <td>5</td>\n      <td>F</td>\n      <td>1994-10-06 00:00:00 UTC</td>\n      <td>23733377</td>\n      <td>26.0</td>\n      <td>CORDOBA</td>\n      <td>Service</td>\n      <td>5662123</td>\n      <td>2021-06-08 00:00:00 UTC</td>\n      <td>AUXICAJA</td>\n      <td>Automotores Individuales</td>\n      <td>9</td>\n      <td>mot Servicio  mot Precio  atr Eficacia  mot A...</td>\n    </tr>\n    <tr>\n      <th>2</th>\n      <td>2021-06-07 10:30:03 UTC</td>\n      <td>2021-06-12 16:52:27 UTC</td>\n      <td>5</td>\n      <td>M</td>\n      <td>1980-08-07 00:00:00 UTC</td>\n      <td>21113765</td>\n      <td>40.0</td>\n      <td>DIAMANTE</td>\n      <td>Service</td>\n      <td>5625253</td>\n      <td>2021-06-03 00:00:00 UTC</td>\n      <td>AUXICAJA</td>\n      <td>Automotores Individuales</td>\n      <td>10</td>\n      <td>NaN</td>\n    </tr>\n    <tr>\n      <th>3</th>\n      <td>2021-06-10 10:30:03 UTC</td>\n      <td>2021-06-13 19:29:41 UTC</td>\n      <td>5</td>\n      <td>M</td>\n      <td>1959-09-12 00:00:00 UTC</td>\n      <td>19579674</td>\n      <td>61.0</td>\n      <td>CIUDAD AUTONOMA BUENOS AIRES</td>\n      <td>Query/Servicing request</td>\n      <td>5663499</td>\n      <td>2021-06-09 00:00:00 UTC</td>\n      <td>SUCURSAL</td>\n      <td>Automotores Individuales</td>\n      <td>10</td>\n      <td>mot Grua  atr Eficacia</td>\n    </tr>\n    <tr>\n      <th>4</th>\n      <td>2021-05-31 10:30:03 UTC</td>\n      <td>2021-06-06 22:26:27 UTC</td>\n      <td>1</td>\n      <td>M</td>\n      <td>1952-04-19 00:00:00 UTC</td>\n      <td>13972088</td>\n      <td>69.0</td>\n      <td>TRANCAS</td>\n      <td>Claims</td>\n      <td>5582911</td>\n      <td>2021-05-21 00:00:00 UTC</td>\n      <td>CALL CENTER</td>\n      <td>Automotores Individuales</td>\n      <td>0</td>\n      <td>mot Siniestro  atr Eficacia</td>\n    </tr>\n    <tr>\n      <th>...</th>\n      <td>...</td>\n      <td>...</td>\n      <td>...</td>\n      <td>...</td>\n      <td>...</td>\n      <td>...</td>\n      <td>...</td>\n      <td>...</td>\n      <td>...</td>\n      <td>...</td>\n      <td>...</td>\n      <td>...</td>\n      <td>...</td>\n      <td>...</td>\n      <td>...</td>\n    </tr>\n    <tr>\n      <th>15995</th>\n      <td>2021-05-10 10:30:03 UTC</td>\n      <td>2021-05-10 10:46:11 UTC</td>\n      <td>5</td>\n      <td>M</td>\n      <td>1974-11-24 00:00:00 UTC</td>\n      <td>23609326</td>\n      <td>46.0</td>\n      <td>ISIDRO CASANOVA</td>\n      <td>Documentation Request</td>\n      <td>5436373</td>\n      <td>2021-05-07 00:00:00 UTC</td>\n      <td>WEB</td>\n      <td>Automotores Individuales</td>\n      <td>9</td>\n      <td>mot Siniestro  mot Cobertura poliza</td>\n    </tr>\n    <tr>\n      <th>15996</th>\n      <td>2021-05-10 10:30:03 UTC</td>\n      <td>2021-05-10 12:12:26 UTC</td>\n      <td>0</td>\n      <td>M</td>\n      <td>1960-09-21 00:00:00 UTC</td>\n      <td>11254684</td>\n      <td>60.0</td>\n      <td>CIUDAD AUTONOMA BUENOS AIRES</td>\n      <td>Documentation Request</td>\n      <td>5434652</td>\n      <td>2021-05-07 00:00:00 UTC</td>\n      <td>WEB</td>\n      <td>Automotores Individuales</td>\n      <td>7</td>\n      <td>mot Siniestro  mot FacturacionPagos  mot Prec...</td>\n    </tr>\n    <tr>\n      <th>15997</th>\n      <td>2021-05-10 10:30:03 UTC</td>\n      <td>2021-05-10 19:38:46 UTC</td>\n      <td>0</td>\n      <td>M</td>\n      <td>1960-07-15 00:00:00 UTC</td>\n      <td>16971297</td>\n      <td>60.0</td>\n      <td>SAN MIGUEL DE TUCUMAN</td>\n      <td>Documentation Request</td>\n      <td>5435120</td>\n      <td>2021-05-07 00:00:00 UTC</td>\n      <td>WEB</td>\n      <td>Automotores Individuales</td>\n      <td>7</td>\n      <td>NaN</td>\n    </tr>\n    <tr>\n      <th>15998</th>\n      <td>2021-05-10 10:30:03 UTC</td>\n      <td>2021-05-10 10:45:03 UTC</td>\n      <td>2</td>\n      <td>M</td>\n      <td>1956-07-10 00:00:00 UTC</td>\n      <td>5768360</td>\n      <td>64.0</td>\n      <td>VILLA DOMINICO</td>\n      <td>Documentation Request</td>\n      <td>5434365</td>\n      <td>2021-05-07 00:00:00 UTC</td>\n      <td>WEB</td>\n      <td>Automotores Individuales</td>\n      <td>2</td>\n      <td>mot Siniestro  atr Conformidad  mot Facturaci...</td>\n    </tr>\n    <tr>\n      <th>15999</th>\n      <td>2021-05-10 10:39:05 UTC</td>\n      <td>2021-05-10 12:02:05 UTC</td>\n      <td>0</td>\n      <td>F</td>\n      <td>1965-11-22 00:00:00 UTC</td>\n      <td>8703935</td>\n      <td>55.0</td>\n      <td>CIUDAD AUTONOMA BUENOS AIRES</td>\n      <td>Query/Servicing request</td>\n      <td>5426739</td>\n      <td>2021-05-07 00:00:00 UTC</td>\n      <td>SUCURSAL</td>\n      <td>Automotores Individuales</td>\n      <td>8</td>\n      <td>mot Servicio</td>\n    </tr>\n  </tbody>\n</table>\n<p>16000 rows × 15 columns</p>\n</div>"
     },
     "execution_count": 19,
     "metadata": {},
     "output_type": "execute_result"
    }
   ],
   "source": [
    "df = df.drop(columns = ['Unnamed: 0'])\n",
    "df"
   ],
   "metadata": {
    "collapsed": false,
    "pycharm": {
     "name": "#%%\n"
    }
   }
  },
  {
   "cell_type": "code",
   "execution_count": 20,
   "metadata": {
    "pycharm": {
     "name": "#%%\n"
    }
   },
   "outputs": [
    {
     "data": {
      "text/plain": "                 CREATION_DATE            RESPONSE_DATE  CURRENT_STATUS  \\\n15995  2021-05-10 10:30:03 UTC  2021-05-10 10:46:11 UTC               5   \n15996  2021-05-10 10:30:03 UTC  2021-05-10 12:12:26 UTC               0   \n15997  2021-05-10 10:30:03 UTC  2021-05-10 19:38:46 UTC               0   \n15998  2021-05-10 10:30:03 UTC  2021-05-10 10:45:03 UTC               2   \n15999  2021-05-10 10:39:05 UTC  2021-05-10 12:02:05 UTC               0   \n\n      GENDER             DAY_OF_BIRTH    CIF_ID   AGE  \\\n15995      M  1974-11-24 00:00:00 UTC  23609326  46.0   \n15996      M  1960-09-21 00:00:00 UTC  11254684  60.0   \n15997      M  1960-07-15 00:00:00 UTC  16971297  60.0   \n15998      M  1956-07-10 00:00:00 UTC   5768360  64.0   \n15999      F  1965-11-22 00:00:00 UTC   8703935  55.0   \n\n                           LOCATION        TOUCHPOINT_NUMBER  CASE_NUMBER  \\\n15995               ISIDRO CASANOVA    Documentation Request      5436373   \n15996  CIUDAD AUTONOMA BUENOS AIRES    Documentation Request      5434652   \n15997         SAN MIGUEL DE TUCUMAN    Documentation Request      5435120   \n15998                VILLA DOMINICO    Documentation Request      5434365   \n15999  CIUDAD AUTONOMA BUENOS AIRES  Query/Servicing request      5426739   \n\n                     CASE_DATE CASE_CHANNEL              PRODUCT_NAME  \\\n15995  2021-05-07 00:00:00 UTC          WEB  Automotores Individuales   \n15996  2021-05-07 00:00:00 UTC          WEB  Automotores Individuales   \n15997  2021-05-07 00:00:00 UTC          WEB  Automotores Individuales   \n15998  2021-05-07 00:00:00 UTC          WEB  Automotores Individuales   \n15999  2021-05-07 00:00:00 UTC     SUCURSAL  Automotores Individuales   \n\n       NPS_SCORE                                               TAGS  \n15995          9                mot Siniestro  mot Cobertura poliza  \n15996          7   mot Siniestro  mot FacturacionPagos  mot Prec...  \n15997          7                                                NaN  \n15998          2   mot Siniestro  atr Conformidad  mot Facturaci...  \n15999          8                                       mot Servicio  ",
      "text/html": "<div>\n<style scoped>\n    .dataframe tbody tr th:only-of-type {\n        vertical-align: middle;\n    }\n\n    .dataframe tbody tr th {\n        vertical-align: top;\n    }\n\n    .dataframe thead th {\n        text-align: right;\n    }\n</style>\n<table border=\"1\" class=\"dataframe\">\n  <thead>\n    <tr style=\"text-align: right;\">\n      <th></th>\n      <th>CREATION_DATE</th>\n      <th>RESPONSE_DATE</th>\n      <th>CURRENT_STATUS</th>\n      <th>GENDER</th>\n      <th>DAY_OF_BIRTH</th>\n      <th>CIF_ID</th>\n      <th>AGE</th>\n      <th>LOCATION</th>\n      <th>TOUCHPOINT_NUMBER</th>\n      <th>CASE_NUMBER</th>\n      <th>CASE_DATE</th>\n      <th>CASE_CHANNEL</th>\n      <th>PRODUCT_NAME</th>\n      <th>NPS_SCORE</th>\n      <th>TAGS</th>\n    </tr>\n  </thead>\n  <tbody>\n    <tr>\n      <th>15995</th>\n      <td>2021-05-10 10:30:03 UTC</td>\n      <td>2021-05-10 10:46:11 UTC</td>\n      <td>5</td>\n      <td>M</td>\n      <td>1974-11-24 00:00:00 UTC</td>\n      <td>23609326</td>\n      <td>46.0</td>\n      <td>ISIDRO CASANOVA</td>\n      <td>Documentation Request</td>\n      <td>5436373</td>\n      <td>2021-05-07 00:00:00 UTC</td>\n      <td>WEB</td>\n      <td>Automotores Individuales</td>\n      <td>9</td>\n      <td>mot Siniestro  mot Cobertura poliza</td>\n    </tr>\n    <tr>\n      <th>15996</th>\n      <td>2021-05-10 10:30:03 UTC</td>\n      <td>2021-05-10 12:12:26 UTC</td>\n      <td>0</td>\n      <td>M</td>\n      <td>1960-09-21 00:00:00 UTC</td>\n      <td>11254684</td>\n      <td>60.0</td>\n      <td>CIUDAD AUTONOMA BUENOS AIRES</td>\n      <td>Documentation Request</td>\n      <td>5434652</td>\n      <td>2021-05-07 00:00:00 UTC</td>\n      <td>WEB</td>\n      <td>Automotores Individuales</td>\n      <td>7</td>\n      <td>mot Siniestro  mot FacturacionPagos  mot Prec...</td>\n    </tr>\n    <tr>\n      <th>15997</th>\n      <td>2021-05-10 10:30:03 UTC</td>\n      <td>2021-05-10 19:38:46 UTC</td>\n      <td>0</td>\n      <td>M</td>\n      <td>1960-07-15 00:00:00 UTC</td>\n      <td>16971297</td>\n      <td>60.0</td>\n      <td>SAN MIGUEL DE TUCUMAN</td>\n      <td>Documentation Request</td>\n      <td>5435120</td>\n      <td>2021-05-07 00:00:00 UTC</td>\n      <td>WEB</td>\n      <td>Automotores Individuales</td>\n      <td>7</td>\n      <td>NaN</td>\n    </tr>\n    <tr>\n      <th>15998</th>\n      <td>2021-05-10 10:30:03 UTC</td>\n      <td>2021-05-10 10:45:03 UTC</td>\n      <td>2</td>\n      <td>M</td>\n      <td>1956-07-10 00:00:00 UTC</td>\n      <td>5768360</td>\n      <td>64.0</td>\n      <td>VILLA DOMINICO</td>\n      <td>Documentation Request</td>\n      <td>5434365</td>\n      <td>2021-05-07 00:00:00 UTC</td>\n      <td>WEB</td>\n      <td>Automotores Individuales</td>\n      <td>2</td>\n      <td>mot Siniestro  atr Conformidad  mot Facturaci...</td>\n    </tr>\n    <tr>\n      <th>15999</th>\n      <td>2021-05-10 10:39:05 UTC</td>\n      <td>2021-05-10 12:02:05 UTC</td>\n      <td>0</td>\n      <td>F</td>\n      <td>1965-11-22 00:00:00 UTC</td>\n      <td>8703935</td>\n      <td>55.0</td>\n      <td>CIUDAD AUTONOMA BUENOS AIRES</td>\n      <td>Query/Servicing request</td>\n      <td>5426739</td>\n      <td>2021-05-07 00:00:00 UTC</td>\n      <td>SUCURSAL</td>\n      <td>Automotores Individuales</td>\n      <td>8</td>\n      <td>mot Servicio</td>\n    </tr>\n  </tbody>\n</table>\n</div>"
     },
     "execution_count": 20,
     "metadata": {},
     "output_type": "execute_result"
    }
   ],
   "source": [
    "#imprimir lo de abajo\n",
    "df.tail()"
   ]
  },
  {
   "cell_type": "code",
   "execution_count": 21,
   "metadata": {
    "pycharm": {
     "name": "#%%\n"
    }
   },
   "outputs": [
    {
     "data": {
      "text/plain": "Index(['CREATION_DATE', 'RESPONSE_DATE', 'CURRENT_STATUS', 'GENDER',\n       'DAY_OF_BIRTH', 'CIF_ID', 'AGE', 'LOCATION', 'TOUCHPOINT_NUMBER',\n       'CASE_NUMBER', 'CASE_DATE', 'CASE_CHANNEL', 'PRODUCT_NAME', 'NPS_SCORE',\n       'TAGS'],\n      dtype='object')"
     },
     "execution_count": 21,
     "metadata": {},
     "output_type": "execute_result"
    }
   ],
   "source": [
    "#mostrar nombres de columna\n",
    "df.columns"
   ]
  },
  {
   "cell_type": "markdown",
   "metadata": {
    "pycharm": {
     "name": "#%% md\n"
    }
   },
   "source": [
    "Hacer una función que determine si es promotor, detractor y neutro e implementarla a una columna del dataset que se llama nps_segment\n",
    "* Promotor: NPS_SCORE = 8,9,10\n",
    "* Neutro: NPS_SCORE = 6,7\n",
    "* Detractor: NPS_SCORE = 1,2,3,4,5"
   ]
  },
  {
   "cell_type": "code",
   "execution_count": 22,
   "metadata": {
    "pycharm": {
     "name": "#%%\n"
    }
   },
   "outputs": [],
   "source": [
    "def nps_segment(x):\n",
    "    if x > 7:\n",
    "       return  'Promotor'\n",
    "    elif x < 6:\n",
    "        return 'Detractor'\n",
    "    else:\n",
    "       return 'Neutro'\n",
    "\n",
    "#df[\"nombre_de_la_columna_nueva\"] = df[\"Columna_a_transformar\"].apply(función_creada_por_nosotros)"
   ]
  },
  {
   "cell_type": "code",
   "execution_count": 23,
   "metadata": {
    "pycharm": {
     "name": "#%%\n"
    }
   },
   "outputs": [
    {
     "data": {
      "text/plain": "                 CREATION_DATE            RESPONSE_DATE  CURRENT_STATUS  \\\n0      2021-06-11 10:30:03 UTC  2021-06-12 10:43:18 UTC               2   \n1      2021-06-10 10:30:03 UTC  2021-06-12 17:38:35 UTC               5   \n2      2021-06-07 10:30:03 UTC  2021-06-12 16:52:27 UTC               5   \n3      2021-06-10 10:30:03 UTC  2021-06-13 19:29:41 UTC               5   \n4      2021-05-31 10:30:03 UTC  2021-06-06 22:26:27 UTC               1   \n...                        ...                      ...             ...   \n15995  2021-05-10 10:30:03 UTC  2021-05-10 10:46:11 UTC               5   \n15996  2021-05-10 10:30:03 UTC  2021-05-10 12:12:26 UTC               0   \n15997  2021-05-10 10:30:03 UTC  2021-05-10 19:38:46 UTC               0   \n15998  2021-05-10 10:30:03 UTC  2021-05-10 10:45:03 UTC               2   \n15999  2021-05-10 10:39:05 UTC  2021-05-10 12:02:05 UTC               0   \n\n      GENDER             DAY_OF_BIRTH    CIF_ID   AGE  \\\n0          M  1954-09-18 00:00:00 UTC   1402267  66.0   \n1          F  1994-10-06 00:00:00 UTC  23733377  26.0   \n2          M  1980-08-07 00:00:00 UTC  21113765  40.0   \n3          M  1959-09-12 00:00:00 UTC  19579674  61.0   \n4          M  1952-04-19 00:00:00 UTC  13972088  69.0   \n...      ...                      ...       ...   ...   \n15995      M  1974-11-24 00:00:00 UTC  23609326  46.0   \n15996      M  1960-09-21 00:00:00 UTC  11254684  60.0   \n15997      M  1960-07-15 00:00:00 UTC  16971297  60.0   \n15998      M  1956-07-10 00:00:00 UTC   5768360  64.0   \n15999      F  1965-11-22 00:00:00 UTC   8703935  55.0   \n\n                           LOCATION        TOUCHPOINT_NUMBER  CASE_NUMBER  \\\n0        DOMINGO FAUSTINO SARMIENTO                  Service      5671770   \n1                           CORDOBA                  Service      5662123   \n2                          DIAMANTE                  Service      5625253   \n3      CIUDAD AUTONOMA BUENOS AIRES  Query/Servicing request      5663499   \n4                           TRANCAS                   Claims      5582911   \n...                             ...                      ...          ...   \n15995               ISIDRO CASANOVA    Documentation Request      5436373   \n15996  CIUDAD AUTONOMA BUENOS AIRES    Documentation Request      5434652   \n15997         SAN MIGUEL DE TUCUMAN    Documentation Request      5435120   \n15998                VILLA DOMINICO    Documentation Request      5434365   \n15999  CIUDAD AUTONOMA BUENOS AIRES  Query/Servicing request      5426739   \n\n                     CASE_DATE CASE_CHANNEL              PRODUCT_NAME  \\\n0      2021-06-09 00:00:00 UTC        EUROP  Automotores Individuales   \n1      2021-06-08 00:00:00 UTC     AUXICAJA  Automotores Individuales   \n2      2021-06-03 00:00:00 UTC     AUXICAJA  Automotores Individuales   \n3      2021-06-09 00:00:00 UTC     SUCURSAL  Automotores Individuales   \n4      2021-05-21 00:00:00 UTC  CALL CENTER  Automotores Individuales   \n...                        ...          ...                       ...   \n15995  2021-05-07 00:00:00 UTC          WEB  Automotores Individuales   \n15996  2021-05-07 00:00:00 UTC          WEB  Automotores Individuales   \n15997  2021-05-07 00:00:00 UTC          WEB  Automotores Individuales   \n15998  2021-05-07 00:00:00 UTC          WEB  Automotores Individuales   \n15999  2021-05-07 00:00:00 UTC     SUCURSAL  Automotores Individuales   \n\n       NPS_SCORE                                               TAGS  \\\n0              0   mot Grua  mot Servicio  mot Accesibilidad  mo...   \n1              9   mot Servicio  mot Precio  atr Eficacia  mot A...   \n2             10                                                NaN   \n3             10                             mot Grua  atr Eficacia   \n4              0                        mot Siniestro  atr Eficacia   \n...          ...                                                ...   \n15995          9                mot Siniestro  mot Cobertura poliza   \n15996          7   mot Siniestro  mot FacturacionPagos  mot Prec...   \n15997          7                                                NaN   \n15998          2   mot Siniestro  atr Conformidad  mot Facturaci...   \n15999          8                                       mot Servicio   \n\n      NPS_SEGMENT  \n0       Detractor  \n1        Promotor  \n2        Promotor  \n3        Promotor  \n4       Detractor  \n...           ...  \n15995    Promotor  \n15996      Neutro  \n15997      Neutro  \n15998   Detractor  \n15999    Promotor  \n\n[16000 rows x 16 columns]",
      "text/html": "<div>\n<style scoped>\n    .dataframe tbody tr th:only-of-type {\n        vertical-align: middle;\n    }\n\n    .dataframe tbody tr th {\n        vertical-align: top;\n    }\n\n    .dataframe thead th {\n        text-align: right;\n    }\n</style>\n<table border=\"1\" class=\"dataframe\">\n  <thead>\n    <tr style=\"text-align: right;\">\n      <th></th>\n      <th>CREATION_DATE</th>\n      <th>RESPONSE_DATE</th>\n      <th>CURRENT_STATUS</th>\n      <th>GENDER</th>\n      <th>DAY_OF_BIRTH</th>\n      <th>CIF_ID</th>\n      <th>AGE</th>\n      <th>LOCATION</th>\n      <th>TOUCHPOINT_NUMBER</th>\n      <th>CASE_NUMBER</th>\n      <th>CASE_DATE</th>\n      <th>CASE_CHANNEL</th>\n      <th>PRODUCT_NAME</th>\n      <th>NPS_SCORE</th>\n      <th>TAGS</th>\n      <th>NPS_SEGMENT</th>\n    </tr>\n  </thead>\n  <tbody>\n    <tr>\n      <th>0</th>\n      <td>2021-06-11 10:30:03 UTC</td>\n      <td>2021-06-12 10:43:18 UTC</td>\n      <td>2</td>\n      <td>M</td>\n      <td>1954-09-18 00:00:00 UTC</td>\n      <td>1402267</td>\n      <td>66.0</td>\n      <td>DOMINGO FAUSTINO SARMIENTO</td>\n      <td>Service</td>\n      <td>5671770</td>\n      <td>2021-06-09 00:00:00 UTC</td>\n      <td>EUROP</td>\n      <td>Automotores Individuales</td>\n      <td>0</td>\n      <td>mot Grua  mot Servicio  mot Accesibilidad  mo...</td>\n      <td>Detractor</td>\n    </tr>\n    <tr>\n      <th>1</th>\n      <td>2021-06-10 10:30:03 UTC</td>\n      <td>2021-06-12 17:38:35 UTC</td>\n      <td>5</td>\n      <td>F</td>\n      <td>1994-10-06 00:00:00 UTC</td>\n      <td>23733377</td>\n      <td>26.0</td>\n      <td>CORDOBA</td>\n      <td>Service</td>\n      <td>5662123</td>\n      <td>2021-06-08 00:00:00 UTC</td>\n      <td>AUXICAJA</td>\n      <td>Automotores Individuales</td>\n      <td>9</td>\n      <td>mot Servicio  mot Precio  atr Eficacia  mot A...</td>\n      <td>Promotor</td>\n    </tr>\n    <tr>\n      <th>2</th>\n      <td>2021-06-07 10:30:03 UTC</td>\n      <td>2021-06-12 16:52:27 UTC</td>\n      <td>5</td>\n      <td>M</td>\n      <td>1980-08-07 00:00:00 UTC</td>\n      <td>21113765</td>\n      <td>40.0</td>\n      <td>DIAMANTE</td>\n      <td>Service</td>\n      <td>5625253</td>\n      <td>2021-06-03 00:00:00 UTC</td>\n      <td>AUXICAJA</td>\n      <td>Automotores Individuales</td>\n      <td>10</td>\n      <td>NaN</td>\n      <td>Promotor</td>\n    </tr>\n    <tr>\n      <th>3</th>\n      <td>2021-06-10 10:30:03 UTC</td>\n      <td>2021-06-13 19:29:41 UTC</td>\n      <td>5</td>\n      <td>M</td>\n      <td>1959-09-12 00:00:00 UTC</td>\n      <td>19579674</td>\n      <td>61.0</td>\n      <td>CIUDAD AUTONOMA BUENOS AIRES</td>\n      <td>Query/Servicing request</td>\n      <td>5663499</td>\n      <td>2021-06-09 00:00:00 UTC</td>\n      <td>SUCURSAL</td>\n      <td>Automotores Individuales</td>\n      <td>10</td>\n      <td>mot Grua  atr Eficacia</td>\n      <td>Promotor</td>\n    </tr>\n    <tr>\n      <th>4</th>\n      <td>2021-05-31 10:30:03 UTC</td>\n      <td>2021-06-06 22:26:27 UTC</td>\n      <td>1</td>\n      <td>M</td>\n      <td>1952-04-19 00:00:00 UTC</td>\n      <td>13972088</td>\n      <td>69.0</td>\n      <td>TRANCAS</td>\n      <td>Claims</td>\n      <td>5582911</td>\n      <td>2021-05-21 00:00:00 UTC</td>\n      <td>CALL CENTER</td>\n      <td>Automotores Individuales</td>\n      <td>0</td>\n      <td>mot Siniestro  atr Eficacia</td>\n      <td>Detractor</td>\n    </tr>\n    <tr>\n      <th>...</th>\n      <td>...</td>\n      <td>...</td>\n      <td>...</td>\n      <td>...</td>\n      <td>...</td>\n      <td>...</td>\n      <td>...</td>\n      <td>...</td>\n      <td>...</td>\n      <td>...</td>\n      <td>...</td>\n      <td>...</td>\n      <td>...</td>\n      <td>...</td>\n      <td>...</td>\n      <td>...</td>\n    </tr>\n    <tr>\n      <th>15995</th>\n      <td>2021-05-10 10:30:03 UTC</td>\n      <td>2021-05-10 10:46:11 UTC</td>\n      <td>5</td>\n      <td>M</td>\n      <td>1974-11-24 00:00:00 UTC</td>\n      <td>23609326</td>\n      <td>46.0</td>\n      <td>ISIDRO CASANOVA</td>\n      <td>Documentation Request</td>\n      <td>5436373</td>\n      <td>2021-05-07 00:00:00 UTC</td>\n      <td>WEB</td>\n      <td>Automotores Individuales</td>\n      <td>9</td>\n      <td>mot Siniestro  mot Cobertura poliza</td>\n      <td>Promotor</td>\n    </tr>\n    <tr>\n      <th>15996</th>\n      <td>2021-05-10 10:30:03 UTC</td>\n      <td>2021-05-10 12:12:26 UTC</td>\n      <td>0</td>\n      <td>M</td>\n      <td>1960-09-21 00:00:00 UTC</td>\n      <td>11254684</td>\n      <td>60.0</td>\n      <td>CIUDAD AUTONOMA BUENOS AIRES</td>\n      <td>Documentation Request</td>\n      <td>5434652</td>\n      <td>2021-05-07 00:00:00 UTC</td>\n      <td>WEB</td>\n      <td>Automotores Individuales</td>\n      <td>7</td>\n      <td>mot Siniestro  mot FacturacionPagos  mot Prec...</td>\n      <td>Neutro</td>\n    </tr>\n    <tr>\n      <th>15997</th>\n      <td>2021-05-10 10:30:03 UTC</td>\n      <td>2021-05-10 19:38:46 UTC</td>\n      <td>0</td>\n      <td>M</td>\n      <td>1960-07-15 00:00:00 UTC</td>\n      <td>16971297</td>\n      <td>60.0</td>\n      <td>SAN MIGUEL DE TUCUMAN</td>\n      <td>Documentation Request</td>\n      <td>5435120</td>\n      <td>2021-05-07 00:00:00 UTC</td>\n      <td>WEB</td>\n      <td>Automotores Individuales</td>\n      <td>7</td>\n      <td>NaN</td>\n      <td>Neutro</td>\n    </tr>\n    <tr>\n      <th>15998</th>\n      <td>2021-05-10 10:30:03 UTC</td>\n      <td>2021-05-10 10:45:03 UTC</td>\n      <td>2</td>\n      <td>M</td>\n      <td>1956-07-10 00:00:00 UTC</td>\n      <td>5768360</td>\n      <td>64.0</td>\n      <td>VILLA DOMINICO</td>\n      <td>Documentation Request</td>\n      <td>5434365</td>\n      <td>2021-05-07 00:00:00 UTC</td>\n      <td>WEB</td>\n      <td>Automotores Individuales</td>\n      <td>2</td>\n      <td>mot Siniestro  atr Conformidad  mot Facturaci...</td>\n      <td>Detractor</td>\n    </tr>\n    <tr>\n      <th>15999</th>\n      <td>2021-05-10 10:39:05 UTC</td>\n      <td>2021-05-10 12:02:05 UTC</td>\n      <td>0</td>\n      <td>F</td>\n      <td>1965-11-22 00:00:00 UTC</td>\n      <td>8703935</td>\n      <td>55.0</td>\n      <td>CIUDAD AUTONOMA BUENOS AIRES</td>\n      <td>Query/Servicing request</td>\n      <td>5426739</td>\n      <td>2021-05-07 00:00:00 UTC</td>\n      <td>SUCURSAL</td>\n      <td>Automotores Individuales</td>\n      <td>8</td>\n      <td>mot Servicio</td>\n      <td>Promotor</td>\n    </tr>\n  </tbody>\n</table>\n<p>16000 rows × 16 columns</p>\n</div>"
     },
     "execution_count": 23,
     "metadata": {},
     "output_type": "execute_result"
    }
   ],
   "source": [
    "df[\"NPS_SEGMENT\"] = df['NPS_SCORE'].apply(nps_segment)\n",
    "df"
   ]
  },
  {
   "cell_type": "code",
   "execution_count": 24,
   "metadata": {
    "pycharm": {
     "name": "#%%\n"
    }
   },
   "outputs": [
    {
     "data": {
      "text/plain": "2184"
     },
     "execution_count": 24,
     "metadata": {},
     "output_type": "execute_result"
    }
   ],
   "source": [
    "#imprimir nans en la columna TAGS\n",
    "df.TAGS.isnull().sum()"
   ]
  },
  {
   "cell_type": "markdown",
   "metadata": {
    "pycharm": {
     "name": "#%% md\n"
    }
   },
   "source": [
    "Con numpy.where crear una columna llamada detected, que determina si la columna TAGS tiene algun contenido. Poner True si lo tiene y si no tiene contenido poner False."
   ]
  },
  {
   "cell_type": "code",
   "execution_count": 25,
   "metadata": {
    "pycharm": {
     "name": "#%%\n"
    }
   },
   "outputs": [
    {
     "data": {
      "text/plain": "0         True\n1         True\n2        False\n3         True\n4         True\n         ...  \n15995     True\n15996     True\n15997    False\n15998     True\n15999     True\nName: detected, Length: 16000, dtype: object"
     },
     "execution_count": 25,
     "metadata": {},
     "output_type": "execute_result"
    }
   ],
   "source": [
    "#Escribi tu código acá (HINT: Buscar numpy where documentacion)\n",
    "df[\"detected\"] = np.where(df.TAGS.isnull(), 'False', 'True')\n",
    "df[\"detected\"]"
   ]
  },
  {
   "cell_type": "markdown",
   "metadata": {
    "pycharm": {
     "name": "#%% md\n"
    }
   },
   "source": [
    "## Dates\n",
    "Devolver la fecha máxima y minima de la columna CREATION_DATE"
   ]
  },
  {
   "cell_type": "code",
   "execution_count": 26,
   "metadata": {
    "pycharm": {
     "name": "#%%\n"
    }
   },
   "outputs": [
    {
     "data": {
      "text/plain": "'2021-06-15 12:35:01 UTC'"
     },
     "execution_count": 26,
     "metadata": {},
     "output_type": "execute_result"
    }
   ],
   "source": [
    "df.CREATION_DATE.max()"
   ]
  },
  {
   "cell_type": "code",
   "execution_count": 27,
   "metadata": {
    "pycharm": {
     "name": "#%%\n"
    }
   },
   "outputs": [
    {
     "data": {
      "text/plain": "'2020-12-10 10:30:03 UTC'"
     },
     "execution_count": 27,
     "metadata": {},
     "output_type": "execute_result"
    }
   ],
   "source": [
    "df.CREATION_DATE.min()"
   ]
  },
  {
   "cell_type": "markdown",
   "metadata": {
    "pycharm": {
     "name": "#%% md\n"
    }
   },
   "source": [
    "Chequear los data types de todas las columnas"
   ]
  },
  {
   "cell_type": "code",
   "execution_count": 28,
   "metadata": {
    "pycharm": {
     "name": "#%%\n"
    }
   },
   "outputs": [
    {
     "data": {
      "text/plain": "0        2021-06-11 10:30:03 UTC\n1        2021-06-10 10:30:03 UTC\n2        2021-06-07 10:30:03 UTC\n3        2021-06-10 10:30:03 UTC\n4        2021-05-31 10:30:03 UTC\n                  ...           \n15995    2021-05-10 10:30:03 UTC\n15996    2021-05-10 10:30:03 UTC\n15997    2021-05-10 10:30:03 UTC\n15998    2021-05-10 10:30:03 UTC\n15999    2021-05-10 10:39:05 UTC\nName: CREATION_DATE, Length: 16000, dtype: object"
     },
     "execution_count": 28,
     "metadata": {},
     "output_type": "execute_result"
    }
   ],
   "source": [
    "df.CREATION_DATE"
   ]
  },
  {
   "cell_type": "markdown",
   "metadata": {
    "pycharm": {
     "name": "#%% md\n"
    }
   },
   "source": [
    "¿Cual es el data type de CREATION_DATE ¿Te parece correct?"
   ]
  },
  {
   "cell_type": "code",
   "execution_count": 29,
   "outputs": [
    {
     "data": {
      "text/plain": "pandas.core.series.Series"
     },
     "execution_count": 29,
     "metadata": {},
     "output_type": "execute_result"
    }
   ],
   "source": [
    "type(df.CREATION_DATE)"
   ],
   "metadata": {
    "collapsed": false,
    "pycharm": {
     "name": "#%%\n"
    }
   }
  },
  {
   "cell_type": "markdown",
   "metadata": {
    "pycharm": {
     "name": "#%% md\n"
    }
   },
   "source": [
    "Crear una columna que solo tenga año y mes. Llameémosle year_month. Utilizar pd.to_datetime() primero y luego to period"
   ]
  },
  {
   "cell_type": "code",
   "execution_count": 30,
   "outputs": [],
   "source": [
    "df['CREATION_DATE'] = pd.to_datetime(df['CREATION_DATE'])"
   ],
   "metadata": {
    "collapsed": false,
    "pycharm": {
     "name": "#%%\n"
    }
   }
  },
  {
   "cell_type": "code",
   "execution_count": 31,
   "metadata": {
    "pycharm": {
     "name": "#%%\n"
    }
   },
   "outputs": [
    {
     "name": "stderr",
     "output_type": "stream",
     "text": [
      "/Users/usuario/PycharmProjects/pythonProject5/venv/lib/python3.8/site-packages/pandas/core/arrays/datetimes.py:1162: UserWarning: Converting to PeriodArray/Index representation will drop timezone information.\n",
      "  warnings.warn(\n"
     ]
    }
   ],
   "source": [
    "df ['year_month'] = df.CREATION_DATE.dt.to_period('M')"
   ]
  },
  {
   "cell_type": "code",
   "execution_count": 44,
   "metadata": {
    "pycharm": {
     "name": "#%%\n"
    }
   },
   "outputs": [
    {
     "data": {
      "text/plain": "0        2021-06\n1        2021-06\n2        2021-06\n3        2021-06\n4        2021-05\n          ...   \n15995    2021-05\n15996    2021-05\n15997    2021-05\n15998    2021-05\n15999    2021-05\nName: year_month, Length: 16000, dtype: period[M]"
     },
     "execution_count": 44,
     "metadata": {},
     "output_type": "execute_result"
    }
   ],
   "source": [
    "#armar el código para crear la columna año mes\n",
    "df['year_month']"
   ]
  },
  {
   "cell_type": "markdown",
   "metadata": {
    "pycharm": {
     "name": "#%% md\n"
    }
   },
   "source": [
    "## Conteo.\n",
    "Crear un nuevo dataframe agrupado por year_month donde tenga la cantidad de encuestas únicas mes a mes\n",
    "** Hint**:\n",
    "```python\n",
    "df.groupby(grouping_column).agg(\"count\")\n",
    "```"
   ]
  },
  {
   "cell_type": "code",
   "execution_count": 33,
   "metadata": {
    "pycharm": {
     "name": "#%%\n"
    }
   },
   "outputs": [
    {
     "data": {
      "text/plain": "            CREATION_DATE  RESPONSE_DATE  CURRENT_STATUS  GENDER  \\\nyear_month                                                         \n2020-12               124            124             124     123   \n2021-01              2617           2617            2617    2612   \n2021-02              2433           2433            2433    2427   \n2021-03              3308           3308            3308    3294   \n2021-04              2883           2883            2883    2868   \n2021-05              3066           3066            3066    3051   \n2021-06              1569           1569            1569    1562   \n\n            DAY_OF_BIRTH  CIF_ID   AGE  LOCATION  TOUCHPOINT_NUMBER  \\\nyear_month                                                            \n2020-12              123     124   123       124                124   \n2021-01             2612    2617  2612      2610               2617   \n2021-02             2426    2433  2426      2428               2433   \n2021-03             3294    3308  3294      3297               3308   \n2021-04             2868    2883  2868      2876               2883   \n2021-05             3051    3066  3051      3055               3066   \n2021-06             1562    1569  1562      1568               1569   \n\n            CASE_NUMBER  CASE_DATE  CASE_CHANNEL  PRODUCT_NAME  NPS_SCORE  \\\nyear_month                                                                  \n2020-12             124        124           124           124        124   \n2021-01            2617       2617          2617          2617       2617   \n2021-02            2433       2433          2433          2433       2433   \n2021-03            3308       3308          3308          3308       3308   \n2021-04            2883       2883          2883          2883       2883   \n2021-05            3066       3066          3066          3066       3066   \n2021-06            1569       1569          1569          1569       1569   \n\n            TAGS  NPS_SEGMENT  detected  \nyear_month                               \n2020-12      111          124       124  \n2021-01     2246         2617      2617  \n2021-02     2139         2433      2433  \n2021-03     2866         3308      3308  \n2021-04     2466         2883      2883  \n2021-05     2632         3066      3066  \n2021-06     1356         1569      1569  ",
      "text/html": "<div>\n<style scoped>\n    .dataframe tbody tr th:only-of-type {\n        vertical-align: middle;\n    }\n\n    .dataframe tbody tr th {\n        vertical-align: top;\n    }\n\n    .dataframe thead th {\n        text-align: right;\n    }\n</style>\n<table border=\"1\" class=\"dataframe\">\n  <thead>\n    <tr style=\"text-align: right;\">\n      <th></th>\n      <th>CREATION_DATE</th>\n      <th>RESPONSE_DATE</th>\n      <th>CURRENT_STATUS</th>\n      <th>GENDER</th>\n      <th>DAY_OF_BIRTH</th>\n      <th>CIF_ID</th>\n      <th>AGE</th>\n      <th>LOCATION</th>\n      <th>TOUCHPOINT_NUMBER</th>\n      <th>CASE_NUMBER</th>\n      <th>CASE_DATE</th>\n      <th>CASE_CHANNEL</th>\n      <th>PRODUCT_NAME</th>\n      <th>NPS_SCORE</th>\n      <th>TAGS</th>\n      <th>NPS_SEGMENT</th>\n      <th>detected</th>\n    </tr>\n    <tr>\n      <th>year_month</th>\n      <th></th>\n      <th></th>\n      <th></th>\n      <th></th>\n      <th></th>\n      <th></th>\n      <th></th>\n      <th></th>\n      <th></th>\n      <th></th>\n      <th></th>\n      <th></th>\n      <th></th>\n      <th></th>\n      <th></th>\n      <th></th>\n      <th></th>\n    </tr>\n  </thead>\n  <tbody>\n    <tr>\n      <th>2020-12</th>\n      <td>124</td>\n      <td>124</td>\n      <td>124</td>\n      <td>123</td>\n      <td>123</td>\n      <td>124</td>\n      <td>123</td>\n      <td>124</td>\n      <td>124</td>\n      <td>124</td>\n      <td>124</td>\n      <td>124</td>\n      <td>124</td>\n      <td>124</td>\n      <td>111</td>\n      <td>124</td>\n      <td>124</td>\n    </tr>\n    <tr>\n      <th>2021-01</th>\n      <td>2617</td>\n      <td>2617</td>\n      <td>2617</td>\n      <td>2612</td>\n      <td>2612</td>\n      <td>2617</td>\n      <td>2612</td>\n      <td>2610</td>\n      <td>2617</td>\n      <td>2617</td>\n      <td>2617</td>\n      <td>2617</td>\n      <td>2617</td>\n      <td>2617</td>\n      <td>2246</td>\n      <td>2617</td>\n      <td>2617</td>\n    </tr>\n    <tr>\n      <th>2021-02</th>\n      <td>2433</td>\n      <td>2433</td>\n      <td>2433</td>\n      <td>2427</td>\n      <td>2426</td>\n      <td>2433</td>\n      <td>2426</td>\n      <td>2428</td>\n      <td>2433</td>\n      <td>2433</td>\n      <td>2433</td>\n      <td>2433</td>\n      <td>2433</td>\n      <td>2433</td>\n      <td>2139</td>\n      <td>2433</td>\n      <td>2433</td>\n    </tr>\n    <tr>\n      <th>2021-03</th>\n      <td>3308</td>\n      <td>3308</td>\n      <td>3308</td>\n      <td>3294</td>\n      <td>3294</td>\n      <td>3308</td>\n      <td>3294</td>\n      <td>3297</td>\n      <td>3308</td>\n      <td>3308</td>\n      <td>3308</td>\n      <td>3308</td>\n      <td>3308</td>\n      <td>3308</td>\n      <td>2866</td>\n      <td>3308</td>\n      <td>3308</td>\n    </tr>\n    <tr>\n      <th>2021-04</th>\n      <td>2883</td>\n      <td>2883</td>\n      <td>2883</td>\n      <td>2868</td>\n      <td>2868</td>\n      <td>2883</td>\n      <td>2868</td>\n      <td>2876</td>\n      <td>2883</td>\n      <td>2883</td>\n      <td>2883</td>\n      <td>2883</td>\n      <td>2883</td>\n      <td>2883</td>\n      <td>2466</td>\n      <td>2883</td>\n      <td>2883</td>\n    </tr>\n    <tr>\n      <th>2021-05</th>\n      <td>3066</td>\n      <td>3066</td>\n      <td>3066</td>\n      <td>3051</td>\n      <td>3051</td>\n      <td>3066</td>\n      <td>3051</td>\n      <td>3055</td>\n      <td>3066</td>\n      <td>3066</td>\n      <td>3066</td>\n      <td>3066</td>\n      <td>3066</td>\n      <td>3066</td>\n      <td>2632</td>\n      <td>3066</td>\n      <td>3066</td>\n    </tr>\n    <tr>\n      <th>2021-06</th>\n      <td>1569</td>\n      <td>1569</td>\n      <td>1569</td>\n      <td>1562</td>\n      <td>1562</td>\n      <td>1569</td>\n      <td>1562</td>\n      <td>1568</td>\n      <td>1569</td>\n      <td>1569</td>\n      <td>1569</td>\n      <td>1569</td>\n      <td>1569</td>\n      <td>1569</td>\n      <td>1356</td>\n      <td>1569</td>\n      <td>1569</td>\n    </tr>\n  </tbody>\n</table>\n</div>"
     },
     "execution_count": 33,
     "metadata": {},
     "output_type": "execute_result"
    }
   ],
   "source": [
    "df2 = df.groupby(\"year_month\").agg('count')\n",
    "df2"
   ]
  },
  {
   "cell_type": "markdown",
   "metadata": {
    "pycharm": {
     "name": "#%% md\n"
    }
   },
   "source": [
    "Crear un dataste donde sume la cantidad de encuestas con TAG detectados, mes a mes"
   ]
  },
  {
   "cell_type": "markdown",
   "metadata": {
    "pycharm": {
     "name": "#%% md\n"
    }
   },
   "source": [
    "**Hint** :\n",
    "```python\n",
    "df.groupby(grouping_column).agg(\n",
    "    new_col_name =  ('old_col_name', 'sum'),\n",
    "    new_col_name_2 = ('old_col_name', 'mean')\n",
    ")\n",
    "```"
   ]
  },
  {
   "cell_type": "code",
   "execution_count": 34,
   "outputs": [
    {
     "data": {
      "text/plain": "year_month\n2020-12     111\n2021-01    2246\n2021-02    2139\n2021-03    2866\n2021-04    2466\n2021-05    2632\n2021-06    1356\nFreq: M, Name: TAGS, dtype: int64"
     },
     "execution_count": 34,
     "metadata": {},
     "output_type": "execute_result"
    }
   ],
   "source": [
    "df2.TAGS"
   ],
   "metadata": {
    "collapsed": false,
    "pycharm": {
     "name": "#%%\n"
    }
   }
  },
  {
   "cell_type": "code",
   "execution_count": 35,
   "metadata": {
    "pycharm": {
     "name": "#%%\n"
    }
   },
   "outputs": [
    {
     "data": {
      "text/plain": "            cantidad_destacdas\nyear_month                    \n2020-12                    111\n2021-01                   2246\n2021-02                   2139\n2021-03                   2866\n2021-04                   2466\n2021-05                   2632\n2021-06                   1356",
      "text/html": "<div>\n<style scoped>\n    .dataframe tbody tr th:only-of-type {\n        vertical-align: middle;\n    }\n\n    .dataframe tbody tr th {\n        vertical-align: top;\n    }\n\n    .dataframe thead th {\n        text-align: right;\n    }\n</style>\n<table border=\"1\" class=\"dataframe\">\n  <thead>\n    <tr style=\"text-align: right;\">\n      <th></th>\n      <th>cantidad_destacdas</th>\n    </tr>\n    <tr>\n      <th>year_month</th>\n      <th></th>\n    </tr>\n  </thead>\n  <tbody>\n    <tr>\n      <th>2020-12</th>\n      <td>111</td>\n    </tr>\n    <tr>\n      <th>2021-01</th>\n      <td>2246</td>\n    </tr>\n    <tr>\n      <th>2021-02</th>\n      <td>2139</td>\n    </tr>\n    <tr>\n      <th>2021-03</th>\n      <td>2866</td>\n    </tr>\n    <tr>\n      <th>2021-04</th>\n      <td>2466</td>\n    </tr>\n    <tr>\n      <th>2021-05</th>\n      <td>2632</td>\n    </tr>\n    <tr>\n      <th>2021-06</th>\n      <td>1356</td>\n    </tr>\n  </tbody>\n</table>\n</div>"
     },
     "execution_count": 35,
     "metadata": {},
     "output_type": "execute_result"
    }
   ],
   "source": [
    "df3 = df2.groupby('year_month').agg(cantidad_destacdas = ('TAGS', 'sum'))\n",
    "df3"
   ]
  },
  {
   "cell_type": "markdown",
   "metadata": {
    "pycharm": {
     "name": "#%% md\n"
    }
   },
   "source": [
    "Crear otro dataset donde tenga la cantidad de encuestas por nps_segment unicas por mes. promotoras, neutras y detractoras."
   ]
  },
  {
   "cell_type": "code",
   "execution_count": 46,
   "metadata": {
    "pycharm": {
     "name": "#%%\n"
    }
   },
   "outputs": [
    {
     "data": {
      "text/plain": "                        cantidad_destacdas\nyear_month NPS_SEGMENT                    \n2020-12    Detractor                    16\n           Neutro                        8\n           Promotor                    100\n2021-01    Detractor                   408\n           Neutro                      180\n           Promotor                   2028\n2021-02    Detractor                   472\n           Neutro                      162\n           Promotor                   1799\n2021-03    Detractor                   553\n           Neutro                      261\n           Promotor                   2494\n2021-04    Detractor                   416\n           Neutro                      206\n           Promotor                   2260\n2021-05    Detractor                   430\n           Neutro                      212\n           Promotor                   2421\n2021-06    Detractor                   219\n           Neutro                      100\n           Promotor                   1249",
      "text/html": "<div>\n<style scoped>\n    .dataframe tbody tr th:only-of-type {\n        vertical-align: middle;\n    }\n\n    .dataframe tbody tr th {\n        vertical-align: top;\n    }\n\n    .dataframe thead th {\n        text-align: right;\n    }\n</style>\n<table border=\"1\" class=\"dataframe\">\n  <thead>\n    <tr style=\"text-align: right;\">\n      <th></th>\n      <th></th>\n      <th>cantidad_destacdas</th>\n    </tr>\n    <tr>\n      <th>year_month</th>\n      <th>NPS_SEGMENT</th>\n      <th></th>\n    </tr>\n  </thead>\n  <tbody>\n    <tr>\n      <th rowspan=\"3\" valign=\"top\">2020-12</th>\n      <th>Detractor</th>\n      <td>16</td>\n    </tr>\n    <tr>\n      <th>Neutro</th>\n      <td>8</td>\n    </tr>\n    <tr>\n      <th>Promotor</th>\n      <td>100</td>\n    </tr>\n    <tr>\n      <th rowspan=\"3\" valign=\"top\">2021-01</th>\n      <th>Detractor</th>\n      <td>408</td>\n    </tr>\n    <tr>\n      <th>Neutro</th>\n      <td>180</td>\n    </tr>\n    <tr>\n      <th>Promotor</th>\n      <td>2028</td>\n    </tr>\n    <tr>\n      <th rowspan=\"3\" valign=\"top\">2021-02</th>\n      <th>Detractor</th>\n      <td>472</td>\n    </tr>\n    <tr>\n      <th>Neutro</th>\n      <td>162</td>\n    </tr>\n    <tr>\n      <th>Promotor</th>\n      <td>1799</td>\n    </tr>\n    <tr>\n      <th rowspan=\"3\" valign=\"top\">2021-03</th>\n      <th>Detractor</th>\n      <td>553</td>\n    </tr>\n    <tr>\n      <th>Neutro</th>\n      <td>261</td>\n    </tr>\n    <tr>\n      <th>Promotor</th>\n      <td>2494</td>\n    </tr>\n    <tr>\n      <th rowspan=\"3\" valign=\"top\">2021-04</th>\n      <th>Detractor</th>\n      <td>416</td>\n    </tr>\n    <tr>\n      <th>Neutro</th>\n      <td>206</td>\n    </tr>\n    <tr>\n      <th>Promotor</th>\n      <td>2260</td>\n    </tr>\n    <tr>\n      <th rowspan=\"3\" valign=\"top\">2021-05</th>\n      <th>Detractor</th>\n      <td>430</td>\n    </tr>\n    <tr>\n      <th>Neutro</th>\n      <td>212</td>\n    </tr>\n    <tr>\n      <th>Promotor</th>\n      <td>2421</td>\n    </tr>\n    <tr>\n      <th rowspan=\"3\" valign=\"top\">2021-06</th>\n      <th>Detractor</th>\n      <td>219</td>\n    </tr>\n    <tr>\n      <th>Neutro</th>\n      <td>100</td>\n    </tr>\n    <tr>\n      <th>Promotor</th>\n      <td>1249</td>\n    </tr>\n  </tbody>\n</table>\n</div>"
     },
     "execution_count": 46,
     "metadata": {},
     "output_type": "execute_result"
    }
   ],
   "source": [
    "df4 = df.groupby(['year_month','NPS_SEGMENT']).agg(cantidad_destacdas = ('CIF_ID', 'nunique'))\n",
    "df4"
   ]
  },
  {
   "cell_type": "markdown",
   "metadata": {
    "pycharm": {
     "name": "#%% md\n"
    }
   },
   "source": [
    "### Seg,emtps\n",
    "Crear un dataset que agrupe por segmento los CIF_ID únicos"
   ]
  },
  {
   "cell_type": "code",
   "execution_count": 37,
   "outputs": [
    {
     "data": {
      "text/plain": "NPS_SEGMENT\nDetractor     2467\nNeutro        1117\nPromotor     11892\nName: CIF_ID, dtype: int64"
     },
     "execution_count": 37,
     "metadata": {},
     "output_type": "execute_result"
    }
   ],
   "source": [
    "dataset_por_segmento = df.groupby('NPS_SEGMENT').CIF_ID.nunique()\n",
    "dataset_por_segmento"
   ],
   "metadata": {
    "collapsed": false,
    "pycharm": {
     "name": "#%%\n"
    }
   }
  },
  {
   "cell_type": "code",
   "execution_count": 38,
   "metadata": {
    "pycharm": {
     "name": "#%%\n"
    }
   },
   "outputs": [
    {
     "data": {
      "text/plain": "  NPS_SEGMENT  CIF_ID\n0   Detractor    2467\n1      Neutro    1117\n2    Promotor   11892",
      "text/html": "<div>\n<style scoped>\n    .dataframe tbody tr th:only-of-type {\n        vertical-align: middle;\n    }\n\n    .dataframe tbody tr th {\n        vertical-align: top;\n    }\n\n    .dataframe thead th {\n        text-align: right;\n    }\n</style>\n<table border=\"1\" class=\"dataframe\">\n  <thead>\n    <tr style=\"text-align: right;\">\n      <th></th>\n      <th>NPS_SEGMENT</th>\n      <th>CIF_ID</th>\n    </tr>\n  </thead>\n  <tbody>\n    <tr>\n      <th>0</th>\n      <td>Detractor</td>\n      <td>2467</td>\n    </tr>\n    <tr>\n      <th>1</th>\n      <td>Neutro</td>\n      <td>1117</td>\n    </tr>\n    <tr>\n      <th>2</th>\n      <td>Promotor</td>\n      <td>11892</td>\n    </tr>\n  </tbody>\n</table>\n</div>"
     },
     "execution_count": 38,
     "metadata": {},
     "output_type": "execute_result"
    }
   ],
   "source": [
    "#reset_index() implementalo al dataset y asignaselo\n",
    "dataset_por_segmento = dataset_por_segmento.reset_index()\n",
    "dataset_por_segmento"
   ]
  },
  {
   "cell_type": "markdown",
   "metadata": {
    "pycharm": {
     "name": "#%% md\n"
    }
   },
   "source": [
    "Cantidad que hay por detractor, promotor y neutro"
   ]
  },
  {
   "cell_type": "code",
   "execution_count": 39,
   "metadata": {
    "pycharm": {
     "name": "#%%\n"
    }
   },
   "outputs": [
    {
     "data": {
      "text/plain": "  NPS_SEGMENT  CIF_ID\n0    Promotor   12356\n1   Detractor    2515\n2      Neutro    1129",
      "text/html": "<div>\n<style scoped>\n    .dataframe tbody tr th:only-of-type {\n        vertical-align: middle;\n    }\n\n    .dataframe tbody tr th {\n        vertical-align: top;\n    }\n\n    .dataframe thead th {\n        text-align: right;\n    }\n</style>\n<table border=\"1\" class=\"dataframe\">\n  <thead>\n    <tr style=\"text-align: right;\">\n      <th></th>\n      <th>NPS_SEGMENT</th>\n      <th>CIF_ID</th>\n    </tr>\n  </thead>\n  <tbody>\n    <tr>\n      <th>0</th>\n      <td>Promotor</td>\n      <td>12356</td>\n    </tr>\n    <tr>\n      <th>1</th>\n      <td>Detractor</td>\n      <td>2515</td>\n    </tr>\n    <tr>\n      <th>2</th>\n      <td>Neutro</td>\n      <td>1129</td>\n    </tr>\n  </tbody>\n</table>\n</div>"
     },
     "execution_count": 39,
     "metadata": {},
     "output_type": "execute_result"
    }
   ],
   "source": [
    "cantidad_nps = df.groupby('NPS_SEGMENT').CIF_ID.count()\n",
    "cantidad_nps = cantidad_nps.sort_values(ascending = False).reset_index()\n",
    "cantidad_nps"
   ]
  },
  {
   "cell_type": "markdown",
   "metadata": {
    "pycharm": {
     "name": "#%% md\n"
    }
   },
   "source": [
    "# Countplot\n",
    "Hacer un countplot por la cantidad de NPS segment"
   ]
  },
  {
   "cell_type": "code",
   "execution_count": 40,
   "metadata": {
    "pycharm": {
     "name": "#%%\n"
    }
   },
   "outputs": [],
   "source": [
    "from matplotlib import rcParams\n",
    "rcParams['figure.figsize'] = 6,6\n",
    "paleta = [\"#66bd63\",\"#a50026\", \"#fee08b\"]"
   ]
  },
  {
   "cell_type": "code",
   "execution_count": 50,
   "metadata": {
    "pycharm": {
     "name": "#%%\n"
    }
   },
   "outputs": [
    {
     "data": {
      "text/plain": "<Figure size 600x600 with 1 Axes>",
      "image/png": "[encoded data removed]"
     },
     "metadata": {},
     "output_type": "display_data"
    }
   ],
   "source": [
    "plt.figure(figsize = (6,6))\n",
    "plt.title(\"Distribución del Target\\nmar-2020 a ago-2020\")\n",
    "plt.xlabel('Puntaje al servicio')\n",
    "plt.ylabel('Cantidad de Clientes')\n",
    "plt.grid(axis = \"y\", linewidth=0.5)\n",
    "sns.countplot(x = 'NPS_SEGMENT' , data =  df, order = df['NPS_SEGMENT'].value_counts().index, palette = paleta)\n",
    "plt.show()"
   ]
  },
  {
   "cell_type": "code",
   "execution_count": 52,
   "metadata": {
    "pycharm": {
     "name": "#%%\n"
    }
   },
   "outputs": [
    {
     "name": "stdout",
     "output_type": "stream",
     "text": [
      "Porcentajes de Promotores de la muestra: 77.225\n",
      "Porcentajes de Detractores de la muestra 15.71875\n",
      "Porcentajes de Neutros de la muestra 7.05625\n"
     ]
    }
   ],
   "source": [
    "#imprimir las cantidades\n",
    "detract = len(df[df['NPS_SEGMENT']=='Detractor'])\n",
    "promo = len(df[df['NPS_SEGMENT']=='Promotor'])\n",
    "neutro = len(df[df['NPS_SEGMENT']=='Neutro'])\n",
    "\n",
    "porciento_detractor =( detract/(detract+promo+neutro) * 100)\n",
    "porciento_promotor= (promo /(detract+promo+neutro) * 100)\n",
    "porciento_neutro= (neutro /(detract+promo+neutro) * 100)\n",
    "\n",
    "print('Porcentajes de Promotores de la muestra:', porciento_promotor)\n",
    "print('Porcentajes de Detractores de la muestra', porciento_detractor)\n",
    "print('Porcentajes de Neutros de la muestra', porciento_neutro)"
   ]
  },
  {
   "cell_type": "markdown",
   "metadata": {
    "pycharm": {
     "name": "#%% md\n"
    }
   },
   "source": [
    "# Crosstab\n",
    "\n",
    "Armar un crostab por year_month en el index y NPS segment cómo columna"
   ]
  },
  {
   "cell_type": "code",
   "execution_count": 55,
   "metadata": {
    "pycharm": {
     "name": "#%%\n"
    }
   },
   "outputs": [
    {
     "data": {
      "text/plain": "NPS_SEGMENT  Detractor  Neutro  Promotor\nyear_month                              \n2020-12             16       8       100\n2021-01            409     180      2028\n2021-02            472     162      1799\n2021-03            553     261      2494\n2021-04            416     206      2261\n2021-05            430     212      2424\n2021-06            219     100      1250",
      "text/html": "<div>\n<style scoped>\n    .dataframe tbody tr th:only-of-type {\n        vertical-align: middle;\n    }\n\n    .dataframe tbody tr th {\n        vertical-align: top;\n    }\n\n    .dataframe thead th {\n        text-align: right;\n    }\n</style>\n<table border=\"1\" class=\"dataframe\">\n  <thead>\n    <tr style=\"text-align: right;\">\n      <th>NPS_SEGMENT</th>\n      <th>Detractor</th>\n      <th>Neutro</th>\n      <th>Promotor</th>\n    </tr>\n    <tr>\n      <th>year_month</th>\n      <th></th>\n      <th></th>\n      <th></th>\n    </tr>\n  </thead>\n  <tbody>\n    <tr>\n      <th>2020-12</th>\n      <td>16</td>\n      <td>8</td>\n      <td>100</td>\n    </tr>\n    <tr>\n      <th>2021-01</th>\n      <td>409</td>\n      <td>180</td>\n      <td>2028</td>\n    </tr>\n    <tr>\n      <th>2021-02</th>\n      <td>472</td>\n      <td>162</td>\n      <td>1799</td>\n    </tr>\n    <tr>\n      <th>2021-03</th>\n      <td>553</td>\n      <td>261</td>\n      <td>2494</td>\n    </tr>\n    <tr>\n      <th>2021-04</th>\n      <td>416</td>\n      <td>206</td>\n      <td>2261</td>\n    </tr>\n    <tr>\n      <th>2021-05</th>\n      <td>430</td>\n      <td>212</td>\n      <td>2424</td>\n    </tr>\n    <tr>\n      <th>2021-06</th>\n      <td>219</td>\n      <td>100</td>\n      <td>1250</td>\n    </tr>\n  </tbody>\n</table>\n</div>"
     },
     "execution_count": 55,
     "metadata": {},
     "output_type": "execute_result"
    }
   ],
   "source": [
    "por_mes = pd.crosstab(df['year_month'], df['NPS_SEGMENT'])\n",
    "por_mes"
   ]
  },
  {
   "cell_type": "markdown",
   "metadata": {
    "pycharm": {
     "name": "#%% md\n"
    }
   },
   "source": [
    "¿Para que sirve esta tabla?"
   ]
  },
  {
   "cell_type": "markdown",
   "metadata": {
    "pycharm": {
     "name": "#%% md\n"
    }
   },
   "source": [
    "Armar en terminos relativos. Es decir, en porcentaje de total por mes."
   ]
  },
  {
   "cell_type": "code",
   "execution_count": 70,
   "metadata": {
    "pycharm": {
     "name": "#%%\n"
    }
   },
   "outputs": [
    {
     "data": {
      "text/plain": "NPS_SEGMENT  Detractor    Neutro  Promotor\nyear_month                                \n1             0.156286  0.068781  0.774933\n2             0.193999  0.066584  0.739416\n3             0.167170  0.078900  0.753930\n4             0.144294  0.071453  0.784253\n5             0.140248  0.069145  0.790607\n6             0.139579  0.063735  0.796686\n12            0.129032  0.064516  0.806452",
      "text/html": "<div>\n<style scoped>\n    .dataframe tbody tr th:only-of-type {\n        vertical-align: middle;\n    }\n\n    .dataframe tbody tr th {\n        vertical-align: top;\n    }\n\n    .dataframe thead th {\n        text-align: right;\n    }\n</style>\n<table border=\"1\" class=\"dataframe\">\n  <thead>\n    <tr style=\"text-align: right;\">\n      <th>NPS_SEGMENT</th>\n      <th>Detractor</th>\n      <th>Neutro</th>\n      <th>Promotor</th>\n    </tr>\n    <tr>\n      <th>year_month</th>\n      <th></th>\n      <th></th>\n      <th></th>\n    </tr>\n  </thead>\n  <tbody>\n    <tr>\n      <th>1</th>\n      <td>0.156286</td>\n      <td>0.068781</td>\n      <td>0.774933</td>\n    </tr>\n    <tr>\n      <th>2</th>\n      <td>0.193999</td>\n      <td>0.066584</td>\n      <td>0.739416</td>\n    </tr>\n    <tr>\n      <th>3</th>\n      <td>0.167170</td>\n      <td>0.078900</td>\n      <td>0.753930</td>\n    </tr>\n    <tr>\n      <th>4</th>\n      <td>0.144294</td>\n      <td>0.071453</td>\n      <td>0.784253</td>\n    </tr>\n    <tr>\n      <th>5</th>\n      <td>0.140248</td>\n      <td>0.069145</td>\n      <td>0.790607</td>\n    </tr>\n    <tr>\n      <th>6</th>\n      <td>0.139579</td>\n      <td>0.063735</td>\n      <td>0.796686</td>\n    </tr>\n    <tr>\n      <th>12</th>\n      <td>0.129032</td>\n      <td>0.064516</td>\n      <td>0.806452</td>\n    </tr>\n  </tbody>\n</table>\n</div>"
     },
     "execution_count": 70,
     "metadata": {},
     "output_type": "execute_result"
    }
   ],
   "source": [
    "pd.crosstab((df['year_month'].dt.month), df['NPS_SEGMENT'], normalize = 'index')\n",
    "#el normailze index es para hacer el porcentaje por mes. Si quiero el porcentaje sobre el total de la tabla es normalize = True\n",
    "#"
   ]
  },
  {
   "cell_type": "markdown",
   "source": [
    "Otra forma:"
   ],
   "metadata": {
    "collapsed": false
   }
  },
  {
   "cell_type": "code",
   "execution_count": 73,
   "outputs": [
    {
     "data": {
      "text/plain": "NPS_SEGMENT  Detractor    Neutro   Promotor\nmes                                        \n1            16.036415  6.932773  77.030812\n2            19.586375  6.731549  73.682076\n3            16.205402  8.002668  75.791931\n4            14.415290  6.964691  78.620019\n5            13.789778  7.007393  79.202829\n6            14.742015  6.552007  78.705979\n12           13.076923  4.615385  82.307692",
      "text/html": "<div>\n<style scoped>\n    .dataframe tbody tr th:only-of-type {\n        vertical-align: middle;\n    }\n\n    .dataframe tbody tr th {\n        vertical-align: top;\n    }\n\n    .dataframe thead th {\n        text-align: right;\n    }\n</style>\n<table border=\"1\" class=\"dataframe\">\n  <thead>\n    <tr style=\"text-align: right;\">\n      <th>NPS_SEGMENT</th>\n      <th>Detractor</th>\n      <th>Neutro</th>\n      <th>Promotor</th>\n    </tr>\n    <tr>\n      <th>mes</th>\n      <th></th>\n      <th></th>\n      <th></th>\n    </tr>\n  </thead>\n  <tbody>\n    <tr>\n      <th>1</th>\n      <td>16.036415</td>\n      <td>6.932773</td>\n      <td>77.030812</td>\n    </tr>\n    <tr>\n      <th>2</th>\n      <td>19.586375</td>\n      <td>6.731549</td>\n      <td>73.682076</td>\n    </tr>\n    <tr>\n      <th>3</th>\n      <td>16.205402</td>\n      <td>8.002668</td>\n      <td>75.791931</td>\n    </tr>\n    <tr>\n      <th>4</th>\n      <td>14.415290</td>\n      <td>6.964691</td>\n      <td>78.620019</td>\n    </tr>\n    <tr>\n      <th>5</th>\n      <td>13.789778</td>\n      <td>7.007393</td>\n      <td>79.202829</td>\n    </tr>\n    <tr>\n      <th>6</th>\n      <td>14.742015</td>\n      <td>6.552007</td>\n      <td>78.705979</td>\n    </tr>\n    <tr>\n      <th>12</th>\n      <td>13.076923</td>\n      <td>4.615385</td>\n      <td>82.307692</td>\n    </tr>\n  </tbody>\n</table>\n</div>"
     },
     "execution_count": 73,
     "metadata": {},
     "output_type": "execute_result"
    }
   ],
   "source": [
    "df[\"mes\"] = pd.to_datetime(df.CASE_DATE).dt.month\n",
    "per_month = pd.crosstab(df['NPS_SEGMENT'],df['mes']).apply(lambda x: x/x.sum() * 100)\n",
    "per_month = per_month.T\n",
    "per_month"
   ],
   "metadata": {
    "collapsed": false,
    "pycharm": {
     "name": "#%%\n"
    }
   }
  },
  {
   "cell_type": "markdown",
   "metadata": {
    "pycharm": {
     "name": "#%% md\n"
    }
   },
   "source": [
    "# Lineplot\n",
    "\n",
    "En el eje x gráfica el mes y en el eje y tres lineas con detractor, neutro y promotor"
   ]
  },
  {
   "cell_type": "code",
   "execution_count": 42,
   "metadata": {
    "pycharm": {
     "name": "#%%\n"
    }
   },
   "outputs": [],
   "source": [
    "plt.lin"
   ]
  },
  {
   "cell_type": "markdown",
   "metadata": {
    "pycharm": {
     "name": "#%% md\n"
    }
   },
   "source": [
    "Armar un cross tab con los comentarios detectados mes a mes"
   ]
  },
  {
   "cell_type": "code",
   "execution_count": 43,
   "metadata": {
    "pycharm": {
     "name": "#%%\n"
    }
   },
   "outputs": [
    {
     "ename": "SyntaxError",
     "evalue": "invalid syntax (343737671.py, line 1)",
     "output_type": "error",
     "traceback": [
      "\u001B[0;36m  Cell \u001B[0;32mIn [43], line 1\u001B[0;36m\u001B[0m\n\u001B[0;31m    .\u001B[0m\n\u001B[0m    ^\u001B[0m\n\u001B[0;31mSyntaxError\u001B[0m\u001B[0;31m:\u001B[0m invalid syntax\n"
     ]
    }
   ],
   "source": [
    "."
   ]
  },
  {
   "cell_type": "markdown",
   "metadata": {
    "pycharm": {
     "name": "#%% md\n"
    }
   },
   "source": [
    "¿Que mes es en el que más falla? ¿podemos sacar una conclusión?"
   ]
  },
  {
   "cell_type": "markdown",
   "metadata": {
    "pycharm": {
     "name": "#%% md\n"
    }
   },
   "source": [
    "# Case Channel\n",
    "\n",
    "Reproducí este gráfico. ¿Para qué sirve?\n",
    "\n",
    "HINT:\n",
    "\n",
    "plt.rc('xtick', labelsize=24)\n",
    "plt.rc('ytick', labelsize=10)\n",
    "ax = sns.countplot(data = df, x = 'CASE_CHANNEL',\n",
    "              order = df['CASE_CHANNEL'].value_counts().index)"
   ]
  },
  {
   "cell_type": "code",
   "execution_count": null,
   "metadata": {
    "pycharm": {
     "name": "#%%\n"
    }
   },
   "outputs": [],
   "source": []
  },
  {
   "cell_type": "markdown",
   "metadata": {
    "pycharm": {
     "name": "#%% md\n"
    }
   },
   "source": [
    "Instala la librería squarify y ejecuta la linea de código de aca abajo importala y"
   ]
  },
  {
   "cell_type": "code",
   "execution_count": 76,
   "metadata": {
    "pycharm": {
     "name": "#%%\n"
    }
   },
   "outputs": [
    {
     "ename": "NameError",
     "evalue": "name 'squarify' is not defined",
     "output_type": "error",
     "traceback": [
      "\u001B[0;31m---------------------------------------------------------------------------\u001B[0m",
      "\u001B[0;31mNameError\u001B[0m                                 Traceback (most recent call last)",
      "Cell \u001B[0;32mIn [76], line 8\u001B[0m\n\u001B[1;32m      6\u001B[0m colors \u001B[38;5;241m=\u001B[39m [plt\u001B[38;5;241m.\u001B[39mcm\u001B[38;5;241m.\u001B[39mSpectral(i\u001B[38;5;241m/\u001B[39m\u001B[38;5;28mfloat\u001B[39m(\u001B[38;5;28mlen\u001B[39m(labels))) \u001B[38;5;28;01mfor\u001B[39;00m i \u001B[38;5;129;01min\u001B[39;00m \u001B[38;5;28mrange\u001B[39m(\u001B[38;5;28mlen\u001B[39m(labels))]\n\u001B[1;32m      7\u001B[0m plt\u001B[38;5;241m.\u001B[39mfigure(figsize \u001B[38;5;241m=\u001B[39m (\u001B[38;5;241m18\u001B[39m, \u001B[38;5;241m10\u001B[39m))\n\u001B[0;32m----> 8\u001B[0m \u001B[43msquarify\u001B[49m\u001B[38;5;241m.\u001B[39mplot(sizes \u001B[38;5;241m=\u001B[39m label_value\u001B[38;5;241m.\u001B[39mvalues(), label \u001B[38;5;241m=\u001B[39m labels,  color \u001B[38;5;241m=\u001B[39m colors, alpha \u001B[38;5;241m=\u001B[39m \u001B[38;5;241m0.8\u001B[39m)\n\u001B[1;32m      9\u001B[0m plt\u001B[38;5;241m.\u001B[39mtitle(\u001B[38;5;124m\"\u001B[39m\u001B[38;5;124mCantidad de casos por CASE_CHANNEL\u001B[39m\u001B[38;5;124m\"\u001B[39m)\n",
      "\u001B[0;31mNameError\u001B[0m: name 'squarify' is not defined"
     ]
    },
    {
     "data": {
      "text/plain": "<Figure size 1800x1000 with 0 Axes>"
     },
     "metadata": {},
     "output_type": "display_data"
    }
   ],
   "source": [
    "#filtro = df[df['CASE_CHANNEL'].map(df['CASE_CHANNEL'].value_counts()) > 900]\n",
    "label_value = df[\"CASE_CHANNEL\"].value_counts().to_dict()\n",
    "# Creo los labels usando a list comprehesion\n",
    "labels = [\"{} tiene {} obs\".format(class_, obs) for class_, obs in label_value.items()]\n",
    "# Creo colores por cantidad de trabajos\n",
    "colors = [plt.cm.Spectral(i/float(len(labels))) for i in range(len(labels))]\n",
    "plt.figure(figsize = (18, 10))\n",
    "squarify.plot(sizes = label_value.values(), label = labels,  color = colors, alpha = 0.8)\n",
    "plt.title(\"Cantidad de casos por CASE_CHANNEL\");"
   ]
  },
  {
   "cell_type": "markdown",
   "metadata": {
    "pycharm": {
     "name": "#%% md\n"
    }
   },
   "source": [
    "Crear un cross tab entre segmento y Case chanel"
   ]
  },
  {
   "cell_type": "code",
   "execution_count": null,
   "metadata": {
    "pycharm": {
     "name": "#%%\n"
    }
   },
   "outputs": [],
   "source": []
  },
  {
   "cell_type": "markdown",
   "metadata": {
    "pycharm": {
     "name": "#%% md\n"
    }
   },
   "source": [
    "# Plotea un gráfico de barras"
   ]
  },
  {
   "cell_type": "code",
   "execution_count": null,
   "metadata": {
    "pycharm": {
     "name": "#%%\n"
    }
   },
   "outputs": [],
   "source": []
  },
  {
   "cell_type": "markdown",
   "metadata": {
    "pycharm": {
     "name": "#%% md\n"
    }
   },
   "source": [
    "### Crear un crostab de nps_segment por genero en porcentaje"
   ]
  },
  {
   "cell_type": "code",
   "execution_count": null,
   "metadata": {
    "pycharm": {
     "name": "#%%\n"
    }
   },
   "outputs": [],
   "source": []
  },
  {
   "cell_type": "code",
   "execution_count": null,
   "metadata": {
    "pycharm": {
     "name": "#%%\n"
    }
   },
   "outputs": [],
   "source": []
  },
  {
   "cell_type": "markdown",
   "metadata": {
    "pycharm": {
     "name": "#%% md\n"
    }
   },
   "source": [
    "# Edad\n",
    "\n",
    "Imprimir los siguientes valores"
   ]
  },
  {
   "cell_type": "code",
   "execution_count": null,
   "metadata": {
    "pycharm": {
     "name": "#%%\n"
    }
   },
   "outputs": [],
   "source": []
  },
  {
   "cell_type": "markdown",
   "metadata": {
    "pycharm": {
     "name": "#%% md\n"
    }
   },
   "source": [
    "Graficar la distribución de la edad"
   ]
  },
  {
   "cell_type": "code",
   "execution_count": null,
   "metadata": {
    "pycharm": {
     "name": "#%%\n"
    }
   },
   "outputs": [],
   "source": [
    "rcParams['figure.figsize'] = 12,8\n",
    "sns.set()\n",
    "plt.rc('xtick', labelsize=5)\n",
    "plt.rc('ytick', labelsize=10)\n",
    "#codigo del gráfico"
   ]
  },
  {
   "cell_type": "markdown",
   "metadata": {
    "pycharm": {
     "name": "#%% md\n"
    }
   },
   "source": [
    "# Boxplot\n",
    "\n",
    "Armar un boxplot por segmento, representando en el eje Y la edad."
   ]
  },
  {
   "cell_type": "code",
   "execution_count": 74,
   "metadata": {
    "pycharm": {
     "name": "#%%\n"
    }
   },
   "outputs": [
    {
     "data": {
      "text/plain": "<Figure size 800x800 with 1 Axes>",
      "image/png": "[encoded data removed]"
     },
     "metadata": {},
     "output_type": "display_data"
    }
   ],
   "source": [
    "fig, (ax1) = plt.subplots( figsize = (8, 8))\n",
    "#sn.boxplot\n",
    "ax1.set_xlabel('Conversión', fontsize=10)\n",
    "ax1.set_ylabel('Edad', fontsize=10)\n",
    "ax1.set_title('Boxplot Edad', fontsize=10)\n",
    "ax1.tick_params(labelsize=10)\n",
    "\n",
    "plt.subplots_adjust(wspace=0.5)\n",
    "\n",
    "plt.tight_layout()"
   ]
  },
  {
   "cell_type": "markdown",
   "metadata": {
    "pycharm": {
     "name": "#%% md\n"
    }
   },
   "source": [
    "# Discretización\n",
    "Representar la edad en grupos de deacadas"
   ]
  },
  {
   "cell_type": "code",
   "execution_count": null,
   "metadata": {
    "pycharm": {
     "name": "#%%\n"
    }
   },
   "outputs": [],
   "source": [
    "#primero crear la columna según regla de edad\n",
    "#luego crosstab"
   ]
  },
  {
   "cell_type": "code",
   "execution_count": null,
   "metadata": {
    "pycharm": {
     "name": "#%%\n"
    }
   },
   "outputs": [],
   "source": [
    "#ULTRA HINT: per_edad = pd.crosstab(df['nps_segment'],df['grupo_edad'])\n",
    "per_edad = per_edad.T\n",
    "per_edad"
   ]
  },
  {
   "cell_type": "code",
   "execution_count": 75,
   "metadata": {
    "pycharm": {
     "name": "#%%\n"
    }
   },
   "outputs": [
    {
     "data": {
      "text/plain": "<Figure size 800x600 with 1 Axes>",
      "image/png": "[encoded data removed]"
     },
     "metadata": {},
     "output_type": "display_data"
    }
   ],
   "source": [
    "rcParams['figure.figsize'] = 8,6\n",
    "plt.rc('xtick', labelsize=10)\n",
    "plt.rc('ytick', labelsize=10)\n",
    "sns.set_style(\"darkgrid\")\n",
    "#.plot(kind = 'bar',color = paleta)\n",
    "plt.xlabel('Edad del grupo')\n",
    "plt.ylabel('Tasa de Conversión sobre el total')\n",
    "plt.xticks(np.arange(5), ('<30', '30-39', '40-49', '50-59', '60+'),rotation = 'horizontal')\n",
    "plt.title('Conversión vs Rango Etareo')\n",
    "plt.show()"
   ]
  },
  {
   "cell_type": "code",
   "execution_count": null,
   "outputs": [],
   "source": [],
   "metadata": {
    "collapsed": false,
    "pycharm": {
     "name": "#%%\n"
    }
   }
  }
 ],
 "metadata": {
  "kernelspec": {
   "display_name": "Python 3 (ipykernel)",
   "language": "python",
   "name": "python3"
  },
  "language_info": {
   "codemirror_mode": {
    "name": "ipython",
    "version": 3
   },
   "file_extension": ".py",
   "mimetype": "text/x-python",
   "name": "python",
   "nbconvert_exporter": "python",
   "pygments_lexer": "ipython3",
   "version": "3.8.9"
  }
 },
 "nbformat": 4,
 "nbformat_minor": 1
}