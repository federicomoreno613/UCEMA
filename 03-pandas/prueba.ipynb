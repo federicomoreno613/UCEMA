{
 "cells": [
  {
   "cell_type": "code",
   "execution_count": 6,
   "metadata": {
    "collapsed": true
   },
   "outputs": [
    {
     "name": "stdout",
     "output_type": "stream",
     "text": [
      "03_00_0_teoria.ipynb\r\n",
      "03_00_API.ipynb\r\n",
      "03_00_csv.ipynb\r\n",
      "03_01_Introducing_Pandas_Objects.ipynb\r\n",
      "03_02_Data_Indexing_and_Selection.ipynb\r\n",
      "03_03_Operations_in_Pandas.ipynb\r\n",
      "\u001B[34mdata\u001B[m\u001B[m/\r\n",
      "prueba.ipynb\r\n"
     ]
    }
   ],
   "source": [
    "%ls"
   ]
  },
  {
   "cell_type": "code",
   "execution_count": 3,
   "outputs": [],
   "source": [
    "import pandas as pd"
   ],
   "metadata": {
    "collapsed": false,
    "pycharm": {
     "name": "#%%\n"
    }
   }
  },
  {
   "cell_type": "code",
   "execution_count": 23,
   "outputs": [],
   "source": [
    "df = pd.read_csv(\"data/prueba.csv\")"
   ],
   "metadata": {
    "collapsed": false,
    "pycharm": {
     "name": "#%%\n"
    }
   }
  },
  {
   "cell_type": "code",
   "execution_count": 24,
   "outputs": [
    {
     "data": {
      "text/plain": "        pais    region   dolar\n0  argentina   america     300\n1     brasil   america      20",
      "text/html": "<div>\n<style scoped>\n    .dataframe tbody tr th:only-of-type {\n        vertical-align: middle;\n    }\n\n    .dataframe tbody tr th {\n        vertical-align: top;\n    }\n\n    .dataframe thead th {\n        text-align: right;\n    }\n</style>\n<table border=\"1\" class=\"dataframe\">\n  <thead>\n    <tr style=\"text-align: right;\">\n      <th></th>\n      <th>pais</th>\n      <th>region</th>\n      <th>dolar</th>\n    </tr>\n  </thead>\n  <tbody>\n    <tr>\n      <th>0</th>\n      <td>argentina</td>\n      <td>america</td>\n      <td>300</td>\n    </tr>\n    <tr>\n      <th>1</th>\n      <td>brasil</td>\n      <td>america</td>\n      <td>20</td>\n    </tr>\n  </tbody>\n</table>\n</div>"
     },
     "execution_count": 24,
     "metadata": {},
     "output_type": "execute_result"
    }
   ],
   "source": [
    "df.head()"
   ],
   "metadata": {
    "collapsed": false,
    "pycharm": {
     "name": "#%%\n"
    }
   }
  },
  {
   "cell_type": "code",
   "execution_count": 5,
   "outputs": [
    {
     "name": "stderr",
     "output_type": "stream",
     "text": [
      "/Users/usuario/PycharmProjects/pythonProject4/venv/lib/python3.8/site-packages/IPython/core/interactiveshell.py:3457: DtypeWarning: Columns (27) have mixed types.Specify dtype option on import or set low_memory=False.\n",
      "  exec(code_obj, self.user_global_ns, self.user_ns)\n"
     ]
    },
    {
     "data": {
      "text/plain": "        athlete_id             name               region  \\\n0           2554.0        Pj Ablang           South West   \n1           3517.0    Derek Abdella                  NaN   \n2           4691.0              NaN                  NaN   \n3           5164.0      Abo Brandon  Southern California   \n4           5286.0      Bryce Abbey                  NaN   \n...            ...              ...                  ...   \n423001    574489.0       Odo Renata        Latin America   \n423002    585696.0    Lozzie Trevor            Australia   \n423003    608828.0    Marisol Smith           North West   \n423004    628881.0  Pedrini Morgane               Europe   \n423005    631847.0       Eden Kenny  Northern California   \n\n                           team              affiliate  gender   age  height  \\\n0                   Double Edge   Double Edge CrossFit    Male  24.0    70.0   \n1                           NaN                    NaN    Male  42.0    70.0   \n2                           NaN                    NaN     NaN   NaN     NaN   \n3                  LAX CrossFit           LAX CrossFit    Male  40.0    67.0   \n4                           NaN                    NaN    Male  32.0    65.0   \n...                         ...                    ...     ...   ...     ...   \n423001        Team Guarujá Inox       CrossFit Guaruja  Female  36.0     NaN   \n423002  FBP CrossFit Games Team           FBP CrossFit  Female  27.0     NaN   \n423003      CrossFit Oak Harbor    CrossFit Oak Harbor  Female  44.0     NaN   \n423004                      NaN            CrossFit 67  Female  20.0    64.0   \n423005                      NaN  Contra Costa CrossFit  Female  26.0     NaN   \n\n        weight   fran  ...  deadlift  backsq  pullups  \\\n0        166.0    NaN  ...     400.0   305.0      NaN   \n1        190.0    NaN  ...       NaN     NaN      NaN   \n2          NaN    NaN  ...       NaN     NaN      NaN   \n3          NaN  211.0  ...     375.0   325.0     25.0   \n4        149.0  206.0  ...       NaN   325.0     50.0   \n...        ...    ...  ...       ...     ...      ...   \n423001     NaN    NaN  ...       NaN     NaN      NaN   \n423002     NaN    NaN  ...       NaN     NaN      NaN   \n423003     NaN    NaN  ...       NaN     NaN      NaN   \n423004    61.0    NaN  ...      80.0   143.0      NaN   \n423005     NaN    NaN  ...       NaN     NaN      NaN   \n\n                                                      eat  \\\n0                                                     NaN   \n1                                                     NaN   \n2                                                     NaN   \n3                    I eat 1-3 full cheat meals per week|   \n4       I eat quality foods but don't measure the amount|   \n...                                                   ...   \n423001                                                NaN   \n423002                                                NaN   \n423003                                                NaN   \n423004  I eat quality foods but don't measure the amount|   \n423005                                                NaN   \n\n                                                    train  \\\n0       I workout mostly at a CrossFit Affiliate|I hav...   \n1       I have a coach who determines my programming|I...   \n2                                                     NaN   \n3       I workout mostly at a CrossFit Affiliate|I hav...   \n4       I workout mostly at a CrossFit Affiliate|I inc...   \n...                                                   ...   \n423001                                                NaN   \n423002                                                NaN   \n423003                                                NaN   \n423004          I workout mostly at a CrossFit Affiliate|   \n423005                                                NaN   \n\n                                               background  \\\n0       I played youth or high school level sports|I r...   \n1             I played youth or high school level sports|   \n2                                                     NaN   \n3             I played youth or high school level sports|   \n4                                I played college sports|   \n...                                                   ...   \n423001                                                NaN   \n423002                                                NaN   \n423003                                                NaN   \n423004                                                NaN   \n423005                                                NaN   \n\n                                               experience  \\\n0       I began CrossFit with a coach (e.g. at an affi...   \n1       I began CrossFit with a coach (e.g. at an affi...   \n2                                                     NaN   \n3       I began CrossFit by trying it alone (without a...   \n4       I began CrossFit by trying it alone (without a...   \n...                                                   ...   \n423001                                                NaN   \n423002                                                NaN   \n423003                                                NaN   \n423004  I began CrossFit with a coach (e.g. at an affi...   \n423005                                                NaN   \n\n                                                 schedule       howlong  \\\n0              I do multiple workouts in a day 2x a week|     4+ years|   \n1              I do multiple workouts in a day 2x a week|     4+ years|   \n2                                                     NaN           NaN   \n3                      I usually only do 1 workout a day|     4+ years|   \n4       I usually only do 1 workout a day|I strictly s...    1-2 years|   \n...                                                   ...           ...   \n423001                                                NaN           NaN   \n423002                                                NaN           NaN   \n423003                                                NaN           NaN   \n423004  I usually only do 1 workout a day|I strictly s...  6-12 months|   \n423005                                                NaN           NaN   \n\n         retrieved_datetime  \n0                       NaN  \n1                       NaN  \n2                       NaN  \n3                       NaN  \n4                       NaN  \n...                     ...  \n423001  2015-03-25 09:55:05  \n423002  2015-03-25 09:55:06  \n423003  2015-03-25 09:55:07  \n423004  2015-03-25 09:55:07  \n423005  2015-03-25 09:55:08  \n\n[423006 rows x 28 columns]",
      "text/html": "<div>\n<style scoped>\n    .dataframe tbody tr th:only-of-type {\n        vertical-align: middle;\n    }\n\n    .dataframe tbody tr th {\n        vertical-align: top;\n    }\n\n    .dataframe thead th {\n        text-align: right;\n    }\n</style>\n<table border=\"1\" class=\"dataframe\">\n  <thead>\n    <tr style=\"text-align: right;\">\n      <th></th>\n      <th>athlete_id</th>\n      <th>name</th>\n      <th>region</th>\n      <th>team</th>\n      <th>affiliate</th>\n      <th>gender</th>\n      <th>age</th>\n      <th>height</th>\n      <th>weight</th>\n      <th>fran</th>\n      <th>...</th>\n      <th>deadlift</th>\n      <th>backsq</th>\n      <th>pullups</th>\n      <th>eat</th>\n      <th>train</th>\n      <th>background</th>\n      <th>experience</th>\n      <th>schedule</th>\n      <th>howlong</th>\n      <th>retrieved_datetime</th>\n    </tr>\n  </thead>\n  <tbody>\n    <tr>\n      <th>0</th>\n      <td>2554.0</td>\n      <td>Pj Ablang</td>\n      <td>South West</td>\n      <td>Double Edge</td>\n      <td>Double Edge CrossFit</td>\n      <td>Male</td>\n      <td>24.0</td>\n      <td>70.0</td>\n      <td>166.0</td>\n      <td>NaN</td>\n      <td>...</td>\n      <td>400.0</td>\n      <td>305.0</td>\n      <td>NaN</td>\n      <td>NaN</td>\n      <td>I workout mostly at a CrossFit Affiliate|I hav...</td>\n      <td>I played youth or high school level sports|I r...</td>\n      <td>I began CrossFit with a coach (e.g. at an affi...</td>\n      <td>I do multiple workouts in a day 2x a week|</td>\n      <td>4+ years|</td>\n      <td>NaN</td>\n    </tr>\n    <tr>\n      <th>1</th>\n      <td>3517.0</td>\n      <td>Derek Abdella</td>\n      <td>NaN</td>\n      <td>NaN</td>\n      <td>NaN</td>\n      <td>Male</td>\n      <td>42.0</td>\n      <td>70.0</td>\n      <td>190.0</td>\n      <td>NaN</td>\n      <td>...</td>\n      <td>NaN</td>\n      <td>NaN</td>\n      <td>NaN</td>\n      <td>NaN</td>\n      <td>I have a coach who determines my programming|I...</td>\n      <td>I played youth or high school level sports|</td>\n      <td>I began CrossFit with a coach (e.g. at an affi...</td>\n      <td>I do multiple workouts in a day 2x a week|</td>\n      <td>4+ years|</td>\n      <td>NaN</td>\n    </tr>\n    <tr>\n      <th>2</th>\n      <td>4691.0</td>\n      <td>NaN</td>\n      <td>NaN</td>\n      <td>NaN</td>\n      <td>NaN</td>\n      <td>NaN</td>\n      <td>NaN</td>\n      <td>NaN</td>\n      <td>NaN</td>\n      <td>NaN</td>\n      <td>...</td>\n      <td>NaN</td>\n      <td>NaN</td>\n      <td>NaN</td>\n      <td>NaN</td>\n      <td>NaN</td>\n      <td>NaN</td>\n      <td>NaN</td>\n      <td>NaN</td>\n      <td>NaN</td>\n      <td>NaN</td>\n    </tr>\n    <tr>\n      <th>3</th>\n      <td>5164.0</td>\n      <td>Abo Brandon</td>\n      <td>Southern California</td>\n      <td>LAX CrossFit</td>\n      <td>LAX CrossFit</td>\n      <td>Male</td>\n      <td>40.0</td>\n      <td>67.0</td>\n      <td>NaN</td>\n      <td>211.0</td>\n      <td>...</td>\n      <td>375.0</td>\n      <td>325.0</td>\n      <td>25.0</td>\n      <td>I eat 1-3 full cheat meals per week|</td>\n      <td>I workout mostly at a CrossFit Affiliate|I hav...</td>\n      <td>I played youth or high school level sports|</td>\n      <td>I began CrossFit by trying it alone (without a...</td>\n      <td>I usually only do 1 workout a day|</td>\n      <td>4+ years|</td>\n      <td>NaN</td>\n    </tr>\n    <tr>\n      <th>4</th>\n      <td>5286.0</td>\n      <td>Bryce Abbey</td>\n      <td>NaN</td>\n      <td>NaN</td>\n      <td>NaN</td>\n      <td>Male</td>\n      <td>32.0</td>\n      <td>65.0</td>\n      <td>149.0</td>\n      <td>206.0</td>\n      <td>...</td>\n      <td>NaN</td>\n      <td>325.0</td>\n      <td>50.0</td>\n      <td>I eat quality foods but don't measure the amount|</td>\n      <td>I workout mostly at a CrossFit Affiliate|I inc...</td>\n      <td>I played college sports|</td>\n      <td>I began CrossFit by trying it alone (without a...</td>\n      <td>I usually only do 1 workout a day|I strictly s...</td>\n      <td>1-2 years|</td>\n      <td>NaN</td>\n    </tr>\n    <tr>\n      <th>...</th>\n      <td>...</td>\n      <td>...</td>\n      <td>...</td>\n      <td>...</td>\n      <td>...</td>\n      <td>...</td>\n      <td>...</td>\n      <td>...</td>\n      <td>...</td>\n      <td>...</td>\n      <td>...</td>\n      <td>...</td>\n      <td>...</td>\n      <td>...</td>\n      <td>...</td>\n      <td>...</td>\n      <td>...</td>\n      <td>...</td>\n      <td>...</td>\n      <td>...</td>\n      <td>...</td>\n    </tr>\n    <tr>\n      <th>423001</th>\n      <td>574489.0</td>\n      <td>Odo Renata</td>\n      <td>Latin America</td>\n      <td>Team Guarujá Inox</td>\n      <td>CrossFit Guaruja</td>\n      <td>Female</td>\n      <td>36.0</td>\n      <td>NaN</td>\n      <td>NaN</td>\n      <td>NaN</td>\n      <td>...</td>\n      <td>NaN</td>\n      <td>NaN</td>\n      <td>NaN</td>\n      <td>NaN</td>\n      <td>NaN</td>\n      <td>NaN</td>\n      <td>NaN</td>\n      <td>NaN</td>\n      <td>NaN</td>\n      <td>2015-03-25 09:55:05</td>\n    </tr>\n    <tr>\n      <th>423002</th>\n      <td>585696.0</td>\n      <td>Lozzie Trevor</td>\n      <td>Australia</td>\n      <td>FBP CrossFit Games Team</td>\n      <td>FBP CrossFit</td>\n      <td>Female</td>\n      <td>27.0</td>\n      <td>NaN</td>\n      <td>NaN</td>\n      <td>NaN</td>\n      <td>...</td>\n      <td>NaN</td>\n      <td>NaN</td>\n      <td>NaN</td>\n      <td>NaN</td>\n      <td>NaN</td>\n      <td>NaN</td>\n      <td>NaN</td>\n      <td>NaN</td>\n      <td>NaN</td>\n      <td>2015-03-25 09:55:06</td>\n    </tr>\n    <tr>\n      <th>423003</th>\n      <td>608828.0</td>\n      <td>Marisol Smith</td>\n      <td>North West</td>\n      <td>CrossFit Oak Harbor</td>\n      <td>CrossFit Oak Harbor</td>\n      <td>Female</td>\n      <td>44.0</td>\n      <td>NaN</td>\n      <td>NaN</td>\n      <td>NaN</td>\n      <td>...</td>\n      <td>NaN</td>\n      <td>NaN</td>\n      <td>NaN</td>\n      <td>NaN</td>\n      <td>NaN</td>\n      <td>NaN</td>\n      <td>NaN</td>\n      <td>NaN</td>\n      <td>NaN</td>\n      <td>2015-03-25 09:55:07</td>\n    </tr>\n    <tr>\n      <th>423004</th>\n      <td>628881.0</td>\n      <td>Pedrini Morgane</td>\n      <td>Europe</td>\n      <td>NaN</td>\n      <td>CrossFit 67</td>\n      <td>Female</td>\n      <td>20.0</td>\n      <td>64.0</td>\n      <td>61.0</td>\n      <td>NaN</td>\n      <td>...</td>\n      <td>80.0</td>\n      <td>143.0</td>\n      <td>NaN</td>\n      <td>I eat quality foods but don't measure the amount|</td>\n      <td>I workout mostly at a CrossFit Affiliate|</td>\n      <td>NaN</td>\n      <td>I began CrossFit with a coach (e.g. at an affi...</td>\n      <td>I usually only do 1 workout a day|I strictly s...</td>\n      <td>6-12 months|</td>\n      <td>2015-03-25 09:55:07</td>\n    </tr>\n    <tr>\n      <th>423005</th>\n      <td>631847.0</td>\n      <td>Eden Kenny</td>\n      <td>Northern California</td>\n      <td>NaN</td>\n      <td>Contra Costa CrossFit</td>\n      <td>Female</td>\n      <td>26.0</td>\n      <td>NaN</td>\n      <td>NaN</td>\n      <td>NaN</td>\n      <td>...</td>\n      <td>NaN</td>\n      <td>NaN</td>\n      <td>NaN</td>\n      <td>NaN</td>\n      <td>NaN</td>\n      <td>NaN</td>\n      <td>NaN</td>\n      <td>NaN</td>\n      <td>NaN</td>\n      <td>2015-03-25 09:55:08</td>\n    </tr>\n  </tbody>\n</table>\n<p>423006 rows × 28 columns</p>\n</div>"
     },
     "execution_count": 5,
     "metadata": {},
     "output_type": "execute_result"
    }
   ],
   "source": [
    "crossfit = pd.read_csv('https://query.data.world/s/rriwxlavmfgo5kiwmamhyofvsitlxt')\n",
    "crossfit"
   ],
   "metadata": {
    "collapsed": false,
    "pycharm": {
     "name": "#%%\n"
    }
   }
  },
  {
   "cell_type": "code",
   "execution_count": 6,
   "outputs": [
    {
     "data": {
      "text/plain": "'/Users/usuario/PycharmProjects/pythonProject4/Caro/03-pandas'"
     },
     "execution_count": 6,
     "metadata": {},
     "output_type": "execute_result"
    }
   ],
   "source": [
    "pwd"
   ],
   "metadata": {
    "collapsed": false,
    "pycharm": {
     "name": "#%%\n"
    }
   }
  },
  {
   "cell_type": "code",
   "execution_count": 7,
   "outputs": [
    {
     "data": {
      "text/plain": "       GPA  Gender  breakfast  calories_chicken  calories_day  calories_scone  \\\n0      2.4       2          1               430           NaN           315.0   \n1    3.654       1          1               610           3.0           420.0   \n2      3.3       1          1               720           4.0           420.0   \n3      3.2       1          1               430           3.0           420.0   \n4      3.5       1          1               720           2.0           420.0   \n..     ...     ...        ...               ...           ...             ...   \n120    3.5       1          1               610           4.0           420.0   \n121      3       1          1               265           2.0           315.0   \n122  3.882       1          1               720           NaN           420.0   \n123      3       2          1               720           4.0           420.0   \n124    3.9       1          1               430           NaN           315.0   \n\n     coffee                             comfort_food  \\\n0         1                                     none   \n1         2              chocolate, chips, ice cream   \n2         2          frozen yogurt, pizza, fast food   \n3         2         Pizza, Mac and cheese, ice cream   \n4         2             Ice cream, chocolate, chips    \n..      ...                                      ...   \n120       2  wine. mac and cheese, pizza, ice cream    \n121       2               Pizza / Wings / Cheesecake   \n122       1               rice, potato, seaweed soup   \n123       1             Mac n Cheese, Lasagna, Pizza   \n124       2             Chocolates, pizza, and Ritz.   \n\n                              comfort_food_reasons  \\\n0                            we dont have comfort    \n1                             Stress, bored, anger   \n2                                  stress, sadness   \n3                                          Boredom   \n4                       Stress, boredom, cravings    \n..                                             ...   \n120                           boredom and sadness    \n121                Loneliness / Homesick / Sadness   \n122                                        sadness   \n123  happiness, they are some of my favorite foods   \n124               hormones, Premenstrual syndrome.   \n\n     comfort_food_reasons_coded  ...  soup  sports  thai_food  \\\n0                           9.0  ...   1.0     1.0          1   \n1                           1.0  ...   1.0     1.0          2   \n2                           1.0  ...   1.0     2.0          5   \n3                           2.0  ...   1.0     2.0          5   \n4                           1.0  ...   1.0     1.0          4   \n..                          ...  ...   ...     ...        ...   \n120                         NaN  ...   1.0     1.0          5   \n121                         NaN  ...   1.0     NaN          4   \n122                         NaN  ...   1.0     2.0          5   \n123                         NaN  ...   2.0     2.0          1   \n124                         NaN  ...   1.0     2.0          2   \n\n    tortilla_calories  turkey_calories  type_sports veggies_day  vitamins  \\\n0              1165.0              345   car racing           5         1   \n1               725.0              690  Basketball            4         2   \n2              1165.0              500         none           5         1   \n3               725.0              690          NaN           3         1   \n4               940.0              500     Softball           4         2   \n..                ...              ...          ...         ...       ...   \n120             940.0              500     Softball           5         1   \n121             940.0              500  basketball            5         2   \n122             580.0              690         none           4         2   \n123             940.0              500          NaN           3         1   \n124             725.0              345          NaN           4         2   \n\n     waffle_calories                    weight  \n0               1315                       187  \n1                900                       155  \n2                900  I'm not answering this.   \n3               1315             Not sure, 240  \n4                760                       190  \n..               ...                       ...  \n120             1315                       156  \n121             1315                       180  \n122             1315                       120  \n123             1315                       135  \n124              575                       135  \n\n[125 rows x 61 columns]",
      "text/html": "<div>\n<style scoped>\n    .dataframe tbody tr th:only-of-type {\n        vertical-align: middle;\n    }\n\n    .dataframe tbody tr th {\n        vertical-align: top;\n    }\n\n    .dataframe thead th {\n        text-align: right;\n    }\n</style>\n<table border=\"1\" class=\"dataframe\">\n  <thead>\n    <tr style=\"text-align: right;\">\n      <th></th>\n      <th>GPA</th>\n      <th>Gender</th>\n      <th>breakfast</th>\n      <th>calories_chicken</th>\n      <th>calories_day</th>\n      <th>calories_scone</th>\n      <th>coffee</th>\n      <th>comfort_food</th>\n      <th>comfort_food_reasons</th>\n      <th>comfort_food_reasons_coded</th>\n      <th>...</th>\n      <th>soup</th>\n      <th>sports</th>\n      <th>thai_food</th>\n      <th>tortilla_calories</th>\n      <th>turkey_calories</th>\n      <th>type_sports</th>\n      <th>veggies_day</th>\n      <th>vitamins</th>\n      <th>waffle_calories</th>\n      <th>weight</th>\n    </tr>\n  </thead>\n  <tbody>\n    <tr>\n      <th>0</th>\n      <td>2.4</td>\n      <td>2</td>\n      <td>1</td>\n      <td>430</td>\n      <td>NaN</td>\n      <td>315.0</td>\n      <td>1</td>\n      <td>none</td>\n      <td>we dont have comfort</td>\n      <td>9.0</td>\n      <td>...</td>\n      <td>1.0</td>\n      <td>1.0</td>\n      <td>1</td>\n      <td>1165.0</td>\n      <td>345</td>\n      <td>car racing</td>\n      <td>5</td>\n      <td>1</td>\n      <td>1315</td>\n      <td>187</td>\n    </tr>\n    <tr>\n      <th>1</th>\n      <td>3.654</td>\n      <td>1</td>\n      <td>1</td>\n      <td>610</td>\n      <td>3.0</td>\n      <td>420.0</td>\n      <td>2</td>\n      <td>chocolate, chips, ice cream</td>\n      <td>Stress, bored, anger</td>\n      <td>1.0</td>\n      <td>...</td>\n      <td>1.0</td>\n      <td>1.0</td>\n      <td>2</td>\n      <td>725.0</td>\n      <td>690</td>\n      <td>Basketball</td>\n      <td>4</td>\n      <td>2</td>\n      <td>900</td>\n      <td>155</td>\n    </tr>\n    <tr>\n      <th>2</th>\n      <td>3.3</td>\n      <td>1</td>\n      <td>1</td>\n      <td>720</td>\n      <td>4.0</td>\n      <td>420.0</td>\n      <td>2</td>\n      <td>frozen yogurt, pizza, fast food</td>\n      <td>stress, sadness</td>\n      <td>1.0</td>\n      <td>...</td>\n      <td>1.0</td>\n      <td>2.0</td>\n      <td>5</td>\n      <td>1165.0</td>\n      <td>500</td>\n      <td>none</td>\n      <td>5</td>\n      <td>1</td>\n      <td>900</td>\n      <td>I'm not answering this.</td>\n    </tr>\n    <tr>\n      <th>3</th>\n      <td>3.2</td>\n      <td>1</td>\n      <td>1</td>\n      <td>430</td>\n      <td>3.0</td>\n      <td>420.0</td>\n      <td>2</td>\n      <td>Pizza, Mac and cheese, ice cream</td>\n      <td>Boredom</td>\n      <td>2.0</td>\n      <td>...</td>\n      <td>1.0</td>\n      <td>2.0</td>\n      <td>5</td>\n      <td>725.0</td>\n      <td>690</td>\n      <td>NaN</td>\n      <td>3</td>\n      <td>1</td>\n      <td>1315</td>\n      <td>Not sure, 240</td>\n    </tr>\n    <tr>\n      <th>4</th>\n      <td>3.5</td>\n      <td>1</td>\n      <td>1</td>\n      <td>720</td>\n      <td>2.0</td>\n      <td>420.0</td>\n      <td>2</td>\n      <td>Ice cream, chocolate, chips</td>\n      <td>Stress, boredom, cravings</td>\n      <td>1.0</td>\n      <td>...</td>\n      <td>1.0</td>\n      <td>1.0</td>\n      <td>4</td>\n      <td>940.0</td>\n      <td>500</td>\n      <td>Softball</td>\n      <td>4</td>\n      <td>2</td>\n      <td>760</td>\n      <td>190</td>\n    </tr>\n    <tr>\n      <th>...</th>\n      <td>...</td>\n      <td>...</td>\n      <td>...</td>\n      <td>...</td>\n      <td>...</td>\n      <td>...</td>\n      <td>...</td>\n      <td>...</td>\n      <td>...</td>\n      <td>...</td>\n      <td>...</td>\n      <td>...</td>\n      <td>...</td>\n      <td>...</td>\n      <td>...</td>\n      <td>...</td>\n      <td>...</td>\n      <td>...</td>\n      <td>...</td>\n      <td>...</td>\n      <td>...</td>\n    </tr>\n    <tr>\n      <th>120</th>\n      <td>3.5</td>\n      <td>1</td>\n      <td>1</td>\n      <td>610</td>\n      <td>4.0</td>\n      <td>420.0</td>\n      <td>2</td>\n      <td>wine. mac and cheese, pizza, ice cream</td>\n      <td>boredom and sadness</td>\n      <td>NaN</td>\n      <td>...</td>\n      <td>1.0</td>\n      <td>1.0</td>\n      <td>5</td>\n      <td>940.0</td>\n      <td>500</td>\n      <td>Softball</td>\n      <td>5</td>\n      <td>1</td>\n      <td>1315</td>\n      <td>156</td>\n    </tr>\n    <tr>\n      <th>121</th>\n      <td>3</td>\n      <td>1</td>\n      <td>1</td>\n      <td>265</td>\n      <td>2.0</td>\n      <td>315.0</td>\n      <td>2</td>\n      <td>Pizza / Wings / Cheesecake</td>\n      <td>Loneliness / Homesick / Sadness</td>\n      <td>NaN</td>\n      <td>...</td>\n      <td>1.0</td>\n      <td>NaN</td>\n      <td>4</td>\n      <td>940.0</td>\n      <td>500</td>\n      <td>basketball</td>\n      <td>5</td>\n      <td>2</td>\n      <td>1315</td>\n      <td>180</td>\n    </tr>\n    <tr>\n      <th>122</th>\n      <td>3.882</td>\n      <td>1</td>\n      <td>1</td>\n      <td>720</td>\n      <td>NaN</td>\n      <td>420.0</td>\n      <td>1</td>\n      <td>rice, potato, seaweed soup</td>\n      <td>sadness</td>\n      <td>NaN</td>\n      <td>...</td>\n      <td>1.0</td>\n      <td>2.0</td>\n      <td>5</td>\n      <td>580.0</td>\n      <td>690</td>\n      <td>none</td>\n      <td>4</td>\n      <td>2</td>\n      <td>1315</td>\n      <td>120</td>\n    </tr>\n    <tr>\n      <th>123</th>\n      <td>3</td>\n      <td>2</td>\n      <td>1</td>\n      <td>720</td>\n      <td>4.0</td>\n      <td>420.0</td>\n      <td>1</td>\n      <td>Mac n Cheese, Lasagna, Pizza</td>\n      <td>happiness, they are some of my favorite foods</td>\n      <td>NaN</td>\n      <td>...</td>\n      <td>2.0</td>\n      <td>2.0</td>\n      <td>1</td>\n      <td>940.0</td>\n      <td>500</td>\n      <td>NaN</td>\n      <td>3</td>\n      <td>1</td>\n      <td>1315</td>\n      <td>135</td>\n    </tr>\n    <tr>\n      <th>124</th>\n      <td>3.9</td>\n      <td>1</td>\n      <td>1</td>\n      <td>430</td>\n      <td>NaN</td>\n      <td>315.0</td>\n      <td>2</td>\n      <td>Chocolates, pizza, and Ritz.</td>\n      <td>hormones, Premenstrual syndrome.</td>\n      <td>NaN</td>\n      <td>...</td>\n      <td>1.0</td>\n      <td>2.0</td>\n      <td>2</td>\n      <td>725.0</td>\n      <td>345</td>\n      <td>NaN</td>\n      <td>4</td>\n      <td>2</td>\n      <td>575</td>\n      <td>135</td>\n    </tr>\n  </tbody>\n</table>\n<p>125 rows × 61 columns</p>\n</div>"
     },
     "execution_count": 7,
     "metadata": {},
     "output_type": "execute_result"
    }
   ],
   "source": [
    "nutrition = pd.read_csv('')\n",
    "nutrition"
   ],
   "metadata": {
    "collapsed": false,
    "pycharm": {
     "name": "#%%\n"
    }
   }
  },
  {
   "cell_type": "code",
   "execution_count": null,
   "outputs": [],
   "source": [],
   "metadata": {
    "collapsed": false,
    "pycharm": {
     "name": "#%%\n"
    }
   }
  }
 ],
 "metadata": {
  "kernelspec": {
   "display_name": "Python 3",
   "language": "python",
   "name": "python3"
  },
  "language_info": {
   "codemirror_mode": {
    "name": "ipython",
    "version": 2
   },
   "file_extension": ".py",
   "mimetype": "text/x-python",
   "name": "python",
   "nbconvert_exporter": "python",
   "pygments_lexer": "ipython2",
   "version": "2.7.6"
  }
 },
 "nbformat": 4,
 "nbformat_minor": 0
}