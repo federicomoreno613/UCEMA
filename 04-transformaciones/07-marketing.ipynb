{
 "cells": [
  {
   "cell_type": "markdown",
   "metadata": {
    "pycharm": {
     "name": "#%% md\n"
    }
   },
   "source": [
    "## Contexto"
   ]
  },
  {
   "cell_type": "markdown",
   "metadata": {
    "pycharm": {
     "name": "#%% md\n"
    }
   },
   "source": [
    "Una entidad bancaria acaba de realizar una campaña de marketing, cuyo objetivo buscaba lograr que los clientes contactados depositaran sus ahorros a plazo fijo. Los resultados fueron peor de lo esperado.\n",
    "Esta campaña se enfocó en un 10% de la cartera total de clientes del banco.\n",
    "\n",
    "El banco contrata nuestros servicios como científic@ de datos y nos comunica los siguintes objetivos:\n",
    "\n",
    "* Repetir una o más campañas en el transcurso de los siguientes 18 meses. \n",
    "* Maximizar la tasa de conversión de las mismas y entender los factores que influyen en esta tasa.\n",
    "\n",
    "El banco nos provee la lista de los ~4.5K clientes (\"clientes.csv\")\n",
    "https://drive.google.com/file/d/1y3sPhGrLUW5DPunat__2xp2NAWJVDWIL/view?usp=sharing\n",
    "que fueron contactados durante esta última campaña y nos informa que por el momento NO nos proveerá de mas datos que estos.\n",
    "\n",
    "\n",
    "Nuestra tarea consiste en ayudar al banco a cumplir sus objetivos."
   ]
  },
  {
   "cell_type": "markdown",
   "metadata": {
    "pycharm": {
     "name": "#%% md\n"
    }
   },
   "source": [
    "### Metadata\n",
    "\n",
    "#### Datos clientes\n",
    "1. age: edad del clietne\n",
    "2. job: tipo de trabajo\n",
    "3. marital: estado civil\n",
    "4. education: nivel de educación\n",
    "5. default: indica si el cliente registra algún default crediticio\n",
    "5. balance: saldo en dólares de la caja de ahorro del cliente\n",
    "6. housing: indica si el cliente posee un préstamo hipotecario\n",
    "7. loan: indica si el cliente posee algún préstamo personal\n",
    "\n",
    "#### Datos del último contacto de la campaña actual\n",
    "9. contact: canal de contacto\n",
    "10. day: día de último contacto\n",
    "11. month: mes de último contacto\n",
    "12. duration: duracion del último contacto\n",
    "13. campaign: cantidad de contactos durante la campaña\n",
    "\n",
    "#### Datos campaña previa\n",
    "14. pdays: días transcurridos desde el último contacto por una campaña previa\n",
    "15. previous: cantidad de contactos previous a esta campaña\n",
    "16. poutcome: resultado de la campaña previa\n",
    "\n",
    "#### Resultado campaña actual\n",
    "17. y - Indica si el cliente realizó depósito a plazo fijo(binaria: 'yes','no')"
   ]
  },
  {
   "cell_type": "code",
   "execution_count": 17,
   "outputs": [],
   "source": [
    "import pandas as pd"
   ],
   "metadata": {
    "collapsed": false
   }
  },
  {
   "cell_type": "code",
   "execution_count": 20,
   "outputs": [
    {
     "data": {
      "text/plain": "      age            job  marital  education default  balance housing loan  \\\n0      30     unemployed  married    primary      no     1787      no   no   \n1      33       services  married  secondary      no     4789     yes  yes   \n2      35     management   single   tertiary      no     1350     yes   no   \n3      30     management  married   tertiary      no     1476     yes  yes   \n4      59    blue-collar  married  secondary      no        0     yes   no   \n...   ...            ...      ...        ...     ...      ...     ...  ...   \n4516   33       services  married  secondary      no     -333     yes   no   \n4517   57  self-employed  married   tertiary     yes    -3313     yes  yes   \n4518   57     technician  married  secondary      no      295      no   no   \n4519   28    blue-collar  married  secondary      no     1137      no   no   \n4520   44   entrepreneur   single   tertiary      no     1136     yes  yes   \n\n       contact  day month  duration  campaign  pdays  previous poutcome   y  \n0     cellular   19   oct        79         1     -1         0  unknown  no  \n1     cellular   11   may       220         1    339         4  failure  no  \n2     cellular   16   apr       185         1    330         1  failure  no  \n3      unknown    3   jun       199         4     -1         0  unknown  no  \n4      unknown    5   may       226         1     -1         0  unknown  no  \n...        ...  ...   ...       ...       ...    ...       ...      ...  ..  \n4516  cellular   30   jul       329         5     -1         0  unknown  no  \n4517   unknown    9   may       153         1     -1         0  unknown  no  \n4518  cellular   19   aug       151        11     -1         0  unknown  no  \n4519  cellular    6   feb       129         4    211         3    other  no  \n4520  cellular    3   apr       345         2    249         7    other  no  \n\n[4521 rows x 17 columns]",
      "text/html": "<div>\n<style scoped>\n    .dataframe tbody tr th:only-of-type {\n        vertical-align: middle;\n    }\n\n    .dataframe tbody tr th {\n        vertical-align: top;\n    }\n\n    .dataframe thead th {\n        text-align: right;\n    }\n</style>\n<table border=\"1\" class=\"dataframe\">\n  <thead>\n    <tr style=\"text-align: right;\">\n      <th></th>\n      <th>age</th>\n      <th>job</th>\n      <th>marital</th>\n      <th>education</th>\n      <th>default</th>\n      <th>balance</th>\n      <th>housing</th>\n      <th>loan</th>\n      <th>contact</th>\n      <th>day</th>\n      <th>month</th>\n      <th>duration</th>\n      <th>campaign</th>\n      <th>pdays</th>\n      <th>previous</th>\n      <th>poutcome</th>\n      <th>y</th>\n    </tr>\n  </thead>\n  <tbody>\n    <tr>\n      <th>0</th>\n      <td>30</td>\n      <td>unemployed</td>\n      <td>married</td>\n      <td>primary</td>\n      <td>no</td>\n      <td>1787</td>\n      <td>no</td>\n      <td>no</td>\n      <td>cellular</td>\n      <td>19</td>\n      <td>oct</td>\n      <td>79</td>\n      <td>1</td>\n      <td>-1</td>\n      <td>0</td>\n      <td>unknown</td>\n      <td>no</td>\n    </tr>\n    <tr>\n      <th>1</th>\n      <td>33</td>\n      <td>services</td>\n      <td>married</td>\n      <td>secondary</td>\n      <td>no</td>\n      <td>4789</td>\n      <td>yes</td>\n      <td>yes</td>\n      <td>cellular</td>\n      <td>11</td>\n      <td>may</td>\n      <td>220</td>\n      <td>1</td>\n      <td>339</td>\n      <td>4</td>\n      <td>failure</td>\n      <td>no</td>\n    </tr>\n    <tr>\n      <th>2</th>\n      <td>35</td>\n      <td>management</td>\n      <td>single</td>\n      <td>tertiary</td>\n      <td>no</td>\n      <td>1350</td>\n      <td>yes</td>\n      <td>no</td>\n      <td>cellular</td>\n      <td>16</td>\n      <td>apr</td>\n      <td>185</td>\n      <td>1</td>\n      <td>330</td>\n      <td>1</td>\n      <td>failure</td>\n      <td>no</td>\n    </tr>\n    <tr>\n      <th>3</th>\n      <td>30</td>\n      <td>management</td>\n      <td>married</td>\n      <td>tertiary</td>\n      <td>no</td>\n      <td>1476</td>\n      <td>yes</td>\n      <td>yes</td>\n      <td>unknown</td>\n      <td>3</td>\n      <td>jun</td>\n      <td>199</td>\n      <td>4</td>\n      <td>-1</td>\n      <td>0</td>\n      <td>unknown</td>\n      <td>no</td>\n    </tr>\n    <tr>\n      <th>4</th>\n      <td>59</td>\n      <td>blue-collar</td>\n      <td>married</td>\n      <td>secondary</td>\n      <td>no</td>\n      <td>0</td>\n      <td>yes</td>\n      <td>no</td>\n      <td>unknown</td>\n      <td>5</td>\n      <td>may</td>\n      <td>226</td>\n      <td>1</td>\n      <td>-1</td>\n      <td>0</td>\n      <td>unknown</td>\n      <td>no</td>\n    </tr>\n    <tr>\n      <th>...</th>\n      <td>...</td>\n      <td>...</td>\n      <td>...</td>\n      <td>...</td>\n      <td>...</td>\n      <td>...</td>\n      <td>...</td>\n      <td>...</td>\n      <td>...</td>\n      <td>...</td>\n      <td>...</td>\n      <td>...</td>\n      <td>...</td>\n      <td>...</td>\n      <td>...</td>\n      <td>...</td>\n      <td>...</td>\n    </tr>\n    <tr>\n      <th>4516</th>\n      <td>33</td>\n      <td>services</td>\n      <td>married</td>\n      <td>secondary</td>\n      <td>no</td>\n      <td>-333</td>\n      <td>yes</td>\n      <td>no</td>\n      <td>cellular</td>\n      <td>30</td>\n      <td>jul</td>\n      <td>329</td>\n      <td>5</td>\n      <td>-1</td>\n      <td>0</td>\n      <td>unknown</td>\n      <td>no</td>\n    </tr>\n    <tr>\n      <th>4517</th>\n      <td>57</td>\n      <td>self-employed</td>\n      <td>married</td>\n      <td>tertiary</td>\n      <td>yes</td>\n      <td>-3313</td>\n      <td>yes</td>\n      <td>yes</td>\n      <td>unknown</td>\n      <td>9</td>\n      <td>may</td>\n      <td>153</td>\n      <td>1</td>\n      <td>-1</td>\n      <td>0</td>\n      <td>unknown</td>\n      <td>no</td>\n    </tr>\n    <tr>\n      <th>4518</th>\n      <td>57</td>\n      <td>technician</td>\n      <td>married</td>\n      <td>secondary</td>\n      <td>no</td>\n      <td>295</td>\n      <td>no</td>\n      <td>no</td>\n      <td>cellular</td>\n      <td>19</td>\n      <td>aug</td>\n      <td>151</td>\n      <td>11</td>\n      <td>-1</td>\n      <td>0</td>\n      <td>unknown</td>\n      <td>no</td>\n    </tr>\n    <tr>\n      <th>4519</th>\n      <td>28</td>\n      <td>blue-collar</td>\n      <td>married</td>\n      <td>secondary</td>\n      <td>no</td>\n      <td>1137</td>\n      <td>no</td>\n      <td>no</td>\n      <td>cellular</td>\n      <td>6</td>\n      <td>feb</td>\n      <td>129</td>\n      <td>4</td>\n      <td>211</td>\n      <td>3</td>\n      <td>other</td>\n      <td>no</td>\n    </tr>\n    <tr>\n      <th>4520</th>\n      <td>44</td>\n      <td>entrepreneur</td>\n      <td>single</td>\n      <td>tertiary</td>\n      <td>no</td>\n      <td>1136</td>\n      <td>yes</td>\n      <td>yes</td>\n      <td>cellular</td>\n      <td>3</td>\n      <td>apr</td>\n      <td>345</td>\n      <td>2</td>\n      <td>249</td>\n      <td>7</td>\n      <td>other</td>\n      <td>no</td>\n    </tr>\n  </tbody>\n</table>\n<p>4521 rows × 17 columns</p>\n</div>"
     },
     "execution_count": 20,
     "metadata": {},
     "output_type": "execute_result"
    }
   ],
   "source": [
    "path = \"data/clientes.csv\"\n",
    "clientes = pd.read_csv(path, sep = \";\")\n",
    "clientes"
   ],
   "metadata": {
    "collapsed": false
   }
  },
  {
   "cell_type": "code",
   "execution_count": 26,
   "outputs": [
    {
     "data": {
      "text/plain": "management       969\nblue-collar      946\ntechnician       768\nadmin.           478\nservices         417\nretired          230\nself-employed    183\nentrepreneur     168\nunemployed       128\nhousemaid        112\nstudent           84\nunknown           38\nName: job, dtype: int64"
     },
     "execution_count": 26,
     "metadata": {},
     "output_type": "execute_result"
    }
   ],
   "source": [
    "clientes.job.value_counts()"
   ],
   "metadata": {
    "collapsed": false
   }
  },
  {
   "cell_type": "code",
   "execution_count": null,
   "outputs": [],
   "source": [],
   "metadata": {
    "collapsed": false
   }
  }
 ],
 "metadata": {
  "kernelspec": {
   "display_name": "Python 3",
   "language": "python",
   "name": "python3"
  },
  "language_info": {
   "codemirror_mode": {
    "name": "ipython",
    "version": 3
   },
   "file_extension": ".py",
   "mimetype": "text/x-python",
   "name": "python",
   "nbconvert_exporter": "python",
   "pygments_lexer": "ipython3",
   "version": "3.8.3"
  }
 },
 "nbformat": 4,
 "nbformat_minor": 2
}
